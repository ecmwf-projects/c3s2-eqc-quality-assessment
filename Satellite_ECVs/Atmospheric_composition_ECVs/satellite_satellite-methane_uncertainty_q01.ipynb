{
 "cells": [
  {
   "cell_type": "markdown",
   "id": "5bda21ce-fe22-486d-bdb0-d7450216d405",
   "metadata": {
    "papermill": {
     "duration": 0.008751,
     "end_time": "2024-03-08T17:23:56.435664",
     "exception": false,
     "start_time": "2024-03-08T17:23:56.426913",
     "status": "completed"
    },
    "tags": []
   },
   "source": [
    "![logo](LogoLine_horizon_C3S.png)\n",
    "\n",
    "# Methane satellite observations uncertainty and completeness assessment for carbon cycle\n",
    "\n",
    "## Use case: Monitoring the carbon cycle in tropical regions\n",
    "\n",
    "## Quality assessment questions\n",
    "* **Is the uncertainty of satellite-based observations sufficient to assess year-to-year anomalies in methane emissions of wetlands?**\n",
    "* **Is the spatial resolution of satellite-based observations sufficient to assess year-to-year anomalies in methane emissions of wetlands?**\n",
    "* **Is the spatial and temporal coverage of satellite-based observations sufficient to assess year-to-year anomalies in methane emissions of wetlands?**"
   ]
  },
  {
   "attachments": {},
   "cell_type": "markdown",
   "id": "66aa8a6a-a07c-4ecc-bbd7-903d1df074d8",
   "metadata": {
    "tags": []
   },
   "source": [
    "Methane (CH4) is the second most important anthropogenic greenhouse gas, representing about 19% of the total radiative forcing by long living greenhouse gases [[1]](https://library.wmo.int/viewer/68532/?offset=#page=4&viewer=picture&o=bookmarks&n=0&q=).  Natural wetlands account for up to 30% of global methane (CH4) emissions, but a large uncertainty (up to 65%) still affects tropical wetland CH4 emission estimates [[2]](https://essd.copernicus.org/articles/12/1561/2020/). The positive response of wetland CH4 emissions to climate change is an important feedback that can amplify atmospheric CH4 values. Intensified wetland CH4 emissions have been reported during 2000–2021 [[3]](https://www.nature.com/articles/s41558-023-01629-0), highlighting the need for sustained monitoring and observations of global wetland CH4 fluxes. Satellite observations can represent a powerful tool for contributing to enhance the knowledge about CH4 sources and sinks. While these data are commonly used in inverse modelling system (e.g., [[4]](https://ads.atmosphere.copernicus.eu/cdsapp#!/dataset/cams-global-greenhouse-gas-inversion?tab=overview)), this assessment explore the possibility to directly use satellite CH4 data for investigate year-to-year anomalies in CH4 emissions of tropical wetlands.\n",
    "\n",
    "<img src=\"Figure1_JN_CH4.png\" width=\"900px\"> \n",
    "\n",
    "*The figure shows temporal trends and variations in wetland CH4 emissions during 2000–2021 relative to the baseline of 2000–2006 level in comparison to future projections. Shaded areas present 1σ range of the estimates from each future RCP. Annual total emissions from two estimates based on two climate forcing datasets, a ground-based dataset from the CRU at the University of East Anglia and a reanalysis-based MERRA2. Coloured lines represent ensemble mean of each future projection scenario. Image reproduced from [[3]](https://www.nature.com/articles/s41558-023-01629-0) under CC-BY license.*"
   ]
  },
  {
   "cell_type": "markdown",
   "id": "2590e7f4-d6b3-4eed-a91f-c94a78df2db5",
   "metadata": {
    "tags": []
   },
   "source": [
    "## Quality assessment statement\n",
    "\n",
    "> - In terms of uncertainty, Level 2 XCH4 data products appear appropriate for investigating inter-annual XCH4 variability associated with anomalies in tropical wetland emissions.\n",
    "\n",
    "> - In terms of spatial resolution, Level 2 XCH4 data products appear appropriate for investigating inter-annual XCH4 variability associated with anomalies in tropical wetland emissions.\n",
    "\n",
    "> - In terms of spatial/temporal coverage, users would use data products derived by algorithms (such as CH4_GOS_OCPR, CH4_GO2_SRPR or XCH4_EMMA) that optimise data availability over regions frequently affected by cloud cover or high aerosol loading.\n",
    "\n",
    "> - Users should consult the documentation as well as the uncertainty and quality flags in the data files as appropriate for their applications. It should also be emphasised that the use of the XCH4 data provided by satellite is not trivial, and interpretation of these products typically requires appropriate modelling [[5]](http://wdc.dlr.de/C3S_312b_Lot2/Documentation/GHG/C3S2_312a_Lot2_PUGS_GHG_main_latest.pdf).\n",
    "\n",
    "> - Users will need to consult product use guides (e.g., [[5]](http://wdc.dlr.de/C3S_312b_Lot2/Documentation/GHG/C3S2_312a_Lot2_PUGS_GHG_main_latest.pdf)) for guidance on how to use the averaging kernels when using satellite CH4 data, especially for comparison with model outputs."
   ]
  },
  {
   "attachments": {},
   "cell_type": "markdown",
   "id": "21672d03-2965-4ace-8000-372c0a6936df",
   "metadata": {},
   "source": [
    "<img src=\"Figure2_JN_CH4.png\" width=\"900px\"> \n",
    "\n",
    "*Map showing the location of the individual wetland regions identified using the Sustainable Wetlands Adaptation and Mitigation Program (SWAMP) data from the Center for International Forestry Research (CIFOR) and timeseries of detrended XCH4 seasonal cycle over the Pantanal region, including the CH4_GOS_OCFP dataset (“GOSAT”) and model simulations utilising the different wetland emission. Image reproduced from [[6]](https://doi.org/10.1016/j.rse.2018.02.011) under CC-BY license.*"
   ]
  },
  {
   "attachments": {},
   "cell_type": "markdown",
   "id": "cf29a129-a93d-4867-a857-b19c5ac17758",
   "metadata": {},
   "source": [
    "## Methodology\n",
    "\n",
    "To assess if the uncertainty, spatial resolution and temporal/spatial coverage of satellite-based observations are sufficient to investigate year-to-year anomalies in CH4 emissions of tropical wetlands, we inspected the documentation of the CDS dataset “Methane data from 2002 to present derived from satellite observations” ([[5]](http://wdc.dlr.de/C3S_312b_Lot2/Documentation/GHG/C3S2_312a_Lot2_PUGS_GHG_main_latest.pdf), [[7]](http://wdc.dlr.de/C3S_312b_Lot2/Documentation/GHG/C3S2_312a_Lot2_PQAR_GHG_main_latest.pdf)) as well as a case study available from scientific literature ([[6]](https://doi.org/10.1016/j.rse.2018.02.011)). \n",
    "\n",
    "**1. [Section A](#section-a) 'Uncertainty assessment':**\n",
    " * To analyse annual anomalies in wetland methane emissions, [[6]](https://doi.org/10.1016/j.rse.2018.02.011) used an earlier version (v7) of Level 2 data from the CH4_GOS_OCPR data product. This data product was characterised by a random error of 13 ppb and a relative spatial bias of 2 ppb with respect to TCCON co-located observations ([[8]](https://doi.org/10.5194/acp-21-4339-2021)).\n",
    "\n",
    "**2. [Section B](#section-b) 'Spatial resolution assessment':**\n",
    " * The Level 2 data used by [[6]](https://doi.org/10.5194/acp-21-4339-2021) had a spatial resolution characterised by the native satellite footprint. This allowed to carry out regional-scale analyses of the wetland methane emissions in tropical regions.\n",
    "\n",
    "**3. [Section C](#section-c) 'Spatial and temporal coverage':**\n",
    " * [[6]](https://doi.org/10.5194/acp-21-4339-2021) used a 'proxy (PR)' data product (CH4_GOS_OCPR) to take advantage of the higher data availability compared to the 'full physics (FP)' product (CH4_GOS_OCFP) in regions such as the tropics, which are characterised by the prevalence of clouds and high aerosol loading. PR products typically contain more data points and better coverage compared to FP: PR products suffer less from potential biases and therefore require less strict quality filtering resulting in more data points with quality flag “good” in the final product files ([[5]](http://wdc.dlr.de/C3S_312b_Lot2/Documentation/GHG/C3S2_312a_Lot2_PUGS_GHG_main_latest.pdf)). "
   ]
  },
  {
   "cell_type": "markdown",
   "id": "93a36ba7-11f3-43f2-9cea-2eff221f68ec",
   "metadata": {},
   "source": [
    "## Analysis and results"
   ]
  },
  {
   "cell_type": "markdown",
   "id": "368e01c6",
   "metadata": {
    "papermill": {
     "duration": 0.007051,
     "end_time": "2024-03-08T17:23:56.492658",
     "exception": false,
     "start_time": "2024-03-08T17:23:56.485607",
     "status": "completed"
    },
    "tags": []
   },
   "source": [
    "### 1. Section A 'Uncertainty assessment'\n",
    "\n",
    "The **product quality assessment report** related to \"Methane data from 2002 to present derived from satellite observations\"  ([[7]](http://wdc.dlr.de/C3S_312b_Lot2/Documentation/GHG/C3S2_312a_Lot2_PQAR_GHG_main_latest.pdf)) was inspected. The **Level 2 XCH4 products** of the dataset \"Methane data from 2002 to present derived from satellite observations\" have **uncertainties comparable to those of the dataset used by [[6]](https://doi.org/10.5194/acp-21-4339-2021)**: individual measurement accuracies are typically less than 20 ppb (13 ppb for the latest version of CH4_GOS_OCPR), while the relative spatial bias is less than 6.2 ppb (4 ppb for CH4_GOS_OCPR). "
   ]
  },
  {
   "cell_type": "markdown",
   "id": "ff1655d7-9a57-49c0-a515-f7c78b60eeea",
   "metadata": {
    "papermill": {
     "duration": 0.007051,
     "end_time": "2024-03-08T17:23:56.492658",
     "exception": false,
     "start_time": "2024-03-08T17:23:56.485607",
     "status": "completed"
    },
    "tags": []
   },
   "source": [
    "### 2. Section B 'Spatial resolution assessment'\n",
    "\n",
    "The level 2 XCH4 products of the dataset \"Methane data from 2002 to present derived from satellite observations\" are an updated version of the dataset used by [[6]](https://doi.org/10.5194/acp-21-4339-2021) and **they have a spatial resolution characterised by the native satellite footprint**."
   ]
  },
  {
   "cell_type": "markdown",
   "id": "8406d54c-6a27-4326-821a-21653a04f39c",
   "metadata": {
    "papermill": {
     "duration": 0.007051,
     "end_time": "2024-03-08T17:23:56.492658",
     "exception": false,
     "start_time": "2024-03-08T17:23:56.485607",
     "status": "completed"
    },
    "tags": []
   },
   "source": [
    "### 3. Section C 'Spatial and temporal coverage'\n",
    "\n",
    "The **product user guide** related to \"Methane data from 2002 to present derived from satellite observations\" ([[5]](http://wdc.dlr.de/C3S_312b_Lot2/Documentation/GHG/C3S2_312a_Lot2_PUGS_GHG_main_latest.pdf)) was inspected. In terms of spatial/temporal coverage: users would use data products derived by algorithms (such as CH4_GOS_OCPR, CH4_GO2_SRPR or XCH4_EMMA) that **optimise data availability over regions frequently affected by cloud cover or high aerosol loading**. In any case, users should consult the documentation as well as the uncertainty and quality flags in the data files as appropriate for their applications.\n",
    "\n",
    "<img src=\"Figure3_JN_CH4.png\" width=\"900px\"> \n",
    "\n",
    "*Figure showing a comparison between FP and PR Level 2 XCH4 products from the University of Leicester GOSAT products from the CDS for January to June 2021 (top) and July to December 2021 (bottom). Right: “CH4_GOS_OCFP algorithm”. Left: “CH4_GOS_OCPR algorithm”. Image adapted from [[5]](http://wdc.dlr.de/C3S_312b_Lot2/Documentation/GHG/C3S2_312a_Lot2_PUGS_GHG_main_latest.pdf) under CC-BY license.*"
   ]
  },
  {
   "cell_type": "markdown",
   "id": "cc9c7839-229e-4b13-8b8a-418b93d5ebb8",
   "metadata": {
    "papermill": {
     "duration": 0.271597,
     "end_time": "2024-03-08T17:40:01.664067",
     "exception": false,
     "start_time": "2024-03-08T17:40:01.392470",
     "status": "completed"
    },
    "tags": []
   },
   "source": [
    "## If you want to know more\n",
    "\n",
    "### Key resources\n",
    "\n",
    "Some key resources and further reading were linked throughout this assessment.\n",
    "\n",
    "The CDS catalogue entries for the data used were:\n",
    "* Methane data from 2002 to present derived from satellite observations:https://cds.climate.copernicus.eu/cdsapp#!/dataset/satellite-methane?tab=overview\n",
    "\n",
    "### References\n",
    "[[1]](https://library.wmo.int/viewer/68532/?offset=#page=4&viewer=picture&o=bookmarks&n=0&q=) World Meteorological Organization (2023). WMO Greenhouse Gas Bulletin, No. 19, ISSN 2078-0796.\n",
    "\n",
    "[[2]](https://essd.copernicus.org/articles/12/1561/2020/) Saunois, M., Stavert, A. R., Poulter, B., Bousquet, P., Canadell, J. G., et al. (2020). The Global Methane Budget 2000–2017. Earth System Science Data, 12, 1561–1623.\n",
    "\n",
    "[[3]](https://www.nature.com/articles/s41558-023-01629-0) Zhang, Z., Poulter, B., Feldman, A.F. et al. (2023). Recent intensification of wetland methane feedback. Nature Climate Change, 13, 430–433.\n",
    "\n",
    "[[4]](https://ads.atmosphere.copernicus.eu/cdsapp#!/dataset/cams-global-greenhouse-gas-inversion?tab=overview) Copernicus Atmosphere Monitoring Service (2020). CAMS global inversion-optimised greenhouse gas fluxes and concentrations.\n",
    "\n",
    "[[5]](http://wdc.dlr.de/C3S_312b_Lot2/Documentation/GHG/C3S2_312a_Lot2_PUGS_GHG_main_latest.pdf) Buchwitz, M. (2023). Product User Guide and Specification (PUGS) – Main document for Greenhouse Gas (GHG: CO2 & CH4) data set CDR6 (01.2003-12.2021). \n",
    " \n",
    "[[7]](http://wdc.dlr.de/C3S_312b_Lot2/Documentation/GHG/C3S2_312a_Lot2_PQAR_GHG_main_latest.pdf)) Buchwitz, M. (2023). Product Quality Assessment Report (PQAR) – Main document for Greenhouse Gas (GHG: CO2 & CH4) data set CDR6 (01.2003-12.2021). \n",
    "\n",
    "[[6]](https://doi.org/10.1016/j.rse.2018.02.011) Parker, R.J., Boesch, H., McNorton, J., Comyn-Platt, E., Gloor, M., Wilson, C., Chipperfield, M.P., Hayman, G.D., Bloom, A.A. (2018). Evaluating year-to-year anomalies in tropical wetland methane emissions using satellite CH4 observations. Remote Sensing of Environment, 211, 261-275.  \n",
    "\n",
    "[[8]](https://doi.org/10.5194/acp-21-4339-2021) Maasakkers, J. D., Jacob, D. J., Sulprizio, M. P., Scarpelli, T. R., Nesser, H., Sheng, J., Zhang, Y., Lu, X., Bloom, A. A., Bowman, K. W., Worden, J. R., and Parker, R. J. (2021). 2010–2015 North American methane emissions, sectoral contributions, and trends: a high-resolution inversion of GOSAT observations of atmospheric methane. Atmospheric Chemistry and Physics, 21, 4339–4356."
   ]
  },
  {
   "cell_type": "code",
   "execution_count": null,
   "id": "98b5c5ee-e9f3-4cb2-9d74-dd71fe178143",
   "metadata": {
    "tags": [
     "hide-input"
    ]
   },
   "outputs": [],
   "source": []
  }
 ],
 "metadata": {
  "kernelspec": {
   "display_name": "Python 3 (ipykernel)",
   "language": "python",
   "name": "python3"
  },
  "language_info": {
   "codemirror_mode": {
    "name": "ipython",
    "version": 3
   },
   "file_extension": ".py",
   "mimetype": "text/x-python",
   "name": "python",
   "nbconvert_exporter": "python",
   "pygments_lexer": "ipython3",
   "version": "3.11.9"
  },
  "papermill": {
   "default_parameters": {},
   "duration": 968.520731,
   "end_time": "2024-03-08T17:40:03.783430",
   "environment_variables": {},
   "exception": null,
   "input_path": "D520.3.2.3b.SEASONAL_multimodel-bias_v5.ipynb",
   "output_path": "output.ipynb",
   "parameters": {},
   "start_time": "2024-03-08T17:23:55.262699",
   "version": "2.4.0"
  }
 },
 "nbformat": 4,
 "nbformat_minor": 5
}
