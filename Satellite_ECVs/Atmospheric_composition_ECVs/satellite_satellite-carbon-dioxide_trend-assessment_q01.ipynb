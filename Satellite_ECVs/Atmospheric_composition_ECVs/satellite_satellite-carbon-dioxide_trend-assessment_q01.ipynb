{
 "cells": [
  {
   "cell_type": "markdown",
   "id": "5bda21ce-fe22-486d-bdb0-d7450216d405",
   "metadata": {
    "papermill": {
     "duration": 0.008751,
     "end_time": "2024-03-08T17:23:56.435664",
     "exception": false,
     "start_time": "2024-03-08T17:23:56.426913",
     "status": "completed"
    },
    "tags": []
   },
   "source": [
    "![logo](LogoLine_horizon_C3S.png)\n",
    "\n",
    "# Carbon dioxide satellite observations completeness assessment for greenhouse gas monitoring\n",
    "\n",
    "## Use case: Using satellite observations for quantifying global trends in greenhouse gas concentrations\n",
    "\n",
    "## Quality assessment question(s)\n",
    "* **How the variability of spatial and temporal data coverage can affect the quantification of the long-term carbon dioxide trends by satellite measurements?**"
   ]
  },
  {
   "cell_type": "markdown",
   "id": "66aa8a6a-a07c-4ecc-bbd7-903d1df074d8",
   "metadata": {
    "tags": []
   },
   "source": [
    "Carbon dioxide (CO2) is the most important anthropogenic greenhouse gas, representing about 64% of the total radiative forcing by long living greenhouse gases [[1]](https://library.wmo.int/viewer/68532/?offset=#page=4&viewer=picture&o=bookmarks&n=0&q=): in 2022, atmospheric CO2 represented the 150% of the pre-industrial level. In this assessment, atmospheric CO2 spatial seasonal means and trends are analysed using the XCO2 v4.4 Level 3 gridded product (OBS4MIPS)[[2]](http://wdc.dlr.de/C3S_312b_Lot2/Documentation/GHG/C3S2_312a_Lot2_PUGS_GHG_main_latest.pdf), by adopting an approach similar to [[3]](https://amt.copernicus.org/articles/13/789/2020/).\n",
    "\n",
    "Code is included for transparency but also learning purposes and gives users the chance to adapt the code used for the assesment as they wish. Since this assessment is an experimental product, users are referred to official sources for accurate reporting (e.g., [[4]](https://climate.copernicus.eu/esotc/2022), [[5]](https://climate.copernicus.eu/global-climate-highlights-2023)). "
   ]
  },
  {
   "cell_type": "markdown",
   "id": "2590e7f4-d6b3-4eed-a91f-c94a78df2db5",
   "metadata": {
    "tags": []
   },
   "source": [
    "## Quality assessment statement\n",
    "\n",
    ">* The dataset \"Carbon dioxide data from 2002 to present derived from satellite observations\" can be used to evaluate CO2 mean values, climatology and growth rate over the globe, hemispheres or large regions.\n",
    "\n",
    ">* Caution should be exercised in certain regions (high latitudes, regions with frequent cloud cover, oceans) where data availability varies along the temporal coverage of the data set: this must be carefully considered when evaluating global or hemispheric information.\n",
    "\n",
    ">* For data in high latitude regions or in regions with frequent cloud cover, users should consult uncertainty and quality flags as appropriate for their applications. In addition, for the years 2003-2008 only values over land are available, which has to be taken into account for possible applications of this dataset."
   ]
  },
  {
   "cell_type": "markdown",
   "id": "cf29a129-a93d-4867-a857-b19c5ac17758",
   "metadata": {},
   "source": [
    "## Methodology\n",
    "\n",
    "**Spatial seasonal means and trends** are presented and assessed using the new **XCO2 v4.4 Level 3 gridded product (OBS4MIPS)**, which has been generated using the Level 2 EMMA products [[2]](http://wdc.dlr.de/C3S_312b_Lot2/Documentation/GHG/C3S2_312a_Lot2_PUGS_GHG_main_latest.pdf) as input. \n",
    "**No data sub-setting or selection has been performed**, neither as a function of the number of individual Level 2 observations leading to the reported Level 3 values (\"co2_nobs\"), nor as a function of the standard error (\"xco2_stderr\") provided in the data files.\n",
    "\n",
    "**To show how data coverage varies between years and seasons**, we have calculated and plotted the **average XCO2 values for singular seasons and years**.\n",
    "\n",
    "**Spatial trends** are calculated using a linear model (i.e. Theil-Sen slope estimator) over monthly anomalies (i.e. actual monthly values minus climatological monthly means). **This should be treated with caution as the long-term trend of atmospheric CO2 is not strictly linear**. The statistical significance of the trends is assessed using the Mann-Kendall test. Similar to [[3]](https://amt.copernicus.org/articles/13/789/2020/), only land pixels are considered to avoid artefacts related to different data availability over oceans (the data product is land only for 2003-2008).\n",
    "\n",
    "The analysis and results are organised in the following steps, which are detailed in the sections below: \n",
    "\n",
    "**1. [Section A](#section-a) 'Choose the data to use and set-up the code':**\n",
    " * Import all the relevant packages\n",
    " * Choose the temporal and spatial coverage, land mask\n",
    " * Chache needed functions\n",
    "\n",
    "**2. [Section B](#section-b) 'Retrieve XCO2 data (OBS4MIPS)':**\n",
    " * In this section, we define the data request to CDS. *Please note that users have to accept the GHG-CCI Licence for getting the dataset (see [[4]](https://cds.climate.copernicus.eu/cdsapp#!/dataset/satellite-carbon-dioxide?tab=overview)).*\n",
    "\n",
    "**3. [Section C](#section-d) 'Compute and plot the global variability of seasonal XCO2':**\n",
    " * To show how data coverage varies between years and seasons, we have plotted spatial average XCO2 values for seasons and years. Seasons are defined as December - February (DJF), March - May (MAM), June - August (JJA) and September – November  (SON).\n",
    " \n",
    "**4. [Section D](#section-e) 'Compute global and spatial trends':** \n",
    " * Trends are calculated using a linear model (i.e. Theil-Sen slope estimator) over monthly anomalies (i.e. actual monthly values minus climatological monthly means). The statistical significance of the trends is assessed using the Mann-Kendall test. "
   ]
  },
  {
   "cell_type": "markdown",
   "id": "93a36ba7-11f3-43f2-9cea-2eff221f68ec",
   "metadata": {},
   "source": [
    "## Analysis and results"
   ]
  },
  {
   "cell_type": "markdown",
   "id": "368e01c6",
   "metadata": {
    "papermill": {
     "duration": 0.007051,
     "end_time": "2024-03-08T17:23:56.492658",
     "exception": false,
     "start_time": "2024-03-08T17:23:56.485607",
     "status": "completed"
    },
    "tags": []
   },
   "source": [
    "### Choose the data to use and set-up the code\n",
    "\n",
    "#### Import all the relevant packages\n",
    "In this section, we import all the relevant packages needed for running the notebook."
   ]
  },
  {
   "cell_type": "code",
   "execution_count": 1,
   "id": "298e4928-0752-438c-b44c-8ce14d79359a",
   "metadata": {
    "tags": [
     "hide-input"
    ]
   },
   "outputs": [],
   "source": [
    "import cartopy.crs as ccrs\n",
    "import matplotlib.pyplot as plt\n",
    "import xarray as xr\n",
    "from c3s_eqc_automatic_quality_control import diagnostics, download, plot, utils\n",
    "from xarrayMannKendall import Mann_Kendall_test\n",
    "\n",
    "plt.style.use(\"seaborn-v0_8-notebook\")\n",
    "plt.rcParams[\"hatch.linewidth\"] = 0.5 "
   ]
  },
  {
   "cell_type": "markdown",
   "id": "93672323-fae5-4f04-9836-3af1fd8483b2",
   "metadata": {
    "papermill": {
     "duration": 0.007051,
     "end_time": "2024-03-08T17:23:56.492658",
     "exception": false,
     "start_time": "2024-03-08T17:23:56.485607",
     "status": "completed"
    },
    "tags": []
   },
   "source": [
    "#### Choose temporal and spatial coverage, land mask\n",
    "In this section, we define the parameters to be ingested by the code (users can change the temporal periods of analyses, the region of interest and activate/deactivate the land masking). With the aim to compare our results with existing licterature [[4]](https://library.wmo.int/records/item/58743-no-18-26-october-2022), the analysis is limited to time period  from 2012 to 2021. However, specific data subsetting can be set by the users, so that data can be also retrived for other specific periods or regions.  "
   ]
  },
  {
   "cell_type": "code",
   "execution_count": 2,
   "id": "790ab44b-bcb9-482f-9589-4a00eaae6a39",
   "metadata": {
    "tags": [
     "hide-input"
    ]
   },
   "outputs": [],
   "source": [
    "# Choose variable (xco2)\n",
    "variable = \"xco2\"\n",
    "assert variable in (\"xco2\")\n",
    "\n",
    "# Choose a time period\n",
    "year_start = 2012\n",
    "year_stop = 2021\n",
    "\n",
    "# Minimum value of land fraction used for masking\n",
    "#min_land_fraction = None  # None: Do not apply mask\n",
    "min_land_fraction = 0.5 ## only use data where land_fraction >= 0.5\n",
    "\n",
    "# Define region for analysis\n",
    "lon_slice = slice(-180, 180)\n",
    "lat_slice = slice(-90, 90)"
   ]
  },
  {
   "cell_type": "markdown",
   "id": "2536eb4a-ead0-4f21-9999-fbd2223f4bbf",
   "metadata": {
    "papermill": {
     "duration": 0.007051,
     "end_time": "2024-03-08T17:23:56.492658",
     "exception": false,
     "start_time": "2024-03-08T17:23:56.485607",
     "status": "completed"
    },
    "tags": []
   },
   "source": [
    "#### Chache needed functions\n",
    "In this section, we cached a list of functions used in the analyses.\n",
    "\n",
    "- The function `get_da` (`get_da_nomask`) is used to subset the data for the defined time period and spatial region by applying (not appliyng) land mask (as a function of  *min_land_fraction*).\n",
    "\n",
    "- The function `convert_units` rescale xco2 mole fraction to part per millions (ppm).\n",
    "\n",
    "- The `seasonal_weighted_mean` function extracts the regional means over the selected domains. It uses spatial weighting to account for the latitudinal dependence of the grid size in the lon-lat grids used for the reanalysis and for the forecast models. It is used by the function `compute_seasonal_timeseries_nomask` to provide the seasonal xco2 averaged value for each single year (Figure 1). \n",
    "\n",
    "- The function `compute_anomaly_trends` is used to calculate the trend and the related statistical significance. \n",
    "\n",
    "- The `compute_monthly_anomalies` function is used to derive the monthly xco2 anomalies before calculating the trends."
   ]
  },
  {
   "cell_type": "code",
   "execution_count": 3,
   "id": "753568bf-d396-4aac-a736-b01c58457590",
   "metadata": {
    "tags": [
     "hide-input"
    ]
   },
   "outputs": [],
   "source": [
    "transform_func_kwargs = {\n",
    "    \"min_land_fraction\": min_land_fraction, \n",
    "    \"year_start\": year_start,\n",
    "    \"year_stop\": year_stop,\n",
    "}\n",
    "\n",
    "transform_func_kwargs_nommask = {\n",
    "    \"year_start\": year_start,\n",
    "    \"year_stop\": year_stop,\n",
    "}\n",
    "\n",
    "def get_da_nomask(ds, year_start, year_stop):\n",
    "    mask = (ds[\"time\"].dt.year >= year_start) & (ds[\"time\"].dt.year <= year_stop)\n",
    "    ds = ds.where(mask.compute(), drop=True)\n",
    "    (varname,) = set(ds.data_vars) & {\"xco2\"}\n",
    "    da = ds[varname]\n",
    "    return da\n",
    "\n",
    "def get_da(ds, min_land_fraction, year_start, year_stop):\n",
    "    mask = (ds[\"time\"].dt.year >= year_start) & (ds[\"time\"].dt.year <= year_stop)\n",
    "    ds = ds.where(mask.compute(), drop=True)\n",
    "    (varname,) = set(ds.data_vars) & {\"xco2\"}\n",
    "    da = ds[varname]\n",
    "    if min_land_fraction is not None:\n",
    "        return da.where(ds[\"land_fraction\"] >= min_land_fraction)\n",
    "    return da\n",
    "\n",
    "def convert_units(da):\n",
    "    with xr.set_options(keep_attrs=True):\n",
    "        if da.name == \"xco2\" and da.attrs[\"units\"] != \"ppm\":\n",
    "            da *= 1.0e6\n",
    "            da.attrs[\"units\"] = \"ppm\"\n",
    "    return da\n",
    "\n",
    "def compute_seasonal_timeseries_nomask(ds, year_start, year_stop):\n",
    "    # Shift years (shift -1 to get D(year-1)J(year)F(year))\n",
    "    da = get_da_nomask(ds, year_start, year_stop)\n",
    "    da = da.assign_coords(year=ds[\"time\"].dt.year.shift(time=-1).astype(int))\n",
    "    # Get rid of 1st JF and last D, so it become [MAM, JJA, SON, DJF, ..., SON]\n",
    "    da = da.isel(time=slice(2, -1))\n",
    "    da = da.groupby(\"year\").map(diagnostics.seasonal_weighted_mean)\n",
    "    return convert_units(da).to_dataset()\n",
    "\n",
    "def compute_monthly_anomalies(ds, min_land_fraction, year_start, year_stop):\n",
    "    da = get_da(ds, min_land_fraction, year_start, year_stop)\n",
    "    with xr.set_options(keep_attrs=True):\n",
    "        da = da.groupby(\"time.month\") - da.groupby(\"time.month\").mean()\n",
    "    return convert_units(da)\n",
    "\n",
    "def compute_anomaly_trends(ds, min_land_fraction, year_start, year_stop):\n",
    "    da_anomaly = compute_monthly_anomalies(ds, min_land_fraction, year_start, year_stop)\n",
    "\n",
    "    # Mann-Kendall\n",
    "    ds_mann_kendall = compute_mann_kendall_trend(\n",
    "        da_anomaly, alpha=0.05, method=\"theilslopes\"\n",
    "    ).where(da_anomaly.notnull().any(\"time\"))\n",
    "    ds_mann_kendall[\"trend\"].attrs = {\n",
    "        \"long_name\": f\"Trend of anomalies of {da_anomaly.attrs['long_name']}\",\n",
    "        \"units\": f\"{da_anomaly.attrs['units']}/month\",\n",
    "    }\n",
    "    return ds_mann_kendall"
   ]
  },
  {
   "cell_type": "markdown",
   "id": "ff1655d7-9a57-49c0-a515-f7c78b60eeea",
   "metadata": {
    "papermill": {
     "duration": 0.007051,
     "end_time": "2024-03-08T17:23:56.492658",
     "exception": false,
     "start_time": "2024-03-08T17:23:56.485607",
     "status": "completed"
    },
    "tags": []
   },
   "source": [
    "### 2. Retrieve XCO2 data (OBS4MIPS)\n",
    "In this section, we define the data request to CDS (data product OBS4MIPS, Level 3, version 4.4, XCO2)."
   ]
  },
  {
   "cell_type": "code",
   "execution_count": 4,
   "id": "22b7b433-8665-4b6e-ba84-aff6b757075c",
   "metadata": {
    "tags": [
     "hide-input"
    ]
   },
   "outputs": [],
   "source": [
    "# collapsable code cells\n",
    "\n",
    "request = (\n",
    "    \"satellite-carbon-dioxide\",\n",
    "    {\n",
    "        \"processing_level\": \"level_3\",\n",
    "        \"variable\": variable,\n",
    "        \"sensor_and_algorithm\": \"merged_obs4mips\",\n",
    "        \"version\": \"4.4\",\n",
    "        \"format\": \"zip\",\n",
    "    },\n",
    ")"
   ]
  },
  {
   "cell_type": "markdown",
   "id": "8406d54c-6a27-4326-821a-21653a04f39c",
   "metadata": {
    "papermill": {
     "duration": 0.007051,
     "end_time": "2024-03-08T17:23:56.492658",
     "exception": false,
     "start_time": "2024-03-08T17:23:56.485607",
     "status": "completed"
    },
    "tags": []
   },
   "source": [
    "### 3. Compute and plot the global variability of seasonal XCO2\n",
    "\n",
    "#### Results\n",
    "The seasonality of the availability of measurements is evident, with values available in the Southern Hemisphere (SH) mid and high latitudes from September to March, whereas values for the Northern Hemisphere (NH) mid and high latitudes are mostly available from April to August (Figure 1)."
   ]
  },
  {
   "cell_type": "code",
   "execution_count": null,
   "id": "bc8cf060-0803-497f-bcf9-2148695af6bd",
   "metadata": {
    "tags": [
     "hide-input"
    ]
   },
   "outputs": [
    {
     "name": "stderr",
     "output_type": "stream",
     "text": [
      "100%|██████████| 1/1 [00:00<00:00,  2.35it/s]\n"
     ]
    }
   ],
   "source": [
    "#Analysis of global variability of seasonal XCO2\n",
    "\n",
    "ds_seasonal = download.download_and_transform(\n",
    "    *request, transform_func=compute_seasonal_timeseries_nomask,transform_func_kwargs=transform_func_kwargs_nommask,\n",
    ")\n",
    "_ = plot.projected_map(\n",
    "    ds_seasonal[variable],\n",
    "    projection=ccrs.Robinson(),\n",
    "    col=\"season\",\n",
    "    row=\"year\",\n",
    "    robust=True,\n",
    "    cbar_kwargs={\"orientation\": \"horizontal\", \"pad\": 0.05},\n",
    ")"
   ]
  },
  {
   "cell_type": "markdown",
   "id": "05217d82-297e-431a-85a9-329354836703",
   "metadata": {},
   "source": [
    "*Figure 1. Global annual variability of seasonal XCO2. Different panels represent the individual seasons (column) and years (rows). Seasons are defined as December - February (DJF), March - May (MAM), June - August (JJA) and September - November (SON).*"
   ]
  },
  {
   "cell_type": "markdown",
   "id": "ae6aa023-3fdf-4749-bb46-483ef641b0a1",
   "metadata": {
    "papermill": {
     "duration": 0.007051,
     "end_time": "2024-03-08T17:23:56.492658",
     "exception": false,
     "start_time": "2024-03-08T17:23:56.485607",
     "status": "completed"
    },
    "tags": []
   },
   "source": [
    "### 4. Compute global and spatial trends\n",
    "\n",
    "#### Results\n",
    "For 2012-2021, the mean global XCO2 growth rate is 2.28 ppm/yr. Taking into account the associated uncertainties and the different calculation methods, this value is in good agreement with the value of 2.46 ppm/yr provided by the WMO global in-situ observations [[4]](https://library.wmo.int/records/item/58743-no-18-26-october-2022). The tropics and the middle and high latitudes are the regions that are not covered by measurements throughout the year or are characterised by higher uncertainty (see also [[3]](https://amt.copernicus.org/articles/13/789/2020/)), and therefore the trend values are more variable and in some cases not statistically significant."
   ]
  },
  {
   "cell_type": "code",
   "execution_count": null,
   "id": "48246700",
   "metadata": {
    "papermill": {
     "duration": 3.749769,
     "end_time": "2024-03-08T17:24:00.248720",
     "exception": false,
     "start_time": "2024-03-08T17:23:56.498951",
     "status": "completed"
    },
    "tags": [
     "hide-input"
    ]
   },
   "outputs": [],
   "source": [
    "#Calculation of global and pixel trends\n",
    "\n",
    "ds_trend = download.download_and_transform(\n",
    "    *request,\n",
    "    transform_func=compute_anomaly_trends,\n",
    "    transform_func_kwargs=transform_func_kwargs,\n",
    ")\n",
    "\n",
    "# Regionalise\n",
    "ds_trend = utils.regionalise(\n",
    "    ds_trend, lon_slice=lon_slice, lat_slice=lat_slice\n",
    ")\n",
    "\n",
    "#To optimise plotting insert levels=[0, 0.05, 0.1, 01.5, 0.2, 0.25, 0.3, 0.35, 0.4, 0.45, 0.5,0.55,0.6,0.65,0.7,0.85,0.8,0.95,1.0]\n",
    "plot.projected_map(ds_trend[\"trend\"], robust=True, projection=ccrs.Robinson())\n",
    "                   \n",
    "plot.projected_map(\n",
    "    ds_trend[\"p\"],\n",
    "    plot_func=\"contourf\",\n",
    "    show_stats=False,\n",
    "    cmap=\"none\",\n",
    "    add_colorbar=False,\n",
    "    levels=[0, 0.05, 1],\n",
    "    hatches=[\"\", \"/\" * 5],\n",
    ")\n",
    "_ = plt.suptitle(\n",
    "    f\"{variable.title()} trend ({year_start}-{year_stop})\"\n",
    ")"
   ]
  },
  {
   "cell_type": "markdown",
   "id": "b1f6e921-7140-49b8-aab3-00448c0872cc",
   "metadata": {},
   "source": [
    "*Figure 2. Trends of XCO2 given in ppm/month calculated by using linear model (Theil-Sen) and Mann-Kendall test for statistical significance. Over each pixel, trends are calculated for monthly anomalies over land (\"land_fraction > 0.5\"). The shaded areas indicate pixels that did not pass the Mann-Kendall significance test. Global statistics for individual pixels are shown on the left.*"
   ]
  },
  {
   "cell_type": "markdown",
   "id": "cc9c7839-229e-4b13-8b8a-418b93d5ebb8",
   "metadata": {
    "papermill": {
     "duration": 0.271597,
     "end_time": "2024-03-08T17:40:01.664067",
     "exception": false,
     "start_time": "2024-03-08T17:40:01.392470",
     "status": "completed"
    },
    "tags": []
   },
   "source": [
    "## If you want to know more\n",
    "\n",
    "### Key resources\n",
    "\n",
    "The CDS catalogue entries for the data used were:\n",
    "* Carbon dioxide data from 2002 to present derived from satellite observations: https://cds.climate.copernicus.eu/cdsapp#!/dataset/satellite-carbon-dioxide?tab=overview\n",
    "\n",
    "Code libraries used:\n",
    "* [C3S EQC custom functions](https://github.com/bopen/c3s-eqc-automatic-quality-control/tree/main/c3s_eqc_automatic_quality_control), `c3s_eqc_automatic_quality_control`,  prepared by [BOpen](https://www.bopen.eu/)\n",
    "\n",
    "### References\n",
    "[[1]](https://library.wmo.int/viewer/68532/?offset=#page=4&viewer=picture&o=bookmarks&n=0&q=) World Meteorological Organization. (2023). WMO Greenhouse Gas Bullettin, 19, ISSN 2078-0796.\n",
    "\n",
    "[[2]](http://wdc.dlr.de/C3S_312b_Lot2/Documentation/GHG/C3S2_312a_Lot2_PUGS_GHG_main_latest.pdf) Buchwitz, M. (2023). Product User Guide and Specification (PUGS) – Main document for Greenhouse Gas (GHG: CO2 & CH4) data set CDR 6 (01.2003-12.2021), C3S project 2021/C3S2_312b_Lot2_DLR/SC1, v6.3.\n",
    "\n",
    "[[3]](https://amt.copernicus.org/articles/13/789/2020/) Reuter, M., Buchwitz, M., Schneising, O., Noël, S., Bovensmann, H., Burrows, J. P., Boesch, H., Di Noia, A., Anand, J., Parker, R. J., Somkuti, P., Wu, L., Hasekamp, O. P., Aben, I., Kuze, A., Suto, H., Shiomi, K., Yoshida, Y., Morino, I., Crisp, D., O'Dell, C. W., Notholt, J., Petri, C., Warneke, T., Velazco, V. A., Deutscher, N. M., Griffith, D. W. T., Kivi, R., Pollard, D. F., Hase, F., Sussmann, R., Té, Y. V., Strong, K., Roche, S., Sha, M. K., De Mazière, M., Feist, D. G., Iraci, L. T., Roehl, C. M., Retscher, C., and Schepers, D. (2020). Ensemble-based satellite-derived carbon dioxide and methane column-averaged dry-air mole fraction data sets (2003–2018) for carbon and climate applications. Atmospheric Measurement Techniques, 13, 789–819.\n",
    "\n",
    "[[4]](https://library.wmo.int/records/item/58743-no-18-26-october-2022) World Meteorological Organization. (2022). WMO Greenhouse Gas Bullettin, 18, ISSN 2078-0796."
   ]
  },
  {
   "cell_type": "code",
   "execution_count": null,
   "id": "54aae7e7-b37d-4bd3-83e6-b350bdceee97",
   "metadata": {
    "tags": [
     "hide-input"
    ]
   },
   "outputs": [],
   "source": []
  }
 ],
 "metadata": {
  "kernelspec": {
   "display_name": "Python 3 (ipykernel)",
   "language": "python",
   "name": "python3"
  },
  "language_info": {
   "codemirror_mode": {
    "name": "ipython",
    "version": 3
   },
   "file_extension": ".py",
   "mimetype": "text/x-python",
   "name": "python",
   "nbconvert_exporter": "python",
   "pygments_lexer": "ipython3",
   "version": "3.11.9"
  },
  "papermill": {
   "default_parameters": {},
   "duration": 968.520731,
   "end_time": "2024-03-08T17:40:03.783430",
   "environment_variables": {},
   "exception": null,
   "input_path": "D520.3.2.3b.SEASONAL_multimodel-bias_v5.ipynb",
   "output_path": "output.ipynb",
   "parameters": {},
   "start_time": "2024-03-08T17:23:55.262699",
   "version": "2.4.0"
  }
 },
 "nbformat": 4,
 "nbformat_minor": 5
}
