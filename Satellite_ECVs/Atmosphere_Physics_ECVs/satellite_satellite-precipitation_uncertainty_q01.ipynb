{
 "cells": [
  {
   "cell_type": "markdown",
   "id": "af1e9f6a-88fe-4027-b5f8-be3e92f8410a",
   "metadata": {},
   "source": [
    "# Monitoring long-term changes of precipitation in support of rain-fed farming"
   ]
  },
  {
   "cell_type": "markdown",
   "id": "b3c5c6f2-5671-4b8a-bbf1-2a855225be35",
   "metadata": {},
   "source": [
    "### Quality question:\n",
    " - __What is the uncertainty of the observed precipitation trend over the Sahel region?__\n",
    "\n",
    "\n",
    "Precipitation is a fundamental component of the hydrological cycle. It significantly influences ecosystems, agriculture, water resources, and weather patterns. In recent decades, climate change has been altering precipitation patterns globally, resulting in shifts in intensity, frequency, and distribution.\n",
    "Monitoring and understanding the precipitation changes are crucial for predicting future climate impacts and formulating adaptive strategies.\n",
    "Satellite remote sensing has played a crucial role in this regard, providing comprehensive data on global precipitation. Unlike in situ measurements, which are limited to specific locations, satellite measurements offer extensive coverage across the globe, including remote and oceanic regions [2,3]. \n",
    "<!-- This comprehensive data allows for a more complete and accurate assessment of precipitation, enhancing our understanding of how climate change is modifying precipitation patterns and aiding in effective response planning. -->\n",
    "\n",
    "\n",
    "The Global Precipitation Climatology Project (GPCP) is an international initiative aimed at providing accurate, long-term records of global precipitation [1].\n",
    "Estimate of precipitation intensity is obtained by the combination of microwave imagers on polar-orbiting satellites and infrared imagers on geostationary satellites from 1979. \n",
    "The dataset is available on the Copernicus Data Store (CDS) at [__Precipitation monthly and daily gridded data from 1979 to present derived from satellite measurements__](https://cds.climate.copernicus.eu/cdsapp#!/dataset/satellite-precipitation?tab=overview).\n",
    "\n",
    "\n",
    "The following notebook provides a clear example of computing the precipitation trend, considering the uncertainties present in the dataset. This ensures an accurate estimation of the uncertainty in the fitted trend.\n",
    "\n",
    "The analysis focuses on the Sahel region, located between the Sahara Desert to the north and the humid tropical savanna to the south. The Sahel is a critical area for monitoring precipitation trends due to its significant dependence on the Hadley cell circulation. Additionally, this region experiences large interannual and decadal variability in rainfall, which profoundly impacts agriculture, water resources, and living conditions. Monitoring precipitation trends in the Sahel is essential for understanding the effects of climate change and for developing effective water management and agricultural strategies to enhance food security for the local population.\n",
    "<!--The analysis focuses on the Sahel region, but the geolocation can be adjusted to study any region of interest.-->\n",
    "\n",
    "\n",
    "## Quality assessment statement \n",
    "\n",
    "These are the key outcomes of this assessment\n",
    "\n",
    "- Over the Sahel region, precipitation has increased by 0.0891 ± 0.0036 mm/day per decade during the period from 1980 to 2020. The exact value of the precipitation trend over the Sahel depends on the defined domain limits and the specific time period considered. The trend obtained in this analysis is significantly positive and it aligns with the values reported [[3](https://doi.org/10.1007/s00382-022-06567-9), [5](https://doi.org/10.1002/wcc.591)].\n",
    "\n",
    "- The uncertainty on the value of the precipitation trend is 0.0036 mm/day. The 95% confidence interval for the precipitation trend is between 0.00818 and 0.00964 mm/day. The obtained p-value is $6.37 \\times 10^{-5}$, suggesting that the increasing trend is highly statistically significant. The Kendall tau test resulted in a tau value of 0.434, indicating a positive association between precipitation and time.\n",
    "\n",
    "- The uncertainty of the long-term linear trend is affected by possible autocorrelation of the noise in the data. Thus, the trend uncertainty is corrected as suggested by [4].\n",
    "\n",
    "- The yearly averaged precipitation amounts shown in the time series deviate from the linear regression by much more than the relative uncertainties. This discrepancy arises because the linear model does not account for climate variability. Climate variability include a range of natural phenomena, that can cause significant fluctuations in annual precipitation, leading to deviations from a simple linear trend. \n",
    "\n",
    "\n",
    "## Methodology\n",
    "\n",
    "Precipitation observations from the GPCP dataset are downloaded from the Climate Data Store for the Sahel region, covering the period from 1980 to 2020. The dataset has a resolution of 2.5 degrees and provides monthly precipitation estimates along with the associated uncertainties.\n",
    "\n",
    "The precipitation amount is averaged annually and across the region of interest. The uncertainty of the mean is computed under the assumption that each measurement is independent. The uncertainties for each grid box are averaged quadratically. Then, the uncertainty of the mean is obtained by scaling with the square root of the number of observations:\n",
    "$$\\sigma_{year} = \\frac{1}{\\sqrt{N}} \\sqrt{ \\frac{\\sum_{gridbox} \\sum_{month} \\sigma_{g,m}^2}{N} }$$\n",
    "where $\\sigma_{g,m}$ is the error associated to each measurement, $\\sigma_{year}$ is the resulting uncertatinty of the precipitation average, and $N$ is the total number of data over the Sahel region for one year.\n",
    "\n",
    "The obtained uncertainties $\\sigma_{year}$ are taken into accout in the fit in order to obtain the correct trend uncertainty.\n",
    "Following [4], the trend uncertainty must be corrected with a factor that depend on the autocorrelation of the precipitation time series. The correction is:\n",
    "\n",
    "$$ \\sigma_{corrected} = \\sigma_{fit} \\sqrt{\\frac{1+\\phi}{1-\\phi}}$$\n",
    "\n",
    "where $\\sigma_{fit}$ is the uncertainty obtained from the fit procedure, and $\\sigma_{corrected}$ is the true uncertainty of the trend.\n",
    "Lastly, the 95% confidence level of the trend measurement is computed.\n",
    "\n",
    "\n",
    "\n",
    "\n",
    "The analysis comprises the following steps:\n",
    "\n",
    "__1. [Choose the parameters to use and setup code](#Choose-the-parameters-to-use-and-setup-code)__\n",
    " - Import the relevant packages. Define the parameters of the analysis and set the dataset requests\n",
    "\n",
    "__2. [Download the dataset](#Download-the-dataset)__\n",
    " - Download the precipitation amount and its uncertainty provided by the CDS in the Sahel region.\n",
    "\n",
    "__3. [Long term trend and uncertainty](#Long-term-trend-and-uncertainty)__\n",
    " - The precipitation amount is averaged annually and across the entire Sahel region.\n",
    " - The precipitation errors are propagated to the means, assuming full independence among the measurements.\n",
    " - A linear fit is performed on the time series, using the precipitation uncertainties to best estimate the true slope.\n",
    " - The time series and the associated linear trend are visualized.\n",
    "\n"
   ]
  },
  {
   "cell_type": "markdown",
   "id": "24daa1af-3928-4c88-8f77-8b0a6ea752c8",
   "metadata": {},
   "source": [
    "## Analysis and Results"
   ]
  },
  {
   "cell_type": "markdown",
   "id": "6ffbf8f2-c477-4ccb-8739-78cc7d571ae6",
   "metadata": {},
   "source": [
    "### Choose the parameters to use and setup code"
   ]
  },
  {
   "cell_type": "markdown",
   "id": "4f6efa76-1555-4a74-ac65-4698f98ecf2d",
   "metadata": {},
   "source": [
    "#### Import packages"
   ]
  },
  {
   "cell_type": "code",
   "execution_count": 1,
   "id": "f2bf7421-72fe-4ab4-82bb-f93d7581a396",
   "metadata": {
    "tags": [
     "hide-input"
    ]
   },
   "outputs": [],
   "source": [
    "import matplotlib.pyplot as plt\n",
    "import pandas as pd\n",
    "import xarray as xr\n",
    "from scipy.optimize import curve_fit\n",
    "from scipy.stats import t, kendalltau\n",
    "import numpy as np\n",
    "from c3s_eqc_automatic_quality_control import download\n",
    "\n",
    "plt.style.use(\"seaborn-v0_8-notebook\")\n",
    "\n",
    "import os\n",
    "os.environ[\"CDSAPI_RC\"] = os.path.expanduser(\"~/mandorli_giulio/.cdsapirc\")"
   ]
  },
  {
   "cell_type": "markdown",
   "id": "2144e782-9648-4397-9d21-e9e4d9a7080a",
   "metadata": {},
   "source": [
    "#### Define parameters"
   ]
  },
  {
   "cell_type": "code",
   "execution_count": 2,
   "id": "7094c346-03de-42aa-9e05-a3fe7e6af058",
   "metadata": {
    "tags": [
     "hide-input"
    ]
   },
   "outputs": [],
   "source": [
    "# Time\n",
    "start = \"1980-01\"\n",
    "stop = \"2020-12\"\n",
    "\n",
    "# Region of interest: Sahel\n",
    "lat_min = 12\n",
    "lat_max = 18\n",
    "lon_min = 0\n",
    "lon_max = 40\n",
    "\n",
    "assert (isinstance(coord, int) for coord in (lat_min, lat_max, lon_min, lon_max))\n",
    "assert 0 <= lon_min <= lon_max <= 360"
   ]
  },
  {
   "cell_type": "markdown",
   "id": "83aa19a0-cbb2-4da4-afce-e7136ebf097e",
   "metadata": {},
   "source": [
    "#### Set the data request"
   ]
  },
  {
   "cell_type": "code",
   "execution_count": 3,
   "id": "42649a96-23e1-42ef-bce5-ef85f698c4fd",
   "metadata": {
    "tags": [
     "hide-input"
    ]
   },
   "outputs": [],
   "source": [
    "chunks = {\"year\": 1, \"month\": 1}\n",
    "\n",
    "collection_id = 'satellite-precipitation'\n",
    "\n",
    "request =  {\n",
    "        'variable': 'all',\n",
    "        'time_aggregation': 'monthly_mean',\n",
    "        'area': [lat_min, lon_min, lat_max, lon_max],\n",
    "\n",
    "}"
   ]
  },
  {
   "cell_type": "markdown",
   "id": "d6cd136a-4bd3-47aa-98ce-8aae10667301",
   "metadata": {},
   "source": [
    "### Download the dataset"
   ]
  },
  {
   "cell_type": "code",
   "execution_count": 4,
   "id": "697114b4-30c5-44f2-b227-601474c730e2",
   "metadata": {
    "tags": [
     "hide-input"
    ]
   },
   "outputs": [
    {
     "name": "stderr",
     "output_type": "stream",
     "text": [
      "100%|██████████| 492/492 [00:31<00:00, 15.67it/s]\n"
     ]
    }
   ],
   "source": [
    "ds_GPCP = download.download_and_transform(\n",
    "    collection_id,\n",
    "    download.update_request_date(request, start, stop, stringify_dates=True),\n",
    "    chunks=chunks,\n",
    ")"
   ]
  },
  {
   "cell_type": "markdown",
   "id": "9f99eb7e-dd51-4d05-8cac-1203b09ec319",
   "metadata": {},
   "source": [
    "### Long term trend and uncertainty"
   ]
  },
  {
   "cell_type": "markdown",
   "id": "401314cc-8bd5-47d2-a4dc-c98d1e7b55a6",
   "metadata": {},
   "source": [
    "#### Compute the year average precipitation"
   ]
  },
  {
   "cell_type": "code",
   "execution_count": 5,
   "id": "6ce69823-99a1-48f3-b298-fb2972229129",
   "metadata": {
    "tags": [
     "hide-input"
    ]
   },
   "outputs": [],
   "source": [
    "# We are assuming the errors to be independent. Thus, we perform a quadratic mean\n",
    "da_error = ds_GPCP[\"precip_error\"].compute()\n",
    "da_error = da_error  ** 2\n",
    "da_error = da_error.mean(['latitude', 'longitude']).resample(time='YE').mean()\n",
    "da_error = da_error  ** 0.5\n",
    "da_error = da_error / (ds_GPCP.latitude.data.size * ds_GPCP.longitude.data.size * 12) ** 0.5\n",
    "\n",
    "ds_precip = ds_GPCP.compute().mean(['latitude', 'longitude']).resample(time='YE').mean()"
   ]
  },
  {
   "cell_type": "markdown",
   "id": "4017fed2-39d3-4bdf-8b86-77e89aa38e98",
   "metadata": {},
   "source": [
    "#### Fitting the data"
   ]
  },
  {
   "cell_type": "code",
   "execution_count": 6,
   "id": "7bb14691-c51a-459e-8d51-f696331553a9",
   "metadata": {
    "tags": [
     "hide-input"
    ]
   },
   "outputs": [],
   "source": [
    "X = ds_precip['time.year'].data \n",
    "P = ds_precip.precip.data\n",
    "Perr = da_error.data\n",
    "\n",
    "# Linear Model to fit\n",
    "def linear_model(x, a, b):\n",
    "    return a * x + b\n",
    "\n",
    "# Perform the fit, using weights as the inverse of the uncertainties\n",
    "popt, pcov = curve_fit(linear_model, X, P, sigma=Perr, absolute_sigma=True)\n",
    "\n",
    "# Extract the fitting parameters\n",
    "slope, intercept = popt\n",
    "\n",
    "# Calculate the uncertainties in the fitting parameters\n",
    "perr = np.sqrt(np.diag(pcov))\n",
    "slope_err = perr[0]\n",
    "\n",
    "\n",
    "# Correction due to autocorrelation\n",
    "phi = np.corrcoef(P[1:],P[:-1])[0,1]\n",
    "k = np.sqrt((1+phi)/(1-phi))\n",
    "slope_err = slope_err * k\n",
    "\n",
    "\n",
    "# Calculate the 95% confidence interval for the slope\n",
    "alpha = 0.05  # 95% confidence level\n",
    "n = len(P)  # Number of data points\n",
    "p = len(popt)  # Number of parameters\n",
    "dof = max(0, n - p)  # Degrees of freedom\n",
    "t_val = t.ppf(1.0 - alpha / 2., dof)  # T-value for the 95% confidence interval\n",
    "confidence_interval = t_val * slope_err  # confidence interval"
   ]
  },
  {
   "cell_type": "markdown",
   "id": "9b243e6f-d029-49b2-9416-5407582ea761",
   "metadata": {},
   "source": [
    "#### Results"
   ]
  },
  {
   "cell_type": "code",
   "execution_count": 7,
   "id": "9f5c8801-e8bb-4771-ace2-1b4b21fc3e05",
   "metadata": {
    "tags": [
     "hide-input"
    ]
   },
   "outputs": [
    {
     "data": {
      "text/plain": [
       "<matplotlib.legend.Legend at 0x7f238af5f3d0>"
      ]
     },
     "execution_count": 7,
     "metadata": {},
     "output_type": "execute_result"
    },
    {
     "data": {
      "image/png": "[encoded data removed]",
      "text/plain": [
       "<Figure size 800x550 with 1 Axes>"
      ]
     },
     "metadata": {},
     "output_type": "display_data"
    }
   ],
   "source": [
    "plt.errorbar(X, P, 2*Perr, lw=0, \n",
    "             capsize=2, markersize=7, marker='s', color='darkblue', ecolor='gray', elinewidth=2, capthick=2)\n",
    "\n",
    "plt.plot(X, linear_model(X, *popt), c='r', label=f'Trend: {slope*10:.4f} +- {slope_err*10:.4f} mm/day / decade')\n",
    "\n",
    "plt.ylabel('precipitation [mm/day]')\n",
    "plt.legend()"
   ]
  },
  {
   "cell_type": "markdown",
   "id": "02c59609-67c9-4a46-83e0-8f09b415fc92",
   "metadata": {},
   "source": [
    "_This plot illustrates the linear fit of precipitation data over time. The blue squares represent the observed precipitation values, while the gray error bars correspond to two times the uncertainty of each measurement. The red line is the best-fit linear model for the data, indicating the trend in precipitation over the period 1980-2020. The trend value is reported in the legend with the 95% confidence interval._\n",
    "\n",
    "<!-- Surrounding the fitted line, the shaded light coral area represents the 95% confidence interval for the fit, taking into account the uncertainties in the data and the correlation between the fitted parameters. This confidence interval shows the range within which the true trend is likely to fall, providing a visual measure of the uncertainty in the trend estimation. -->"
   ]
  },
  {
   "cell_type": "code",
   "execution_count": 8,
   "id": "32b46830-a92f-4707-81ee-85e9337cc31a",
   "metadata": {
    "tags": [
     "hide-input"
    ]
   },
   "outputs": [
    {
     "name": "stdout",
     "output_type": "stream",
     "text": [
      "Kendall's tau: 0.4341463414634146\n",
      "P-value: 6.372634243195033e-05\n",
      "95% confidence interval for the slope: [0.008184560846235873, 0.009637063374103593]\n"
     ]
    }
   ],
   "source": [
    "tau, p_value = kendalltau(X, P)\n",
    "\n",
    "print(f\"Kendall's tau: {tau}\")\n",
    "print(f\"P-value: {p_value}\")\n",
    "print(f\"95% confidence interval for the slope: [{slope - confidence_interval}, {slope + confidence_interval}]\")\n"
   ]
  },
  {
   "cell_type": "markdown",
   "id": "c8088a57-ae87-4642-b361-398f1ee11fc5",
   "metadata": {},
   "source": [
    "The analysis of the precipitation trend using Kendall's tau test yields a tau value of 0.434 and a p-value of $6.37 \\times 10^{-5}$. The tau value indicates a positive association, suggesting that precipitation increases with time. The very low p-value indicates that this association is highly statistically significant, meaning that the observed trend is unlikely due to random chance. This implies a significant upward trend in precipitation over the studied period."
   ]
  },
  {
   "cell_type": "markdown",
   "id": "0f5f5f33-14a3-458a-9174-1d6f4dd6816f",
   "metadata": {},
   "source": [
    "## If you want to know more\n",
    "### Key resources\n",
    "Some key resources and further reading were linked throughout this assessment.\n",
    "\n",
    "The CDS catalogue entry for the data used is:\n",
    "- Precipitation monthly and daily gridded data from 1979 to present derived from satellite measurements:\n",
    "https://cds.climate.copernicus.eu/cdsapp#!/dataset/satellite-precipitation?tab=overview\n",
    "\n",
    "\n",
    "Code libraries used:\n",
    "- [C3S EQC custom functions](https://github.com/bopen/c3s-eqc-automatic-quality-control/tree/main/c3s_eqc_automatic_quality_control), `c3s_eqc_automatic_quality_control`, prepared by [BOpen](https://www.bopen.eu/)\n",
    "\n",
    "\n",
    "### Reference/Useful material\n",
    "[[1]](https://www.ncei.noaa.gov/access/metadata/landing-page/bin/iso?id=gov.noaa.ncdc:C00979) Adler, R., Wang, J.J., Sapiano, M., Huffman, G., Chiu, L., Xie, P.P., Ferraro, R., Schneider, U., Becker, A., Bolvin, D., Nelkin, E., Gu, G., and NOAA CDR Program (2016). Global Precipitation Climatology Project (GPCP) Climate Data Record (CDR), Version 2.3 (Monthly). National Centers for Environmental Information. DOI: 10.7289/V56971M6 (Accessed on 20/5/2024)\n",
    "\n",
    "[[2]](https://www.mdpi.com/2073-4433/9/4/138) Adler, R.F.; Sapiano, M.R.P.; Huffman, G.J.; Wang, J.-J.; Gu, G.; Bolvin, D.; Chiu, L.; Schneider, U.; Becker, A.; Nelkin, E.; et al. The Global Precipitation Climatology Project (GPCP) Monthly Analysis (New Version 2.3) and a Review of 2017 Global Precipitation. Atmosphere 2018, 9, 138. https://doi.org/10.3390/atmos9040138 \n",
    "\n",
    "[[3]](https://link.springer.com/article/10.1007/s00382-022-06567-9) Gu, G., Adler, R.F. Observed variability and trends in global precipitation during 1979–2020. Clim Dyn 61, 131–150 (2023). https://doi.org/10.1007/s00382-022-06567-9\n",
    "\n",
    "[[4]](https://agupubs.onlinelibrary.wiley.com/doi/10.1029/98JD00995) Weatherhead, E. C., Reinsel, G. C., Tiao, G. C., Meng, X.-L., Choi, D., Cheang, W.-K., Keller, T., DeLuisi, J., Wuebbles, D. J., Kerr, J. B., Miller, A. J., Oltmans, S. J., and Frederick, J. E.: Factors af-\n",
    "fecting the detection of trends: Statistical considerations and applications to environmental data, J. Geophys. Res.-Atmos., 103, 17149–17161, https://doi.org/10.1029/98JD00995, 1998.\n",
    "\n",
    "[[5]](https://doi.org/10.1002/wcc.591) Biasutti M. Rainfall trends in the African Sahel: Characteristics, processes, and causes. WIREs Clim Change. 2019; 10:e591. https://doi.org/10.1002/wcc.591"
   ]
  },
  {
   "cell_type": "code",
   "execution_count": null,
   "id": "d1aef86d-790b-4dbf-92c9-9b98e76e8f77",
   "metadata": {
    "tags": [
     "hide-input"
    ]
   },
   "outputs": [],
   "source": []
  }
 ],
 "metadata": {
  "kernelspec": {
   "display_name": "Python 3 (ipykernel)",
   "language": "python",
   "name": "python3"
  },
  "language_info": {
   "codemirror_mode": {
    "name": "ipython",
    "version": 3
   },
   "file_extension": ".py",
   "mimetype": "text/x-python",
   "name": "python",
   "nbconvert_exporter": "python",
   "pygments_lexer": "ipython3",
   "version": "3.11.9"
  }
 },
 "nbformat": 4,
 "nbformat_minor": 5
}
