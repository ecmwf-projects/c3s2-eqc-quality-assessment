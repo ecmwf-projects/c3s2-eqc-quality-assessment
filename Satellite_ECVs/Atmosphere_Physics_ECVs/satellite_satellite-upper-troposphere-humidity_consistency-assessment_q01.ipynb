{
 "cells": [
  {
   "cell_type": "markdown",
   "id": "af1e9f6a-88fe-4027-b5f8-be3e92f8410a",
   "metadata": {},
   "source": [
    "# Studying the influence of atmospheric circulation on upper tropospheric humidity"
   ]
  },
  {
   "cell_type": "markdown",
   "id": "b3c5c6f2-5671-4b8a-bbf1-2a855225be35",
   "metadata": {
    "jp-MarkdownHeadingCollapsed": true
   },
   "source": [
    "### Quality question:\n",
    " - __Do upper tropospheric humidity product represent the observed variability under different large-scale regimes in the tropics?__\n",
    "\n",
    "\n",
    "The atmospheric circulation is the large-scale movement of air through the Earth's atmosphere, driven by the uneven heating of the planet's surface by the sun. This circulation is responsible for distributing heat and moisture around the globe, shaping weather patterns and climate.\n",
    "The movement of the air masses influences the distribution of humidity in the upper troposphere. In regions where air rises, such as the  Inter Tropical Convergence Zone, moisture from the lower atmosphere is transported upward, increasing humidity in the upper troposphere.\n",
    "Conversely, in regions where air sinks, the upper troposphere becomes drier.\n",
    "\n",
    "\n",
    "This analysis is performed using the dataset [__Upper tropospheric humidity gridded data from 1999 to present derived from satellite observations__](https://cds.climate.copernicus.eu/cdsapp#!/dataset/satellite-upper-troposphere-humidity) provided by the Climate Data Store (CDS). This dataset provides the relative humidity in the upper troposphere column (500 hPa - 200 hPa) with an horizontal resolution of 1.0° x 1.0°. The data records are retrieved from the 183.31±1 GHz channel of the Advanced Microwave Sounding Unit-B (AMSU-B) and the Microwave Humidity Sounder (MHS) on board the NOAA- and MetOp- satellite series.\n",
    "\n",
    "\n",
    "This notebook aims to examine the dependency of upper tropospheric humidity on the global atmospheric circulation. Specifically, it seeks to verify if the UTH dataset can reproduce this dependency in agreement with [[1]](https://agupubs.onlinelibrary.wiley.com/doi/10.1029/2010JD014287). The analysis will compare the dataset's findings with established results to ensure consistency and reliability in representing the atmospheric dynamics.\n",
    "\n",
    "\n",
    "<!--\n",
    "The dataset \"Upper tropospheric humidity gridded data from 1999 to present derived from satellite observations\" provides the relative humidity in the upper troposphere column (500 hPa - 200 hPa) with an horizontal resolution of 1.0° x 1.0°. The data records are retrieved from the 183.31±1 GHz channel of the Advanced Microwave Sounding Unit-B (AMSU-B) and the Microwave Humidity Sounder (MHS) on board the NOAA- and MetOp- satellite series.\n",
    "\n",
    "The following notebook addresses how well this dataset reproduce the dependency over different regimes of atmospheric circulation in the tropics.\n",
    "The regimes of atmospheric circulations are identified by different vertical velocities at 500 hPa, called $\\omega_{500}$. \n",
    "The Upper Tropospheric Humidity (UTH) is obtained from MHS on MetOp-A, available in the product __Upper tropospheric humidity gridded data from 1999 to present derived from satellite observations__. The vertical velocity is obtained from ERA5 reanalysis. Both products are available on the Copernicus Data Store (CDS).\n",
    "\n",
    "-->\n",
    "\n",
    "\n",
    "## Quality assessment statement \n",
    "\n",
    "These are the key outcomes of this assessment\n",
    "\n",
    "- The UTH presents the transition between ascending and subsiding motions, showing the influence of atmospheric circulation on humidity levels. Ascending motions tend to moisten the upper troposphere, whereas subsiding motions lead to a humidity decrease.\n",
    "\n",
    "- Ascending motion exhibits a constant UTH of about 20%, while regions with strong convection have a UTH of approximately 50%, with a sharp transition between these two regimes. These results align with Fig. 1 of [[1]](https://agupubs.onlinelibrary.wiley.com/doi/10.1029/2010JD014287), and they confirm that the CDS product of upper tropospheric humidity accurately represents the observed variability under different large-scale regimes.\n",
    "\n",
    "## Methodology\n",
    "\n",
    "The upper tropospheric humidity (UTH) data over the tropics is downloaded for the year 2007.\n",
    "The atmospheric circulation is quantified by the vertical velocity at 500 hPa ($\\omega_{500}$), which is obtained from the ERA5 reanalysis for the same region and period.\n",
    "\n",
    "\n",
    "Both variables are averaged monthly to smooth out short-term fluctuations caused by convection. The ERA5 data resolution is then reduced to 1 degree to match the resolution of the UTH data. After collocating the monthly values at this resolution, the UTH values are categorized into bins based on the vertical velocities. The distribution of UTH within each bin is presented as a boxplot profile, providing a clear visualization of how UTH varies with changes in vertical velocity. \n",
    "<!--This method offers an in-depth analysis of the relationship between atmospheric circulation and upper tropospheric humidity.\n",
    "\n",
    "Both variables are averaged monthly to smooth out short-term fluctuations given by convection. Then, the ERA5 data resolution is reduced to 1 degree in order to match with the resolution of the UTH data. Monthly values at 1 degree resolution are collocated, and then, values of UTH are then categorized into bins based on the vertical velocities. The distribution of UTH within each bin is presented as a boxplot profile, providing a clear visualization of how humidity varies with changes in vertical velocity. \n",
    "-->\n",
    "\n",
    "\n",
    "The analysis comprises the following steps:\n",
    "\n",
    "__1. [Choose the parameters to use and setup code](#Choose-the-parameters-to-use-and-setup-code)__\n",
    " - Import the relevant packages. Define the parameters of the analysis and set the dataset requests\n",
    "\n",
    "__2. [Download the datasets](#Download-the-datasets)__\n",
    " - Download the variables of interest: Upper Tropospheric Humidity is obtained from MHS observation onboard MetOp-A, vertical velocity at 500 hPa is obtained from ERA5 reanalysis. Both datasets are downloaded from the CDS.\n",
    "\n",
    "__3.[Collocate the dataset](#Collocate-the-dataset)__\n",
    " -  The datasets are monthly averaged.\n",
    " -  ERA5 vertical velocity is regridded in order to align with the resolution of UTH.\n",
    " -  UTH and vertical velocity are stored in a pandas dataframe.\n",
    "   \n",
    "__4. [Results](#Results)__\n",
    " - The composite profile of upper tropospheric humidity (UTH) is shown as a function of vertical velocity. The final results are compared with the appropriate reference to assess the reliability of the dataset.\n",
    "\n"
   ]
  },
  {
   "cell_type": "markdown",
   "id": "24daa1af-3928-4c88-8f77-8b0a6ea752c8",
   "metadata": {},
   "source": [
    "## Analysis and Results"
   ]
  },
  {
   "cell_type": "markdown",
   "id": "6ffbf8f2-c477-4ccb-8739-78cc7d571ae6",
   "metadata": {},
   "source": [
    "### Choose the parameters to use and setup code"
   ]
  },
  {
   "cell_type": "markdown",
   "id": "4f6efa76-1555-4a74-ac65-4698f98ecf2d",
   "metadata": {},
   "source": [
    "#### Import packages"
   ]
  },
  {
   "cell_type": "code",
   "execution_count": 1,
   "id": "f2bf7421-72fe-4ab4-82bb-f93d7581a396",
   "metadata": {
    "tags": [
     "hide-input"
    ]
   },
   "outputs": [],
   "source": [
    "import matplotlib.pyplot as plt\n",
    "import pandas as pd\n",
    "import xarray as xr\n",
    "from c3s_eqc_automatic_quality_control import download\n",
    "\n",
    "plt.style.use(\"seaborn-v0_8-notebook\")\n",
    "\n",
    "import os\n",
    "os.environ[\"CDSAPI_RC\"] = os.path.expanduser(\"~/mandorli_giulio/.cdsapirc\")"
   ]
  },
  {
   "cell_type": "markdown",
   "id": "2144e782-9648-4397-9d21-e9e4d9a7080a",
   "metadata": {},
   "source": [
    "#### Define parameters"
   ]
  },
  {
   "cell_type": "code",
   "execution_count": 2,
   "id": "7094c346-03de-42aa-9e05-a3fe7e6af058",
   "metadata": {
    "tags": [
     "hide-input"
    ]
   },
   "outputs": [],
   "source": [
    "# Time\n",
    "start = \"2007-01\"\n",
    "stop = \"2007-12\"\n",
    "\n",
    "# Region: Degree range has to be integers because UTH has a resolution of 1x1\n",
    "lat_min = -30\n",
    "lat_max = 30\n",
    "lon_min = 0\n",
    "lon_max = 360\n",
    "assert (isinstance(coord, int) for coord in (lat_min, lat_max, lon_min, lon_max))\n",
    "assert 0 <= lon_min <= lon_max <= 360"
   ]
  },
  {
   "cell_type": "markdown",
   "id": "83aa19a0-cbb2-4da4-afce-e7136ebf097e",
   "metadata": {},
   "source": [
    "#### Set the data request"
   ]
  },
  {
   "cell_type": "code",
   "execution_count": 3,
   "id": "42649a96-23e1-42ef-bce5-ef85f698c4fd",
   "metadata": {
    "tags": [
     "hide-input"
    ]
   },
   "outputs": [],
   "source": [
    "chunks = {\"year\": 1, \"month\": 1}\n",
    "\n",
    "collection_id_uth = \"satellite-upper-troposphere-humidity\"\n",
    "request_uth = {\n",
    "    \"variable\": \"all\",\n",
    "    \"sensor_on_satellite\": \"mhs_on_metop_a\",\n",
    "    \"area\": [lat_min, lon_min, lat_max, lon_max],\n",
    "}\n",
    "\n",
    "\n",
    "collection_id_omega500 = \"reanalysis-era5-pressure-levels\"\n",
    "request_omega500 = {\n",
    "    \"product_type\": \"ensemble_mean\",\n",
    "    \"variable\": \"vertical_velocity\",\n",
    "    \"pressure_level\": \"500\",\n",
    "    'time': [ f'{h}:00' for h in range(0, 24, 3) ],\n",
    "    \"area\": [lat_min, lon_min, lat_max-0.01, lon_max],    \n",
    "}\n"
   ]
  },
  {
   "cell_type": "markdown",
   "id": "d6cd136a-4bd3-47aa-98ce-8aae10667301",
   "metadata": {},
   "source": [
    "### Download the datasets"
   ]
  },
  {
   "cell_type": "markdown",
   "id": "28a94411-d337-4ac9-8be1-407df9f90fbd",
   "metadata": {},
   "source": [
    "#### Download UTH"
   ]
  },
  {
   "cell_type": "code",
   "execution_count": 4,
   "id": "697114b4-30c5-44f2-b227-601474c730e2",
   "metadata": {
    "tags": [
     "hide-input"
    ]
   },
   "outputs": [
    {
     "name": "stderr",
     "output_type": "stream",
     "text": [
      "100%|██████████| 12/12 [00:11<00:00,  1.01it/s]\n"
     ]
    }
   ],
   "source": [
    "ds_uth = download.download_and_transform(\n",
    "    collection_id_uth,\n",
    "    download.update_request_date(request_uth, start, stop, stringify_dates=True),\n",
    "    chunks=chunks,\n",
    ")"
   ]
  },
  {
   "cell_type": "markdown",
   "id": "a2ff129c-0cea-4ad7-93bc-c506efe22749",
   "metadata": {},
   "source": [
    "#### Download OMEGA 500"
   ]
  },
  {
   "cell_type": "code",
   "execution_count": 5,
   "id": "30e1b235-1962-4dce-872b-57d493e21381",
   "metadata": {
    "tags": [
     "hide-input"
    ]
   },
   "outputs": [
    {
     "name": "stderr",
     "output_type": "stream",
     "text": [
      "100%|██████████| 12/12 [00:01<00:00,  9.84it/s]\n"
     ]
    }
   ],
   "source": [
    "ds_omega500 = download.download_and_transform(\n",
    "    collection_id_omega500,\n",
    "    download.update_request_date(request_omega500, start, stop, stringify_dates=True),\n",
    "    chunks=chunks,\n",
    ")"
   ]
  },
  {
   "cell_type": "markdown",
   "id": "66360826-386f-45c2-b23c-507958b91b57",
   "metadata": {},
   "source": [
    "### Collocate the dataset at the monthly time scale"
   ]
  },
  {
   "cell_type": "code",
   "execution_count": 6,
   "id": "83207aff-d0d3-46dd-8dff-dd54c1690c75",
   "metadata": {
    "tags": [
     "hide-input"
    ]
   },
   "outputs": [],
   "source": [
    "ds_omega500 = ds_omega500.drop_vars(\"time\").rename(forecast_reference_time=\"time\")\n",
    "\n",
    "ds_uth_monthly = ds_uth.resample(time='1ME').mean()\n",
    "ds_omega500_monthly = ds_omega500.resample(time='1ME').mean().coarsen(latitude=2, longitude=2).mean()\n",
    "\n",
    "# Units\n",
    "with xr.set_options(keep_attrs=True):\n",
    "    ds_omega500_monthly[\"w\"] *= 24 * 36  # from Pa/s to hPa / day\n",
    "ds_omega500_monthly.attrs[\"units\"] = \"hPa / day\""
   ]
  },
  {
   "cell_type": "markdown",
   "id": "a07773d4-f9e8-4cf1-906b-a77b46e5b22b",
   "metadata": {},
   "source": [
    "#### Make 1D dataframe"
   ]
  },
  {
   "cell_type": "code",
   "execution_count": 7,
   "id": "f416f181-8ea4-4e63-ac2d-588cf5295b98",
   "metadata": {
    "tags": [
     "hide-input"
    ]
   },
   "outputs": [],
   "source": [
    "ds_omega500_monthly = ds_omega500_monthly.reindex(latitude=list(reversed(ds_omega500_monthly.latitude)))\n",
    "series = {}\n",
    "for da in [ds_uth_monthly[\"uth_mean_ascend_descend\"], ds_omega500_monthly[\"w\"]]:\n",
    "    series[da.name] = (\n",
    "        da.sortby(list(da.dims))\n",
    "        .stack(index=sorted(da.dims))\n",
    "        .to_series()\n",
    "        .reset_index(drop=True)\n",
    "    )\n",
    "df = pd.DataFrame(series)"
   ]
  },
  {
   "cell_type": "markdown",
   "id": "a24b92ac-acaa-4102-87a7-d63bcd15d8e8",
   "metadata": {},
   "source": [
    "### Results"
   ]
  },
  {
   "cell_type": "code",
   "execution_count": 8,
   "id": "ff602f31-3741-475b-87b0-30476cbe07ec",
   "metadata": {
    "tags": [
     "hide-input"
    ]
   },
   "outputs": [
    {
     "data": {
      "image/png": "[encoded data removed]",
      "text/plain": [
       "<Figure size 800x550 with 1 Axes>"
      ]
     },
     "metadata": {},
     "output_type": "display_data"
    }
   ],
   "source": [
    "bin_edges = range(-115, 66, 10)\n",
    "bin_labels = pd.Series(bin_edges).rolling(2).mean()[1:]\n",
    "grouper = pd.cut(df[\"w\"], bin_edges)\n",
    "ax = df.groupby(grouper, observed=False).boxplot(\n",
    "    subplots=False,\n",
    "    column=\"uth_mean_ascend_descend\",\n",
    "    showfliers=False,\n",
    "    patch_artist=True,\n",
    "    showmeans=True,\n",
    "    medianprops={\"linewidth\": 2.5, \"color\": \"k\"},\n",
    "    meanprops={\n",
    "        \"marker\": \"D\",\n",
    "        \"markeredgecolor\": \"black\",\n",
    "        \"markerfacecolor\": \"green\",\n",
    "        \"markersize\": 8,\n",
    "    },\n",
    "    whiskerprops={\"color\": \"k\"},\n",
    "    boxprops={\"color\": \"k\", \"facecolor\": \"silver\"},\n",
    "    xlabel=\"$omega$ 500 [hPa/day]\",\n",
    "    ylabel=\"UTH [%]\",\n",
    "    grid=True,\n",
    ")\n",
    "ax.set_title(\"UTH as a function of vertical velocity\")\n",
    "_ = ax.set_xticklabels(bin_labels.astype(int))\n"
   ]
  },
  {
   "cell_type": "markdown",
   "id": "02c59609-67c9-4a46-83e0-8f09b415fc92",
   "metadata": {},
   "source": [
    "_This plot shows the distribution of UTH for different circulation regimes. The gray boxes represent the interquartiles, black lines show the median, and green rhombs show the mean of the UTH for each specific bin._"
   ]
  },
  {
   "cell_type": "markdown",
   "id": "91015367-f473-45dc-a0bd-d31ab06d4b3c",
   "metadata": {},
   "source": [
    "\n",
    "The Upper tropospheric humidity is large in regions with negative values of vertical velocities. Negative values of vertical velocities are associated to deep convective regions like the ITCZ, that humidifies the troposphere by moving upward the moisture from the boundary layer. \n",
    "\n",
    "The Upper tropospheric humidity is small in regions with negative values of vertical velocities, named subsidence regions. They are mainly in the subtropics and they include deserts and oceanic areas with high pressure. In subsidence regions, the air sinks and warms adiabatically without changing its water vapour content, thus the relative humidity decreases. \n",
    "\n",
    "\n",
    "The results are in agreement with Fig.1 of [[1]](https://agupubs.onlinelibrary.wiley.com/doi/10.1029/2010JD014287), which compare the retrieved monthly UTH from NOAA-16 to the vertical velocity.\n",
    "In both cases, the UTH shows a sharp transition from convergence regions to subsidence regions. The UTH value remains stable at around 20% over regions where the vertical velocity exceeds 30 hPa/day. The discrepancy between the present results and the reference lies within the UTH distribution and can be explained by the factors outlined below.\n",
    "\n",
    "The UTH reaches a maximum value of approximately 45-50% when upward motions reach -70 hPa/day. The reference reports slightly lower values, which still fall within the UTH distribution observed in this study. The discrepancies between these results and those presented in [[1]](https://agupubs.onlinelibrary.wiley.com/doi/10.1029/2010JD014287) can arise from the following reasons:\n",
    "- The retrieval method used is similar; however, the tuned parameters of the equation $$\\text{ln}(UTH) = a + b \\cdot T_B$$ are not identical. The difference in the parameters $a$ and $b$ could explain the variations in the factors.\n",
    "- The results in [[1]](https://agupubs.onlinelibrary.wiley.com/doi/10.1029/2010JD014287) consider only two months of data, which could lead to discrepancies when compared to our more comprehensive dataset.\n",
    "- In this notebook, Upper Tropospheric Humidity (UTH) is observed by the Metop-A satellite at 9:30, while the reference shows UTH data at 15:30. Although UTH does not exhibit a strong diurnal cycle [[2]](https://doi.org/10.1038/s41598-019-52437-6), this time difference could potentially affect the comparability of the two datasets.\n",
    "\n"
   ]
  },
  {
   "cell_type": "markdown",
   "id": "0f5f5f33-14a3-458a-9174-1d6f4dd6816f",
   "metadata": {},
   "source": [
    "## If you want to know more\n",
    "### Key resources\n",
    "Some key resources and further reading were linked throughout this assessment.\n",
    "\n",
    "The CDS catalogue entries for the data used is:\n",
    "- Upper tropospheric humidity gridded data from 1999 to present derived from satellite observations:\n",
    "https://cds.climate.copernicus.eu/cdsapp#!/dataset/satellite-upper-troposphere-humidity\n",
    "\n",
    "- ERA5 hourly data on pressure levels from 1940 to present:\n",
    "https://cds.climate.copernicus.eu/cdsapp#!/dataset/reanalysis-era5-pressure-levels\n",
    "\n",
    "\n",
    "\n",
    "Code libraries used:\n",
    "- [C3S EQC custom functions](https://github.com/bopen/c3s-eqc-automatic-quality-control/tree/main/c3s_eqc_automatic_quality_control), `c3s_eqc_automatic_quality_control`, prepared by [BOpen](https://www.bopen.eu/)\n",
    "\n",
    "\n",
    "### Reference/Useful material\n",
    "[[1]](https://agupubs.onlinelibrary.wiley.com/doi/10.1029/2010JD014287) Brogniez, H., and R. T. Pierrehumbert (2007), Intercomparison of tropical tropospheric humidity in GCMs with AMSU-B water vapor data, Geophys. Res. Lett., 34, L17812, doi:10.1029/2006GL029118.\n",
    "\n",
    "[[2]](https://doi.org/10.1038/s41598-019-52437-6) Chepfer, H., Brogniez, H. & Noel, V. Diurnal variations of cloud and relative humidity profiles across the tropics. Sci Rep 9, 16045 (2019). https://doi.org/10.1038/s41598-019-52437-6\n",
    "\n",
    "[[3]](https://agupubs.onlinelibrary.wiley.com/doi/full/10.1029/2007JD009314) Buehler, S. A., M. Kuvatov, V. O. John, M. Milz, B. J. Soden, D. L. Jackson, and J. Notholt (2008), An upper tropospheric humidity data set from operational satellite microwave data,J. Geophys. Res.,113, D14110, doi:10.1029/2007JD009314"
   ]
  },
  {
   "cell_type": "code",
   "execution_count": null,
   "id": "d1aef86d-790b-4dbf-92c9-9b98e76e8f77",
   "metadata": {
    "tags": [
     "hide-input"
    ]
   },
   "outputs": [],
   "source": []
  }
 ],
 "metadata": {
  "kernelspec": {
   "display_name": "Python 3 (ipykernel)",
   "language": "python",
   "name": "python3"
  },
  "language_info": {
   "codemirror_mode": {
    "name": "ipython",
    "version": 3
   },
   "file_extension": ".py",
   "mimetype": "text/x-python",
   "name": "python",
   "nbconvert_exporter": "python",
   "pygments_lexer": "ipython3",
   "version": "3.11.9"
  }
 },
 "nbformat": 4,
 "nbformat_minor": 5
}
