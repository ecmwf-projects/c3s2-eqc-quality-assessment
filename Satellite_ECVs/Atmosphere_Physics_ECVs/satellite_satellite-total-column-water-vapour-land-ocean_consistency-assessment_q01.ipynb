{
 "cells": [
  {
   "cell_type": "markdown",
   "id": "ac59558e-882e-4273-ac79-f484d43bad61",
   "metadata": {},
   "source": [
    "# Use case: Studying the Greenhouse Effect produced by the water vapour"
   ]
  },
  {
   "cell_type": "markdown",
   "id": "d6be62c4-f125-472d-968f-d8bfa48a9663",
   "metadata": {},
   "source": [
    "## Quality assessment question:\n",
    " - __Can Satellite measurements reproduce the known relationship between clear sky greenhouse effect and total column water vapour (TCWV)?__\n",
    "\n",
    "## Abstract\n",
    "\n",
    "\n",
    "The water vapour is the most significant anthropogenic greenhouse gases, contributing to about half of the planet's overall greenhouse effect [[1]](https://agupubs.onlinelibrary.wiley.com/doi/10.1029/2010JD014287). As a result, it plays a significant in influencing the Earth's radiation budget, with its radiative forcing being directly proportional to its total amount in the atmosphere.\n",
    "\n",
    "Furthermore, the warming induced by an increase in CO2 concentrations is expected to lead to higher levels of water vapor through the Clausius-Clapeyron relationship [[2]](https://doi.org/10.1175/1520-0469\\(1967\\)024<0241:TEOTAW>2.0.CO;2). The increasing of water vapor, in turn, intensifies the greenhouse effect, a phenomenon referred to as the water vapor feedback [[3]](https://agupubs.onlinelibrary.wiley.com/doi/full/10.1029/2000JD000040). This positive feedback mechanism underscores the critical importance of monitoring and comprehending the water vapour concentrations to accurately assess and predict its impacts on the Earth's climate system.\n",
    "\n",
    "\n",
    "In this analysis, we study the greenhouse warming induced by water vapor and aim to determine the relationship between the two variables. We quantify the amount of water vapor in the atmosphere using its vertially integrated value, known as Total Columns Water Vapor (TCWV), which is obtained from satellite observations. The data used in this study is __Global monthly and daily high-spatial resolution of total column water vapour from 2002 to 2017 derived from satellite observations__, available on the Climate Data Store (CDS) of the Copernicus Climate Change Service (C3S).\n",
    "\n",
    "\n",
    "## Quality assessment statement \n",
    "\n",
    "These are the key outcomes of this assessment\n",
    "\n",
    "- The clear sky greenhouse effect is approximately a linear function of the total column water vapour. The exact values of greenhouse effect and the value of the slope are in agreement with [[3]](https://agupubs.onlinelibrary.wiley.com/doi/full/10.1029/2000JD000040).\n",
    "\n",
    "- An estimate of the water vapour feedback is given by assuming a constant lapse rate and a fixed Clausius–Clapeyron rate at different altitudes. The humidity feedback obtained is $2.5 \\pm 0.2$ $W/m^{2}/ K$ which is in agreement with the IPCC [[4]](https://www.ipcc.ch/report/ar6/wg1/downloads/report/IPCC_AR6_WGI_Chapter07.pdf).\n",
    "\n",
    "- The agreement with [[3]](https://agupubs.onlinelibrary.wiley.com/doi/full/10.1029/2000JD000040) proves also that the datasets of cloud amount [here](https://cds.climate.copernicus.eu/cdsapp#!/dataset/satellite-cloud-properties), sea surface temperature [here](https://cds.climate.copernicus.eu/cdsapp#!/dataset/satellite-sea-surface-temperature), and outgoing longwave radiation [here](https://cds.climate.copernicus.eu/cdsapp#!/dataset/satellite-earth-radiation-budget) on CDS, are accurate and reliable.\n",
    "\n",
    "\n",
    "\n",
    "## Methodology\n",
    "\n",
    "The relationship between clear sky Greenhouse effect and Total Column of Water Vapour (TCWV) is examined using the available datasets from the Climate Data Record (CDR) for clouds, Sea Surface Temperature, and Outgoing Longwave Radiation (OLR), detailed below. These datasets are daily and the analysis focuses on the tropical ocean over January 2007.\n",
    "\n",
    "Initially, clear sky regions are identified for each day. Surface emissions are estimated from the sea surface temperature using black body radiation, because water has a large emissivity in the infrared spectrum. Then, the Greenhouse effect is computed by subtracting the OLR from the surface emission:\n",
    "\\begin{equation}\n",
    "\\text{Greenhouse Effect} = \\text{OLR} - \\sigma T^4\n",
    "\\end{equation}\n",
    "The Greenhouse warming is then compared with TCWV, and their relationship is visualized as a function of TCWV.\n",
    "Lastly, the derived relationship is utilized to estimate the water vapour feedback.\n",
    "\n",
    "\n",
    "The analysis comprises the following steps:\n",
    "\n",
    "__1. [Choose the data to use and setup code](#Choose-the-data-to-use-and-setup-code)__\n",
    " - Import the relevant packages. Define the parameters of the analysis and set the dataset requests\n",
    "\n",
    "__2. [Download the datasets](#Download-the-datasets)__\n",
    " - Download the variables of interest: TCWV is obtained from __Global monthly and daily high-spatial resolution of total column water vapour from 2002 to 2017 derived from satellite observations__, Clear sky is obtained from __Cloud properties global gridded monthly and daily data from 1979 to present derived from satellite observations__, Surface Temperature is obtained from __Sea surface temperature daily data from 1979 to present derived from satellite observations__, Outgoing Longwave Radiation (OLR) is obtained from __Earth's radiation budget from 1979 to present derived from satellite observations__.\n",
    "\n",
    "__3.[Colocate and compute the clear sky greenhouse effect](#Colocate-and-compute-the-clear-sky-greenhouse-effect)__\n",
    " -  The datasets are colocated in space over the Indian Ocean. Gridboxes with clear coverage greater than 20% are rejected. Moreover, only the well retrieved TCWV and surface temperature are considered. The amount of radiation emitted by the surface is computed assuming blackbody behavior of the ocean. Then, the greenhouse effect is obtained by subtracting outging lonwave radiation and surface emission.\n",
    "   \n",
    "__4. [Plot and describe results](#Plot-and-describe-results)__\n",
    " - The greenhouse warming is plotted as a function of the TCWV. A linear regression is computed and the value of the slope is used to estimate the special humidity feedback. Final results are compared with proper references.\n",
    "\n"
   ]
  },
  {
   "cell_type": "markdown",
   "id": "9a5bbb42-a1c8-40c2-992b-7b455fb26553",
   "metadata": {},
   "source": [
    "## Analysis and Results"
   ]
  },
  {
   "cell_type": "markdown",
   "id": "b1de2160-4915-4f00-b95e-3e98e9e12f46",
   "metadata": {},
   "source": [
    "### Choose the data to use and setup code"
   ]
  },
  {
   "cell_type": "markdown",
   "id": "7e088291-88cc-46cf-a372-03db322f8aa2",
   "metadata": {},
   "source": [
    "#### Import packages"
   ]
  },
  {
   "cell_type": "code",
   "execution_count": 1,
   "id": "106e07d6-8465-4d2a-b915-5ab13931b688",
   "metadata": {
    "tags": [
     "hide-input"
    ]
   },
   "outputs": [],
   "source": [
    "import cartopy.crs as ccrs\n",
    "import matplotlib.pyplot as plt\n",
    "import pandas as pd\n",
    "import xarray as xr\n",
    "from scipy.stats import linregress\n",
    "import numpy as np \n",
    "from c3s_eqc_automatic_quality_control import diagnostics, download, plot\n",
    "\n",
    "import os\n",
    "os.environ[\"CDSAPI_RC\"] = os.path.expanduser(\"~/mandorli_giulio/.cdsapirc\")"
   ]
  },
  {
   "cell_type": "markdown",
   "id": "ea6399d6-b5b6-4320-b2a8-dbb7e5000fde",
   "metadata": {},
   "source": [
    "#### Define prameters"
   ]
  },
  {
   "cell_type": "code",
   "execution_count": 2,
   "id": "0fc2f40b-c9d0-4996-9ddf-e4e9d7a3e996",
   "metadata": {
    "tags": [
     "hide-input"
    ]
   },
   "outputs": [],
   "source": [
    "# Time\n",
    "start = \"2007-01\"\n",
    "stop = \"2007-01\"\n",
    "\n",
    "# Region: Degree range has to be integers because UTH has a resolution of 1x1\n",
    "lat_min = -30\n",
    "lat_max = 30\n",
    "lon_min = -180\n",
    "lon_max = 180"
   ]
  },
  {
   "cell_type": "markdown",
   "id": "4ee09273-bd33-4ba7-8494-0864cc9d1e33",
   "metadata": {},
   "source": [
    "#### Set the data request"
   ]
  },
  {
   "cell_type": "code",
   "execution_count": 3,
   "id": "a71377a1-9de2-49a9-ab24-2cc0ad5530d6",
   "metadata": {
    "tags": [
     "hide-input"
    ]
   },
   "outputs": [],
   "source": [
    "chunks = {\"year\": 1, \"month\": 1}\n",
    "requests = dict()\n",
    "\n",
    "requests[\"satellite-total-column-water-vapour-land-ocean\"] = {\n",
    "        'variable': 'all',\n",
    "        'horizontal_aggregation': '0_5_x_0_5',\n",
    "        'temporal_aggregation': 'daily',\n",
    "        'product': 'near_infrared_hoaps_combined',\n",
    "}\n",
    "\n",
    "requests[\"satellite-cloud-properties\"] = {\n",
    "        'product_family': 'clara_a2',\n",
    "        'origin': 'eumetsat',\n",
    "        'variable': 'cloud_fraction',\n",
    "        'climate_data_record_type': 'thematic_climate_data_record',\n",
    "        'time_aggregation': 'daily_mean',\n",
    "}\n",
    "\n",
    "\n",
    "requests[\"satellite-sea-surface-temperature\"] = {\n",
    "        'version': '2_1',\n",
    "        'variable': 'all',\n",
    "        'sensor_on_satellite': 'combined_product',\n",
    "        'processinglevel': 'level_4',\n",
    "}\n",
    "\n",
    "\n",
    "requests[\"satellite-earth-radiation-budget\"] = {\n",
    "    'product_family': 'clara_a3',\n",
    "    'origin': 'eumetsat',\n",
    "    'variable': 'outgoing_longwave_radiation',\n",
    "    'climate_data_record_type': 'thematic_climate_data_record',\n",
    "    'time_aggregation': 'daily_mean',\n",
    "}\n",
    "\n",
    "\n"
   ]
  },
  {
   "cell_type": "markdown",
   "id": "9d22978f-9a06-4941-8543-450ee23ea270",
   "metadata": {},
   "source": [
    "### Download the datasets"
   ]
  },
  {
   "cell_type": "code",
   "execution_count": 4,
   "id": "5f1b67f4-477b-4754-8242-b2c165614565",
   "metadata": {
    "tags": [
     "hide-input"
    ]
   },
   "outputs": [
    {
     "name": "stderr",
     "output_type": "stream",
     "text": [
      "100%|██████████| 1/1 [00:01<00:00,  1.44s/it]\n",
      "100%|██████████| 1/1 [00:00<00:00,  1.12it/s]\n",
      "100%|██████████| 1/1 [00:02<00:00,  2.17s/it]\n",
      "100%|██████████| 1/1 [00:00<00:00,  4.70it/s]\n"
     ]
    }
   ],
   "source": [
    "datasets = {}\n",
    "\n",
    "for collection_id in requests :\n",
    "    request = requests[collection_id]\n",
    "    datasets[collection_id] =  download.download_and_transform(\n",
    "                                    collection_id,\n",
    "                                    download.update_request_date(request | {'area': [lat_min, lon_min, lat_max, lon_max]}, \n",
    "                                                                 start, \n",
    "                                                                 stop, \n",
    "                                                                 stringify_dates=True),\n",
    "                                        chunks=chunks,\n",
    "                                    )\n",
    "    \n",
    "\n"
   ]
  },
  {
   "cell_type": "markdown",
   "id": "9e9fce40-b480-4732-8618-98bc6d9a5f78",
   "metadata": {},
   "source": [
    "### Colocate and compute the clear sky greenhouse effect"
   ]
  },
  {
   "cell_type": "code",
   "execution_count": 5,
   "id": "1c52829f-b42e-476e-be81-6529976c1d30",
   "metadata": {
    "tags": [
     "hide-input"
    ]
   },
   "outputs": [],
   "source": [
    "DS_CLOUDS = datasets[\"satellite-cloud-properties\"].coarsen(latitude=4, longitude=4).mean().compute()\n",
    "DS_TEMP   = datasets[\"satellite-sea-surface-temperature\"].coarsen(latitude=20, longitude=20).mean().compute()\n",
    "DS_TOA    = datasets[\"satellite-earth-radiation-budget\"].coarsen(latitude=4, longitude=4).mean().compute()\n",
    "\n",
    "ds_TCWV   = datasets[\"satellite-total-column-water-vapour-land-ocean\"]\n",
    "DS_TCWV   = ds_TCWV.reindex(latitude=list(reversed(ds_TCWV.latitude)))\n",
    "DS_TCWV   = DS_TCWV.coarsen(latitude=2, longitude=2).mean().compute()\n"
   ]
  },
  {
   "cell_type": "code",
   "execution_count": 6,
   "id": "74518395-48a5-47be-8986-9cd94267884c",
   "metadata": {
    "tags": [
     "hide-input"
    ]
   },
   "outputs": [],
   "source": [
    "series = {}\n",
    "for da in [DS_TCWV[\"tcwv\"], DS_TEMP[\"analysed_sst\"], DS_TOA[\"LW_flux\"], DS_CLOUDS[\"cfc_day\"], DS_CLOUDS[\"cfc_night\"]]:\n",
    "    series[da.name] = (\n",
    "        da.sortby(list(da.dims))\n",
    "        .stack(index=sorted(da.dims))\n",
    "        .to_series()\n",
    "        .reset_index(drop=True)\n",
    "    )\n",
    "\n",
    "# Selection of clear sky region and correctly retrieved surface temperature and TCVW\n",
    "df = pd.DataFrame(series).query('cfc_day + cfc_night < 40')\n",
    "df = df.query('(analysed_sst>0) & (tcwv>0)')\n",
    "\n",
    "df['Greenhouse_effect'] =  5.67 / 100_000_000. * df['analysed_sst'] ** 4 - df['LW_flux']"
   ]
  },
  {
   "cell_type": "markdown",
   "id": "98bb9dfb-f818-4cf4-9817-23d9bf1edcd0",
   "metadata": {},
   "source": [
    "#### Plot and describe results"
   ]
  },
  {
   "cell_type": "code",
   "execution_count": 7,
   "id": "67a9c1c2-9b04-43b2-bbf1-850b2ede8f26",
   "metadata": {
    "tags": [
     "hide-input"
    ]
   },
   "outputs": [
    {
     "data": {
      "image/png": "[encoded data removed]",
      "text/plain": [
       "<Figure size 640x480 with 1 Axes>"
      ]
     },
     "metadata": {},
     "output_type": "display_data"
    }
   ],
   "source": [
    "bin_edges = range(19, 55, 2)\n",
    "#bin_edges = np.linspace(15, 60, (60-15)+1)\n",
    "bin_labels = pd.Series(bin_edges).rolling(2).mean()[1:]\n",
    "grouper = pd.cut(df[\"tcwv\"], bin_edges)\n",
    "ax = df.groupby(grouper, observed=False).boxplot(\n",
    "    subplots=False,\n",
    "    column=\"Greenhouse_effect\",\n",
    "    showfliers=False,\n",
    "    patch_artist=True,\n",
    "    showmeans=True,\n",
    "    medianprops={\"linewidth\": 2.5, \"color\": \"k\"},\n",
    "    meanprops={\n",
    "        \"marker\": \"D\",\n",
    "        \"markeredgecolor\": \"black\",\n",
    "        \"markerfacecolor\": \"green\",\n",
    "        \"markersize\": 8,\n",
    "    },\n",
    "    whiskerprops={\"color\": \"k\"},\n",
    "    boxprops={\"color\": \"k\", \"facecolor\": \"silver\"},\n",
    "    xlabel=\"TCWV [mm]\",\n",
    "    ylabel=\"clear-sky Greenhouse Effect [W/m$^2$]\",\n",
    "    grid=True,\n",
    ")\n",
    "\n",
    "\n",
    "# Get all mean values\n",
    "x_data = np.array([(bin_edges[i] + bin_edges[i + 1]) / 2 for i in range(len(bin_labels))])\n",
    "y_data = df.groupby(grouper, observed=False).mean()['Greenhouse_effect'].to_numpy()\n",
    "\n",
    "# Perform linear regression\n",
    "slope, intercept, r, p, se = linregress(x_data, y_data)\n",
    "\n",
    "\n",
    "# Plot linear fit\n",
    "ax.plot(\n",
    "    np.arange(x_data.size)+1,\n",
    "    slope * x_data + intercept,\n",
    "    color=\"red\",\n",
    "    linestyle=\"--\",\n",
    "    linewidth=2,\n",
    "    label=f\"Linear regression = {slope:.2f} $\\pm$ {se:.2f} W/m$^2$ / mm\",\n",
    ")\n",
    "\n",
    "\n",
    "ax.set_title(\"clear-sky Greenhouse Effect as a function of TCWV\")\n",
    "ax.set_xticklabels(bin_labels.astype(int))\n",
    "\n",
    "plt.legend()\n",
    "\n",
    "plt.show()\n",
    "\n",
    "# Variables to estimate the specific humidity radiative feedback\n",
    "TCWV_mean = df.tcwv.mean()\n",
    "feedback = slope * TCWV_mean * 0.07\n",
    "#print(f\"feedback: {feedback:.2f}\")"
   ]
  },
  {
   "cell_type": "markdown",
   "id": "c84f0ff6-9a13-4595-bdf1-71562ca92308",
   "metadata": {},
   "source": [
    "*This boxplot illustrates the distribution of the clear sky Greenhouse Effect within various Total Column of Water Vapour (TCWV) bins. The green rhombs show the statistic of the Greenhouse Effect for each bin. A linear regression has been applied to the dataset, visualized by the red curve and reported in the legend.*"
   ]
  },
  {
   "cell_type": "markdown",
   "id": "f9b05123-ad6b-47c6-9e3d-fbca072dd54c",
   "metadata": {},
   "source": [
    "The results show a linear relationship between the clear sky greenhouse effect and the Total Columns of Water Vapour, in agreement with previous research [[3]](https://agupubs.onlinelibrary.wiley.com/doi/full/10.1029/2000JD000040).\n",
    "\n",
    "The relationship between clear sky Greenhouse Effect and TCWV is studied on the time scale of one day. However, since it is linear, the same relationship must be valid over larger spatial and temporal scales. In particular, this is also the relationship between the climatological Greenhouse effect and TCWV, and it can be used to estimate the water vapour feedback.\n",
    "\n",
    "\n",
    "\n",
    "Water vapour scales in accordance with the Clausius–Clapeyron (CC) relationship. Although the CC rate varies with altitude, it typically falls within the range of 6.5% to 7.5%. Moreover, under the assumption of a constant lapse rate and a constant relative humidity:\n",
    "\n",
    "\\begin{align}\n",
    "\\text{Water Vapour feedback} &= \\frac{d G}{d TCWV}\\frac{d TCWV}{dT} \\\\\n",
    " &= \\frac{d G}{d TCWV}  <TCWV>  CC \\\\\n",
    " &= 1.23 \\, W/m^{2}/mm \\cdot 29 \\, mm \\cdot 0.07 \\, K^{-1} \\\\\n",
    " &= 2.5 \\pm 0.2 \\quad  W/m^{2}/ K\n",
    "\\end{align}\n",
    "\n",
    "Where $G$ is the clear sky Greenhouse Effect, the average TCWV is 29 mm, and the adopted CC rate is $(7 \\pm 0.5) \\%$.\n",
    "This result is in agreement with Fig.20 of IPCC report Chapter 7 [[4]](https://www.ipcc.ch/report/ar6/wg1/downloads/report/IPCC_AR6_WGI_Chapter07.pdf)\n",
    "\n"
   ]
  },
  {
   "cell_type": "markdown",
   "id": "2d9a0f24-2452-4e9a-ad68-bcd8afe542d2",
   "metadata": {},
   "source": [
    "## If you want to know more\n",
    "### Key resources\n",
    "Some key resources and further reading were linked throughout this assessment.\n",
    "\n",
    "The CDS catalogue entries for the data used is:\n",
    "- Global monthly and daily high-spatial resolution of total column water vapour from 2002 to 2017 derived from satellite observations: https://cds.climate.copernicus.eu/cdsapp#!/dataset/satellite-total-column-water-vapour-land-ocean\n",
    "\n",
    "Code libraries used:\n",
    "- [C3S EQC custom functions](https://github.com/bopen/c3s-eqc-automatic-quality-control/tree/main/c3s_eqc_automatic_quality_control), `c3s_eqc_automatic_quality_control`, prepared by [BOpen](https://www.bopen.eu/)\n",
    "\n",
    "\n",
    "### Reference/Useful material\n",
    "[[1]](https://agupubs.onlinelibrary.wiley.com/doi/10.1029/2010JD014287) Schmidt, G. A., R. A. Ruedy, R. L. Miller, and A. A. Lacis (2010), Attribution of the present‐day total greenhouseeffect,J. Geophys. Res.,115, D20106, doi:10.1029/2010JD014287\n",
    "\n",
    "\n",
    "[[2]](https://doi.org/10.1175/1520-0469(1967)024<0241:TEOTAW>2.0.CO;2) Manabe, S., and R. T. Wetherald, 1967: Thermal Equilibrium of the Atmosphere with a Given Distribution of Relative Humidity. J. Atmos. Sci., 24, 241–259, https://doi.org/10.1175/1520-0469(1967)024<0241:TEOTAW>2.0.CO;2. \n",
    "\n",
    "[[3]](https://agupubs.onlinelibrary.wiley.com/doi/full/10.1029/2000JD000040)  Roca, R., M. Viollier, L. Picon, and M. Desbois, A multisatellite analysis of deep convection and its moist environment over the Indian Ocean during the winter monsoon, J. Geophys. Res., 107(D19), doi:10.1029/2000JD000040, 2002.\n",
    "\n",
    "[[4]](https://www.ipcc.ch/report/ar6/wg1/downloads/report/IPCC_AR6_WGI_Chapter07.pdf)  Forster, P., T. Storelvmo, K. Armour, W. Collins, J.-L. Dufresne, D. Frame, D.J. Lunt, T. Mauritsen, M.D. Palmer, M. Watanabe, M. Wild, and H. Zhang, 2021: The Earth’s Energy Budget, Climate Feedbacks, and Climate Sensitivity. In Climate Change 2021: The Physical Science Basis. Contribution of Working Group I to the Sixth Assessment Report of the Intergovernmental Panel on Climate Change [Masson-Delmotte, V., P. Zhai, A. Pirani, S.L. Connors, C. Péan, S. Berger, N. Caud, Y. Chen, L. Goldfarb, M.I. Gomis, M. Huang, K. Leitzell, E. Lonnoy, J.B.R. Matthews, T.K. Maycock, T. Waterfield, O. Yelekçi, R. Yu, and B. Zhou (eds.)]. Cambridge University Press, Cambridge, United Kingdom and New York, NY, USA, pp. 923–1054, doi: 10.1017/9781009157896.009.\n",
    "\n",
    "\n",
    "[[5]](https://doi.org/10.3390/rs11030251)  Schröder, Marc, Maarit Lockhoff, Lei Shi, Thomas August, Ralf Bennartz, Helene Brogniez, Xavier Calbet, Frank Fell, John Forsythe, Antonia Gambacorta, and et al. 2019. \"The GEWEX Water Vapor Assessment: Overview and Introduction to Results and Recommendations\" Remote Sensing 11, no. 3: 251. https://doi.org/10.3390/rs11030251\n",
    "\n"
   ]
  },
  {
   "cell_type": "code",
   "execution_count": null,
   "id": "99fbbdb6-ea10-48bd-97c1-1cfebd881e04",
   "metadata": {
    "tags": [
     "hide-input"
    ]
   },
   "outputs": [],
   "source": []
  }
 ],
 "metadata": {
  "kernelspec": {
   "display_name": "Python 3 (ipykernel)",
   "language": "python",
   "name": "python3"
  },
  "language_info": {
   "codemirror_mode": {
    "name": "ipython",
    "version": 3
   },
   "file_extension": ".py",
   "mimetype": "text/x-python",
   "name": "python",
   "nbconvert_exporter": "python",
   "pygments_lexer": "ipython3",
   "version": "3.11.9"
  }
 },
 "nbformat": 4,
 "nbformat_minor": 5
}
