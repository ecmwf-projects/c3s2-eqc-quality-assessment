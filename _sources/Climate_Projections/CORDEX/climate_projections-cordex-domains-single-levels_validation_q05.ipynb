{
 "cells": [
  {
   "cell_type": "markdown",
   "id": "10c67def",
   "metadata": {
    "tags": []
   },
   "source": [
    "![logo](../../../LogoLine_horizon_C3S.png)"
   ]
  },
  {
   "cell_type": "markdown",
   "id": "0",
   "metadata": {
    "tags": []
   },
   "source": [
    "# CORDEX temperature biases over the Alpine region for the ski and hydrological sectors."
   ]
  },
  {
   "cell_type": "markdown",
   "id": "1",
   "metadata": {
    "tags": []
   },
   "source": [
    "Production date: 31-03-2025\n",
    "\n",
    "Produced by: CMCC foundation - Euro-Mediterranean Center on Climate Change. Daniele Peano, Lorenzo Sangelantoni and Albert Martinez.\n"
   ]
  },
  {
   "cell_type": "markdown",
   "id": "2",
   "metadata": {
    "tags": []
   },
   "source": [
    "## 🌍 Use case: Investigating biases in mountain regions to inform climate services for the ski and hydrological sectors.\n",
    "\n",
    "\n",
    "## ❓ Quality assessment question\n",
    "* **Are atmospheric models too cold in the mountain regions?**\n",
    "\n",
    "Despite mountain areas covering a limited amount of land, they play a paramount role in the world’s water tower by supplying water for both natural and anthropogenic demands (Immerzeel et al., 2020 [[1]](https://doi.org/10.1038/s41586-019-1822-y)). In many mountain regions, various water-related processes (such as the fraction of rain versus snow, snowmelt, and streamflow drought, e.g., Rudisill et al., 2024 [[2]](https://doi.org/10.1175/BAMS-D-23-0082.1)) are linked to temperature conditions, making the mountain areas an indicator of the ongoing climate change.\n",
    "\n",
    "Mountain terrains complicate the proper representation of temperature by models in those areas due to complex topography, slopes, aspect, terrain shadowing, snow-albedo feedbacks, and vegetation variability (*Figure .1*, reproduced from Rudisill et al., 2024 [[2]](https://doi.org/10.1175/BAMS-D-23-0082.1)).\n",
    "\n",
    "Thanks to their higher resolution, Regional Climate Models (RCMs) are expected to represent the dynamical and thermodynamic processes underlying temperature variability over complex orography more accurately than Global Climate Models (GCMs). However, RCMs still present biases over mountain regions. Among these, winter cold biases—especially across peaks and ridges—are especially pronounced (Kotlarski et al., 2014 [[3]](https://doi.org/10.5194/gmd-7-1297-2014), Winter et al., 2017 [[4]](https://doi.org/10.1007/s00382-016-3130-7), Matiu et al., 2019 [[5]](https://doi.org/10.3390/atmos11010046), Vautard et al., 2020 [[6]](https://doi.org/10.1029/2019JD032344), Sy et al., 2024 [[7]](https://doi.org/10.1002/joc.8331)). Warm biases in summer have also been reported mainly in valley areas, but only in studies using convection-permitting RCMs (Rudisill et al., 2024 [[2]](https://doi.org/10.1175/BAMS-D-23-0082.1), Napoli et al., 2023 [[8]](https://doi.org/10.1002/joc.8222), Liu et al., 2017 [[9]](https://doi.org/10.1007/s00382-016-3327-9)); such fine-scale features are not captured by RCMs with coarser resolution. These temperature biases, consequently, impact their ability to properly represent snow-related processes in mountain areas (Matiu et al., 2019 [[5]](https://doi.org/10.3390/atmos11010046)). In fact, biases in temperature and snowpack, have a crucial knock-on effect on surface runoff, undermining the evaluation of the water-supplying capability of mountain ranges in Europe (Immerzeel et al., 2020 [[1]](https://doi.org/10.1038/s41586-019-1822-y)). Those cascading effects are crucial for lowlands water availability (van Tiel et al., 2023 [[10]](https://doi.org/10.1029/2022EF003408)) and inherent economic sectors such as tourism, hydropower, and agriculture (Beniston et al., 2011 [[11]](https://doi.org/10.1016/j.envsci.2010.12.009))."
   ]
  },
  {
   "cell_type": "markdown",
   "id": "3",
   "metadata": {
    "tags": []
   },
   "source": [
    "\n",
    "\n",
    "## 📢 Quality assessment statement\n",
    "\n",
    "```{admonition} These are the key outcomes of this assessment\n",
    ":class: note\n",
    "\n",
    "* State-of-the-art regional climate models exhibit cold biases in the winter season compared to both station/point-based and gridded observations.\n",
    "\n",
    "* EURO-CORDEX RCMs exhibit systematic winter cold biases over the Alpine region at elevations above 1000 m, with even the \"hottest\" models underestimating temperatures in mountain areas.\n",
    "\n",
    "* Winter cold biases introduce additional uncertainties in snow estimates, reducing confidence in the use of RCM temperature projections for applications in the ski industry.\n",
    "\n",
    "* Temperature and mountain snowpack biases affect estimates of water availability, influencing the ability to assess changes in various hydrological and economic sectors, such as tourism, hydropower, and agriculture.\n",
    "\n",
    "* The outcomes of this assessment, focused on the Alpine region, advocate caution when using RCM future temperature projections. A key concern is the potential propagation of present-climate biases into a warmer future climate, representing an aspect (the propagation) still largely unexplored.\n",
    "\n",
    "```"
   ]
  },
  {
   "cell_type": "markdown",
   "id": "4",
   "metadata": {
    "tags": []
   },
   "source": [
    "```{figure} 6360ba57-d679-4630-8214-a5a2ec7098a7.jpg\n",
    "---\n",
    "width: 900px\n",
    "alt: Abstract \n",
    "---\n",
    "Depiction of processes influencing mountain T2m (temperature at 2 metres above ground level). (a) Incident solar radiation at the ground surface depends on terrain aspect and shadowing. Mountain slopes can also reflect SW and emit LW radiation; (b) snow reflects solar radiation, cooling surface temperatures through the snow-albedo feedback; (c) vegetation’s high surface roughness and lower albedos warm surrounding air relative to non-vegetated snow surfaces; (d) moderate synoptic forcing leads to upper-air and boundary layer temperature mixing, with an un-inverted vs elevation profile; (e) katabatic flows develop valley temperature inversions during clear-sky, cloud-free conditions when surface LW cooling is strong. Image reproduced from Figure 1 in Rudisill et al. (2024) [[2]](https://doi.org/10.1175/BAMS-D-23-0082.1), © American Meteorological Society. Used with permission. \n",
    "\n",
    "```"
   ]
  },
  {
   "cell_type": "markdown",
   "id": "5",
   "metadata": {
    "tags": []
   },
   "source": [
    "## 📋 Methodology\n",
    "\n",
    "A review of the relevant scientific literature documenting state-of-the-art RCMs cold biases over mountainous regions, with a focus on the Alpine region, is conducted. Methods and key findings from a series of studies on this topic are presented and discussed.\n",
    "\n",
    "The analysis and results follow the next outline:\n",
    "\n",
    "\n",
    "**[](climate_projections-cordex-domains-single-levels_validation_q05:climate_projections-cordex-domains-single-levels_validation_q05:section-1)**\n",
    "\n",
    "**[](climate_projections-cordex-domains-single-levels_validation_q05:climate_projections-cordex-domains-single-levels_validation_q05:section-2)**\n",
    "\n",
    "**[](climate_projections-cordex-domains-single-levels_validation_q05:climate_projections-cordex-domains-single-levels_validation_q05:section-3)**"
   ]
  },
  {
   "cell_type": "markdown",
   "id": "6",
   "metadata": {
    "tags": []
   },
   "source": [
    "## 📈 Analysis and results"
   ]
  },
  {
   "cell_type": "markdown",
   "id": "7",
   "metadata": {
    "tags": []
   },
   "source": [
    "(climate_projections-cordex-domains-single-levels_validation_q05:climate_projections-cordex-domains-single-levels_validation_q05:section-1)=\n",
    "### 1.  Main methods within the literature "
   ]
  },
  {
   "cell_type": "markdown",
   "id": "8",
   "metadata": {
    "tags": []
   },
   "source": [
    "The modelled temperatures are typically evaluated against gridded meteorological observations, reanalysis datasets, or point-based observations (i.e. data from individual weather stations). Usually, the assessments focus on the daily average, minimum (occurring at night), and maximum (occurring during the day) values (e.g., Rudisill et al., 2024 [[2]](https://doi.org/10.1175/BAMS-D-23-0082.1)).\n",
    "\n",
    "Vautard et al. (2021) [[6]](https://doi.org/10.1029/2019JD032344) use the E-OBS17 0.22° dataset (Haylock et al., 2008 [[12]](https://doi.org/10.1029/2008JD010201)) as reference to conduct a comprehensive evaluation of a set of 55 EURO-CORDEX regional climate models. The E-OBS datasets are interpolated onto a common 0.11° resolution grid using a bilinear interpolation to perform their evaluation. Matiu et al. (2019) [[5]](https://doi.org/10.3390/atmos11010046) use a similar approach to evaluate temperature biases in EURO-CORDEX models, based on the E-OBSv20 dataset (Cornes et al., 2018 [[11]](https://doi.org/10.1029/2017JD028200)). Differently from Vautard et al. (2021) [[6]](https://doi.org/10.1029/2019JD032344), their study also focuses on snow biases over the European Alps, linking them to orography, temperature, and precipitation mismatches. The analysis combines gridded observations with station data from the province of Bolzano, Germany, and Switzerland (*Figure .2*), which are also used to validate temperature estimates.\n",
    "\n",
    "Matiu et al. (2024) [[14]](https://doi.org/10.1007/s00382-024-07376-y) analysed EURO-CORDEX temperature and precipitation data for the Alpine region (*Figure .3*) across different elevations, comparing them with gridded observations from E-OBS and the Alpine Precipitation Grid Dataset (APGD; Isotta et al., 2014 [[15]](https://doi.org/10.1002/joc.3794)). They also conducted an observational intercomparison using MESAN (Landelius et al., 2016 [[16]](https://doi.org/10.1002/qj.2813)), WFDEI (Weedon et al., 2014 [[17]](https://doi.org/10.1002/2014WR015638)), and high-resolution national datasets."
   ]
  },
  {
   "cell_type": "markdown",
   "id": "9",
   "metadata": {
    "tags": []
   },
   "source": [
    "```{figure} add9873d-30b4-46ad-a83c-ba72f293890f.png\n",
    "---\n",
    "width: 900px\n",
    "alt: figure 2\n",
    "---\n",
    "Map of European Alps. Terrain map with boundaries of the Alpine Convention (Alpconv), marking the core Alpine region. Points indicate the station locations separated by their characteristic and application based on analysis performed in Matiu et al. (2019) (+: show stations used for evaluating reanalysis-driven RCMs, x: show stations used for evaluating GCM-driven RCMs; stars (+ and x overlaid): show stations used for evaluating both). (Map tiles by Stamen Design, under CC BY 3.0. Data by Open Street Map, under ODbL). Image reproduced from Figure 1 in Matiu et al. (2019) [[5]](https://doi.org/10.3390/atmos11010046), under [CC BY 4.0](https://creativecommons.org/licenses/by/4.0/). \n",
    "\n",
    "\n",
    "```"
   ]
  },
  {
   "cell_type": "markdown",
   "id": "10",
   "metadata": {
    "tags": []
   },
   "source": [
    "```{figure} 209c2943-7ef2-4da6-8246-c8473fd6239c.png\n",
    "---\n",
    "width: 900px\n",
    "alt: figure 3\n",
    "---\n",
    "Elevation map of the study area. The source is the European Digital Elevation Model (EU-DEM), version 1.1, which has been aggregated to 1 km. The black rectangle is the area for which the regional climate model data was cropped. Image reproduced from *Figure 1* in Matiu et al. (2024) [[14]](https://doi.org/10.1007/s00382-024-07376-y), under [CC BY 4.0](https://creativecommons.org/licenses/by/4.0/).\n",
    "\n",
    "```"
   ]
  },
  {
   "cell_type": "markdown",
   "id": "11",
   "metadata": {
    "tags": []
   },
   "source": [
    "(climate_projections-cordex-domains-single-levels_validation_q05:climate_projections-cordex-domains-single-levels_validation_q05:section-2)=\n",
    "### 2. RCMs temperature biases over Alps"
   ]
  },
  {
   "cell_type": "markdown",
   "id": "12",
   "metadata": {
    "tags": []
   },
   "source": [
    "Vautard et al. (2021) [[6]](https://doi.org/10.1029/2019JD032344) assessed the performance of 55 combinations of Regional Climate Models (RCMs) driven by Global Climate Models (GCMs), representing the full CORDEX ensemble available for the European domain as of 2019, which, to our knowledge, remains unchanged. *Figure .4* (adapted from Vautard et al., 2021 [[6]](https://doi.org/10.1029/2019JD032344)) presents the distribution of mean temperature biases for the winter and summer seasons. Specifically, it shows the median, 5th, and 95th percentiles of the mean temperature bias distribution derived from the 55 RCM simulations for each season. Unlike the summer season, during winter, even the 95th percentile of the mean temperature bias among the 55 RCM simulations shows cold biases over high mountain regions, such as Scandinavia and the Alps. This indicates that even the warmest models within the Euro-CORDEX ensemble still exhibit negative biases in mountain regions. Similar biases were also identified by other studies. For example, Kotlarski et al. (2014) [[3]](https://doi.org/10.5194/gmd-7-1297-2014) evaluated EURO-CORDEX regional climate models driven by ERA-Interim over the Alps for the period 1989–2008, identifying similar biases. Blázquez et al. (2023) [[18]](https://doi.org/10.1007/s00382-023-06727-5) analysed temperature and precipitation biases in CORDEX RCM simulations over the Andes, while Sy et al. (2024) [[7]](https://doi.org/10.1002/joc.8331) assessed NA-CORDEX models, reanalysis products, and observational datasets against the U.S. Climate Reference Network in North America. These studies all report cold biases over mountainous regions, emphasizing common RCMs’ issues in representing temperature in complex orography regions."
   ]
  },
  {
   "cell_type": "markdown",
   "id": "13",
   "metadata": {
    "tags": []
   },
   "source": [
    "```{figure} 238d2b8d-0ca9-4d2b-b9a4-8e0277793201.png\n",
    "---\n",
    "width: 900px\n",
    "alt: figure 4\n",
    "---\n",
    "Distribution of temperature biases (°C) for the winter season (top row) and the summer season (bottom row). Top row, left: median of the mean temperature bias among the 55 RCM simulations, middle: 5th percentile of the RCM temperature bias distribution, and right: 95th percentile of the RCM temperature bias distribution; bottom row: same as top row but for the summer season. Image adapted from *Figure 1* in Vautard et al. (2021) [[6]](https://doi.org/10.1029/2019JD032344), under [CC BY 4.0](https://creativecommons.org/licenses/by/4.0/).\n",
    "```"
   ]
  },
  {
   "cell_type": "markdown",
   "id": "14",
   "metadata": {
    "tags": []
   },
   "source": [
    "Various potential sources have been suggested to explain the large cold temperature biases across major mountain regions. Rudisill et al. (2024) [[2]](https://doi.org/10.1175/BAMS-D-23-0082.1) present a comprehensive list of possible mechanisms, including the representation of snow thermodynamics, elevation and orographic discrepancies due to grid spacing, and biases in radiation and wind.\n",
    "\n",
    "Other studies have explored specific factors contributing to these biases. For example, García-Díez et al. (2015) [[19]](https://doi.org/10.1007/s00382-015-2529-x) remark a link between winter cold biases and snow-covered regions, highlighting a poor representation of snow-atmosphere interaction amplified by albedo feedback as a possible driver of the winter cold biases in RCMs. Moreover, the underestimation of cloud cover and consequent changes in incoming radiative fluxes (shortwave and longwave) may also influence temperature biases in Alpine areas (Vionnet et al., 2016 [[20]](https://doi.org/10.1175/JHM-D-15-0241.1)).\n",
    "\n",
    "Relevant studies have further explored elevation-dependent biases in regional climate models across mountain regions. Notably, Matiu et al. (2024) [[14]](https://doi.org/10.1007/s00382-024-07376-y) evaluated data from the EURO-CORDEX ensemble for the Alpine region and the domain specified in *Figure .3*, comparing it with multiple gridded observational datasets, including E-OBS, APGD, and high-resolution national datasets. Their study indicates that biases in seasonal temperature increase with elevation, while also highlighting that observational datasets themselves are not immune to biases, making the choice of dataset for evaluation critical (also see Shrestha et al., 2023 [[21]](https://doi.org/10.3390/cli11070154)). *Figure .5c* (reproduced from  Matiu et al., 2024 [[14]](https://doi.org/10.1007/s00382-024-07376-y)) presents the differences in temperature indices between EURO-CORDEX GCM-RCM combinations and E-OBS for various elevations, comparing summer and winter, with values based on the 1971–2000 period. The cold bias became more pronounced with lower temperatures, particularly in winter and with increasing elevation. Smaller biases were observed below 1000 m, while above this threshold and during winter, all considered RCMs exhibited a strong cold bias. This denotes mountain peaks and ridges as the areas characterised by the most substantial cold biases, as highlighted by Rudisill et al. (2024) [[2]](https://doi.org/10.1175/BAMS-D-23-0082.1). \n"
   ]
  },
  {
   "cell_type": "markdown",
   "id": "15",
   "metadata": {
    "tags": []
   },
   "source": [
    "```{figure} f1bf2739-4225-4015-bace-595255b2ae1a.png\n",
    "---\n",
    "width: 900px\n",
    "alt: figure 5\n",
    "---\n",
    "(a) Precipitation indices in APGD and GCM-RCMs. (b) Differences between each GCM-RCM and APGD. (c) Differences in temperature indices between each GCM-RCM combination and E-OBS. Each line is one model combination. Values refer to the 1971–2000 climatology. Image reproduced from *Figure 5* in Matiu et al. (2024) [[14]](https://doi.org/10.1007/s00382-024-07376-y), under [CC BY 4.0](https://creativecommons.org/licenses/by/4.0/).\n",
    "\n",
    "```"
   ]
  },
  {
   "cell_type": "markdown",
   "id": "16",
   "metadata": {
    "tags": []
   },
   "source": [
    "Even though local-scale forcing misrepresentation plays a paramount role in driving the above-mentioned cold biases, large-scale-forcing-related biases can also exacerbate or mitigate temperature biases in mountainous areas (e.g., Lhotka et al., 2018 [[22]](https://doi.org/10.1007/s00704-016-2031-3) and Maraun et al., 2021 [[23]](https://doi.org/10.1029/2020JD032824)), especially during the winter season. In RCMs, these biases may stem from inherited large-scale misrepresentations introduced by the driving global climate model, or from processes internal to the RCM formulation. Importantly, the presence of such biases does not imply that RCM data offer no added value over GCM outputs. On the contrary, RCMs — particularly in regions with complex orography — can provide more realistic representations of local climate processes, and their added value should not be overlooked, even when biases persist. An example of this can be found in Bilbao-Barrenetxea et al., 2024 [[24]](https://doi.org/10.1007/s00382-024-07318-8), which assessed the added value of using EURO-CORDEX over the complex orography of the Pyrenees compared to GCMs.\n",
    "\n",
    "In recent years, several promising high-resolution modelling initiatives (including both regional and global climate models) are paving the path toward a better understanding and eventual reduction of this long-standing biases in climate models (Demory et al., 2020 [[25]](https://doi.org/10.5194/gmd-13-5485-2020), Moreno-Chamarro et al., 2022 [[26]](https://doi.org/10.5194/gmd-15-269-2022), Roberts et al., 2025 [[27]](https://doi.org/10.5194/gmd-18-1307-2025), Sangelantoni et al., 2024 [[28]](https://doi.org/10.1007/s00382-023-06769-9), Sangelantoni et al., 2025 [[29]](https://doi.org/10.1029/2024GL111147) and Soares et al., 2022 [[30]](https://doi.org/10.1007/s00382-022-06593-7)).\n"
   ]
  },
  {
   "cell_type": "markdown",
   "id": "17",
   "metadata": {
    "tags": []
   },
   "source": [
    "(climate_projections-cordex-domains-single-levels_validation_q05:climate_projections-cordex-domains-single-levels_validation_q05:section-3)=\n",
    "### 3. Implications for the users"
   ]
  },
  {
   "cell_type": "markdown",
   "id": "18",
   "metadata": {
    "tags": []
   },
   "source": [
    "The state-of-the-art regional climate models represent the principal tool to be implemented in estimating past, present, and future conditions of mountain areas, such as the Alps.\n",
    "\n",
    "Based on the results of this assessment, users need to be cautious when using the temperature projections provided by these tools. Notably, cold biases over the Alps are systematic only in winter across all EURO-CORDEX models above 1000 m, with the magnitude of the bias increasing with elevation. Contrary to what might be expected, these winter biases in mountainous regions cannot be solely attributed to altitude underestimation by models (which would typically lead to warmer biases). Instead, as discussed throughout this notebook, these cold biases arise from complex interactions within the models’ numerical schemes, particularly in the treatment of snow and ice processes, which result in the underestimation of surface temperatures.\n",
    "\n",
    "Bias-adjustment techniques can partially relieve the assessed cold temperature biases. In particular, it can reduce the present-day discrepancies between modelled and observed temperature fields (Matiu et al., 2024 [[14]](https://doi.org/10.1007/s00382-024-07376-y), *Figure .6b*). However, bias-adjustment methods do not guarantee that the adjusted projected results will better match future reality, since the bias may not be stationary in a changing climate (e.g., Schmith et al., 2021 [[31]](https://doi.org/10.5194/hess-25-273-2021)). Special consideration should also be given to the representation of physical relationships among variables subjected to bias adjustment (Gennaretti et al., 2015 [[32]](https://doi.org/10.1002/2015JD023890)), as well as to unphysical artefacts such as the damping or amplification of original simulation trends, particularly in regions with complex orography (Sangelantoni et al., 2019 [[33]](https://doi.org/10.1007/s00704-018-2406-8)). Furthermore, different bias-adjustment methods do not always improve downstream products, as no single technique works reliably across all locations, variables, and applications.\n",
    "\n",
    "The assessed temperature and mountain snowpack biases influence the current regional climate models' ability to quantify water availability in mountain areas and, consequently, the capability to estimate changes in resources for local and downstream hydrology and economic sectors, such as tourism, hydropower, and agriculture."
   ]
  },
  {
   "cell_type": "markdown",
   "id": "19",
   "metadata": {
    "tags": []
   },
   "source": [
    "```{figure} 013623ec-4a51-4ab5-bf67-483d3b6e405a.png\n",
    "---\n",
    "width: 900px\n",
    "alt: figure 6\n",
    "---\n",
    "Impact of different bias adjustment methods on (a) precipitation indices and (b) temperature indices over 1971–2000. Each line is a GCM-RCM combination. Grey dashed lines are raw (uncorrected) models, while solid colored lines are bias-adjusted using different methods (see legend). Image reproduced from *Figure 8* in Matiu et al. (2024) [[14]](https://doi.org/10.1007/s00382-024-07376-y), under [CC BY 4.0](https://creativecommons.org/licenses/by/4.0/). \n",
    "\n",
    "```"
   ]
  },
  {
   "cell_type": "markdown",
   "id": "20",
   "metadata": {
    "tags": []
   },
   "source": [
    "## ℹ️ If you want to know more\n",
    "\n",
    "### Key resources\n",
    "\n",
    "Some key resources and further reading were linked throughout this assessment.\n",
    "\n",
    "* Regional climate models - CORDEX: https://cds.climate.copernicus.eu/datasets/projections-cordex-domains-single-levels?tab=overview\n",
    "\n",
    "* Gridded observation dataset for Europe, E-OBS:\n",
    "https://cds.climate.copernicus.eu/datasets/insitu-gridded-observations-europe?tab=overview\n",
    "\n",
    "* High-resolution global climate models:\n",
    "https://highresmip.org/\n",
    "\n",
    "* Mountain tourism meteorological and snow indicators for Europe from 1950 to 2100 derived from reanalysis and climate projections: https://cds.climate.copernicus.eu/datasets/sis-tourism-snow-indicators?tab=overview \n",
    "\n",
    "\n",
    "Special mention to:\n",
    "* [C3S EQC custom functions](https://github.com/bopen/c3s-eqc-automatic-quality-control/tree/main/c3s_eqc_automatic_quality_control), `c3s_eqc_automatic_quality_control`,  prepared by [B-Open](https://www.bopen.eu/)\n",
    "  \n",
    "### References\n",
    "\n",
    "[[1]](https://doi.org/10.1038/s41586-019-1822-y) Immerzeel, W.W., Lutz, A.F., Andrade, M. et al., 2020. Importance and vulnerability of the world’s water towers. Nature 577, 364–369. https://doi.org/10.1038/s41586-019-1822-y\n",
    "\n",
    "[[2]](https://doi.org/10.1175/BAMS-D-23-0082.1) Rudisill, W., Rhoades, A., Xu, Z., and Feldman, D. R.,2024. Are Atmospheric Models Too Cold in the Mountains? The State of Science and Insights from the SAIL Field Campaign. Bull. Amer. Meteor. Soc., 105, E1237–E1264, https://doi.org/10.1175/BAMS-D-23-0082.1\n",
    "\n",
    "[[3]](https://doi.org/10.5194/gmd-7-1297-2014) Kotlarski, S., Keuler, K., Christensen, O. B., Colette, A., Déqué, M., Gobiet, A., Goergen, K., Jacob, D., Lüthi, D., van Meijgaard, E., Nikulin, G., Schär, C., Teichmann, C., Vautard, R., Warrach-Sagi, K., and Wulfmeyer, V., 2014. Regional climate modeling on European scales: a joint standard evaluation of the EURO-CORDEX RCM ensemble, Geosci. Model Dev., 7, 1297–1333, https://doi.org/10.5194/gmd-7-1297-2014\n",
    "\n",
    "[[4]](https://doi.org/10.1007/s00382-016-3130-7) Winter, K.J.P.M., Kotlarski, S., Scherrer, S.C. et al., 2017. The Alpine snow-albedo feedback in regional climate models. Clim Dyn 48, 1109–1124. https://doi.org/10.1007/s00382-016-3130-7\n",
    "\n",
    "[[5]](https://doi.org/10.3390/atmos11010046) Matiu, M., Petitta, M., Notarnicola, C., and Zebisch, M., 2019. Evaluating Snow in EURO-CORDEX Regional Climate Models with Observations for the European Alps: Biases and Their Relationship to Orography, Temperature, and Precipitation Mismatches. Atmosphere, 11(1), 46. https://doi.org/10.3390/atmos11010046\n",
    "\n",
    "[[6]](https://doi.org/10.1029/2019JD032344) Vautard, R., Kadygrov, N., Iles, C., Boberg, F., Buonomo, E., Bülow, K., et al., 2021. Evaluation of the large EURO-CORDEX regional climate model ensemble. Journal of Geophysical Research: Atmospheres, 126, e2019JD032344. https://doi.org/10.1029/2019JD032344\n",
    "\n",
    "[[7]](https://doi.org/10.1002/joc.8331) Sy, S., Madonna, F., Serva, F., Diallo, I., and Quesada, B., 2024. Assessment of NA-CORDEX regional climate models, reanalysis and in situ gridded-observational data sets against the U.S. Climate Reference Network. International Journal of Climatology, 44(1), 305–327. https://doi.org/10.1002/joc.8331\n",
    "\n",
    "[[8]](https://doi.org/10.1002/joc.8222) Napoli, A., Parodi, A., von Hardenberg, J., and Pasquero, C. ,2023. Altitudinal dependence of projected changes in occurrence of extreme events in the Great Alpine Region. International Journal of Climatology, 43(12), 5813–5829. https://doi.org/10.1002/joc.8222\n",
    "\n",
    "[[9]](https://doi.org/10.1007/s00382-016-3327-9) Liu, C., Ikeda, K., Rasmussen, R. et al., 2017. Continental-scale convection-permitting modeling of the current and future climate of North America. Clim Dyn 49, 71–95. https://doi.org/10.1007/s00382-016-3327-9\n",
    "\n",
    "[[10]](https://doi.org/10.1029/2022EF003408) van Tiel, M., Weiler, M., Freudiger, D., Moretti, G., Kohn, I., Gerlinger, K., and Stahl, K., 2023. Melting alpine water towers aggravate downstream low flows: A stress-test storyline approach. Earth's Future, 11, e2022EF003408.  https://doi.org/10.1029/2022EF003408\n",
    "\n",
    "[[11]](https://doi.org/10.1016/j.envsci.2010.12.009) Beniston, M., Stoffel, M., and Hill, M., 2011. Impacts of climatic change on water and natural hazards in the Alps: Can current water governance cope with future challenges? Examples from the European “ACQWA” project, Environ. Sci. Policy, 14, 734–743. https://doi.org/10.1016/j.envsci.2010.12.009\n",
    "\n",
    "[[12]](https://doi.org/10.1029/2008JD010201) Haylock, M. R., Hofstra, N., Tank, A. M. G., Klok, E. J., Jones, P. D., and New, M., 2008. A European daily high‐resolution gridded data set of surface temperature and precipitation for 1950–2006. Journal of Geophysical Research, 113, D20119. https://doi.org/10.1029/2008JD010201\n",
    "\n",
    "[[13]](https://doi.org/10.1029/2017JD028200) Cornes, R. C., van der Schrier, G., van den Besselaar, E. J. M., and Jones, P. D., 2018. An ensemble version of the E-OBS temperature and precipitation data sets. Journal of Geophysical Research: Atmospheres, 123, 9391–9409. https://doi.org/10.1029/2017JD028200\n",
    "\n",
    "[[14]](https://doi.org/10.1007/s00382-024-07376-y) Matiu, M., Napoli, A., Kotlarski, S. et al., 2024. Elevation-dependent biases of raw and bias-adjusted EURO-CORDEX regional climate models in the European Alps. Clim Dyn 62, 9013–9030. https://doi.org/10.1007/s00382-024-07376-y\n",
    "\n",
    "[[15]](https://doi.org/10.1002/joc.3794) Isotta, F.A., Frei, C., Weilguni, V., Tadic Melita, P., Lassegues, P., Rudolf, B., Pavan, V., Cacciamani, C., Antolini, G., Ratto, S.M., Munari, M., Micheletti, S., Bonati, V., Lussana, C., Ronchi, C., Panettieri, E., Marigo, G., Vertacnik, G.. 2014. The climate of daily precipitation in the Alps: development and analysis of a high-resolution grid dataset from pan-Alpine rain-gauge data, International Journal of Climatology, 34, 1657-1675,  https://doi.org/10.1002/joc.3794\n",
    "\n",
    "[[16]](https://doi.org/10.1002/qj.2813) Landelius, T., Dahlgren, P., Gollvik, S. et al., 2016. A high-resolution regional reanalysis for Europe. Part 2: 2D analysis of surface temperature, precipitation and wind. Q J R Meteorol Soc 142(698):2132–2142. https://doi.org/10.1002/qj.2813\n",
    "\n",
    "[[17]](https://doi.org/10.1002/2014WR015638) Weedon, G.P., Balsamo, G., Bellouin, N. et al., 2014. The WFDEI meteorological forcing data set: WATCH forcing data methodology applied to ERA-Interim reanalysis data. Water Resour Res 50(9):7505–7514. https://doi.org/10.1002/2014WR015638\n",
    "\n",
    "[[18]](https://doi.org/10.1007/s00382-023-06727-5) Blázquez, J., and Solman, S. A., 2023. Temperature and precipitation biases in CORDEX RCM simulations over South America: Possible origin and impacts on the regional climate change signal. Climate Dyn., 61, 2907–2920, https://doi.org/10.1007/s00382-023-06727-5\n",
    "\n",
    "[[19]](https://doi.org/10.1007/s00382-015-2529-x) García-Díez, M., Fernández, J., and Vautard, R., 2015. An RCM multi-physics ensemble over Europe: multi-variable evaluation to avoid error compensation. Clim Dyn 45, 3141–3156. https://doi.org/10.1007/s00382-015-2529-x\n",
    "\n",
    "[[20]](https://doi.org/10.1175/JHM-D-15-0241.1) Vionnet, V., Dombrowski-Etchevers, I., Lafaysse, M., Quéno, L., Seity, Y., and Bazile, E., 2016. Numerical weather forecasts at kilometer scale in the French Alps: evaluation and application for snowpack modeling, J. Hydrometeorol., 17, 2591–2614, https://doi.org/10.1175/JHM-D-15-0241.1\n",
    "\n",
    "[[21]](https://doi.org/10.3390/cli11070154) Shrestha, S., Zaramella, M., Callegari, M., Greifeneder, F., Borga, M., 2023. Scale Dependence of Errors in Snow Water Equivalent Simulations Using ERA5 Reanalysis over Alpine Basins. Climate, 11, 154. https://doi.org/10.3390/cli11070154\n",
    "\n",
    "[[22]](https://doi.org/10.1007/s00704-016-2031-3) Lhotka, O., Kyselý, J. and Farda, A., 2018. Climate change scenarios of heat waves in Central Europe and their uncertainties. Theor Appl Climatol 131, 1043–1054. https://doi.org/10.1007/s00704-016-2031-3\n",
    "\n",
    "[[23]](https://doi.org/10.1029/2020JD032824) Maraun, D., Truhetz, H., and Schaffer, A., 2021. Regional climate modelbiases, their dependence on synopticcirculation biases and the potentialfor bias adjustment: A process-oriented evaluation of the Austrianregional climate projections. Journalof Geophysical Research: Atmospheres,126, e2020JD032824. https://doi.org/10.1029/2020JD032824\n",
    "\n",
    "[[24]](https://doi.org/10.1007/s00382-024-07318-8) Bilbao-Barrenetxea, N., Santolaria-Otín, M., Teichmann, C. et al., 2024. Added value of EURO-CORDEX downscaling over the complex orography region of the Pyrenees. Clim Dyn 62, 7981–7996. https://doi.org/10.1007/s00382-024-07318-8\n",
    "\n",
    "[[25]](https://doi.org/10.5194/gmd-13-5485-2020) Demory, M.-E., Berthou, S., Fernández, J., Sørland, S. L., Brogli, R., Roberts, M. J., Beyerle, U., Seddon, J., Haarsma, R., Schär, C., Buonomo, E., Christensen, O. B., Ciarlo, J. M., Fealy, R., Nikulin, G., Peano, D., Putrasahan, D., Roberts, C. D., Senan, R., Steger, C., Teichmann, C., and Vautard, R., 2020. European daily precipitation according to EURO-CORDEX regional climate models (RCMs) and high-resolution global climate models (GCMs) from the High-Resolution Model Intercomparison Project (HighResMIP), Geosci. Model Dev., 13, 5485–5506, https://doi.org/10.5194/gmd-13-5485-2020\n",
    "\n",
    "[[26]](https://doi.org/10.5194/gmd-15-269-2022) Moreno-Chamarro, E., Caron, L. P., Loosveldt Tomas, S., Vegas-Regidor, J., Gutjahr, O., Moine, M. P., et al., 2022. Impact of increased resolution on long-standing biases in HighResMIP-PRIMAVERA climate models. Geoscientific Model Development, 15(1), 269–289. https://doi.org/10.5194/gmd-15-269-2022\n",
    "\n",
    "[[27]](https://doi.org/10.5194/gmd-18-1307-2025) Roberts, M. J., Reed, K. A., Bao, Q., Barsugli, J. J., Camargo, S. J., Caron, L. P., et al., 2025. High-Resolution Model Intercomparison Project phase 2 (HighResMIP2) towards CMIP7. Geoscientific Model Development, 18(4), 1307–1332. https://doi.org/10.5194/gmd-18-1307-2025\n",
    "\n",
    "[[28]](https://doi.org/10.1007/s00382-023-06769-9) Sangelantoni, L., Sobolowski, S., Lorenz, T., Hodnebrog, Cardoso, R. M., Soares, P. M. M., et al., 2024. Investigating the representation of heatwaves from an ensemble of km-scale regional climate simulations within CORDEX-FPS convection. Climate Dynamics. https://doi.org/10.1007/s00382-023-06769-9\n",
    "\n",
    "[[29]](https://doi.org/10.1029/2024GL111147) Sangelantoni, L., Sobolowski, S. P., Soares, P. M. M., Goergen, K., Cardoso, R. M., Adinolfi, M., et al., 2025. Heatwave future changes from an ensemble of km‐scale regional climate simulations within CORDEX‐FPS convection. Geophysical Research Letters, 52, e2024GL111147. https://doi.org/10.1029/2024GL111147\n",
    "  \n",
    "[[30]](https://doi.org/10.1007/s00382-022-06593-7) Soares, P. M. M., Careto, J. A. M., Cardoso, R. M., Goergen, K., Katragkou, E., Sobolowski, S., et al., 2022. The added value of km-scale simulations to describe temperature over complex orography: the CORDEX FPS-Convection multi-model ensemble runs over the Alps. Climate Dynamics, (0123456789). https://doi.org/10.1007/s00382-022-06593-7\n",
    "\n",
    "[[31]](https://doi.org/10.5194/hess-25-273-2021) Schmith, T., Thejll, P., Berg, P., Boberg, F., Christensen, O. B., Christiansen, B., Christensen, J. H., Madsen, M. S., and Steger, C., 2021. Identifying robust bias adjustment methods for European extreme precipitation in a multi-model pseudo-reality setting, Hydrol. Earth Syst. Sci., 25, 273–290, https://doi.org/10.5194/hess-25-273-2021\n",
    "\n",
    "[[32]](https://doi.org/10.1002/2015JD023890) Gennaretti, F., L. Sangelantoni, and P. Grenier, 2015. Toward daily climate scenarios for Canadian Arctic coastal zones with more realistic temperature-precipitation interdependence, J. Geophys. Res. Atmos., 120, 11,862–11,877, https://doi.org/10.1002/2015JD023890\n",
    "\n",
    "[[33]](https://doi.org/10.1007/s00704-018-2406-8) Sangelantoni, L., Russo, A. and Gennaretti, F., 2019. Impact of bias correction and downscaling through quantile mapping on simulated climate change signal: a case study over Central Italy. Theor Appl Climatol 135, 725–740. https://doi.org/10.1007/s00704-018-2406-8"
   ]
  }
 ],
 "metadata": {
  "language_info": {
   "codemirror_mode": {
    "name": "ipython",
    "version": 3
   },
   "file_extension": ".py",
   "mimetype": "text/x-python",
   "name": "python",
   "nbconvert_exporter": "python",
   "pygments_lexer": "ipython3",
   "version": "3.12.9"
  }
 },
 "nbformat": 4,
 "nbformat_minor": 5
}
