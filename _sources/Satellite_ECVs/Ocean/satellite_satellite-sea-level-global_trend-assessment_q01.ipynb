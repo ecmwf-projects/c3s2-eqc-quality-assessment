{
 "cells": [
  {
   "cell_type": "markdown",
   "id": "e0e723c4",
   "metadata": {
    "tags": []
   },
   "source": [
    "![logo](../../../LogoLine_horizon_C3S.png)"
   ]
  },
  {
   "cell_type": "markdown",
   "id": "0",
   "metadata": {
    "tags": []
   },
   "source": [
    "# Regional sea level trend assessment in the Mediterranean Sea from Satellite (observations) at basin and sub-basin scale"
   ]
  },
  {
   "cell_type": "markdown",
   "id": "1",
   "metadata": {
    "tags": []
   },
   "source": [
    "Production date: 27-08-2024\n",
    "\n",
    "Produced by: IMEDEA (CSIC-UIB) [[webpage]](https://imedea.uib-csic.es/)"
   ]
  },
  {
   "cell_type": "markdown",
   "id": "2",
   "metadata": {
    "tags": []
   },
   "source": [
    "## 🌍 Use case: Studying sea level change in the Mediterranean Sea"
   ]
  },
  {
   "cell_type": "markdown",
   "id": "3",
   "metadata": {
    "tags": []
   },
   "source": [
    "## ❓ Quality assessment question\n",
    "* **Can we use satellite-derived sea level anomalies to detect sea level trend and its spatial variability over the Mediterranean Sea?**"
   ]
  },
  {
   "cell_type": "markdown",
   "id": "4",
   "metadata": {
    "tags": []
   },
   "source": [
    "Sea level variation is an important indicator of climate change, as it integrates changes of almost all the components in the climate system [[1]](https://doi.org/10.5194/essd-10-281-2018). It specially impacts coastal societies and environments [[2]](https://doi.org/10.3389/fmars.2023.1150488). However, sea level change at the global scale is not uniform varying on a regional to local scale from global mean rates (e.g.,[[3]](https://doi.org/10.1016/j.gloplacha.2013.12.004), [[4]](https://doi.org/10.5194/esd-5-243-2014)). For instance, sea level trends in the Mediterranean differ from global mean sea level trends, mainly because of its semi-enclosed conditions [[5]](https://doi.org/10.1175/JCLI-D-13-00139.1). In addition,  within the Mediterranean, sea level trends can differ from the basin mean [[6]](https://doi.org/10.1007/s00382-016-3001-2) due to non-linear local oceanographic processes [[7]](https://doi.org/10.1016/j.gloplacha.2009.04.002). The Mediterranean Sea has been classified as one of the most susceptible climate change zones worldwide [[8]](https://doi.org/10.1029/2006GL025734). Thus, sea level rise  may significantly impact coastal populations and activities due, among others, to the local vertical land motion processes in the basin that can cause land subsidence amplifying the effects of rising sea levels in the region [[9]](https://doi.org/10.1029/2011JC007469), [[10]](https://doi.org/10.1016/j.jog.2019.05.007). This makes necessary the understanding of sea level change at the scale of the Mediterranean Sea [[2]](https://doi.org/10.3389/fmars.2023.1150488). In this context,  this notebook aims to evaluate the long-term sea level variability in the Mediterranean at both regional and sub-basin scales over the period 1993-2023. This assessment is based on the analysis conducted in [[2]](https://doi.org/10.3389/fmars.2023.1150488) from satellite sea level data."
   ]
  },
  {
   "cell_type": "markdown",
   "id": "5",
   "metadata": {
    "tags": []
   },
   "source": [
    "## 📢 Quality assessment statement"
   ]
  },
  {
   "cell_type": "markdown",
   "id": "6",
   "metadata": {
    "tags": []
   },
   "source": [
    "```{admonition} These are the key outcomes of this assessment\n",
    ":class: note\n",
    "* This dataset provides statistically significant long-term sea level trends at regional scale in the Mediterranean Sea. The average sea level trend in the basin is 2.1 ± 0.5 mm/yr (95% conﬁdence interval) and presents a large spatial variability since 1993\n",
    "* At sub-basin scale, the highest positive rates are observed over the Aegean Sea (3.1 ± 1.0 mm/yr) and Levantine Basin (2.6 ± 0.9 mm/yr), especially in regions where recurring gyres and eddies in the ocean circulation are present\n",
    "* The sea level trends obtained and their variability at regional and sub-basin scales are consistent with previous studies based on both altimetry and in situ measurements [[6]](https://doi.org/10.1007/s00382-016-3001-2), [[11]](https://doi.org/10.1007/s00024-019-02156-w). Thus, this dataset can be used to estimate long-term sea level trends in the Mediterranean Sea\n",
    "* However, there are regions where the signiﬁcance of the rate obtained from the trend analysis cannot be statistically conﬁrmed due to local dynamics, such as the inﬂuence of gyres/eddies and/or currents. These zones are: the Balearic Islands area in the Western Mediterranean, in a very large portion of the Ionian Peninsula, and also over Southern Crete.\n",
    "```"
   ]
  },
  {
   "cell_type": "markdown",
   "id": "7",
   "metadata": {
    "tags": []
   },
   "source": [
    "![MedSea_currents](https://www.frontiersin.org/files/Articles/1150488/fmars-10-1150488-HTML/image_m/fmars-10-1150488-g001.jpg)"
   ]
  },
  {
   "cell_type": "markdown",
   "id": "8",
   "metadata": {
    "tags": []
   },
   "source": [
    "\n",
    "Figure 1 from [[2]](https://doi.org/10.3389/fmars.2023.1150488). Panel A shows the bathymetry (km) of the Mediterranean Sea with the sub-regions used to compute sea level trends according to [[17]](https://doi.org/10.1007/s00382-012-1369-1) and [[18]](https://doi.org/10.1016/j.gloplacha.2014.10.007). Panel B displays the mean velocity currents (m s⁻¹) in the basin at 15 m depth together with a schematic representation of the surface (black arrows) and intermediate (red arrows) circulation in the Mediterranean. The labels of currents are in italics white, while gyres are in bold cyan. Acronyms: AIS, Atlantic Ionian Stream; AMC, Asia Minor Current; EAG, Eastern Alboran Gyre; EIC, Eastern Ionian Current; IG, Ierapetra Gyre; LGG, Gulf of Lion Gyre; LPCC, Liguro-Provencal-Catalan Current; MIJ, Mid-Ionian Jet; MMGS, Mersa Matruh Gyre System; MMJ, Mid-Mediterranean Jet; NIG, Northern Ionian Gyre; PG, Pelops Gyre; RG, Rhodes Gyre; SAG, Southern Adriatic Gyre; SG, Sirte Gyre; SGS; Shikmona Gyre System; SSTC, Sicily Strait Tunisian Current; WAG, Western Alboran Gyre."
   ]
  },
  {
   "cell_type": "markdown",
   "id": "9",
   "metadata": {
    "tags": []
   },
   "source": [
    "## 📋 Methodology"
   ]
  },
  {
   "cell_type": "markdown",
   "id": "10",
   "metadata": {
    "tags": []
   },
   "source": [
    "This notebook provides an assessment of long-term sea level trends in the Mediterranean Sea from satellite-derived sea level observations at both regional and sub-basin scales. The Climate Data Store (CDS) catalogue entry used is the following:\n",
    "\n",
    "* Sea level gridded data from satellite observations for the global ocean from 1993 to present [[CDS entry]](https://doi.org/10.24381/cds.4c328c78)\n",
    " \n",
    "In a first step, these observations are corrected for glacial isostatic adjustment (GIA) using the geoid height estimates (dGeoid) from the ICE-6G_C (VM5a) model [[12]](https://doi.org/10.1002/2014JB011176) as a correction for the local vertical land movements. In a second step, a TOPEX-A instrumental drift correction, derived from altimetry and tide gauge global comparisons, is added to the sea level dataset to account for altimeter instrumental drift that influences the accuracy and uncertainty of the records between 1993-1998 (e.g., [[13]](https://doi.org/10.1038/nclimate2635)). Although this correction is computed for the global mean sea level, it can also be used at regional or local scales as a best available estimate. This is still preferable to not correcting at all, given that the regional variation of the instrumental drift is currently unknown [[2]](https://doi.org/10.3389/fmars.2023.1150488). In addition, the mean seasonal cycle is removed from the time series. Finally, a non-parametric Mann–Kendall test ([[14]](https://doi.org/10.2307/1907187), [[15]](https://psycnet.apa.org/record/1948-15040-000)) modified for auto-correlated data [[16]](https://doi.org/10.1016/S0022-1694%2897%2900125-X) is used to assess statistical significance of the trend at the 95% confidence interval. Sea level trends are computed over the period 1993-2023 at basin scale and for the following sub-regions: Western Mediterranean basin, Adriatic Sea, Aegean Sea, Ionian Sea, Levantine Basin, Southern Central Mediterranean, Southern Crete and Tyrrhenian Sea. They agree with the dynamical regions described in [[17]](https://doi.org/10.1007/s00382-012-1369-1), [[18]](https://doi.org/10.1016/j.gloplacha.2014.10.007)\n",
    "\n",
    "The analysis and results are organised in the following steps, which are detailed in the sections below:\n",
    "\n",
    "**[](satellite_satellite-sea-level-global_trend-assessment_q01:results)**"
   ]
  },
  {
   "cell_type": "markdown",
   "id": "11",
   "metadata": {
    "tags": []
   },
   "source": [
    "## 📈 Analysis and results"
   ]
  },
  {
   "cell_type": "markdown",
   "id": "12",
   "metadata": {
    "tags": []
   },
   "source": [
    "This notebook does not include code. It is a literature review based on the results reported in [[2]](https://doi.org/10.3389/fmars.2023.1150488) "
   ]
  },
  {
   "cell_type": "markdown",
   "id": "13",
   "metadata": {
    "tags": []
   },
   "source": [
    "(satellite_satellite-sea-level-global_trend-assessment_q01:results)=\n",
    "### 1. Results"
   ]
  },
  {
   "cell_type": "markdown",
   "id": "14",
   "metadata": {
    "tags": []
   },
   "source": [
    "The average sea level trend in the basin is 2.1 ± 0.5 mm/yr (95% conﬁdence interval) and presents a large spatial variability since 1993. The sea level trends for the different subregions investigated are the following: Adriatic Sea (2.6 ± 0.8 mm/yr); Aegean Sea (3.1 ± 1.0 mm/yr); Ionian Sea (1.6 ± 1.6 mm/yr); Levantine Basin (2.6 ± 0.9 mm/yr); Southern Central Mediterranean (2.1 ± 0.8 mm/yr); Southern Crete (0.3 ± 1.3 mm/yr); Tyrrhenian Sea (2.5 ± 0.6 mm/yr) and Western Mediterranean (1.8 ± 0.6 mm/yr). The following figure (Figure 5 from [[2]](https://doi.org/10.3389/fmars.2023.1150488)) shows the temporal evolution of the sea level in the Mediterranean Sea at basin and sub-basin scale. The time series of average annual total mean sea level from altimetry for the entire Mediterranean Sea (panel A, solid black line) highlights how the sea level is rising in the basin.\n",
    "\n",
    "![sub-basin trends](https://www.frontiersin.org/files/Articles/1150488/fmars-10-1150488-HTML/image_m/fmars-10-1150488-g005.jpg)\n",
    "\n",
    "Figure 5 from [[2]](https://doi.org/10.3389/fmars.2023.1150488). Annual total sea level time series from altimetry (black solid line) and steric (dashed yellow), thermosteric (dotted red), and halosteric (dash-dotted blue) components over different spatial scales (see also map at the top of figure): Mediterranean Sea (A), Adriatic Sea (B), Aegean Sea (C), Ionian Sea (D), Levantine Basin (E), Southern Central Mediterranean (F), Southern Crete (G), Tyrrhenian Sea (H) and Western Mediterranean Basin (I). Vertical lines denote significant changepoint in the related component (same color and line style) at a specific time. Trends refer to the period 1993–2019. Satellite observations provide total sea level, whereas the steric component of sea level due to the thermosteric and halosteric effects are computed in [[2]](https://doi.org/10.3389/fmars.2023.1150488) using ocean temperature and salinity profiles from a reanalysis product. This notebook focuses on the use of satellite observations to compute trends of total sea level. Thus, the steric component of sea level is not assessed.\n",
    "\n",
    "The sea level trends obtained and their variability at regional and sub-basin scales are consistent with previous studies based on both satellite and in situ measurements ([[6]](https://doi.org/10.1007/s00382-016-3001-2), [[11]](https://doi.org/10.1007/s00024-019-02156-w)). Thus, this dataset can be used to estimate long-term sea level trends in the Mediterranean Sea.\n",
    "The highest positive rates are observed over the Aegean (3.1 ± 1.0 mm/yr) and Levantine (2.6 ± 0.9 mm/yr), especially in regions where recurring gyres and eddies in the circulation are present (see Figure 1 from [[2]](https://doi.org/10.3389/fmars.2023.1150488)). However, there are zones of non-signiﬁcance in the sea level trend that reﬂect areas of critical passages of different water masses with related complex circulation at surface and intermediate depths. It is the case of the Balearic Islands sector in the Southern Central Mediterranean and the Southern Crete region. Also the Ionian Sea lacks a signiﬁcant trend over the whole period considered."
   ]
  },
  {
   "cell_type": "markdown",
   "id": "15",
   "metadata": {
    "tags": []
   },
   "source": [
    "## ℹ️ If you want to know more"
   ]
  },
  {
   "cell_type": "markdown",
   "id": "16",
   "metadata": {
    "tags": []
   },
   "source": [
    "### Key resources"
   ]
  },
  {
   "cell_type": "markdown",
   "id": "17",
   "metadata": {
    "tags": []
   },
   "source": [
    "* CDS entry: [Sea level gridded data from satellite observations for the global ocean from 1993 to present](https://cds.climate.copernicus.eu/datasets/satellite-sea-level-global?tab=overview)\n",
    "* Product User Guide and Specification (PUGS): [vDT2018](https://dast.copernicus-climate.eu/documents/satellite-sea-level/vDT2018/D3.SL.1-v1.2_PUGS_of_v1DT2018_SeaLevel_products_v2.4.pdf) and [vDT2021](https://confluence.ecmwf.int/pages/viewpage.action?pageId=333790908)\n",
    "\n",
    "Further information:\n",
    "* Ocean Indicator: [Sea Level](https://climate.copernicus.eu/climate-indicators/sea-level)\n",
    "* Understanding Sea Level: [Sea Level Change by NASA](https://sealevel.nasa.gov/understanding-sea-level/global-sea-level/overview/)"
   ]
  },
  {
   "cell_type": "markdown",
   "id": "18",
   "metadata": {
    "tags": []
   },
   "source": [
    "### References"
   ]
  },
  {
   "cell_type": "markdown",
   "id": "19",
   "metadata": {
    "tags": []
   },
   "source": [
    "[[1]](https://doi.org/10.5194/essd-10-281-2018) Legeais, J.-F., Ablain, M., Zawadzki, L., Zuo, H., Johannessen, J. A., Scharffenberg, M.G., et al. (2018). An improved and homogeneous altimeter sea level record from the ESA climate change initiative. Earth System Sci. Data 10 (1), 281–301. doi: 10.5194/essd-10-281-2018\n",
    "\n",
    "[[2]](https://doi.org/10.3389/fmars.2023.1150488) Meli M, Camargo CML, Olivieri M, Slangen ABA and Romagnoli C (2023) Sea-level trend variability in the Mediterranean during the 1993–2019 period. Front. Mar. Sci. 10:1150488. doi: 10.3389/fmars.2023.1150488\n",
    "\n",
    "[[3]](https://doi.org/10.1016/j.gloplacha.2013.12.004) Jevrejeva, S., Moore, J. C., Grinsted, A., Matthews, A. P., and Spada, G. (2014). Trends and acceleration in global and regional sea levels since 1807. Glob. Planet. Change 113, 11–22. doi: 10.1016/j.gloplacha.2013.12.004\n",
    "\n",
    "[[4]](https://doi.org/10.5194/esd-5-243-2014) Slangen, A. B. A., van de Wal, R. S. W., Wada, Y. , and Vermeersen, L. L. A. (2014). Comparing tide gauge observations to regional patterns of sea-level change, (1961-2003). Earth Syst. Dynam. 5, 243–255. doi: 10.5194/esd-5-243-2014\n",
    "\n",
    "[[5]](https://doi.org/10.1175/JCLI-D-13-00139.1) Pinardi, N., Bonaduce, A., Navarra, A., Dobricic, S., and Oddo, P. (2014). The mean Sea level equation and its application to the Mediterranean Sea. J. Clim. 27, 442–447. doi: 10.1175/JCLI-D-13-00139.1\n",
    "\n",
    "[[6]](https://doi.org/10.1007/s00382-016-3001-2) Bonaduce, A., Pinardi, N., Oddo, P., Spada, G., and Larnicol, G. (2016). Sea-Level variability in the Mediterranean Sea from altimetry and tide gauges. Clim. Dyn. 47, 2851–2866. doi: 10.1007/s00382-016-3001-2\n",
    "\n",
    "[[7]](https://doi.org/10.1016/j.gloplacha.2009.04.002) Vera, J. D. R., Criado-Aldeanueva, F., Garcı́a-Lafuente, J., and Soto-Navarro, F. J.(2009). A new insight on the decreasing sea level trend over the Ionian basin in the last decades. Global Planetary Change 68, 232–235. doi: 10.1016/j.gloplacha.2009.04.002\n",
    "\n",
    "[[8]](https://doi.org/10.1029/2006GL025734) Giorgi, F. (2006). Climate change hot-spots. Geophys. Res. Lett. 33, L08707. doi: 10.1029/2006GL025734\n",
    "\n",
    "[[9]](https://doi.org/10.1029/2011JC007469) Wöppelmann, G., and Marcos, M. (2012). Coastal sea level rise in southern Europe and the nonclimate contribution of vertical land motion. J. Geophys. Res. 117, C01007. doi: 10.1029/2011JC007469\n",
    "\n",
    "[[10]](https://doi.org/10.1016/j.jog.2019.05.007) Mohamed, B., Mohamed, A., Alam El-Din, K., Nagy, H., and Elsherbiny, A. (2019a). Sea Level changes and vertical land motion from altimetry and tide gauges in the southern levantine basin. J. Geodyn. 128, 1–10. doi: 10.1016/j.jog.2019.05.007\n",
    "\n",
    "[[11]](https://doi.org/10.1007/s00024-019-02156-w) Mohamed, B., Abdallah, A. M., Alam El-Din, K., Nagy, H., and Shaltout, M. (2019a). Inter-annual variability and trends of Sea level and Sea surface temperature in the Mediterranean Sea over the last 25 years. Pure Appl. Geophys. 176, 3787–3810. doi: 10.1007/s00024-019-02156-w\n",
    "\n",
    "[[12]](https://doi.org/10.1002/2014JB011176) Peltier, W. R., Argus, D. F., and Drummond, R. (2015). Space geodesy constrains ice age terminal deglaciation: The global ICE-6G-C (VM5a) model. J. Geophys. Res. Solid Earth 120, 450–487. doi: 10.1002/2014JB011176\n",
    "\n",
    "[[13]](https://doi.org/10.1038/nclimate2635) Watson, C. S., White, N. J., Church, J. A., King, M. A., Burgette, R. J., and Legresy, B.(2015). Unabated global mean sea-level rise over the satellite altimeter era. Nat. Clim. Change 5, 565–568. doi: 10.1038/nclimate2635\n",
    "\n",
    "[[14]](https://doi.org/10.2307/1907187) Mann, H. B. (1945). Non-parametric tests against trend. Econometrica 13, 163–171. doi: 10.2307/1907187\n",
    "\n",
    "[[15]](https://psycnet.apa.org/record/1948-15040-000) Kendall, M. G. (1975). Rank correlation methods. 4th ed. Ed. C. Grifﬁn (London, UK:Charles Grifﬁn)\n",
    "\n",
    "[[16]](https://doi.org/10.1016/S0022-1694%2897%2900125-X) Hamed, K. H., and Rao, A. R. (1998). A modiﬁed Mann-Kendall trend test for autocorrelated data. J. Hydrol. 204, 182–196. doi: 10.1016/S0022-1694(97)00125-X\n",
    "\n",
    "[[17]](https://doi.org/10.1007/s00382-012-1369-1) Carillo, A., Sannino, G., Artale, V., Ruti, P., Calmanti, S., and Dell'Aquila, A. (2012).\n",
    "Steric sea level rise over the Mediterranean Sea: present climate and scenario\n",
    "simulations. Clim. Dyn. 39, 2167–2184. doi: 10.1007/s00382-012-1369-1\n",
    "\n",
    "[[18]](https://doi.org/10.1016/j.gloplacha.2014.10.007) Galassi, G., and Spada, G. (2014). Sea-Level rise in the Mediterranean Sea by 2050:\n",
    "Roles of terrestrial ice melt, steric effects and glacial isostatic adjustment. Glob. Planet.\n",
    "Change 123, 55–66. doi: 10.1016/j.gloplacha.2014.10.007"
   ]
  }
 ],
 "metadata": {
  "language_info": {
   "codemirror_mode": {
    "name": "ipython",
    "version": 3
   },
   "file_extension": ".py",
   "mimetype": "text/x-python",
   "name": "python",
   "nbconvert_exporter": "python",
   "pygments_lexer": "ipython3",
   "version": "3.11.11"
  }
 },
 "nbformat": 4,
 "nbformat_minor": 5
}
