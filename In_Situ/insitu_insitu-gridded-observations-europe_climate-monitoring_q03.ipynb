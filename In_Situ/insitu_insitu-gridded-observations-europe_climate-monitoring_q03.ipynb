{
 "cells": [
  {
   "cell_type": "markdown",
   "id": "1f3c42e8",
   "metadata": {},
   "source": [
    "# Use Case: Impact of climate change on precipitation over the Iberian Peninsula "
   ]
  },
  {
   "cell_type": "markdown",
   "id": "b32f8673",
   "metadata": {},
   "source": [
    "## Assessment of trends in precipitation and wind speed extremes"
   ]
  },
  {
   "cell_type": "markdown",
   "id": "b03411af",
   "metadata": {
    "slideshow": {
     "slide_type": "-"
    }
   },
   "source": [
    "1. World Meteorological Organization (WMO) Guidelines on the Calculation of Climate Normals: https://library.wmo.int/index.php?lvl=notice_display&id=20130\n",
    "\n",
    "2. E-OBS daily gridded observations for Europe from 1950 to present: Product user guide - https://confluence.ecmwf.int/display/CKB/E-OBS+daily+gridded+observations+for+Europe+from+1950+to+present%3A+Product+user+guide\n",
    "\n",
    "3. ERA5 hourly data on single levels from 1940 to present: Data documentation - https://confluence.ecmwf.int/display/CKB/ERA5%3A+data+documentation \n",
    "\n",
    "4. Research paper describing the E-OBS ensemble version: Cornes, R., G. van der Schrier, E.J.M. van den Besselaar, and P.D. Jones. 2018: An Ensemble Version of the E-OBS Temperature and Precipitation Datasets, J. Geophys. Res. (Atmospheres), 123. doi:10.1029/2017JD028200\n",
    "\n",
    "5. Research papers, with methodologies developed for the comparasion between E-OBS and ERA5, considering wind and precipitation data:\n",
    "    - Bandhauer, Moritz, Francesco Isotta, Mónika Lakatos, Cristian Lussana, Line Båserud, Beatrix Izsák, Olivér Szentes, Ole Einar Tveito, and Christoph Frei. 2022. “Evaluation of Daily Precipitation Analyses in E-OBS (V19.0e) and ERA5 by Comparison to Regional High-Resolution Datasets in European Regions.” International Journal of Climatology 42 (2): 727–47. https://doi.org/10.1002/JOC.7269.\n",
    "    - Hofstra, Nynke, Malcolm Haylock, Mark New, and Phil D. Jones. 2009. “Testing E-OBS European High-Resolution Gridded Data Set of Daily Precipitation and Surface Temperature.” Journal of Geophysical Research Atmospheres. https://doi.org/10.1029/2009JD011799\n",
    "    - Rivoire, Pauline, Olivia Martius, and Philippe Naveau. 2021. “A Comparison of Moderate and Extreme ERA-5 Daily Precipitation With Two Observational Data Sets.” Earth and Space Science 8 (4): e2020EA001633. https://doi.org/10.1029/2020EA001633. "
   ]
  },
  {
   "cell_type": "markdown",
   "id": "c0aff151",
   "metadata": {},
   "source": [
    "## 1. Define the AoI, search and download E-OBS\n",
    "Before we begin, we must prepare our environment. This includes installing the Application Programming Interface (API) of the CDS and importing the various python libraries that we will need.\n",
    "\n",
    "### Install CDS API\n",
    "To install the CDS API, run the following command. We use an exclamation mark to pass the command to the shell (not to the Python interpreter).\n",
    "If you already have the CDS API installed, you can skip or comment this step."
   ]
  },
  {
   "cell_type": "code",
   "execution_count": null,
   "id": "038d2911",
   "metadata": {
    "tags": [
     "hide-input"
    ]
   },
   "outputs": [],
   "source": [
    "# !pip install cdsapi"
   ]
  },
  {
   "cell_type": "markdown",
   "id": "3afa1787",
   "metadata": {},
   "source": [
    "### Import all the libraries/packages\n",
    "\n",
    "We will be working with data in NetCDF format. To best handle this data we will use libraries for working with multidimensional arrays, in particular Xarray. We will also need libraries for plotting and viewing data, in this case we will use Matplotlib and Cartopy."
   ]
  },
  {
   "cell_type": "code",
   "execution_count": null,
   "id": "41239174",
   "metadata": {
    "tags": [
     "hide-input"
    ]
   },
   "outputs": [],
   "source": [
    "import cartopy.crs as ccrs\n",
    "import matplotlib.pyplot as plt\n",
    "import numpy as np\n",
    "import pandas as pd\n",
    "import xarray as xr\n",
    "import pymannkendall as mk\n",
    "from c3s_eqc_automatic_quality_control import download, utils, diagnostics, plot\n",
    "\n",
    "# # import libraries\n",
    "# from cdo import cdo\n",
    "\n",
    "# # check cdo\n",
    "# cdo = Cdo()\n",
    "# help(cdo.sinfov)\n",
    "\n",
    "plt.rcParams[\"figure.figsize\"] = [15, 5]\n",
    "plt.style.use(\"seaborn-v0_8-notebook\")\n",
    "\n",
    "import warnings\n",
    "import os\n",
    "warnings.filterwarnings(\"ignore\")"
   ]
  },
  {
   "cell_type": "markdown",
   "id": "d124823d",
   "metadata": {},
   "source": [
    "### Data Overview\n",
    "\n",
    "To search for data, visit the CDS website: http://cds.climate.copernicus.eu. Here you can search for 'in-situ observations' using the search bar. The data we need for this tutorial is the ***E-OBS daily gridded meteorological data for Europe from 1950 to present derived from in-situ observations***. This catalogue entry provides a daily gridded dataset of historical meteorological observations, covering Europe (land-only), from 1950 to the present. This data is derived from in-situ meteorological stations, made available through the European Climate Assessment & Dataset (ECA&D) project, as provided by National Meteorological and Hydrological Services (NMHSs) and other data-holding institutes. \n",
    "\n",
    "E-OBS comprises a set of spatially continuous Essential Climate Variables (ECVs) from the Surface Atmosphere, following the Global Climate Observing System (GCOS) convention, provided as the mean and spread of the spatial prediction ensemble algorithm, at <ins>regular latitude-longitude grid intervals</ins> (at a 0.1° and 0.25° spatial resolution), and covering a long time-period, from 1 January 1950 to present-day. In addition to the land surface elevation, E-OBS includes daily air temperature (mean, maximum and minimum), precipitation amount, wind speed, sea-level pressure and shortwave downwelling radiation. \n",
    "\n",
    "The E-OBS version used for this Use Case, **E-OBSv28.0e**, was released in October 2023 and its main difference from the previous E-OBSv27.0e is the inclusion of new series and some corrections for precipitation stations.\n",
    "\n",
    "Having selected the correct dataset, we now need to specify what product type, variables, temporal and geographic coverage we are interested in. In this Use Case, the ensemble mean of precipitation (RR) and daily mean wind speed (FG) will be used, considering the last version available (v28.0e). These can all be selected in the “Download data” tab from the CDS. In this tab a form appears in which we will select the following parameters to download, for example:\n",
    "\n",
    "* **Product Type:** Ensemble mean  \n",
    "* **Variable:** daily precipitation sum and daily mean wind speed\n",
    "* **Grid resolution:** 0.25  \n",
    "* **Period:** Full period  \n",
    "* **Version:** 28.0e  \n",
    "* **Format:** Zip file (.zip)\n",
    "\n",
    "At the end of the download form, select “**Show API request**”. This will reveal a block of code, which you can simply copy and paste into a cell of your Jupyter Notebook …\n",
    "\n",
    "Download data\n",
    "… having copied the API request to a Jupyter Notebook cell, running it will retrieve and download the data you requested into your local directory. However, before you run it, the **terms and conditions** of this particular dataset need to have been accepted directly at the CDS website. The option to view and accept these conditions is given at the end of the download form, just above the “**Show API request**” option. In addition, it is also useful to define the time period and AoI parameters and edit the request accordingly, as exemplified in the cells below."
   ]
  },
  {
   "cell_type": "markdown",
   "id": "caebc7ba",
   "metadata": {},
   "source": [
    "### Download and prepared E-OBS data"
   ]
  },
  {
   "cell_type": "code",
   "execution_count": null,
   "id": "4591c5b9",
   "metadata": {
    "tags": [
     "hide-input"
    ]
   },
   "outputs": [],
   "source": [
    "# Define request\n",
    "request = (\n",
    "    \"insitu-gridded-observations-europe\",\n",
    "    {\n",
    "        \"format\": \"zip\",\n",
    "        \"product_type\": \"ensemble_mean\",\n",
    "        \"variable\": [\"precipitation_amount\", \"wind_speed\"],\n",
    "        \"grid_resolution\": \"0.25deg\",\n",
    "        \"period\": \"full_period\",\n",
    "        \"version\": \"28.0e\",\n",
    "        \"area\": [42.15, -9.50, 36.95, -6.19],\n",
    "    },\n",
    ")\n",
    "\n",
    "# Process the request\n",
    "ds_EOBS = download.download_and_transform(*request)"
   ]
  },
  {
   "cell_type": "code",
   "execution_count": null,
   "id": "c242b27d",
   "metadata": {
    "tags": [
     "hide-input"
    ]
   },
   "outputs": [],
   "source": [
    "# Subset data for the year range 1950 to 2020\n",
    "ds_EOBS = ds_EOBS.sel(time=slice('1950-01-01', '2020-12-31'))\n",
    "\n",
    "# Inspect data\n",
    "ds_EOBS"
   ]
  },
  {
   "cell_type": "code",
   "execution_count": null,
   "id": "8f49d8c5",
   "metadata": {
    "tags": [
     "hide-input"
    ]
   },
   "outputs": [],
   "source": [
    "# Rename and update attributes for 'rr'\n",
    "ds_EOBS = ds_EOBS.rename({'rr': 'RR EOBS'})\n",
    "ds_EOBS['RR EOBS'].attrs['long_name'] = 'Total Precipitation'\n",
    "ds_EOBS['RR EOBS'].attrs['units'] = 'mm'\n",
    "\n",
    "# Rename and update attributes for 'var2'\n",
    "ds_EOBS = ds_EOBS.rename({'fg': 'WS EOBS'})\n",
    "ds_EOBS['WS EOBS'].attrs['long_name'] = 'Wind Speed'\n",
    "ds_EOBS['WS EOBS'].attrs['units'] = 'm/s'\n",
    "\n",
    "ds_EOBS\n"
   ]
  },
  {
   "cell_type": "markdown",
   "id": "7613b2bb",
   "metadata": {},
   "source": [
    "### Download ERA5 and prepared data"
   ]
  },
  {
   "cell_type": "code",
   "execution_count": null,
   "id": "7af480c1",
   "metadata": {
    "tags": [
     "hide-input"
    ]
   },
   "outputs": [],
   "source": [
    "# Define time interval\n",
    "start = \"1950-01\"\n",
    "stop = \"2020-12\"\n",
    "\n",
    "# Define request\n",
    "collection_id = \"reanalysis-era5-single-levels\"\n",
    "request = {\n",
    "    \"product_type\": \"ensemble_mean\",\n",
    "    \"format\": 'netcdf',\n",
    "    'variable': [\n",
    "            '10m_u_component_of_wind', '10m_v_component_of_wind', 'total_precipitation',\n",
    "        ],\n",
    "    \"time\": [f\"{hour:02d}:00\" for hour in range(0, 24, 3)],\n",
    "    \"area\": [44, -10, 36, 1],\n",
    "\n",
    "} \n",
    "\n",
    "requests = download.update_request_date(request, start, stop)\n",
    "\n",
    "# Process the request\n",
    "ds_ERA5 = download.download_and_transform(collection_id, requests, chunks={\"year\": 1})\n"
   ]
  },
  {
   "cell_type": "code",
   "execution_count": null,
   "id": "7f9dbdb4",
   "metadata": {
    "tags": [
     "hide-input"
    ]
   },
   "outputs": [],
   "source": [
    "# Subset data for the year range 1950 to 2020\n",
    "ds_ERA5 = ds_ERA5.sel(time=slice('1950-01-01', '2020-12-31'))\n",
    "\n",
    "# Inspect data\n",
    "ds_ERA5"
   ]
  },
  {
   "cell_type": "code",
   "execution_count": null,
   "id": "410555fe",
   "metadata": {
    "tags": [
     "hide-input"
    ]
   },
   "outputs": [],
   "source": [
    "# Convert units for precipitation from meters to millimeters\n",
    "ds_ERA5['tp'] = ds_ERA5['tp'] * 1000"
   ]
  },
  {
   "cell_type": "code",
   "execution_count": null,
   "id": "a1fa71eb",
   "metadata": {
    "tags": [
     "hide-input"
    ]
   },
   "outputs": [],
   "source": [
    "# Resample precipitation to daily frequency and sum up\n",
    "ds_ERA5_precip = ds_ERA5['tp'].resample(time='1D').sum(dim='time')\n",
    "ds_ERA5_precip = ds_ERA5_precip.rename('RR ERA5')\n",
    "ds_ERA5_precip.attrs['long_name'] = 'Total Precipitation'\n",
    "ds_ERA5_precip.attrs['units'] = 'mm'"
   ]
  },
  {
   "cell_type": "code",
   "execution_count": null,
   "id": "633245af",
   "metadata": {
    "tags": [
     "hide-input"
    ]
   },
   "outputs": [],
   "source": [
    "ds_ERA5_precip"
   ]
  },
  {
   "cell_type": "code",
   "execution_count": null,
   "id": "38960006",
   "metadata": {
    "tags": [
     "hide-input"
    ]
   },
   "outputs": [],
   "source": [
    "# Calculate wind speed from U and V components\n",
    "u10 = ds_ERA5['u10']\n",
    "v10 = ds_ERA5['v10']\n",
    "wind_speed_ERA5 = np.sqrt(u10**2 + v10**2)\n",
    "\n",
    "# Resample wind speed to daily frequency\n",
    "wind_speed_daily = wind_speed_ERA5.resample(time='1D').mean(dim='time')\n",
    "wind_speed_daily = wind_speed_daily.rename('WS ERA5')\n",
    "wind_speed_daily.attrs['long_name'] = '10m Wind Speed'\n",
    "wind_speed_daily.attrs['units'] = 'm/s'"
   ]
  },
  {
   "cell_type": "code",
   "execution_count": null,
   "id": "4d1d2600",
   "metadata": {
    "tags": [
     "hide-input"
    ]
   },
   "outputs": [],
   "source": [
    "# Combine ERA5 variables into one dataset\n",
    "ds_ERA5_daily = xr.Dataset({'RR ERA5': ds_ERA5_precip, 'WS ERA5': wind_speed_daily})"
   ]
  },
  {
   "cell_type": "markdown",
   "id": "25add7e1",
   "metadata": {},
   "source": [
    "## 2. Merge E-OBS with ERA5"
   ]
  },
  {
   "cell_type": "code",
   "execution_count": null,
   "id": "532c20dd",
   "metadata": {
    "tags": [
     "hide-input"
    ]
   },
   "outputs": [],
   "source": [
    "# Interpolate ERA5 data to match E-OBS resolution\n",
    "ds_ERA5_interp = ds_ERA5_daily.interp_like(ds_EOBS)\n",
    "\n",
    "# Merge the datasets\n",
    "merged_ds = xr.merge([ds_EOBS, ds_ERA5_interp], join='left')"
   ]
  },
  {
   "cell_type": "code",
   "execution_count": null,
   "id": "d8469218",
   "metadata": {
    "tags": [
     "hide-input"
    ]
   },
   "outputs": [],
   "source": [
    "print(merged_ds)"
   ]
  },
  {
   "cell_type": "markdown",
   "id": "02cbc524",
   "metadata": {},
   "source": [
    "## 3. Inspect and view the merged datasets \n",
    "\n",
    "Precipitation amount and Wind Speed plot representation, with an overview of a selected subset (year of 2000)"
   ]
  },
  {
   "cell_type": "code",
   "execution_count": null,
   "id": "e02379d6",
   "metadata": {
    "tags": [
     "hide-input"
    ]
   },
   "outputs": [],
   "source": [
    "# Calculate mean values over latitude and longitude\n",
    "mean_ds = merged_ds.mean(dim=('longitude', 'latitude'))"
   ]
  },
  {
   "cell_type": "code",
   "execution_count": null,
   "id": "3813b4a3",
   "metadata": {
    "tags": [
     "hide-input"
    ]
   },
   "outputs": [],
   "source": [
    "# Plot the Precipitation data\n",
    "plt.figure(figsize=(10, 6))\n",
    "plt.title('Precipitation Comparison: E-OBS vs ERA5')\n",
    "plt.xlabel('Date')\n",
    "plt.ylabel('Precipitation (mm)')\n",
    "\n",
    "plt.plot(mean_ds.time, mean_ds['RR EOBS'], label='E-OBS Precipitation', color='red')\n",
    "plt.plot(mean_ds.time, mean_ds['RR ERA5'], label='ERA5 Precipitation', color='blue')\n",
    "\n",
    "# Add legend\n",
    "plt.legend(loc='upper left')\n",
    "\n",
    "# Show the plot\n",
    "plt.grid(True)\n",
    "plt.show()\n"
   ]
  },
  {
   "cell_type": "code",
   "execution_count": null,
   "id": "4c2ad323",
   "metadata": {
    "tags": [
     "hide-input"
    ]
   },
   "outputs": [],
   "source": [
    "# Specify the year you want to subset (e.g., 2000)\n",
    "year_to_subset = '2000'\n",
    "\n",
    "# Subset the dataset for the specified year\n",
    "subset_rr = mean_ds.sel(time=year_to_subset)\n",
    "\n",
    "subset_rr"
   ]
  },
  {
   "cell_type": "code",
   "execution_count": null,
   "id": "4734cd63",
   "metadata": {
    "tags": [
     "hide-input"
    ]
   },
   "outputs": [],
   "source": [
    "# Plot the Precipitation data considering a subset\n",
    "plt.figure(figsize=(10, 6))\n",
    "plt.title('Precipitation Comparison - year 2000')\n",
    "plt.xlabel('Date')\n",
    "plt.ylabel('Precipitation (mm)')\n",
    "\n",
    "plt.plot(subset_rr.time, subset_rr['RR ERA5'], label='ERA5 (RR)', color='blue')\n",
    "plt.plot(subset_rr.time, subset_rr['RR EOBS'], label='E-OBS (RR)', color='red')\n",
    "\n",
    "# Add a legend\n",
    "plt.legend()\n",
    "\n",
    "# Show the plot\n",
    "plt.grid(True)\n",
    "plt.show()"
   ]
  },
  {
   "cell_type": "code",
   "execution_count": null,
   "id": "8913871a",
   "metadata": {
    "tags": [
     "hide-input"
    ]
   },
   "outputs": [],
   "source": [
    "# Plot the Wind Speed (WS) data\n",
    "plt.figure(figsize=(10, 6))\n",
    "plt.title('Wind Speed Comparison: E-OBS vs ERA5')\n",
    "plt.xlabel('Date')\n",
    "plt.ylabel('Wind Speed (m/s)')\n",
    "\n",
    "plt.plot(mean_ds.time, mean_ds['WS ERA5'], label='ERA 5 (WS)', color='blue')\n",
    "plt.plot(mean_ds.time, mean_ds['WS EOBS'], label='E-OBS (WS)', color='red')\n",
    "\n",
    "# Add a legend\n",
    "plt.legend()\n",
    "\n",
    "# Show the plot\n",
    "plt.grid(True)\n",
    "plt.show()"
   ]
  },
  {
   "cell_type": "code",
   "execution_count": null,
   "id": "41759f58",
   "metadata": {
    "tags": [
     "hide-input"
    ]
   },
   "outputs": [],
   "source": [
    "# Plot the Wind Speed (WS) data considering a subset\n",
    "plt.figure(figsize=(10, 6))\n",
    "plt.title('Wind Speed Comparison - year 2000')\n",
    "plt.xlabel('Date')\n",
    "plt.ylabel('Wind Speed (m/s)')\n",
    "\n",
    "# Plot tg data\n",
    "plt.plot(subset_rr.time, subset_rr['WS ERA5'], label='ERA5 (WS)', color='blue')\n",
    "plt.plot(subset_rr.time, subset_rr['WS EOBS'], label='E-OBS (WS)', color='red')\n",
    "\n",
    "# Add a legend\n",
    "plt.legend()\n",
    "\n",
    "# Show the plot\n",
    "plt.grid(True)\n",
    "plt.show()"
   ]
  },
  {
   "cell_type": "markdown",
   "id": "f3938bfb",
   "metadata": {},
   "source": [
    "#### Save the data into .csv and .nc formats"
   ]
  },
  {
   "cell_type": "code",
   "execution_count": null,
   "id": "087f893d",
   "metadata": {
    "tags": [
     "hide-input"
    ]
   },
   "outputs": [],
   "source": [
    "# Save as NetCDF for inspecting spatially averaged data\n",
    "merged_ds.to_netcdf('RR_WS_EOBS_ERA5_merged.nc')\n",
    "# Convert xarray dataset to pandas DataFrame\n",
    "df = merged_ds.to_dataframe()\n",
    "df.to_csv('RR_WS_EOBS_ERA5_merged.csv')"
   ]
  },
  {
   "cell_type": "markdown",
   "id": "0a2de61d",
   "metadata": {},
   "source": [
    "## 4.  Calculate the Probability density function (PDF) \n",
    "\n",
    "Of each alternative 30-year period"
   ]
  },
  {
   "cell_type": "markdown",
   "id": "64a3253e",
   "metadata": {},
   "source": [
    "###### Work in progress"
   ]
  },
  {
   "cell_type": "markdown",
   "id": "7eb6566e",
   "metadata": {},
   "source": [
    "## 5. Calculate the the annual count of days\n",
    "\n",
    "When RR>=10mm; as defined by WMO Expert Team on Climate Change Detection Indices, ETCCDI\n"
   ]
  },
  {
   "cell_type": "markdown",
   "id": "7caac9c6",
   "metadata": {},
   "source": [
    "###### Work in progress"
   ]
  },
  {
   "cell_type": "markdown",
   "id": "aa61cbcb",
   "metadata": {},
   "source": [
    "## 6. Map of the annual count of days\n",
    "\n",
    "These maps will be compared to disclose if RR extremes are shifting in terms of mean and the distribution's tails. \n",
    "The results from these maps shall be developed and compared considering the two datasets."
   ]
  },
  {
   "cell_type": "markdown",
   "id": "30964e1d",
   "metadata": {},
   "source": [
    "###### Work in progress"
   ]
  },
  {
   "cell_type": "markdown",
   "id": "0760d518",
   "metadata": {},
   "source": [
    "## 7. Main takeaways\n",
    "\n",
    "\n"
   ]
  },
  {
   "cell_type": "markdown",
   "id": "0b6f7fa8",
   "metadata": {},
   "source": [
    "###### Work in progress"
   ]
  },
  {
   "cell_type": "markdown",
   "id": "31c83f8c",
   "metadata": {},
   "source": [
    "## 8. References:\n",
    "\n",
    "\n",
    "1. World Meteorological Organization (WMO) Guidelines on the Calculation of Climate Normals: https://library.wmo.int/index.php?lvl=notice_display&id=20130\n",
    "\n",
    "2. E-OBS daily gridded observations for Europe from 1950 to present: Product user guide - https://confluence.ecmwf.int/display/CKB/E-OBS+daily+gridded+observations+for+Europe+from+1950+to+present%3A+Product+user+guide\n",
    "\n",
    "3. ERA5 hourly data on single levels from 1940 to present: Data documentation - https://confluence.ecmwf.int/display/CKB/ERA5%3A+data+documentation \n",
    "\n",
    "4. Research paper describing the E-OBS ensemble version: Cornes, R., G. van der Schrier, E.J.M. van den Besselaar, and P.D. Jones. 2018: An Ensemble Version of the E-OBS Temperature and Precipitation Datasets, J. Geophys. Res. (Atmospheres), 123. doi:10.1029/2017JD028200\n",
    "\n",
    "5. Research papers, with methodologies developed for the comparasion between E-OBS and ERA5, considering wind and precipitation data:\n",
    "    - Bandhauer, Moritz, Francesco Isotta, Mónika Lakatos, Cristian Lussana, Line Båserud, Beatrix Izsák, Olivér Szentes, Ole Einar Tveito, and Christoph Frei. 2022. “Evaluation of Daily Precipitation Analyses in E-OBS (V19.0e) and ERA5 by Comparison to Regional High-Resolution Datasets in European Regions.” International Journal of Climatology 42 (2): 727–47. https://doi.org/10.1002/JOC.7269.\n",
    "    - Hofstra, Nynke, Malcolm Haylock, Mark New, and Phil D. Jones. 2009. “Testing E-OBS European High-Resolution Gridded Data Set of Daily Precipitation and Surface Temperature.” Journal of Geophysical Research Atmospheres. https://doi.org/10.1029/2009JD011799\n",
    "    - Rivoire, Pauline, Olivia Martius, and Philippe Naveau. 2021. “A Comparison of Moderate and Extreme ERA-5 Daily Precipitation With Two Observational Data Sets.” Earth and Space Science 8 (4): e2020EA001633. https://doi.org/10.1029/2020EA001633. "
   ]
  }
 ],
 "metadata": {
  "kernelspec": {
   "display_name": "Python 3",
   "language": "python",
   "name": "python3"
  },
  "language_info": {
   "codemirror_mode": {
    "name": "ipython",
    "version": 3
   },
   "file_extension": ".py",
   "mimetype": "text/x-python",
   "name": "python",
   "nbconvert_exporter": "python",
   "pygments_lexer": "ipython3",
   "version": "3.10.13"
  }
 },
 "nbformat": 4,
 "nbformat_minor": 5
}
