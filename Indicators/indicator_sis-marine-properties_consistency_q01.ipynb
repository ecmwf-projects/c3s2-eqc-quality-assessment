{
 "cells": [
  {
   "cell_type": "markdown",
   "id": "1",
   "metadata": {},
   "source": [
    "# Marine biogeochemistry assessment"
   ]
  },
  {
   "cell_type": "markdown",
   "id": "2",
   "metadata": {},
   "source": [
    "Production date: YYYY-MM-DD\n",
    "\n",
    "**Please note that this repository is used for development and review, so quality assessments should be considered work in progress until they are merged into the main branch.**\n",
    "\n",
    "Produced by: C3S2_521 contract."
   ]
  },
  {
   "cell_type": "markdown",
   "id": "3",
   "metadata": {
    "editable": true,
    "slideshow": {
     "slide_type": ""
    },
    "tags": []
   },
   "source": [
    "## 🌍 Use case: Use case listed here in full "
   ]
  },
  {
   "cell_type": "markdown",
   "id": "4",
   "metadata": {},
   "source": [
    "## ❓ Quality assessment question\n",
    "* **In most cases there should be one question listed here in bold**\n",
    "* **(In some cases a second related/follow-up question may be included)**"
   ]
  },
  {
   "cell_type": "markdown",
   "id": "5",
   "metadata": {
    "tags": []
   },
   "source": [
    "**‘Context paragraph’ (no title/heading)** - a very short introduction before the assessment statement describing approach taken to answer the user question. One or two key references could be useful, if the assessment summarises literature.\n",
    "\n",
    "**Background**\n",
    "Check documentation: Only one model? Mean?"
   ]
  },
  {
   "attachments": {},
   "cell_type": "markdown",
   "id": "6",
   "metadata": {
    "tags": []
   },
   "source": [
    "## 📢 Quality assessment statement\n",
    "\n",
    "```{admonition} These are the key outcomes of this assessment\n",
    ":class: note\n",
    "* Finding 1\n",
    "* Finding 2\n",
    "* Finding 3\n",
    "* etc\n",
    "```"
   ]
  },
  {
   "cell_type": "markdown",
   "id": "11",
   "metadata": {
    "editable": true,
    "slideshow": {
     "slide_type": ""
    },
    "tags": []
   },
   "source": [
    "## 📋 Methodology\n",
    "\n",
    "A ‘free text’ introduction to the data analysis steps or a description of the literature synthesis, with a justification of the approach taken, and limitations mentioned. **Mention which CDS catalogue entry is used, including a link, and also any other entries used for the assessment**.\n",
    "[Marine biogeochemistry data for the Northwest European Shelf and Mediterranean Sea from 2006 up to 2100 derived from climate projections](https://doi.org/10.24381/cds.dcc9295c)\n",
    "\n",
    "**Note:** This notebook is currently just a brain-dump in anticipation of starting the actual quality assessment at a later stage.\n",
    "\n",
    "E.g. 'The analysis and results are organised in the following steps, which are detailed in the sections below:' \n",
    "\n",
    "**[](section-setup)**\n",
    " * Sub-steps or key points listed in bullet below. No strict requirement to match and link to sub-headings.\n",
    "\n",
    "**[](section-analysis)**\n",
    " * Sub-steps or key points listed in bullet below. No strict requirement to match and link to sub-headings.\n",
    "\n",
    "**[](section-results)**\n",
    " * Sub-steps or key points listed in bullet below. No strict requirement to match and link to sub-headings.\n",
    "\n",
    "Any further notes on the method could go here (explanations, caveats or limitations)."
   ]
  },
  {
   "cell_type": "markdown",
   "id": "12",
   "metadata": {},
   "source": [
    "## 📈 Analysis and results"
   ]
  },
  {
   "cell_type": "markdown",
   "id": "13",
   "metadata": {
    "editable": true,
    "papermill": {
     "duration": 0.007051,
     "end_time": "2024-03-08T17:23:56.492658",
     "exception": false,
     "start_time": "2024-03-08T17:23:56.485607",
     "status": "completed"
    },
    "slideshow": {
     "slide_type": ""
    },
    "tags": []
   },
   "source": [
    "(section-setup)=\n",
    "### 1. Code setup"
   ]
  },
  {
   "cell_type": "markdown",
   "id": "9a14ccf5-ffae-49cc-aca9-664f4928bcd2",
   "metadata": {},
   "source": [
    "#### Imports"
   ]
  },
  {
   "cell_type": "code",
   "execution_count": null,
   "id": "18",
   "metadata": {
    "editable": true,
    "slideshow": {
     "slide_type": ""
    },
    "tags": [
     "hide-input"
    ]
   },
   "outputs": [],
   "source": [
    "# Input / Output\n",
    "from pathlib import Path\n",
    "import earthkit.data as ekd\n",
    "import warnings\n",
    "\n",
    "# General data handling\n",
    "import numpy as np\n",
    "np.seterr(divide=\"ignore\")  # Ignore divide-by-zero warnings\n",
    "import pandas as pd\n",
    "import xarray as xr\n",
    "from functools import partial\n",
    "from dask.array.core import PerformanceWarning\n",
    "warnings.simplefilter(action=\"ignore\", category=PerformanceWarning)\n",
    "\n",
    "# Visualisation\n",
    "import earthkit.plots as ekp\n",
    "from earthkit.plots.styles import Style\n",
    "import matplotlib.pyplot as plt\n",
    "plt.rcParams[\"grid.linestyle\"] = \"--\"\n",
    "from tqdm import tqdm  # Progress bars\n",
    "\n",
    "# Visualisation in Jupyter book -- automatically ignored otherwise\n",
    "try:\n",
    "    from myst_nb import glue\n",
    "except ImportError:\n",
    "    glue = None"
   ]
  },
  {
   "cell_type": "markdown",
   "id": "f8c499b6-19c8-4ec8-a93f-2155a6ba123d",
   "metadata": {},
   "source": [
    "#### Helper functions"
   ]
  },
  {
   "cell_type": "markdown",
   "id": "5e3b6085-5c2c-45f8-9016-22979cdfc266",
   "metadata": {},
   "source": [
    "##### General"
   ]
  },
  {
   "cell_type": "code",
   "execution_count": null,
   "id": "8435573c-5431-42f8-9741-706aa7184544",
   "metadata": {},
   "outputs": [],
   "source": [
    "# Type hints for helper functions\n",
    "from typing import Callable, Optional, Iterable\n",
    "\n",
    "# For pre-defining functions\n",
    "from functools import partial"
   ]
  },
  {
   "cell_type": "markdown",
   "id": "500716c6-a451-41d9-a794-dc58e9f097ff",
   "metadata": {},
   "source": [
    "##### Downloading data"
   ]
  },
  {
   "cell_type": "code",
   "execution_count": null,
   "id": "ae14ea30-508a-4f45-aa01-1af8ffa83984",
   "metadata": {},
   "outputs": [],
   "source": [
    "## Data downloading\n",
    "def domain_to_request(domain: ekp.geo.domains.Domain) -> dict:\n",
    "    \"\"\" From an earthkit-plots domain, generate a request for earthkit-data / cdsapi. \"\"\"\n",
    "    bbox = domain.bbox.to_latlon_bbox()\n",
    "\n",
    "    # Round\n",
    "    north = int(np.ceil(bbox.north) + 1)\n",
    "    south = int(np.floor(bbox.south) - 1)\n",
    "    west = int(np.floor(bbox.west) - 1)\n",
    "    east = int(np.ceil(bbox.east) + 1)\n",
    "    \n",
    "    area = [north, west, south, east]\n",
    "    return {\"area\": area}"
   ]
  },
  {
   "cell_type": "markdown",
   "id": "6cdb1830-c186-4e2c-a3c2-09280a37fd27",
   "metadata": {},
   "source": [
    "##### Data (pre-)processing"
   ]
  },
  {
   "cell_type": "code",
   "execution_count": null,
   "id": "75d15633-448f-4f54-858e-d680a4143c3b",
   "metadata": {},
   "outputs": [],
   "source": [
    "## Loops for convenience\n",
    "def loop_over_(*args, progress=True, **kwargs) -> tqdm:\n",
    "    \"\"\" Generate a tqdm progressbar; inverts `disable` keyword \"\"\"\n",
    "    return tqdm(*args, disable=not progress, leave=False, **kwargs)\n",
    "\n",
    "def loop_over_ensemble_members(data: xr.Dataset, **tqdm_kwargs) -> tqdm:\n",
    "    \"\"\" Loop over ensemble members in `data`, with a progress bar. \"\"\"\n",
    "    return loop_over_(data.groupby(\"number\"), unit=\"member\", **tqdm_kwargs)\n",
    "\n",
    "def loop_over_data_variables(data: xr.Dataset, **tqdm_kwargs) -> tqdm:\n",
    "    \"\"\" Loop over variable keys in `data`, with a progress bar. \"\"\"\n",
    "    return loop_over_(data.data_vars.keys(), unit=\"variable\", **tqdm_kwargs)"
   ]
  },
  {
   "cell_type": "markdown",
   "id": "d7dd4106-ee17-4d10-9343-39ea0c7f4946",
   "metadata": {},
   "source": [
    "##### Visualisation"
   ]
  },
  {
   "cell_type": "code",
   "execution_count": null,
   "id": "1fe6d968-0517-4b93-8a3c-f6d0860f5c82",
   "metadata": {},
   "outputs": [],
   "source": [
    "def _add_textbox_to_subplots(text: str, *axs: Iterable[plt.Axes | ekp.Subplot], right=False) -> None:\n",
    "    \"\"\" Add a text box to each of the specified subplots. \"\"\"\n",
    "    # Get the plt.Axes for each ekp.Subplot\n",
    "    axs = [subplot.ax if isinstance(subplot, ekp.Subplot) else subplot for subplot in axs]\n",
    "\n",
    "    # Set up location\n",
    "    x = 0.95 if right else 0.05\n",
    "    horizontalalignment = \"right\" if right else \"left\"\n",
    "\n",
    "    # Add the text\n",
    "    for ax in axs:\n",
    "        ax.text(x, 0.95, text, transform=ax.transAxes,\n",
    "        horizontalalignment=horizontalalignment, verticalalignment=\"top\",\n",
    "        bbox={\"facecolor\": \"white\", \"edgecolor\": \"black\", \"boxstyle\": \"round\",\n",
    "              \"alpha\": 1})"
   ]
  },
  {
   "cell_type": "code",
   "execution_count": null,
   "id": "a927df48-b63d-40c3-b25a-5c801a5fe6ef",
   "metadata": {},
   "outputs": [],
   "source": [
    "def decorate_fig(fig: ekp.Figure, *, title: Optional[str]=\"\") -> None:\n",
    "    \"\"\" Decorate an earthkit figure with land, coastlines, etc. \"\"\"\n",
    "    # Add progress bar because individual steps can be very slow for large plots\n",
    "    with tqdm(total=5, desc=\"Decorating\", leave=False) as progressbar:\n",
    "        fig.land()\n",
    "        progressbar.update()\n",
    "        fig.coastlines()\n",
    "        progressbar.update()\n",
    "        fig.borders()\n",
    "        progressbar.update()\n",
    "        fig.gridlines(linestyle=plt.rcParams[\"grid.linestyle\"])\n",
    "        progressbar.update()\n",
    "        fig.title(title)\n",
    "        progressbar.update()"
   ]
  },
  {
   "cell_type": "markdown",
   "id": "0d4a80a0-4be0-4254-b1fb-fc43e1fd0771",
   "metadata": {},
   "source": [
    "(section-analysis)=\n",
    "### 2. Analysis"
   ]
  },
  {
   "cell_type": "markdown",
   "id": "b99e7f64-1b95-4593-b90a-763ed0aa19b1",
   "metadata": {},
   "source": [
    "#### WFDE5"
   ]
  },
  {
   "cell_type": "code",
   "execution_count": null,
   "id": "f7a4ba63-26a2-4020-b7ee-441cfcb808aa",
   "metadata": {},
   "outputs": [],
   "source": [
    "# domain = ekp.geo.domains.Domain.from_string(\"Europe\")\n",
    "domain = ekp.geo.domains.Domain.from_string(\"Italy\")  # Smaller domain for testing\n",
    "year = 2040\n",
    "months = list(range(1, 13))"
   ]
  },
  {
   "cell_type": "code",
   "execution_count": null,
   "id": "407063b9-a8a8-4947-8078-dcf563d8e3c6",
   "metadata": {},
   "outputs": [],
   "source": [
    "request_domain = domain_to_request(domain)\n",
    "\n",
    "request_time = {\n",
    "    \"year\": [f\"{year}\"],\n",
    "    \"month\": [f\"{month:02}\" for month in months],\n",
    "}"
   ]
  },
  {
   "cell_type": "code",
   "execution_count": null,
   "id": "b6056cea-53cf-45af-b518-32a91c999c12",
   "metadata": {},
   "outputs": [],
   "source": [
    "request_smp_base = {\n",
    "    \"origin\": \"nemo_ersem\",\n",
    "    \"vertical_resolution\": \"water_column\",\n",
    "    \"time_aggregation\": \"day\",\n",
    "    \"experiment\": [\"rcp8_5\"],\n",
    "    \"variable\": [\"total_chlorophyll_a\"],\n",
    "}"
   ]
  },
  {
   "cell_type": "code",
   "execution_count": null,
   "id": "16d40067-9b26-4087-95ef-ad5270834e69",
   "metadata": {},
   "outputs": [],
   "source": [
    "# Download WFDE5\n",
    "SMP_ID = \"sis-marine-properties\"\n",
    "\n",
    "request_smp = request_smp_base | request_time\n",
    "\n",
    "data_smp = ekd.from_source(\"cds\", SMP_ID, request_smp).to_xarray()\n",
    "data_smp = data_smp.chunk({\"depth\": -1})"
   ]
  },
  {
   "cell_type": "code",
   "execution_count": null,
   "id": "5669847d-0fd5-4e47-95d4-582b26c02552",
   "metadata": {},
   "outputs": [],
   "source": [
    "data_smp.sel(time=\"2040-08-31\", method=\"nearest\")"
   ]
  },
  {
   "cell_type": "code",
   "execution_count": null,
   "id": "9724c21f-0043-48a3-9fc8-39e8e6a009a4",
   "metadata": {},
   "outputs": [],
   "source": [
    "data_smp"
   ]
  },
  {
   "cell_type": "code",
   "execution_count": null,
   "id": "dfe0c1b1-2140-40e0-a23f-61cee2708656",
   "metadata": {},
   "outputs": [],
   "source": [
    "# Show variables\n",
    "date = \"2040-08-31\"\n",
    "surface = 0.5\n",
    "data = data_smp.sel(time=date, depth=surface, method=\"nearest\")\n",
    "n_var = len(data.data_vars)"
   ]
  },
  {
   "cell_type": "code",
   "execution_count": null,
   "id": "8934d424-8331-4ab8-bdd1-581cae2fc30f",
   "metadata": {},
   "outputs": [],
   "source": [
    "data[\"chl\"].max().values"
   ]
  },
  {
   "cell_type": "code",
   "execution_count": null,
   "id": "39d8ad6d-6cde-4bdd-920d-b3bb1cac8678",
   "metadata": {},
   "outputs": [],
   "source": [
    "# Show variables\n",
    "date = \"2040-08-31\"\n",
    "surface = 0.5\n",
    "data = data_smp.sel(time=date, depth=surface, method=\"nearest\")\n",
    "n_var = len(data.data_vars)\n",
    "fig = ekp.Figure(rows=n_var, columns=1, size=(4, 4*n_var))\n",
    "\n",
    "# Plot single variable\n",
    "subplot = fig.add_map(domain=\"Europe\")\n",
    "subplot.grid_cells(data, z=\"chl\")#, style=styles[var])\n",
    "\n",
    "# Legend at the bottom\n",
    "for subplot in fig.subplots:\n",
    "    try:\n",
    "        subplot.legend(location=\"right\")\n",
    "    except ValueError:\n",
    "        continue\n",
    "\n",
    "# Decorate figures\n",
    "decorate_fig(fig)\n",
    "\n",
    "# Show result\n",
    "plt.show()\n",
    "plt.close()"
   ]
  },
  {
   "cell_type": "markdown",
   "id": "b2c01023-a677-4892-a143-3566fcea44cd",
   "metadata": {},
   "source": [
    "#### ERA5"
   ]
  },
  {
   "cell_type": "code",
   "execution_count": null,
   "id": "cdcabd97-82c6-49b7-98f6-527946644f39",
   "metadata": {},
   "outputs": [],
   "source": []
  },
  {
   "cell_type": "markdown",
   "id": "a7a8e4a3-f468-4c66-b194-ac86a335bffa",
   "metadata": {
    "editable": true,
    "papermill": {
     "duration": 0.245188,
     "end_time": "2024-03-08T17:39:21.277354",
     "exception": false,
     "start_time": "2024-03-08T17:39:21.032166",
     "status": "completed"
    },
    "slideshow": {
     "slide_type": ""
    },
    "tags": []
   },
   "source": [
    "(section-results)=\n",
    "### 5. Results\n",
    "\n",
    "#### Results Subsections\n",
    "Describe what is done in this step/section and what the `code` in the cell does (if code is included). \n",
    "\n",
    "If this is the **results section**, we expect the final plots to be created here with a description of how to interpret them, and what information can be extracted for the specific use case and user question. The information in the 'quality assessment statement' should be derived here. "
   ]
  },
  {
   "cell_type": "code",
   "execution_count": null,
   "id": "22",
   "metadata": {
    "editable": true,
    "papermill": {
     "duration": 3.749769,
     "end_time": "2024-03-08T17:24:00.248720",
     "exception": false,
     "start_time": "2024-03-08T17:23:56.498951",
     "status": "completed"
    },
    "slideshow": {
     "slide_type": ""
    },
    "tags": [
     "hide-input"
    ]
   },
   "outputs": [],
   "source": [
    "# collapsable code cell\n",
    "\n",
    "# code is included for transparency but also learning purposes and gives users the chance to adapt the code used for the assessment as they wish"
   ]
  },
  {
   "cell_type": "markdown",
   "id": "23",
   "metadata": {
    "editable": true,
    "papermill": {
     "duration": 0.271597,
     "end_time": "2024-03-08T17:40:01.664067",
     "exception": false,
     "start_time": "2024-03-08T17:40:01.392470",
     "status": "completed"
    },
    "slideshow": {
     "slide_type": ""
    },
    "tags": []
   },
   "source": [
    "## ℹ️ If you want to know more\n",
    "\n",
    "### Key resources\n",
    "\n",
    "List some key resources related to this assessment. E.g. CDS entries, applications, dataset documentation, external pages.\n",
    "Also list any code libraries used (if applicable).\n",
    "\n",
    "Code libraries used:\n",
    "* \n",
    "\n",
    "### References\n",
    "\n",
    "List the references used in the Notebook here.\n",
    "\n",
    "E.g.\n",
    "\n",
    "[[1]](https://doi.org/10.1038/s41598-018-20628-2) Rodriguez, D., De Voil, P., Hudson, D., Brown, J. N., Hayman, P., Marrou, H., & Meinke, H. (2018). Predicting optimum crop designs using crop models and seasonal climate forecasts. Scientific reports, 8(1), 2231."
   ]
  }
 ],
 "metadata": {
  "kernelspec": {
   "display_name": "Python 3 (ipykernel)",
   "language": "python",
   "name": "python3"
  },
  "language_info": {
   "codemirror_mode": {
    "name": "ipython",
    "version": 3
   },
   "file_extension": ".py",
   "mimetype": "text/x-python",
   "name": "python",
   "nbconvert_exporter": "python",
   "pygments_lexer": "ipython3",
   "version": "3.12.3"
  },
  "papermill": {
   "default_parameters": {},
   "duration": 968.520731,
   "end_time": "2024-03-08T17:40:03.783430",
   "environment_variables": {},
   "exception": null,
   "input_path": "D520.3.2.3b.SEASONAL_multimodel-bias_v5.ipynb",
   "output_path": "output.ipynb",
   "parameters": {},
   "start_time": "2024-03-08T17:23:55.262699",
   "version": "2.4.0"
  }
 },
 "nbformat": 4,
 "nbformat_minor": 5
}
