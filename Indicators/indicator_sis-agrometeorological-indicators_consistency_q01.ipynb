{
 "cells": [
  {
   "cell_type": "markdown",
   "id": "0",
   "metadata": {},
   "source": [
    "# AgERA5 assessment"
   ]
  },
  {
   "cell_type": "markdown",
   "id": "1",
   "metadata": {},
   "source": [
    "Production date: DD-MM-2025\n",
    "**Please note that this repository is used for development and review, so quality assessments should be considered work in progress until they are merged into the main branch.**\n",
    "\n",
    "Dataset version: 2.0.\n",
    "\n",
    "Produced by: C3S2_521 contract."
   ]
  },
  {
   "cell_type": "markdown",
   "id": "2",
   "metadata": {
    "editable": true,
    "slideshow": {
     "slide_type": ""
    },
    "tags": []
   },
   "source": [
    "## 🌍 Use case: Use case listed here in full "
   ]
  },
  {
   "cell_type": "markdown",
   "id": "3",
   "metadata": {},
   "source": [
    "## ❓ Quality assessment question\n",
    "* **In most cases there should be one question listed here in bold**\n",
    "* **(In some cases a second related/follow-up question may be included)**"
   ]
  },
  {
   "cell_type": "markdown",
   "id": "4",
   "metadata": {
    "tags": []
   },
   "source": [
    "A very short introduction before the assessment statement describing approach taken to answer the user question. One or two key references could be useful,  if the assessment summarises literature (referenced directly in the text, or with numerical labels like this (also listed at the end) `[[1]](https://doi.org/10.1038/s41598-018-20628-2))`giving: [[1]](https://doi.org/10.1038/s41598-018-20628-2)).\n",
    "\n",
    "[[CDS AgERA5]](https://doi.org/10.24381/cds.6c68c9bb)."
   ]
  },
  {
   "attachments": {},
   "cell_type": "markdown",
   "id": "5",
   "metadata": {
    "tags": []
   },
   "source": [
    "## 📢 Quality assessment statement\n",
    "\n",
    "```{admonition} These are the key outcomes of this assessment\n",
    ":class: note\n",
    "* Finding 1\n",
    "* Finding 2\n",
    "* Finding 3\n",
    "* etc\n",
    "```"
   ]
  },
  {
   "cell_type": "markdown",
   "id": "6",
   "metadata": {
    "editable": true,
    "slideshow": {
     "slide_type": ""
    },
    "tags": []
   },
   "source": [
    "## 📋 Methodology\n",
    "\n",
    "**Agrometeorological indicators from 1979 to present derived from reanalysis** (*AgERA5*; [doi 10.24381/cds.6c68c9bb](https://doi.org/10.24381/cds.6c68c9bb)).\n",
    "\n",
    "A ‘free text’ introduction to the data analysis steps or a description of the literature synthesis, with a justification of the approach taken, and limitations mentioned. **Mention which CDS catalogue entry is used, including a link, and also any other entries used for the assessment**.\n",
    "\n",
    "* These headings can be specific to the quality assessment, and help guide the user through the ‘story’ of the assessment. This means we cannot pre-define the sections and headings here, as they will be different for each assessment.\n",
    "* Sub-bullets could be used to outline what will be done/shown/discussed in each section\n",
    "* The list below is just an example, or may need more or fewer sections, with different headings\n",
    "\n",
    "The analysis and results are organised in the following steps, which are detailed in the sections below:\n",
    "\n",
    "**[](section-setup)**\n",
    " * Sub-steps or key points listed in bullet below. No strict requirement to match and link to sub-headings.\n",
    "\n",
    "**[](section-analysis)**\n",
    " * Sub-steps or key points listed in bullet below. No strict requirement to match and link to sub-headings.\n",
    "\n",
    "**[](section-3)**\n",
    " * Sub-steps or key points listed in bullet below. No strict requirement to match and link to sub-headings.\n",
    "\n",
    "**[](section-4)**\n",
    " * Sub-steps or key points listed in bullet below. No strict requirement to match and link to sub-headings.\n",
    " \n",
    "**[](section-5)** \n",
    " * Sub-steps or key points listed in bullet below. No strict requirement to match and link to sub-headings.\n",
    "\n",
    "Any further notes on the method could go here (explanations, caveats or limitations)."
   ]
  },
  {
   "cell_type": "markdown",
   "id": "7",
   "metadata": {},
   "source": [
    "## 📈 Analysis and results"
   ]
  },
  {
   "cell_type": "markdown",
   "id": "8",
   "metadata": {
    "editable": true,
    "papermill": {
     "duration": 0.007051,
     "end_time": "2024-03-08T17:23:56.492658",
     "exception": false,
     "start_time": "2024-03-08T17:23:56.485607",
     "status": "completed"
    },
    "slideshow": {
     "slide_type": ""
    },
    "tags": []
   },
   "source": [
    "(section-setup)=\n",
    "### 1. Data and code setup\n",
    "\n",
    "#### Import required packages\n",
    "```{note}\n",
    "This notebook uses [earthkit](https://github.com/ecmwf/earthkit) for \n",
    "downloading ([earthkit-data](https://github.com/ecmwf/earthkit-data)) \n",
    "and visualising ([earthkit-plots](https://github.com/ecmwf/earthkit-plots)) data.\n",
    "Because earthkit is in active development, some functionality may change after this notebook is published.\n",
    "If any part of the code stops functioning, please raise an issue on our GitHub repository so it can be fixed.\n",
    "```"
   ]
  },
  {
   "cell_type": "code",
   "execution_count": null,
   "id": "9",
   "metadata": {
    "editable": true,
    "slideshow": {
     "slide_type": ""
    },
    "tags": [
     "hide-input"
    ]
   },
   "outputs": [],
   "source": [
    "import earthkit.data as ekd\n",
    "import earthkit.plots as ekp\n",
    "import numpy as np\n",
    "from matplotlib import pyplot as plt"
   ]
  },
  {
   "cell_type": "markdown",
   "id": "10",
   "metadata": {},
   "source": [
    "#### Define request and download\n",
    "We now define our parameters, i.e. which parts of the dataset we want to download.\n",
    "This is done in multiple steps so it can be easily adapted to a different use case (time, location, crop, variable).\n",
    "We first set up the default parameters, which should always be included:"
   ]
  },
  {
   "cell_type": "code",
   "execution_count": null,
   "id": "11",
   "metadata": {},
   "outputs": [],
   "source": [
    "dataset_ID = \"sis-agrometeorological-indicators\"\n",
    "\n",
    "request_default = {\n",
    "    \"version\": \"2_0\",\n",
    "}"
   ]
  },
  {
   "cell_type": "markdown",
   "id": "12",
   "metadata": {},
   "source": [
    "Next, we choose our time parameters, in this case every day in January–September 2024:"
   ]
  },
  {
   "cell_type": "code",
   "execution_count": null,
   "id": "13",
   "metadata": {},
   "outputs": [],
   "source": [
    "request_time = {\n",
    "    \"year\": \"2024\",\n",
    "    \"month\": [f\"{mo:02}\" for mo in range(1, 10)],\n",
    "    \"day\": [f\"{d:02}\" for d in range(1, 32)],\n",
    "}"
   ]
  },
  {
   "cell_type": "markdown",
   "id": "14",
   "metadata": {},
   "source": [
    "Next, we choose our geographical range, in this example the United Kingdom and Ireland:"
   ]
  },
  {
   "cell_type": "code",
   "execution_count": null,
   "id": "15",
   "metadata": {},
   "outputs": [],
   "source": [
    "request_domain = {\n",
    "    \"area\": [60, -12, 48, 4]  # North, West, South, East\n",
    "}"
   ]
  },
  {
   "cell_type": "markdown",
   "id": "16",
   "metadata": {},
   "source": [
    "Last, we specify the variables of interest:"
   ]
  },
  {
   "cell_type": "code",
   "execution_count": null,
   "id": "17",
   "metadata": {},
   "outputs": [],
   "source": [
    "request_temperature_max = {\n",
    "    \"variable\": \"2m_temperature\",\n",
    "    \"statistic\": [\"24_hour_maximum\"],\n",
    "}\n",
    "\n",
    "request_temperature_min = {\n",
    "    \"variable\": \"2m_temperature\",\n",
    "    \"statistic\": [\"24_hour_minimum\"],\n",
    "}\n",
    "\n",
    "request_radiation = {\n",
    "    \"variable\": \"solar_radiation_flux\",\n",
    "}\n",
    "\n",
    "request_vapour_mean = {\n",
    "    \"variable\": \"vapour_pressure\",\n",
    "    \"statistic\": [\"24_hour_mean\"],\n",
    "}\n",
    "\n",
    "request_wind_mean = {\n",
    "    \"variable\": \"10m_wind_speed\",\n",
    "    \"statistic\": [\"24_hour_mean\"],\n",
    "}\n",
    "\n",
    "request_rain = {\n",
    "    \"variable\": \"precipitation_flux\",\n",
    "}\n",
    "\n",
    "request_snow = {\n",
    "    \"variable\": \"snow_thickness\",\n",
    "    \"statistic\": [\"24_hour_mean\"],\n",
    "}"
   ]
  },
  {
   "cell_type": "markdown",
   "id": "18",
   "metadata": {},
   "source": [
    "The requests for specific variables are combined with the default, time, and domain parameters and passed to earthkit for download from the CDS:"
   ]
  },
  {
   "cell_type": "code",
   "execution_count": null,
   "id": "19",
   "metadata": {},
   "outputs": [],
   "source": [
    "def make_full_request(request: dict) -> dict:\n",
    "    return request_default | request_time | request_domain | request\n",
    "\n",
    "requests_all_combined = [make_full_request(request) for request in (request_temperature_max, \n",
    "                                                                    request_temperature_min, \n",
    "                                                                    request_radiation, \n",
    "                                                                    request_vapour_mean, \n",
    "                                                                    request_wind_mean, \n",
    "                                                                    request_rain, \n",
    "                                                                    # request_snow,\n",
    "                                                                   )]\n",
    "\n",
    "ds = ekd.from_source(\"cds\", dataset_ID, *requests_all_combined)"
   ]
  },
  {
   "cell_type": "markdown",
   "id": "20",
   "metadata": {},
   "source": [
    "As a check, we can print the downloaded dataset to inspect its structure:"
   ]
  },
  {
   "cell_type": "code",
   "execution_count": null,
   "id": "21",
   "metadata": {},
   "outputs": [],
   "source": [
    "ds.to_xarray()"
   ]
  },
  {
   "cell_type": "markdown",
   "id": "22",
   "metadata": {
    "editable": true,
    "papermill": {
     "duration": 0.007051,
     "end_time": "2024-03-08T17:23:56.492658",
     "exception": false,
     "start_time": "2024-03-08T17:23:56.485607",
     "status": "completed"
    },
    "slideshow": {
     "slide_type": ""
    },
    "tags": []
   },
   "source": [
    "(section-analysis)=\n",
    "### 2. Analysis\n",
    "\n",
    "#### Subsections\n",
    "Describe what is done in this step/section and what the `code` in the cell does (if code is included)."
   ]
  },
  {
   "cell_type": "markdown",
   "id": "23",
   "metadata": {
    "editable": true,
    "papermill": {
     "duration": 0.007051,
     "end_time": "2024-03-08T17:23:56.492658",
     "exception": false,
     "start_time": "2024-03-08T17:23:56.485607",
     "status": "completed"
    },
    "slideshow": {
     "slide_type": ""
    },
    "tags": []
   },
   "source": [
    "(section-3)=\n",
    "### 3. Section 3 title\n",
    "\n",
    "#### Subsections\n",
    "Describe what is done in this step/section and what the `code` in the cell does (if code is included)."
   ]
  },
  {
   "cell_type": "markdown",
   "id": "24",
   "metadata": {
    "editable": true,
    "papermill": {
     "duration": 0.007051,
     "end_time": "2024-03-08T17:23:56.492658",
     "exception": false,
     "start_time": "2024-03-08T17:23:56.485607",
     "status": "completed"
    },
    "slideshow": {
     "slide_type": ""
    },
    "tags": []
   },
   "source": [
    "(section-4)=\n",
    "### 4. Sel examples\n",
    "\n",
    "For reference"
   ]
  },
  {
   "cell_type": "code",
   "execution_count": null,
   "id": "25",
   "metadata": {},
   "outputs": [],
   "source": [
    "domain = ekp.geo.domains.union([\"United Kingdom\", \"Ireland\"], name=\"UK & Ireland\")"
   ]
  },
  {
   "cell_type": "code",
   "execution_count": null,
   "id": "26",
   "metadata": {},
   "outputs": [],
   "source": [
    "oneday = ds.sel(date=20240505)"
   ]
  },
  {
   "cell_type": "code",
   "execution_count": null,
   "id": "27",
   "metadata": {},
   "outputs": [],
   "source": [
    "ekp.quickplot(oneday, domain=domain, units=\"celsius\")"
   ]
  },
  {
   "cell_type": "code",
   "execution_count": null,
   "id": "28",
   "metadata": {},
   "outputs": [],
   "source": [
    "temperature = ds.sel(variable=\"Temperature_Air_2m_Max_24h\")\n",
    "chart = ekp.Map(domain=domain)\n",
    "chart.contourf(temperature.sel(date=20240505), units=\"celsius\", levels={\"step\": 2})\n",
    "chart.land()\n",
    "chart.coastlines()\n",
    "chart.gridlines()\n",
    "chart.legend()\n",
    "chart.title()\n",
    "chart.show()"
   ]
  },
  {
   "cell_type": "code",
   "execution_count": null,
   "id": "29",
   "metadata": {},
   "outputs": [],
   "source": [
    "rad = ds.sel(variable=\"Solar_Radiation_Flux\")\n",
    "chart = ekp.Map(domain=domain)\n",
    "chart.contourf(rad.sel(date=20240505))\n",
    "chart.land()\n",
    "chart.coastlines()\n",
    "chart.gridlines()\n",
    "chart.legend()\n",
    "chart.title()\n",
    "chart.show()"
   ]
  },
  {
   "cell_type": "markdown",
   "id": "30",
   "metadata": {
    "editable": true,
    "papermill": {
     "duration": 0.245188,
     "end_time": "2024-03-08T17:39:21.277354",
     "exception": false,
     "start_time": "2024-03-08T17:39:21.032166",
     "status": "completed"
    },
    "slideshow": {
     "slide_type": ""
    },
    "tags": []
   },
   "source": [
    "(section-5)=\n",
    "### 5. Section 5 title \n",
    "\n",
    "#### Results Subsections\n",
    "Describe what is done in this step/section and what the `code` in the cell does (if code is included). \n",
    "\n",
    "If this is the **results section**, we expect the final plots to be created here with a description of how to interpret them, and what information can be extracted for the specific use case and user question. The information in the 'quality assessment statement' should be derived here. "
   ]
  },
  {
   "cell_type": "markdown",
   "id": "31",
   "metadata": {
    "editable": true,
    "papermill": {
     "duration": 0.271597,
     "end_time": "2024-03-08T17:40:01.664067",
     "exception": false,
     "start_time": "2024-03-08T17:40:01.392470",
     "status": "completed"
    },
    "slideshow": {
     "slide_type": ""
    },
    "tags": []
   },
   "source": [
    "## ℹ️ If you want to know more\n",
    "\n",
    "### Key resources\n",
    "\n",
    "List some key resources related to this assessment. E.g. CDS entries, applications, dataset documentation, external pages.\n",
    "Also list any code libraries used (if applicable).\n",
    "\n",
    "Code libraries used:\n",
    "* Earthkit\n",
    "  * [earthkit-data](https://github.com/ecmwf/earthkit)\n",
    "  * [earthkit-plots](https://github.com/ecmwf/earthkit-plots)\n",
    "\n",
    "### References\n",
    "[[CDS AgERA5]](https://doi.org/10.24381/cds.6c68c9bb) Boogaard, H., Schubert, J., De Wit, A., Lazebnik, J., Hutjes, R., Van der Grijn, G., (2020): Agrometeorological indicators from 1979 to present derived from reanalysis. Copernicus Climate Change Service (C3S) Climate Data Store (CDS). DOI: 10.24381/cds.6c68c9bb (Accessed on DD-MMM-YYYY)"
   ]
  }
 ],
 "metadata": {
  "language_info": {
   "codemirror_mode": {
    "name": "ipython",
    "version": 3
   },
   "file_extension": ".py",
   "mimetype": "text/x-python",
   "name": "python",
   "nbconvert_exporter": "python",
   "pygments_lexer": "ipython3",
   "version": "3.12.3"
  },
  "papermill": {
   "default_parameters": {},
   "duration": 968.520731,
   "end_time": "2024-03-08T17:40:03.783430",
   "environment_variables": {},
   "exception": null,
   "input_path": "D520.3.2.3b.SEASONAL_multimodel-bias_v5.ipynb",
   "output_path": "output.ipynb",
   "parameters": {},
   "start_time": "2024-03-08T17:23:55.262699",
   "version": "2.4.0"
  }
 },
 "nbformat": 4,
 "nbformat_minor": 5
}
