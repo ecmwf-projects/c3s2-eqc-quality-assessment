{
 "cells": [
  {
   "cell_type": "markdown",
   "id": "0",
   "metadata": {},
   "source": [
    "# Validation and intercomparison of AgERA5 and other reanalysis datasets for agricultural applications"
   ]
  },
  {
   "cell_type": "markdown",
   "id": "1",
   "metadata": {},
   "source": [
    "Production date: DD-MM-2025\n",
    "\n",
    "**Please note that this repository is used for development and review, so quality assessments should be considered work in progress until they are merged into the main branch.**\n",
    "\n",
    "Dataset version: 2.0.\n",
    "\n",
    "Produced by: C3S2_521 contract."
   ]
  },
  {
   "cell_type": "markdown",
   "id": "2",
   "metadata": {
    "editable": true,
    "slideshow": {
     "slide_type": ""
    },
    "tags": []
   },
   "source": [
    "## 🌍 Use case: Agricultural yield estimation and prediction based on reanalysis data"
   ]
  },
  {
   "cell_type": "markdown",
   "id": "3",
   "metadata": {},
   "source": [
    "## ❓ Quality assessment question\n",
    "* How do reanalysis datasets compare to observations, and to each other, for agriculturally relevant variables?"
   ]
  },
  {
   "cell_type": "markdown",
   "id": "4",
   "metadata": {
    "tags": []
   },
   "source": [
    "A very short introduction before the assessment statement describing approach taken to answer the user question. One or two key references could be useful,  if the assessment summarises literature (referenced directly in the text, or with numerical labels like this (also listed at the end) `[[1]](https://doi.org/10.1038/s41598-018-20628-2))`giving: [[1]](https://doi.org/10.1038/s41598-018-20628-2)).\n",
    "\n",
    "[[CDS AgERA5]](https://doi.org/10.24381/cds.6c68c9bb)."
   ]
  },
  {
   "attachments": {},
   "cell_type": "markdown",
   "id": "5",
   "metadata": {
    "tags": []
   },
   "source": [
    "## 📢 Quality assessment statement\n",
    "\n",
    "```{admonition} These are the key outcomes of this assessment\n",
    ":class: note\n",
    "* Finding 1\n",
    "* Finding 2\n",
    "* Finding 3\n",
    "* etc\n",
    "```"
   ]
  },
  {
   "cell_type": "markdown",
   "id": "6",
   "metadata": {
    "editable": true,
    "slideshow": {
     "slide_type": ""
    },
    "tags": []
   },
   "source": [
    "## 📋 Methodology\n",
    "\n",
    "**Agrometeorological indicators from 1979 to present derived from reanalysis** (*AgERA5*; [doi 10.24381/cds.6c68c9bb](https://doi.org/10.24381/cds.6c68c9bb)).\n",
    "\n",
    "A ‘free text’ introduction to the data analysis steps or a description of the literature synthesis, with a justification of the approach taken, and limitations mentioned. **Mention which CDS catalogue entry is used, including a link, and also any other entries used for the assessment**.\n",
    "\n",
    "---\n",
    "Variables of interest for a crop growth simulator such as [PCSE/WOFOST](https://github.com/ajwdewit/pcse):\n",
    "\n",
    "| Variable name     | Statistics | Unit     | Example assessment |\n",
    "|-------------------|------------|----------|--------------------|\n",
    "| Solar irradiation | 24 h total | J/m²/day | example |\n",
    "| 2 m temperature   | 24 h min   | °C       | example |\n",
    "|                   | 24 h max   |          |         |\n",
    "|                   | 24 h mean  |          |         |\n",
    "| Vapour pressure   | 24 h mean  | kPa      | example |\n",
    "| Rain              | 24 h total | cm/day   | example |\n",
    "| 2 m Wind speed    | 24 h mean  | m/s      | example |\n",
    "| Snow depth        | ?24 h mean | cm       | example |\n",
    "\n",
    "[Source](https://pcse.readthedocs.io/en/stable/code.html#pcse.base.WeatherDataContainer)\n",
    "E0, ES0, ET0 are taken from evapotranspiration calculation\n",
    "\n",
    "---\n",
    "\n",
    "* These headings can be specific to the quality assessment, and help guide the user through the ‘story’ of the assessment. This means we cannot pre-define the sections and headings here, as they will be different for each assessment.\n",
    "* Sub-bullets could be used to outline what will be done/shown/discussed in each section\n",
    "* The list below is just an example, or may need more or fewer sections, with different headings\n",
    "\n",
    "The analysis and results are organised in the following steps, which are detailed in the sections below:\n",
    "\n",
    "**[](section-setup)**\n",
    "\n",
    "**[](section-download)**\n",
    " * AgERA5, ERA5-Land, E-OBS, ...\n",
    "\n",
    "**[](section-test)**\n",
    " * Sub-steps or key points listed in bullet below. No strict requirement to match and link to sub-headings.\n",
    "**[](section-time)**\n",
    " \n",
    "**[](section-results)** \n",
    " * Sub-steps or key points listed in bullet below. No strict requirement to match and link to sub-headings.\n",
    "\n",
    "Any further notes on the method could go here (explanations, caveats or limitations)."
   ]
  },
  {
   "cell_type": "markdown",
   "id": "7",
   "metadata": {},
   "source": [
    "## 📈 Analysis and results"
   ]
  },
  {
   "cell_type": "markdown",
   "id": "8",
   "metadata": {
    "editable": true,
    "papermill": {
     "duration": 0.007051,
     "end_time": "2024-03-08T17:23:56.492658",
     "exception": false,
     "start_time": "2024-03-08T17:23:56.485607",
     "status": "completed"
    },
    "slideshow": {
     "slide_type": ""
    },
    "tags": []
   },
   "source": [
    "(section-setup)=\n",
    "### 1. Code setup\n",
    "```{note}\n",
    "This notebook uses [earthkit](https://github.com/ecmwf/earthkit) for \n",
    "downloading ([earthkit-data](https://github.com/ecmwf/earthkit-data)) \n",
    "and \n",
    "visualising ([earthkit-plots](https://github.com/ecmwf/earthkit-plots)) data.\n",
    "Because earthkit is in active development, some functionality may change after this notebook is published.\n",
    "If any part of the code stops functioning, please raise an issue on our GitHub repository so it can be fixed.\n",
    "```"
   ]
  },
  {
   "cell_type": "code",
   "execution_count": null,
   "id": "9",
   "metadata": {
    "editable": true,
    "slideshow": {
     "slide_type": ""
    },
    "tags": [
     "hide-input"
    ]
   },
   "outputs": [],
   "source": [
    "import earthkit.data as ekd\n",
    "import earthkit.plots as ekp\n",
    "import xarray as xr\n",
    "from matplotlib import pyplot as plt"
   ]
  },
  {
   "cell_type": "markdown",
   "id": "10",
   "metadata": {},
   "source": [
    "(section-download)=\n",
    "### 2. Download data\n",
    "#### General setup\n",
    "This notebook uses [earthkit-data](https://github.com/ecmwf/earthkit-data) to download files from the CDS.\n",
    "If you intend to run this notebook multiple times, it is highly recommended that you [enable caching](https://earthkit-data.readthedocs.io/en/latest/guide/caching.html) to prevent having to download the same files multiple times.\n",
    "\n",
    "We will be downloading multiple datasets in this notebook.\n",
    "In this section, we define the parameters common to all datasets: time and space.\n",
    "This way, these only need to be changed in one place if you wish to modify the notebook for your own use case.\n",
    "\n",
    "In this example, we will be looking at data for the United Kingdom and Ireland every day in January–September 2024:"
   ]
  },
  {
   "cell_type": "code",
   "execution_count": null,
   "id": "11",
   "metadata": {},
   "outputs": [],
   "source": [
    "request_domain = {\n",
    "    \"area\": [60, -12, 48, 4]  # North, West, South, East\n",
    "}"
   ]
  },
  {
   "cell_type": "code",
   "execution_count": null,
   "id": "12",
   "metadata": {},
   "outputs": [],
   "source": [
    "request_time = {\n",
    "    \"year\": \"2024\",\n",
    "    \"month\": [f\"{mo:02}\" for mo in range(1, 10)],\n",
    "    \"day\": [f\"{d:02}\" for d in range(1, 32)],\n",
    "}"
   ]
  },
  {
   "cell_type": "markdown",
   "id": "13",
   "metadata": {},
   "source": [
    "We can define a helper function that adds the time and domain parameters, as well as a dictionary of parameters specific to one dataset (e.g. AgERA5, ERA5-Land), to a number of requests:"
   ]
  },
  {
   "cell_type": "code",
   "execution_count": null,
   "id": "14",
   "metadata": {},
   "outputs": [],
   "source": [
    "def make_full_request(request_dataset: dict, *requests: dict) -> dict:\n",
    "    base_request = request_time | request_domain | request_dataset\n",
    "    updated_requests = [base_request | req for req in requests]\n",
    "    return updated_requests"
   ]
  },
  {
   "cell_type": "markdown",
   "id": "15",
   "metadata": {},
   "source": [
    "#### AgERA5\n",
    "We now define parameters unique to AgERA5:"
   ]
  },
  {
   "cell_type": "code",
   "execution_count": null,
   "id": "16",
   "metadata": {},
   "outputs": [],
   "source": [
    "agera5_ID = \"sis-agrometeorological-indicators\"\n",
    "\n",
    "request_agera5 = {\n",
    "    \"version\": \"2_0\",\n",
    "}"
   ]
  },
  {
   "cell_type": "markdown",
   "id": "17",
   "metadata": {},
   "source": [
    "Next, we specify the variables of interest:"
   ]
  },
  {
   "cell_type": "code",
   "execution_count": null,
   "id": "18",
   "metadata": {},
   "outputs": [],
   "source": [
    "request_irradiation = {\n",
    "    \"variable\": \"solar_radiation_flux\",\n",
    "}\n",
    "\n",
    "# Temperature has to be split into separate requests because of size limits\n",
    "request_temperature_min = {\n",
    "    \"variable\": \"2m_temperature\",\n",
    "    \"statistic\": [\"24_hour_minimum\"],\n",
    "}\n",
    "\n",
    "request_temperature_max = {\n",
    "    \"variable\": \"2m_temperature\",\n",
    "    \"statistic\": [\"24_hour_maximum\"],\n",
    "}\n",
    "\n",
    "request_temperature_mean = {\n",
    "    \"variable\": \"2m_temperature\",\n",
    "    \"statistic\": [\"24_hour_mean\"],\n",
    "}\n",
    "\n",
    "request_vapour_pressure = {\n",
    "    \"variable\": \"vapour_pressure\",\n",
    "    \"statistic\": [\"24_hour_mean\"],\n",
    "}\n",
    "\n",
    "request_rain = {\n",
    "    \"variable\": \"precipitation_flux\",\n",
    "}\n",
    "\n",
    "request_wind = {\n",
    "    \"variable\": \"10m_wind_speed\",\n",
    "    \"statistic\": [\"24_hour_mean\"],\n",
    "}\n",
    "\n",
    "request_snow = {\n",
    "    \"variable\": \"snow_thickness\",\n",
    "    \"statistic\": [\"24_hour_mean\"],\n",
    "}"
   ]
  },
  {
   "cell_type": "markdown",
   "id": "19",
   "metadata": {},
   "source": [
    "The requests for specific variables are combined with the default, time, and domain parameters and passed to earthkit for download from the CDS:"
   ]
  },
  {
   "cell_type": "code",
   "execution_count": null,
   "id": "20",
   "metadata": {},
   "outputs": [],
   "source": [
    "requests_agera5_combined = make_full_request(request_agera5,\n",
    "                                             request_irradiation,\n",
    "                                             request_temperature_min, request_temperature_max, request_temperature_mean,\n",
    "                                             request_vapour_pressure,\n",
    "                                             request_rain,\n",
    "                                             request_wind,\n",
    "                                             request_snow,\n",
    "                                            )\n",
    "\n",
    "ds_agera5 = ekd.from_source(\"cds\", agera5_ID, *requests_agera5_combined)"
   ]
  },
  {
   "cell_type": "markdown",
   "id": "21",
   "metadata": {},
   "source": [
    "Earthkit-data downloads the dataset as a [field list](https://earthkit-data.readthedocs.io/en/latest/guide/data.html), which can be manipulated directly.\n",
    "Here, we convert it to an Xarray object for ease of use later (when comparing multiple datasets):"
   ]
  },
  {
   "cell_type": "code",
   "execution_count": null,
   "id": "22",
   "metadata": {},
   "outputs": [],
   "source": [
    "print(\"AgERA5 data type from earthkit-data:\", type(ds_agera5))\n",
    "data_agera5 = ds_agera5.to_xarray(compat=\"equals\")\n",
    "print(\"AgERA5 data type in Xarray:\", type(data_agera5))\n",
    "data_agera5"
   ]
  },
  {
   "cell_type": "markdown",
   "id": "23",
   "metadata": {},
   "source": [
    "#### ERA5-Land\n",
    "We now define parameters unique to ERA5-Land and the variables of interest.\n",
    "This will involve two CDS datasets.\n",
    "The [*ERA5-Land hourly data from 1950 to present*](https://doi.org/10.24381/cds.e2161bac) dataset contains hourly data for variables like 2m temperature as well as accumulated data for variables like solar irradiation.\n",
    "For the present use case, we are only interested in the daily accumulated data.\n",
    "[*ERA5-Land post-processed daily statistics from 1950 to present*](https://doi.org/10.24381/cds.e9c9c792) provides daily minimum/maximum/mean statistics for the hourly variables, saving us the effort of aggregating these ourselves.\n",
    "In the following subsections, we will download the data (accumulated and daily statistics) and harmonise these to the same format as AgERA5."
   ]
  },
  {
   "cell_type": "markdown",
   "id": "24",
   "metadata": {},
   "source": [
    "##### Accumulated data from ERA5-Land\n",
    "Per the [documentation for ERA5-Land](https://confluence.ecmwf.int/display/CKB/ERA5-Land%3A+data+documentation#heading-Accumulations):\n",
    "The accumulations in the short forecasts of ERA5-Land (with hourly steps from 01 to 24) are treated the same as those in ERA-Interim or ERA-Interim/Land, i.e., they are accumulated from the beginning of the forecast to the end of the forecast step. For example, runoff at day=D, step=12 will provide runoff accumulated from day=D, time=0 to day=D, time=12. The maximum accumulation is over 24 hours, i.e., from day=D, time=0 to day=D+1,time=0 (step=24). For the CDS time, or validity time, of 00 UTC, the accumulations are over the 24 hours ending at 00 UTC i.e. the accumulation is during the previous day.\n",
    "\n",
    "In practice, this means that we need to download data for *day+1* (e.g. 2 January 2024) to get the total accumulated value for *day* (1 January 2024).\n",
    "Our existing `request_time` will provide data for 2023-12-31 – 2024-09-29, so we need to add one extra day.\n",
    "This is achieved by adding a second request for just the last day to the earthkit-data download."
   ]
  },
  {
   "cell_type": "code",
   "execution_count": null,
   "id": "25",
   "metadata": {},
   "outputs": [],
   "source": [
    "era5land_ID = \"reanalysis-era5-land\"\n",
    "\n",
    "request_era5land = {\n",
    "    \"time\": [\"00:00\"],\n",
    "    \"data_format\": \"grib\",\n",
    "    \"download_format\": \"unarchived\",\n",
    "}\n",
    "\n",
    "request_era5land_extratime = {\n",
    "    \"month\": \"10\",\n",
    "    \"day\": \"01\",\n",
    "}"
   ]
  },
  {
   "cell_type": "code",
   "execution_count": null,
   "id": "26",
   "metadata": {},
   "outputs": [],
   "source": [
    "request_irradation = {\n",
    "    \"variable\": [\"surface_solar_radiation_downwards\"],\n",
    "}\n",
    "\n",
    "request_rain = {\n",
    "    \"variable\": [\"total_precipitation\"],\n",
    "}"
   ]
  },
  {
   "cell_type": "code",
   "execution_count": null,
   "id": "27",
   "metadata": {},
   "outputs": [],
   "source": [
    "request_era5land_irradiation, request_era5land_rain = make_full_request(request_era5land,\n",
    "                                                                        request_irradation,\n",
    "                                                                        request_rain,\n",
    "                                                                       )\n",
    "\n",
    "ds_era5land_irradiation = ekd.from_source(\"cds\", era5land_ID, request_era5land_irradiation, request_era5land_irradiation | request_era5land_extratime)\n",
    "ds_era5land_rain = ekd.from_source(\"cds\", era5land_ID, request_era5land_rain, request_era5land_rain | request_era5land_extratime)\n",
    "data_era5land_irradiation, data_era5land_rain = [ds.to_xarray() for ds in (ds_era5land_irradiation, ds_era5land_rain)]"
   ]
  },
  {
   "cell_type": "markdown",
   "id": "28",
   "metadata": {},
   "source": [
    "When we inspect the resulting dataset (in Xarray format), we see that the `forecast_reference_time` coordinate conveniently matches the variable to the day of accumulation:"
   ]
  },
  {
   "cell_type": "code",
   "execution_count": null,
   "id": "29",
   "metadata": {},
   "outputs": [],
   "source": [
    "data_era5land_irradiation"
   ]
  },
  {
   "cell_type": "markdown",
   "id": "30",
   "metadata": {},
   "source": [
    "##### Daily statistics from the post-processed ERA5-Land dataset\n",
    "The daily statistics are indexed according to the day they apply to, meaning we do not need to worry about adding extra days here."
   ]
  },
  {
   "cell_type": "code",
   "execution_count": null,
   "id": "31",
   "metadata": {},
   "outputs": [],
   "source": [
    "era5land_ID = \"derived-era5-land-daily-statistics\"\n",
    "\n",
    "request_era5land = {\n",
    "    \"time_zone\": \"utc+00:00\",\n",
    "    \"frequency\": \"1_hourly\",\n",
    "}"
   ]
  },
  {
   "cell_type": "code",
   "execution_count": null,
   "id": "32",
   "metadata": {},
   "outputs": [],
   "source": [
    "# Temperature has to be split into separate requests because of size limits\n",
    "request_temperature_min = {\n",
    "    \"variable\": \"2m_temperature\",\n",
    "    \"daily_statistic\": \"daily_minimum\",\n",
    "}\n",
    "\n",
    "request_temperature_max = {\n",
    "    \"variable\": \"2m_temperature\",\n",
    "    \"daily_statistic\": [\"daily_maximum\"],\n",
    "}\n",
    "\n",
    "request_temperature_mean = {\n",
    "    \"variable\": \"2m_temperature\",\n",
    "    \"daily_statistic\": [\"daily_mean\"],\n",
    "}\n",
    "\n",
    "# request_vapour_pressure : Not available\n",
    "\n",
    "request_wind_u = {\n",
    "    \"variable\": \"10m_u_component_of_wind\",\n",
    "    \"daily_statistic\": [\"daily_mean\"],\n",
    "}\n",
    "\n",
    "request_wind_v = {\n",
    "    \"variable\": \"10m_v_component_of_wind\",\n",
    "    \"daily_statistic\": [\"daily_mean\"],\n",
    "}\n",
    "\n",
    "request_snow = {\n",
    "    \"variable\": \"snow_depth\",\n",
    "    \"daily_statistic\": [\"daily_mean\"],\n",
    "}"
   ]
  },
  {
   "cell_type": "markdown",
   "id": "33",
   "metadata": {},
   "source": [
    "We download the different variables separately in anticipation of the harmonisation step in the next subsection:"
   ]
  },
  {
   "cell_type": "code",
   "execution_count": null,
   "id": "34",
   "metadata": {},
   "outputs": [],
   "source": [
    "requests_era5land_combined = make_full_request(request_era5land,\n",
    "                                               request_temperature_min, request_temperature_max, request_temperature_mean,\n",
    "                                               request_wind_u, request_wind_v,\n",
    "                                               request_snow\n",
    "                                              )\n",
    "\n",
    "ds_era5land = [ekd.from_source(\"cds\", era5land_ID, req) for req in requests_era5land_combined]\n",
    "data_era5land = [ds.to_xarray() for ds in ds_era5land]\n",
    "data_era5land_temperature_min, data_era5land_temperature_max, data_era5land_temperature_mean, data_era5land_wind_u, data_era5land_wind_v, data_era5land_snow = data_era5land"
   ]
  },
  {
   "cell_type": "markdown",
   "id": "35",
   "metadata": {},
   "source": [
    "##### Harmonisation\n",
    "The ERA5-Land dataset is structured differently from AgERA5 and requires some processing before the two can be intercompared.\n",
    "This involves renaming coordinates and variables.\n",
    "\n",
    "The temperature statistics are downloaded as simply `t2m`.\n",
    "These need to be renamed before they can be combined:"
   ]
  },
  {
   "cell_type": "code",
   "execution_count": null,
   "id": "36",
   "metadata": {},
   "outputs": [],
   "source": [
    "data_era5land_temperature_min = data_era5land_temperature_min.rename({\"t2m\": \"Temperature_Air_2m_Min_24h\"})\n",
    "data_era5land_temperature_max = data_era5land_temperature_max.rename({\"t2m\": \"Temperature_Air_2m_Max_24h\"})\n",
    "data_era5land_temperature_mean = data_era5land_temperature_mean.rename({\"t2m\": \"Temperature_Air_2m_Mean_24h\"})\n",
    "data_era5land_temperature = xr.merge([data_era5land_temperature_min, data_era5land_temperature_max, data_era5land_temperature_mean], compat=\"equals\")\n",
    "data_era5land_temperature"
   ]
  },
  {
   "cell_type": "markdown",
   "id": "37",
   "metadata": {},
   "source": [
    "The 10 m wind speed is calculated from the two variables representing its U (east–west) and V (north–south) components:"
   ]
  },
  {
   "cell_type": "code",
   "execution_count": null,
   "id": "38",
   "metadata": {},
   "outputs": [],
   "source": [
    "data_era5land_wind = xr.merge([data_era5land_wind_u, data_era5land_wind_v], compat=\"equals\")\n",
    "data_era5land_wind = data_era5land_wind.assign(\n",
    "    {\"Wind_Speed_10m_Mean_24h\": xr.ufuncs.sqrt(data_era5land_wind[\"u10\"]**2 + data_era5land_wind[\"v10\"]**2)}\n",
    ")\n",
    "data_era5land_wind"
   ]
  },
  {
   "cell_type": "markdown",
   "id": "39",
   "metadata": {},
   "source": [
    "Lastly, we rename the precipitation and snow parameters to match AgERA5:"
   ]
  },
  {
   "cell_type": "code",
   "execution_count": null,
   "id": "40",
   "metadata": {},
   "outputs": [],
   "source": [
    "# data_era5land_temperature_min = data_era5land_temperature_min.rename({\"t2m\": \"Temperature_Air_2m_Min_24h\"})\n",
    "data_era5land_snow = data_era5land_snow.rename({\"sde\": \"Snow_Thickness_Mean_24h\"})"
   ]
  },
  {
   "cell_type": "markdown",
   "id": "41",
   "metadata": {},
   "source": [
    "Now we can combine the pre-processed variables into a single Xarray dataset.\n",
    "We also rename the coordinates to match AgERA5."
   ]
  },
  {
   "cell_type": "code",
   "execution_count": null,
   "id": "42",
   "metadata": {},
   "outputs": [],
   "source": [
    "data_era5land = xr.merge([data_era5land_temperature, data_era5land_wind, data_era5land_snow], compat=\"equals\")\n",
    "data_era5land = data_era5land.rename({\"valid_time\": \"time\", \"latitude\": \"lat\", \"longitude\": \"lon\"})\n",
    "data_era5land"
   ]
  },
  {
   "cell_type": "markdown",
   "id": "43",
   "metadata": {},
   "source": [
    "#### E-OBS\n",
    "We now define parameters unique to E-OBS and the variables of interest:"
   ]
  },
  {
   "cell_type": "markdown",
   "id": "44",
   "metadata": {
    "editable": true,
    "papermill": {
     "duration": 0.007051,
     "end_time": "2024-03-08T17:23:56.492658",
     "exception": false,
     "start_time": "2024-03-08T17:23:56.485607",
     "status": "completed"
    },
    "slideshow": {
     "slide_type": ""
    },
    "tags": []
   },
   "source": [
    "(section-test)=\n",
    "### 4. Plotting maps"
   ]
  },
  {
   "cell_type": "code",
   "execution_count": null,
   "id": "45",
   "metadata": {},
   "outputs": [],
   "source": [
    "domain = ekp.geo.domains.union([\"United Kingdom\", \"Ireland\"], name=\"UK & Ireland\")"
   ]
  },
  {
   "cell_type": "code",
   "execution_count": null,
   "id": "46",
   "metadata": {},
   "outputs": [],
   "source": [
    "agera5_oneday = data_agera5.sel(time=\"20240101\")\n",
    "agera5_oneday"
   ]
  },
  {
   "cell_type": "code",
   "execution_count": null,
   "id": "47",
   "metadata": {},
   "outputs": [],
   "source": [
    "ekp.quickplot(agera5_oneday, domain=domain)"
   ]
  },
  {
   "cell_type": "code",
   "execution_count": null,
   "id": "48",
   "metadata": {},
   "outputs": [],
   "source": [
    "ekp.quickplot(agera5_oneday[[\"Temperature_Air_2m_Min_24h\", \"crs\"]], domain=domain, units=\"celsius\")"
   ]
  },
  {
   "cell_type": "code",
   "execution_count": null,
   "id": "49",
   "metadata": {},
   "outputs": [],
   "source": [
    "%load_ext autoreload\n",
    "%autoreload 2\n",
    "    \n",
    "chart = ekp.Map(domain=domain)\n",
    "agera5_oneday = data_agera5.sel(time=\"20240505\")\n",
    "chart.contourf(agera5_oneday, z=\"Temperature_Air_2m_Min_24h\")\n",
    "chart.land()\n",
    "chart.coastlines()\n",
    "chart.gridlines()\n",
    "chart.legend()\n",
    "chart.title()\n",
    "chart.show()"
   ]
  },
  {
   "cell_type": "code",
   "execution_count": null,
   "id": "50",
   "metadata": {},
   "outputs": [],
   "source": [
    "chart.crs"
   ]
  },
  {
   "cell_type": "code",
   "execution_count": null,
   "id": "51",
   "metadata": {},
   "outputs": [],
   "source": [
    "chart = ekp.Map(domain=domain)\n",
    "era5land_oneday = era5land_oneday.sel(time=\"20240505\")\n",
    "chart.contourf(era5land_oneday, z=\"Temperature_Air_2m_Mean_24h\", units=\"celsius\", levels={\"step\": 2})\n",
    "chart.land()\n",
    "chart.coastlines()\n",
    "chart.gridlines()\n",
    "chart.legend()\n",
    "chart.title()\n",
    "chart.show()"
   ]
  },
  {
   "cell_type": "code",
   "execution_count": null,
   "id": "52",
   "metadata": {},
   "outputs": [],
   "source": [
    "era5land_oneday = data_era5land.sel(time=\"20240505\")\n",
    "era5land_oneday"
   ]
  },
  {
   "cell_type": "code",
   "execution_count": null,
   "id": "53",
   "metadata": {},
   "outputs": [],
   "source": [
    "ekp.quickplot(era5land_oneday[\"Temperature_Air_2m_Mean_24h\"], domain=domain, units=\"celsius\")"
   ]
  },
  {
   "cell_type": "markdown",
   "id": "54",
   "metadata": {},
   "source": [
    "(section-time)=\n",
    "### 5. Plotting time series\n",
    "In this section, we compare time series from the various datasets at a few chosen sites.\n",
    "First, we define our test site(s) and select only the data at those locations:"
   ]
  },
  {
   "cell_type": "code",
   "execution_count": null,
   "id": "55",
   "metadata": {},
   "outputs": [],
   "source": [
    "selection = {\"lat\": 52.5, \"lon\": 0.0, \"method\": \"nearest\"}\n",
    "# Nearest is necessary because of floating-point errors"
   ]
  },
  {
   "cell_type": "code",
   "execution_count": null,
   "id": "56",
   "metadata": {},
   "outputs": [],
   "source": [
    "timeseries_agera5 = data_agera5.sel(**selection)\n",
    "timeseries_era5land = data_era5land.sel(**selection)"
   ]
  },
  {
   "cell_type": "markdown",
   "id": "57",
   "metadata": {},
   "source": [
    "We now create a plot showing all variables:"
   ]
  },
  {
   "cell_type": "code",
   "execution_count": null,
   "id": "58",
   "metadata": {},
   "outputs": [],
   "source": [
    "# Create figure\n",
    "fig, axs = plt.subplots(nrows=8, figsize=(10, 20), sharex=True, layout=\"constrained\")\n",
    "\n",
    "# Plot individual time series\n",
    "timeseries_agera5[\"Solar_Radiation_Flux\"].plot(ax=axs[0])\n",
    "\n",
    "for timeseries in (timeseries_agera5, timeseries_era5land):\n",
    "    timeseries[\"Temperature_Air_2m_Min_24h\"].plot(ax=axs[1])\n",
    "    timeseries[\"Temperature_Air_2m_Max_24h\"].plot(ax=axs[2])\n",
    "    timeseries[\"Temperature_Air_2m_Mean_24h\"].plot(ax=axs[3])\n",
    "\n",
    "timeseries_agera5[\"Vapour_Pressure_Mean_24h\"].plot(ax=axs[4])\n",
    "\n",
    "timeseries_agera5[\"Precipitation_Flux\"].plot(ax=axs[5])\n",
    "\n",
    "for timeseries in (timeseries_agera5, timeseries_era5land):\n",
    "    timeseries[\"Wind_Speed_10m_Mean_24h\"].plot(ax=axs[6])\n",
    "\n",
    "    timeseries[\"Snow_Thickness_Mean_24h\"].plot(ax=axs[7])\n",
    "\n",
    "# Visual settings\n",
    "for ax in axs:\n",
    "    ax.grid(True, axis=\"both\", linestyle=\"-\")\n",
    "    ax.tick_params(\"x\", labelbottom=True)\n",
    "    ax.set_xlabel(\"\")\n",
    "    ax.set_title(\"\")\n",
    "\n",
    "fig.suptitle(f\"Time series comparison at ({selection['lat']} °N, {selection['lon']} °E)\")\n",
    "\n",
    "# Show result\n",
    "plt.show()"
   ]
  },
  {
   "cell_type": "markdown",
   "id": "59",
   "metadata": {
    "editable": true,
    "papermill": {
     "duration": 0.245188,
     "end_time": "2024-03-08T17:39:21.277354",
     "exception": false,
     "start_time": "2024-03-08T17:39:21.032166",
     "status": "completed"
    },
    "slideshow": {
     "slide_type": ""
    },
    "tags": []
   },
   "source": [
    "(section-results)=\n",
    "### 6. Results\n",
    "Describe what is done in this step/section and what the `code` in the cell does (if code is included). \n",
    "\n",
    "If this is the **results section**, we expect the final plots to be created here with a description of how to interpret them, and what information can be extracted for the specific use case and user question. The information in the 'quality assessment statement' should be derived here."
   ]
  },
  {
   "cell_type": "markdown",
   "id": "60",
   "metadata": {},
   "source": [
    "#### Scatter plots\n",
    "Here, we compare the different variables 1-to-1 between the different datasets to determine the typical differences."
   ]
  },
  {
   "cell_type": "code",
   "execution_count": null,
   "id": "61",
   "metadata": {},
   "outputs": [],
   "source": [
    "# Round coordinates before alignment to avoid floating-point errors\n",
    "# Cannot be a dict-comp with coord in lat/lon because of symbol table issues\n",
    "d = 2\n",
    "round_mapping = {\"lat\": (lambda dataset: dataset[\"lat\"].round(d)),\n",
    "                 \"lon\": (lambda dataset: dataset[\"lon\"].round(d))}\n",
    "\n",
    "round_agera5, round_era5land = [dataset.assign_coords(round_mapping) for dataset in (data_agera5, data_era5land)]\n",
    "aligned_agera5, aligned_era5_land = xr.align(round_agera5, round_era5land, join=\"inner\")"
   ]
  },
  {
   "cell_type": "code",
   "execution_count": null,
   "id": "62",
   "metadata": {},
   "outputs": [],
   "source": [
    "# Shared arguments for scatter plots\n",
    "scatter_kw = {\"s\": 2, }\n",
    "hexbin_kw = {\"gridsize\": 500, \"mincnt\": 1, \"cmap\": \"cividis\"}\n",
    "\n",
    "# Create figure\n",
    "fig, axs = plt.subplots(nrows=4, ncols=2, figsize=(10, 20), layout=\"constrained\")\n",
    "axs = axs.ravel()\n",
    "# Plot individual scatter plots\n",
    "# timeseries_agera5[\"Solar_Radiation_Flux\"].plot(ax=axs[0])\n",
    "\n",
    "axs[1].hexbin(aligned_agera5[\"Temperature_Air_2m_Min_24h\"].values.ravel(), aligned_era5_land[\"Temperature_Air_2m_Min_24h\"].values.ravel(),\n",
    "             **hexbin_kw)\n",
    "# timeseries[\"Temperature_Air_2m_Min_24h\"].plot(ax=axs[1])\n",
    "# timeseries[\"Temperature_Air_2m_Max_24h\"].plot(ax=axs[2])\n",
    "# timeseries[\"Temperature_Air_2m_Mean_24h\"].plot(ax=axs[3])\n",
    "\n",
    "# timeseries_agera5[\"Vapour_Pressure_Mean_24h\"].plot(ax=axs[4])\n",
    "\n",
    "# timeseries_agera5[\"Precipitation_Flux\"].plot(ax=axs[5])\n",
    "\n",
    "# for timeseries in (timeseries_agera5, timeseries_era5land):\n",
    "#     timeseries[\"Wind_Speed_10m_Mean_24h\"].plot(ax=axs[6])\n",
    "\n",
    "#     timeseries[\"Snow_Thickness_Mean_24h\"].plot(ax=axs[7])\n",
    "\n",
    "# Visual settings\n",
    "for ax in axs:\n",
    "    ax.grid(True, axis=\"both\", linestyle=\"--\")\n",
    "    ax.set_aspect(\"equal\", \"box\")\n",
    "    # ax.tick_params(\"x\", labelbottom=True)\n",
    "    ax.set_xlabel(\"\")\n",
    "    ax.set_title(\"\")\n",
    "\n",
    "fig.suptitle(f\"Point-by-point comparison at ({selection['lat']} °N, {selection['lon']} °E)\")\n",
    "\n",
    "# Show result\n",
    "plt.show()"
   ]
  },
  {
   "cell_type": "markdown",
   "id": "63",
   "metadata": {
    "editable": true,
    "papermill": {
     "duration": 0.271597,
     "end_time": "2024-03-08T17:40:01.664067",
     "exception": false,
     "start_time": "2024-03-08T17:40:01.392470",
     "status": "completed"
    },
    "slideshow": {
     "slide_type": ""
    },
    "tags": []
   },
   "source": [
    "## ℹ️ If you want to know more\n",
    "\n",
    "### Key resources\n",
    "\n",
    "List some key resources related to this assessment. E.g. CDS entries, applications, dataset documentation, external pages.\n",
    "Also list any code libraries used (if applicable).\n",
    "\n",
    "Code libraries used:\n",
    "* Earthkit\n",
    "  * [earthkit-data](https://github.com/ecmwf/earthkit)\n",
    "  * [earthkit-plots](https://github.com/ecmwf/earthkit-plots)\n",
    "\n",
    "### References\n",
    "[[CDS AgERA5]](https://doi.org/10.24381/cds.6c68c9bb) Boogaard, H., Schubert, J., De Wit, A., Lazebnik, J., Hutjes, R., Van der Grijn, G., (2020): Agrometeorological indicators from 1979 to present derived from reanalysis. Copernicus Climate Change Service (C3S) Climate Data Store (CDS). DOI: 10.24381/cds.6c68c9bb (Accessed on DD-MMM-YYYY)"
   ]
  }
 ],
 "metadata": {
  "language_info": {
   "codemirror_mode": {
    "name": "ipython",
    "version": 3
   },
   "file_extension": ".py",
   "mimetype": "text/x-python",
   "name": "python",
   "nbconvert_exporter": "python",
   "pygments_lexer": "ipython3",
   "version": "3.12.3"
  },
  "papermill": {
   "default_parameters": {},
   "duration": 968.520731,
   "end_time": "2024-03-08T17:40:03.783430",
   "environment_variables": {},
   "exception": null,
   "input_path": "D520.3.2.3b.SEASONAL_multimodel-bias_v5.ipynb",
   "output_path": "output.ipynb",
   "parameters": {},
   "start_time": "2024-03-08T17:23:55.262699",
   "version": "2.4.0"
  }
 },
 "nbformat": 4,
 "nbformat_minor": 5
}
