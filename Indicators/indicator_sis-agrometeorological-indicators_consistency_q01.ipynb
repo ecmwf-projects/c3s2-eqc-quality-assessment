{
 "cells": [
  {
   "cell_type": "markdown",
   "id": "0",
   "metadata": {},
   "source": [
    "# Validation and intercomparison of AgERA5 and other reanalysis datasets for agricultural applications"
   ]
  },
  {
   "cell_type": "markdown",
   "id": "1",
   "metadata": {},
   "source": [
    "Production date: DD-MM-2025\n",
    "\n",
    "**Please note that this repository is used for development and review, so quality assessments should be considered work in progress until they are merged into the main branch.**\n",
    "\n",
    "Dataset version: 2.0.\n",
    "\n",
    "Produced by: C3S2_521 contract."
   ]
  },
  {
   "cell_type": "markdown",
   "id": "2",
   "metadata": {
    "editable": true,
    "slideshow": {
     "slide_type": ""
    },
    "tags": []
   },
   "source": [
    "## 🌍 Use case: Agricultural yield estimation and prediction based on reanalysis data"
   ]
  },
  {
   "cell_type": "markdown",
   "id": "3",
   "metadata": {},
   "source": [
    "## ❓ Quality assessment question\n",
    "* How do reanalysis datasets compare to observations, and to each other, for agriculturally relevant variables?"
   ]
  },
  {
   "cell_type": "markdown",
   "id": "4",
   "metadata": {
    "tags": []
   },
   "source": [
    "A very short introduction before the assessment statement describing approach taken to answer the user question. One or two key references could be useful,  if the assessment summarises literature (referenced directly in the text, or with numerical labels like this (also listed at the end) `[[1]](https://doi.org/10.1038/s41598-018-20628-2))`giving: [[1]](https://doi.org/10.1038/s41598-018-20628-2)).\n",
    "\n",
    "[[CDS AgERA5]](https://doi.org/10.24381/cds.6c68c9bb)."
   ]
  },
  {
   "attachments": {},
   "cell_type": "markdown",
   "id": "5",
   "metadata": {
    "tags": []
   },
   "source": [
    "## 📢 Quality assessment statement\n",
    "\n",
    "```{admonition} These are the key outcomes of this assessment\n",
    ":class: note\n",
    "* Finding 1\n",
    "* Finding 2\n",
    "* Finding 3\n",
    "* etc\n",
    "```"
   ]
  },
  {
   "cell_type": "markdown",
   "id": "6",
   "metadata": {
    "editable": true,
    "slideshow": {
     "slide_type": ""
    },
    "tags": []
   },
   "source": [
    "## 📋 Methodology\n",
    "\n",
    "**Agrometeorological indicators from 1979 to present derived from reanalysis** (*AgERA5*; [doi 10.24381/cds.6c68c9bb](https://doi.org/10.24381/cds.6c68c9bb)).\n",
    "\n",
    "A ‘free text’ introduction to the data analysis steps or a description of the literature synthesis, with a justification of the approach taken, and limitations mentioned. **Mention which CDS catalogue entry is used, including a link, and also any other entries used for the assessment**.\n",
    "\n",
    "---\n",
    "Variables of interest for a crop growth simulator such as [PCSE/WOFOST](https://github.com/ajwdewit/pcse):\n",
    "\n",
    "| Variable name | Statistics | Unit | Example assessment |\n",
    "|---------------|------------|------|--------------------|\n",
    "| Solar irradiation | 24 h total | J/m2/day | example |\n",
    "| 2 m temperature | 24 h min | °C | example |\n",
    "|| 24 h max |||\n",
    "|| 24 h mean (optional) |||\n",
    "| Vapour pressure | 24 h mean | kPa | example |\n",
    "| Rain | 24 h total | cm/day | example |\n",
    "| 2 m Wind speed | 24 h mean | m/s | example |\n",
    "| Snow depth | ??? | cm | example |\n",
    "\n",
    "[Source](https://pcse.readthedocs.io/en/stable/code.html#pcse.base.WeatherDataContainer)\n",
    "E0, ES0, ET0 are taken from evapotranspiration calculation\n",
    "\n",
    "---\n",
    "\n",
    "* These headings can be specific to the quality assessment, and help guide the user through the ‘story’ of the assessment. This means we cannot pre-define the sections and headings here, as they will be different for each assessment.\n",
    "* Sub-bullets could be used to outline what will be done/shown/discussed in each section\n",
    "* The list below is just an example, or may need more or fewer sections, with different headings\n",
    "\n",
    "The analysis and results are organised in the following steps, which are detailed in the sections below:\n",
    "\n",
    "**[](section-setup)**\n",
    " * Sub-steps or key points listed in bullet below. No strict requirement to match and link to sub-headings.\n",
    "\n",
    "**[](section-download)**\n",
    " * Sub-steps or key points listed in bullet below. No strict requirement to match and link to sub-headings.\n",
    "\n",
    "**[](section-4)**\n",
    " * Sub-steps or key points listed in bullet below. No strict requirement to match and link to sub-headings.\n",
    " \n",
    "**[](section-results)** \n",
    " * Sub-steps or key points listed in bullet below. No strict requirement to match and link to sub-headings.\n",
    "\n",
    "Any further notes on the method could go here (explanations, caveats or limitations)."
   ]
  },
  {
   "cell_type": "markdown",
   "id": "7",
   "metadata": {},
   "source": [
    "## 📈 Analysis and results"
   ]
  },
  {
   "cell_type": "markdown",
   "id": "8",
   "metadata": {
    "editable": true,
    "papermill": {
     "duration": 0.007051,
     "end_time": "2024-03-08T17:23:56.492658",
     "exception": false,
     "start_time": "2024-03-08T17:23:56.485607",
     "status": "completed"
    },
    "slideshow": {
     "slide_type": ""
    },
    "tags": []
   },
   "source": [
    "(section-setup)=\n",
    "### 1. Code setup\n",
    "\n",
    "#### Import required packages\n",
    "```{note}\n",
    "This notebook uses [earthkit](https://github.com/ecmwf/earthkit) for \n",
    "downloading ([earthkit-data](https://github.com/ecmwf/earthkit-data)) \n",
    "and visualising ([earthkit-plots](https://github.com/ecmwf/earthkit-plots)) data.\n",
    "Because earthkit is in active development, some functionality may change after this notebook is published.\n",
    "If any part of the code stops functioning, please raise an issue on our GitHub repository so it can be fixed.\n",
    "```"
   ]
  },
  {
   "cell_type": "code",
   "execution_count": 1,
   "id": "9",
   "metadata": {
    "editable": true,
    "slideshow": {
     "slide_type": ""
    },
    "tags": [
     "hide-input"
    ]
   },
   "outputs": [],
   "source": [
    "import earthkit.data as ekd\n",
    "import earthkit.plots as ekp\n",
    "import numpy as np\n",
    "from matplotlib import pyplot as plt"
   ]
  },
  {
   "cell_type": "markdown",
   "id": "10",
   "metadata": {},
   "source": [
    "(section-download)=\n",
    "### 2. Download data\n",
    "#### General setup\n",
    "We will be downloading multiple datasets in this notebook.\n",
    "In this section, we define the parameters common to all datasets: time and space.\n",
    "This way, these only need to be changed in one place if you wish to modify the notebook for your own use case.\n",
    "\n",
    "In this notebook, we will be looking at data for the United Kingdom and Ireland every day in January–September 2024:"
   ]
  },
  {
   "cell_type": "code",
   "execution_count": 2,
   "id": "11",
   "metadata": {},
   "outputs": [],
   "source": [
    "request_domain = {\n",
    "    \"area\": [60, -12, 48, 4]  # North, West, South, East\n",
    "}"
   ]
  },
  {
   "cell_type": "code",
   "execution_count": 3,
   "id": "12",
   "metadata": {},
   "outputs": [],
   "source": [
    "request_time = {\n",
    "    \"year\": \"2024\",\n",
    "    \"month\": [f\"{mo:02}\" for mo in range(1, 10)],\n",
    "    \"day\": [f\"{d:02}\" for d in range(1, 32)],\n",
    "}"
   ]
  },
  {
   "cell_type": "markdown",
   "id": "13",
   "metadata": {},
   "source": [
    "We can define a helper function that adds the time and domain parameters, as well as a dictionary of parameters specific to one dataset (e.g. AgERA5, ERA5-Land), to a number of requests:"
   ]
  },
  {
   "cell_type": "code",
   "execution_count": 4,
   "id": "14",
   "metadata": {},
   "outputs": [],
   "source": [
    "def make_full_request(request_dataset: dict, *requests: dict) -> dict:\n",
    "    base_request = request_time | request_domain | request_dataset\n",
    "    updated_requests = [base_request | req for req in requests]\n",
    "    return updated_requests"
   ]
  },
  {
   "cell_type": "markdown",
   "id": "15",
   "metadata": {},
   "source": [
    "#### AgERA5\n",
    "We now define parameters unique to AgERA5:"
   ]
  },
  {
   "cell_type": "code",
   "execution_count": null,
   "id": "16",
   "metadata": {},
   "outputs": [],
   "source": [
    "agera5_ID = \"sis-agrometeorological-indicators\"\n",
    "\n",
    "request_agera5 = {\n",
    "    \"version\": \"2_0\",\n",
    "}"
   ]
  },
  {
   "cell_type": "markdown",
   "id": "17",
   "metadata": {},
   "source": [
    "Next, we specify the variables of interest:"
   ]
  },
  {
   "cell_type": "code",
   "execution_count": null,
   "id": "18",
   "metadata": {},
   "outputs": [],
   "source": [
    "# Temperature has to be split into two requests because of size limits\n",
    "request_irradiation = {\n",
    "    \"variable\": \"solar_radiation_flux\",\n",
    "}\n",
    "\n",
    "request_temperature_min = {\n",
    "    \"variable\": \"2m_temperature\",\n",
    "    \"statistic\": [\"24_hour_minimum\"],\n",
    "}\n",
    "\n",
    "request_temperature_max = {\n",
    "    \"variable\": \"2m_temperature\",\n",
    "    \"statistic\": [\"24_hour_maximum\"],\n",
    "}\n",
    "\n",
    "request_temperature_mean = {\n",
    "    \"variable\": \"2m_temperature\",\n",
    "    \"statistic\": [\"24_hour_mean\"],\n",
    "}\n",
    "\n",
    "request_vapour_pressure = {\n",
    "    \"variable\": \"vapour_pressure\",\n",
    "    \"statistic\": [\"24_hour_mean\"],\n",
    "}\n",
    "\n",
    "request_rain = {\n",
    "    \"variable\": \"precipitation_flux\",\n",
    "}\n",
    "\n",
    "request_wind = {\n",
    "    \"variable\": \"10m_wind_speed\",\n",
    "    \"statistic\": [\"24_hour_mean\"],\n",
    "}\n",
    "\n",
    "request_snow = {\n",
    "    \"variable\": \"snow_thickness\",\n",
    "    \"statistic\": [\"24_hour_mean\"],\n",
    "}"
   ]
  },
  {
   "cell_type": "markdown",
   "id": "19",
   "metadata": {},
   "source": [
    "The requests for specific variables are combined with the default, time, and domain parameters and passed to earthkit for download from the CDS:"
   ]
  },
  {
   "cell_type": "code",
   "execution_count": null,
   "id": "20",
   "metadata": {},
   "outputs": [],
   "source": [
    "requests_agera5_combined = make_full_request(request_agera5,\n",
    "                                             request_irradiation,\n",
    "                                             request_temperature_min, request_temperature_max, request_temperature_mean,\n",
    "                                             request_vapour_pressure,\n",
    "                                             request_rain,\n",
    "                                             request_wind,\n",
    "                                             # request_snow,  # left out because of plotting errors; add back later\n",
    "                                            )\n",
    "\n",
    "ds_agera5 = ekd.from_source(\"cds\", agera5_ID, *requests_agera5_combined)"
   ]
  },
  {
   "cell_type": "markdown",
   "id": "21",
   "metadata": {},
   "source": [
    "As a check, we can inspect the downloaded dataset:"
   ]
  },
  {
   "cell_type": "code",
   "execution_count": null,
   "id": "22",
   "metadata": {},
   "outputs": [],
   "source": [
    "ds_agera5.to_xarray()"
   ]
  },
  {
   "cell_type": "markdown",
   "id": "23",
   "metadata": {},
   "source": [
    "#### ERA5-Land\n",
    "We now define parameters unique to ERA5-Land and the variables of interest:"
   ]
  },
  {
   "cell_type": "code",
   "execution_count": 5,
   "id": "24",
   "metadata": {},
   "outputs": [],
   "source": [
    "era5land_ID = \"derived-era5-land-daily-statistics\"\n",
    "\n",
    "request_era5land = {\n",
    "    \"time_zone\": \"utc+00:00\",\n",
    "    \"frequency\": \"1_hourly\",\n",
    "}"
   ]
  },
  {
   "cell_type": "code",
   "execution_count": 13,
   "id": "25",
   "metadata": {},
   "outputs": [],
   "source": [
    "# solar_radiation_flux : Not available\n",
    "\n",
    "request_temperature_min = {\n",
    "    \"variable\": [\"2m_temperature\"],\n",
    "    \"statistic\": \"daily_minimum\",\n",
    "}\n",
    "\n",
    "request_temperature_max = {\n",
    "    \"variable\": \"2m_temperature\",\n",
    "    \"statistic\": [\"daily_maximum\"],\n",
    "}\n",
    "\n",
    "request_temperature_mean = {\n",
    "    \"variable\": \"2m_temperature\",\n",
    "    \"statistic\": [\"daily_mean\"],\n",
    "}\n",
    "\n",
    "# request_vapour_pressure : Not available\n",
    "\n",
    "request_wind_u = {\n",
    "    \"variable\": \"10m_u_component_of_wind\",\n",
    "    \"statistic\": [\"daily_mean\"],\n",
    "}\n",
    "\n",
    "request_wind_v = {\n",
    "    \"variable\": \"10m_v_component_of_wind\",\n",
    "    \"statistic\": [\"daily_mean\"],\n",
    "}\n",
    "\n",
    "request_snow = {\n",
    "    \"variable\": \"snow_depth\",\n",
    "    \"statistic\": [\"daily_mean\"],\n",
    "}"
   ]
  },
  {
   "cell_type": "code",
   "execution_count": 14,
   "id": "26",
   "metadata": {},
   "outputs": [],
   "source": [
    "requests_era5land_combined = make_full_request(request_era5land,\n",
    "                                               request_temperature_min, request_temperature_max, request_temperature_mean,\n",
    "                                               request_wind,\n",
    "                                               request_snow\n",
    "                                              )\n"
   ]
  },
  {
   "cell_type": "code",
   "execution_count": 17,
   "id": "27",
   "metadata": {},
   "outputs": [
    {
     "name": "stderr",
     "output_type": "stream",
     "text": [
      "2025-08-27 17:01:11,410 INFO [2024-09-26T00:00:00] Watch our [Forum](https://forum.ecmwf.int/) for Announcements, news and other discussed topics.\n"
     ]
    },
    {
     "name": "stdout",
     "output_type": "stream",
     "text": [
      "{'year': '2024', 'month': ['01', '02', '03', '04', '05', '06', '07', '08', '09'], 'day': ['01', '02', '03', '04', '05', '06', '07', '08', '09', '10', '11', '12', '13', '14', '15', '16', '17', '18', '19', '20', '21', '22', '23', '24', '25', '26', '27', '28', '29', '30', '31'], 'area': [60, -12, 48, 4], 'time_zone': 'utc+00:00', 'frequency': '1_hourly', 'variable': '2m_temperature', 'statistic': ['daily_mean']}\n"
     ]
    },
    {
     "name": "stderr",
     "output_type": "stream",
     "text": [
      "2025-08-27 17:01:11,625 INFO [2024-09-26T00:00:00] Watch our [Forum](https://forum.ecmwf.int/) for Announcements, news and other discussed topics.\n",
      "2025-08-27 17:01:11,852 INFO Request ID is cbb19b97-d172-4d79-bbdd-f92778165451\n",
      "2025-08-27 17:01:12,068 INFO status has been updated to accepted\n",
      "2025-08-27 17:02:01,870 INFO status has been updated to failed\n"
     ]
    },
    {
     "ename": "HTTPError",
     "evalue": "400 Client Error: Bad Request for url: https://cds.climate.copernicus.eu/api/retrieve/v1/jobs/cbb19b97-d172-4d79-bbdd-f92778165451/results\nThe job has failed\nThe job failed with: FileNotFoundError",
     "output_type": "error",
     "traceback": [
      "\u001b[31m---------------------------------------------------------------------------\u001b[39m",
      "\u001b[31mHTTPError\u001b[39m                                 Traceback (most recent call last)",
      "\u001b[36mCell\u001b[39m\u001b[36m \u001b[39m\u001b[32mIn[17]\u001b[39m\u001b[32m, line 2\u001b[39m\n\u001b[32m      1\u001b[39m \u001b[38;5;28mprint\u001b[39m(requests_era5land_combined[\u001b[32m2\u001b[39m])\n\u001b[32m----> \u001b[39m\u001b[32m2\u001b[39m ds_era5land = \u001b[43mekd\u001b[49m\u001b[43m.\u001b[49m\u001b[43mfrom_source\u001b[49m\u001b[43m(\u001b[49m\u001b[33;43m\"\u001b[39;49m\u001b[33;43mcds\u001b[39;49m\u001b[33;43m\"\u001b[39;49m\u001b[43m,\u001b[49m\u001b[43m \u001b[49m\u001b[43mera5land_ID\u001b[49m\u001b[43m,\u001b[49m\u001b[43m \u001b[49m\u001b[43mrequests_era5land_combined\u001b[49m\u001b[43m[\u001b[49m\u001b[32;43m2\u001b[39;49m\u001b[43m]\u001b[49m\u001b[43m)\u001b[49m\n",
      "\u001b[36mFile \u001b[39m\u001b[32m~/git/c3s2-eqc-quality-assessment/.venv/lib/python3.12/site-packages/earthkit/data/sources/__init__.py:158\u001b[39m, in \u001b[36mfrom_source\u001b[39m\u001b[34m(name, lazily, *args, **kwargs)\u001b[39m\n\u001b[32m    155\u001b[39m     \u001b[38;5;28;01mreturn\u001b[39;00m from_source_lazily(name, *args, **kwargs)\n\u001b[32m    157\u001b[39m prev = \u001b[38;5;28;01mNone\u001b[39;00m\n\u001b[32m--> \u001b[39m\u001b[32m158\u001b[39m src = \u001b[43mget_source\u001b[49m\u001b[43m(\u001b[49m\u001b[43mname\u001b[49m\u001b[43m,\u001b[49m\u001b[43m \u001b[49m\u001b[43m*\u001b[49m\u001b[43margs\u001b[49m\u001b[43m,\u001b[49m\u001b[43m \u001b[49m\u001b[43m*\u001b[49m\u001b[43m*\u001b[49m\u001b[43mkwargs\u001b[49m\u001b[43m)\u001b[49m\n\u001b[32m    159\u001b[39m \u001b[38;5;28;01mwhile\u001b[39;00m src \u001b[38;5;129;01mis\u001b[39;00m \u001b[38;5;129;01mnot\u001b[39;00m prev:\n\u001b[32m    160\u001b[39m     prev = src\n",
      "\u001b[36mFile \u001b[39m\u001b[32m~/git/c3s2-eqc-quality-assessment/.venv/lib/python3.12/site-packages/earthkit/data/sources/__init__.py:139\u001b[39m, in \u001b[36mSourceMaker.__call__\u001b[39m\u001b[34m(self, name, *args, **kwargs)\u001b[39m\n\u001b[32m    136\u001b[39m     klass = find_plugin(os.path.dirname(\u001b[34m__file__\u001b[39m), name, loader)\n\u001b[32m    137\u001b[39m     \u001b[38;5;28mself\u001b[39m.SOURCES[name] = klass\n\u001b[32m--> \u001b[39m\u001b[32m139\u001b[39m source = \u001b[43mklass\u001b[49m\u001b[43m(\u001b[49m\u001b[43m*\u001b[49m\u001b[43margs\u001b[49m\u001b[43m,\u001b[49m\u001b[43m \u001b[49m\u001b[43m*\u001b[49m\u001b[43m*\u001b[49m\u001b[43mkwargs\u001b[49m\u001b[43m)\u001b[49m\n\u001b[32m    141\u001b[39m \u001b[38;5;28;01mif\u001b[39;00m \u001b[38;5;28mgetattr\u001b[39m(source, \u001b[33m\"\u001b[39m\u001b[33mname\u001b[39m\u001b[33m\"\u001b[39m, \u001b[38;5;28;01mNone\u001b[39;00m) \u001b[38;5;129;01mis\u001b[39;00m \u001b[38;5;28;01mNone\u001b[39;00m:\n\u001b[32m    142\u001b[39m     source.name = name\n",
      "\u001b[36mFile \u001b[39m\u001b[32m~/git/c3s2-eqc-quality-assessment/.venv/lib/python3.12/site-packages/earthkit/data/core/__init__.py:22\u001b[39m, in \u001b[36mMetaBase.__call__\u001b[39m\u001b[34m(cls, *args, **kwargs)\u001b[39m\n\u001b[32m     20\u001b[39m obj = \u001b[38;5;28mcls\u001b[39m.\u001b[34m__new__\u001b[39m(\u001b[38;5;28mcls\u001b[39m, *args, **kwargs)\n\u001b[32m     21\u001b[39m args, kwargs = \u001b[38;5;28mcls\u001b[39m.patch(obj, *args, **kwargs)\n\u001b[32m---> \u001b[39m\u001b[32m22\u001b[39m \u001b[43mobj\u001b[49m\u001b[43m.\u001b[49m\u001b[34;43m__init__\u001b[39;49m\u001b[43m(\u001b[49m\u001b[43m*\u001b[49m\u001b[43margs\u001b[49m\u001b[43m,\u001b[49m\u001b[43m \u001b[49m\u001b[43m*\u001b[49m\u001b[43m*\u001b[49m\u001b[43mkwargs\u001b[49m\u001b[43m)\u001b[49m\n\u001b[32m     23\u001b[39m \u001b[38;5;28;01mreturn\u001b[39;00m obj\n",
      "\u001b[36mFile \u001b[39m\u001b[32m~/git/c3s2-eqc-quality-assessment/.venv/lib/python3.12/site-packages/earthkit/data/sources/cds.py:126\u001b[39m, in \u001b[36mCdsRetriever.__init__\u001b[39m\u001b[34m(self, dataset, prompt, *args, **kwargs)\u001b[39m\n\u001b[32m    123\u001b[39m nthreads = \u001b[38;5;28mmin\u001b[39m(\u001b[38;5;28mself\u001b[39m.config(\u001b[33m\"\u001b[39m\u001b[33mnumber-of-download-threads\u001b[39m\u001b[33m\"\u001b[39m), \u001b[38;5;28mlen\u001b[39m(\u001b[38;5;28mself\u001b[39m.requests))\n\u001b[32m    125\u001b[39m \u001b[38;5;28;01mif\u001b[39;00m nthreads < \u001b[32m2\u001b[39m:\n\u001b[32m--> \u001b[39m\u001b[32m126\u001b[39m     \u001b[38;5;28mself\u001b[39m.path = [\u001b[38;5;28;43mself\u001b[39;49m\u001b[43m.\u001b[49m\u001b[43m_retrieve\u001b[49m\u001b[43m(\u001b[49m\u001b[43mdataset\u001b[49m\u001b[43m,\u001b[49m\u001b[43m \u001b[49m\u001b[43mr\u001b[49m\u001b[43m)\u001b[49m \u001b[38;5;28;01mfor\u001b[39;00m r \u001b[38;5;129;01min\u001b[39;00m \u001b[38;5;28mself\u001b[39m.requests]\n\u001b[32m    127\u001b[39m \u001b[38;5;28;01melse\u001b[39;00m:\n\u001b[32m    128\u001b[39m     \u001b[38;5;28;01mwith\u001b[39;00m SoftThreadPool(nthreads=nthreads) \u001b[38;5;28;01mas\u001b[39;00m pool:\n",
      "\u001b[36mFile \u001b[39m\u001b[32m~/git/c3s2-eqc-quality-assessment/.venv/lib/python3.12/site-packages/earthkit/data/sources/cds.py:140\u001b[39m, in \u001b[36mCdsRetriever._retrieve\u001b[39m\u001b[34m(self, dataset, request)\u001b[39m\n\u001b[32m    137\u001b[39m     \u001b[38;5;28mself\u001b[39m.source_filename = cds_result.location.split(\u001b[33m\"\u001b[39m\u001b[33m/\u001b[39m\u001b[33m\"\u001b[39m)[-\u001b[32m1\u001b[39m]\n\u001b[32m    138\u001b[39m     cds_result.download(target=target)\n\u001b[32m--> \u001b[39m\u001b[32m140\u001b[39m return_object = \u001b[38;5;28;43mself\u001b[39;49m\u001b[43m.\u001b[49m\u001b[43mcache_file\u001b[49m\u001b[43m(\u001b[49m\n\u001b[32m    141\u001b[39m \u001b[43m    \u001b[49m\u001b[43mretrieve\u001b[49m\u001b[43m,\u001b[49m\n\u001b[32m    142\u001b[39m \u001b[43m    \u001b[49m\u001b[43m(\u001b[49m\u001b[43mdataset\u001b[49m\u001b[43m,\u001b[49m\u001b[43m \u001b[49m\u001b[43mrequest\u001b[49m\u001b[43m)\u001b[49m\u001b[43m,\u001b[49m\n\u001b[32m    143\u001b[39m \u001b[43m    \u001b[49m\u001b[43mextension\u001b[49m\u001b[43m=\u001b[49m\u001b[43mEXTENSIONS\u001b[49m\u001b[43m.\u001b[49m\u001b[43mget\u001b[49m\u001b[43m(\u001b[49m\u001b[43mrequest\u001b[49m\u001b[43m.\u001b[49m\u001b[43mget\u001b[49m\u001b[43m(\u001b[49m\u001b[33;43m\"\u001b[39;49m\u001b[33;43mformat\u001b[39;49m\u001b[33;43m\"\u001b[39;49m\u001b[43m)\u001b[49m\u001b[43m,\u001b[49m\u001b[43m \u001b[49m\u001b[33;43m\"\u001b[39;49m\u001b[33;43m.cache\u001b[39;49m\u001b[33;43m\"\u001b[39;49m\u001b[43m)\u001b[49m\u001b[43m,\u001b[49m\n\u001b[32m    144\u001b[39m \u001b[43m\u001b[49m\u001b[43m)\u001b[49m\n\u001b[32m    145\u001b[39m \u001b[38;5;28;01mreturn\u001b[39;00m return_object\n",
      "\u001b[36mFile \u001b[39m\u001b[32m~/git/c3s2-eqc-quality-assessment/.venv/lib/python3.12/site-packages/earthkit/data/sources/__init__.py:68\u001b[39m, in \u001b[36mSource.cache_file\u001b[39m\u001b[34m(self, create, args, **kwargs)\u001b[39m\n\u001b[32m     65\u001b[39m \u001b[38;5;28;01mif\u001b[39;00m owner \u001b[38;5;129;01mis\u001b[39;00m \u001b[38;5;28;01mNone\u001b[39;00m:\n\u001b[32m     66\u001b[39m     owner = re.sub(\u001b[33mr\u001b[39m\u001b[33m\"\u001b[39m\u001b[33m(?!^)([A-Z]+)\u001b[39m\u001b[33m\"\u001b[39m, \u001b[33mr\u001b[39m\u001b[33m\"\u001b[39m\u001b[33m-\u001b[39m\u001b[33m\\\u001b[39m\u001b[33m1\u001b[39m\u001b[33m\"\u001b[39m, \u001b[38;5;28mself\u001b[39m.\u001b[34m__class__\u001b[39m.\u001b[34m__name__\u001b[39m).lower()\n\u001b[32m---> \u001b[39m\u001b[32m68\u001b[39m \u001b[38;5;28;01mreturn\u001b[39;00m \u001b[43mcache_file\u001b[49m\u001b[43m(\u001b[49m\u001b[43mowner\u001b[49m\u001b[43m,\u001b[49m\u001b[43m \u001b[49m\u001b[43mcreate\u001b[49m\u001b[43m,\u001b[49m\u001b[43m \u001b[49m\u001b[43margs\u001b[49m\u001b[43m,\u001b[49m\u001b[43m \u001b[49m\u001b[43m*\u001b[49m\u001b[43m*\u001b[49m\u001b[43mkwargs\u001b[49m\u001b[43m)\u001b[49m\n",
      "\u001b[36mFile \u001b[39m\u001b[32m~/git/c3s2-eqc-quality-assessment/.venv/lib/python3.12/site-packages/earthkit/data/core/caching.py:1025\u001b[39m, in \u001b[36mcache_file\u001b[39m\u001b[34m(owner, create, args, hash_extra, extension, force, replace)\u001b[39m\n\u001b[32m   1023\u001b[39m \u001b[38;5;28;01mwith\u001b[39;00m FileLock(lock):\n\u001b[32m   1024\u001b[39m     \u001b[38;5;28;01mif\u001b[39;00m \u001b[38;5;129;01mnot\u001b[39;00m os.path.exists(path):  \u001b[38;5;66;03m# Check again, another thread/process may have created the file\u001b[39;00m\n\u001b[32m-> \u001b[39m\u001b[32m1025\u001b[39m         owner_data = \u001b[43mcreate\u001b[49m\u001b[43m(\u001b[49m\u001b[43mpath\u001b[49m\u001b[43m \u001b[49m\u001b[43m+\u001b[49m\u001b[43m \u001b[49m\u001b[33;43m\"\u001b[39;49m\u001b[33;43m.tmp\u001b[39;49m\u001b[33;43m\"\u001b[39;49m\u001b[43m,\u001b[49m\u001b[43m \u001b[49m\u001b[43margs\u001b[49m\u001b[43m)\u001b[49m\n\u001b[32m   1026\u001b[39m         os.rename(path + \u001b[33m\"\u001b[39m\u001b[33m.tmp\u001b[39m\u001b[33m\"\u001b[39m, path)\n\u001b[32m   1027\u001b[39m         CACHE._update_entry(path, owner_data)\n",
      "\u001b[36mFile \u001b[39m\u001b[32m~/git/c3s2-eqc-quality-assessment/.venv/lib/python3.12/site-packages/earthkit/data/sources/cds.py:136\u001b[39m, in \u001b[36mCdsRetriever._retrieve.<locals>.retrieve\u001b[39m\u001b[34m(target, args)\u001b[39m\n\u001b[32m    135\u001b[39m \u001b[38;5;28;01mdef\u001b[39;00m\u001b[38;5;250m \u001b[39m\u001b[34mretrieve\u001b[39m(target, args):\n\u001b[32m--> \u001b[39m\u001b[32m136\u001b[39m     cds_result = \u001b[38;5;28;43mself\u001b[39;49m\u001b[43m.\u001b[49m\u001b[43mclient\u001b[49m\u001b[43m(\u001b[49m\u001b[43m)\u001b[49m\u001b[43m.\u001b[49m\u001b[43mretrieve\u001b[49m\u001b[43m(\u001b[49m\u001b[43margs\u001b[49m\u001b[43m[\u001b[49m\u001b[32;43m0\u001b[39;49m\u001b[43m]\u001b[49m\u001b[43m,\u001b[49m\u001b[43m \u001b[49m\u001b[43margs\u001b[49m\u001b[43m[\u001b[49m\u001b[32;43m1\u001b[39;49m\u001b[43m]\u001b[49m\u001b[43m)\u001b[49m\n\u001b[32m    137\u001b[39m     \u001b[38;5;28mself\u001b[39m.source_filename = cds_result.location.split(\u001b[33m\"\u001b[39m\u001b[33m/\u001b[39m\u001b[33m\"\u001b[39m)[-\u001b[32m1\u001b[39m]\n\u001b[32m    138\u001b[39m     cds_result.download(target=target)\n",
      "\u001b[36mFile \u001b[39m\u001b[32m~/git/c3s2-eqc-quality-assessment/.venv/lib/python3.12/site-packages/ecmwf/datastores/legacy_client.py:167\u001b[39m, in \u001b[36mLegacyClient.retrieve\u001b[39m\u001b[34m(self, name, request, target)\u001b[39m\n\u001b[32m    165\u001b[39m submitted: datastores.Remote | datastores.Results\n\u001b[32m    166\u001b[39m \u001b[38;5;28;01mif\u001b[39;00m \u001b[38;5;28mself\u001b[39m.wait_until_complete:\n\u001b[32m--> \u001b[39m\u001b[32m167\u001b[39m     submitted = \u001b[38;5;28;43mself\u001b[39;49m\u001b[43m.\u001b[49m\u001b[43mclient\u001b[49m\u001b[43m.\u001b[49m\u001b[43msubmit_and_wait_on_results\u001b[49m\u001b[43m(\u001b[49m\n\u001b[32m    168\u001b[39m \u001b[43m        \u001b[49m\u001b[43mcollection_id\u001b[49m\u001b[43m=\u001b[49m\u001b[43mname\u001b[49m\u001b[43m,\u001b[49m\n\u001b[32m    169\u001b[39m \u001b[43m        \u001b[49m\u001b[43mrequest\u001b[49m\u001b[43m=\u001b[49m\u001b[43mrequest\u001b[49m\u001b[43m,\u001b[49m\n\u001b[32m    170\u001b[39m \u001b[43m    \u001b[49m\u001b[43m)\u001b[49m\n\u001b[32m    171\u001b[39m \u001b[38;5;28;01melse\u001b[39;00m:\n\u001b[32m    172\u001b[39m     submitted = \u001b[38;5;28mself\u001b[39m.client.submit(\n\u001b[32m    173\u001b[39m         collection_id=name,\n\u001b[32m    174\u001b[39m         request=request,\n\u001b[32m    175\u001b[39m     )\n",
      "\u001b[36mFile \u001b[39m\u001b[32m~/git/c3s2-eqc-quality-assessment/.venv/lib/python3.12/site-packages/ecmwf/datastores/client.py:414\u001b[39m, in \u001b[36mClient.submit_and_wait_on_results\u001b[39m\u001b[34m(self, collection_id, request)\u001b[39m\n\u001b[32m    398\u001b[39m \u001b[38;5;28;01mdef\u001b[39;00m\u001b[38;5;250m \u001b[39m\u001b[34msubmit_and_wait_on_results\u001b[39m(\n\u001b[32m    399\u001b[39m     \u001b[38;5;28mself\u001b[39m, collection_id: \u001b[38;5;28mstr\u001b[39m, request: \u001b[38;5;28mdict\u001b[39m[\u001b[38;5;28mstr\u001b[39m, Any]\n\u001b[32m    400\u001b[39m ) -> datastores.Results:\n\u001b[32m    401\u001b[39m \u001b[38;5;250m    \u001b[39m\u001b[33;03m\"\"\"Submit a request and wait for the results to be ready.\u001b[39;00m\n\u001b[32m    402\u001b[39m \n\u001b[32m    403\u001b[39m \u001b[33;03m    Parameters\u001b[39;00m\n\u001b[32m   (...)\u001b[39m\u001b[32m    412\u001b[39m \u001b[33;03m    datastores.Results\u001b[39;00m\n\u001b[32m    413\u001b[39m \u001b[33;03m    \"\"\"\u001b[39;00m\n\u001b[32m--> \u001b[39m\u001b[32m414\u001b[39m     \u001b[38;5;28;01mreturn\u001b[39;00m \u001b[38;5;28;43mself\u001b[39;49m\u001b[43m.\u001b[49m\u001b[43m_retrieve_api\u001b[49m\u001b[43m.\u001b[49m\u001b[43msubmit\u001b[49m\u001b[43m(\u001b[49m\u001b[43mcollection_id\u001b[49m\u001b[43m,\u001b[49m\u001b[43m \u001b[49m\u001b[43mrequest\u001b[49m\u001b[43m)\u001b[49m\u001b[43m.\u001b[49m\u001b[43mget_results\u001b[49m\u001b[43m(\u001b[49m\u001b[43m)\u001b[49m\n",
      "\u001b[36mFile \u001b[39m\u001b[32m~/git/c3s2-eqc-quality-assessment/.venv/lib/python3.12/site-packages/ecmwf/datastores/processing.py:495\u001b[39m, in \u001b[36mRemote.get_results\u001b[39m\u001b[34m(self)\u001b[39m\n\u001b[32m    488\u001b[39m \u001b[38;5;28;01mdef\u001b[39;00m\u001b[38;5;250m \u001b[39m\u001b[34mget_results\u001b[39m(\u001b[38;5;28mself\u001b[39m) -> Results:\n\u001b[32m    489\u001b[39m \u001b[38;5;250m    \u001b[39m\u001b[33;03m\"\"\"Retrieve results.\u001b[39;00m\n\u001b[32m    490\u001b[39m \n\u001b[32m    491\u001b[39m \u001b[33;03m    Returns\u001b[39;00m\n\u001b[32m    492\u001b[39m \u001b[33;03m    -------\u001b[39;00m\n\u001b[32m    493\u001b[39m \u001b[33;03m    datastores.Results\u001b[39;00m\n\u001b[32m    494\u001b[39m \u001b[33;03m    \"\"\"\u001b[39;00m\n\u001b[32m--> \u001b[39m\u001b[32m495\u001b[39m     \u001b[38;5;28;01mreturn\u001b[39;00m \u001b[38;5;28;43mself\u001b[39;49m\u001b[43m.\u001b[49m\u001b[43m_make_results\u001b[49m\u001b[43m(\u001b[49m\u001b[43mwait\u001b[49m\u001b[43m=\u001b[49m\u001b[38;5;28;43;01mTrue\u001b[39;49;00m\u001b[43m)\u001b[49m\n",
      "\u001b[36mFile \u001b[39m\u001b[32m~/git/c3s2-eqc-quality-assessment/.venv/lib/python3.12/site-packages/ecmwf/datastores/processing.py:479\u001b[39m, in \u001b[36mRemote._make_results\u001b[39m\u001b[34m(self, wait)\u001b[39m\n\u001b[32m    477\u001b[39m \u001b[38;5;28;01mdef\u001b[39;00m\u001b[38;5;250m \u001b[39m\u001b[34m_make_results\u001b[39m(\u001b[38;5;28mself\u001b[39m, wait: \u001b[38;5;28mbool\u001b[39m) -> Results:\n\u001b[32m    478\u001b[39m     \u001b[38;5;28;01mif\u001b[39;00m wait:\n\u001b[32m--> \u001b[39m\u001b[32m479\u001b[39m         \u001b[38;5;28;43mself\u001b[39;49m\u001b[43m.\u001b[49m\u001b[43m_wait_on_results\u001b[49m\u001b[43m(\u001b[49m\u001b[43m)\u001b[49m\n\u001b[32m    480\u001b[39m     response = \u001b[38;5;28mself\u001b[39m._get_api_response(\u001b[33m\"\u001b[39m\u001b[33mget\u001b[39m\u001b[33m\"\u001b[39m)\n\u001b[32m    481\u001b[39m     \u001b[38;5;28;01mtry\u001b[39;00m:\n",
      "\u001b[36mFile \u001b[39m\u001b[32m~/git/c3s2-eqc-quality-assessment/.venv/lib/python3.12/site-packages/ecmwf/datastores/processing.py:457\u001b[39m, in \u001b[36mRemote._wait_on_results\u001b[39m\u001b[34m(self)\u001b[39m\n\u001b[32m    455\u001b[39m \u001b[38;5;28;01mdef\u001b[39;00m\u001b[38;5;250m \u001b[39m\u001b[34m_wait_on_results\u001b[39m(\u001b[38;5;28mself\u001b[39m) -> \u001b[38;5;28;01mNone\u001b[39;00m:\n\u001b[32m    456\u001b[39m     sleep = \u001b[32m1.0\u001b[39m\n\u001b[32m--> \u001b[39m\u001b[32m457\u001b[39m     \u001b[38;5;28;01mwhile\u001b[39;00m \u001b[38;5;129;01mnot\u001b[39;00m \u001b[38;5;28;43mself\u001b[39;49m\u001b[43m.\u001b[49m\u001b[43mresults_ready\u001b[49m:\n\u001b[32m    458\u001b[39m         \u001b[38;5;28mself\u001b[39m.debug(\u001b[33mf\u001b[39m\u001b[33m\"\u001b[39m\u001b[33mresults not ready, waiting for \u001b[39m\u001b[38;5;132;01m{\u001b[39;00msleep\u001b[38;5;132;01m}\u001b[39;00m\u001b[33m seconds\u001b[39m\u001b[33m\"\u001b[39m)\n\u001b[32m    459\u001b[39m         time.sleep(sleep)\n",
      "\u001b[36mFile \u001b[39m\u001b[32m~/git/c3s2-eqc-quality-assessment/.venv/lib/python3.12/site-packages/ecmwf/datastores/processing.py:471\u001b[39m, in \u001b[36mRemote.results_ready\u001b[39m\u001b[34m(self)\u001b[39m\n\u001b[32m    469\u001b[39m     \u001b[38;5;28;01mreturn\u001b[39;00m \u001b[38;5;28;01mFalse\u001b[39;00m\n\u001b[32m    470\u001b[39m \u001b[38;5;28;01mif\u001b[39;00m status \u001b[38;5;129;01min\u001b[39;00m (\u001b[33m\"\u001b[39m\u001b[33mfailed\u001b[39m\u001b[33m\"\u001b[39m, \u001b[33m\"\u001b[39m\u001b[33mrejected\u001b[39m\u001b[33m\"\u001b[39m):\n\u001b[32m--> \u001b[39m\u001b[32m471\u001b[39m     results = \u001b[38;5;28;43mself\u001b[39;49m\u001b[43m.\u001b[49m\u001b[43m_make_results\u001b[49m\u001b[43m(\u001b[49m\u001b[43mwait\u001b[49m\u001b[43m=\u001b[49m\u001b[38;5;28;43;01mFalse\u001b[39;49;00m\u001b[43m)\u001b[49m\n\u001b[32m    472\u001b[39m     \u001b[38;5;28;01mraise\u001b[39;00m ProcessingFailedError(error_json_to_message(results._json_dict))\n\u001b[32m    473\u001b[39m \u001b[38;5;28;01mif\u001b[39;00m status \u001b[38;5;129;01min\u001b[39;00m (\u001b[33m\"\u001b[39m\u001b[33mdismissed\u001b[39m\u001b[33m\"\u001b[39m, \u001b[33m\"\u001b[39m\u001b[33mdeleted\u001b[39m\u001b[33m\"\u001b[39m):\n",
      "\u001b[36mFile \u001b[39m\u001b[32m~/git/c3s2-eqc-quality-assessment/.venv/lib/python3.12/site-packages/ecmwf/datastores/processing.py:485\u001b[39m, in \u001b[36mRemote._make_results\u001b[39m\u001b[34m(self, wait)\u001b[39m\n\u001b[32m    483\u001b[39m \u001b[38;5;28;01mexcept\u001b[39;00m LinkError:\n\u001b[32m    484\u001b[39m     results_url = \u001b[33mf\u001b[39m\u001b[33m\"\u001b[39m\u001b[38;5;132;01m{\u001b[39;00m\u001b[38;5;28mself\u001b[39m.url\u001b[38;5;132;01m}\u001b[39;00m\u001b[33m/results\u001b[39m\u001b[33m\"\u001b[39m\n\u001b[32m--> \u001b[39m\u001b[32m485\u001b[39m results = \u001b[43mResults\u001b[49m\u001b[43m.\u001b[49m\u001b[43mfrom_request\u001b[49m\u001b[43m(\u001b[49m\u001b[33;43m\"\u001b[39;49m\u001b[33;43mget\u001b[39;49m\u001b[33;43m\"\u001b[39;49m\u001b[43m,\u001b[49m\u001b[43m \u001b[49m\u001b[43mresults_url\u001b[49m\u001b[43m,\u001b[49m\u001b[43m \u001b[49m\u001b[43m*\u001b[49m\u001b[43m*\u001b[49m\u001b[38;5;28;43mself\u001b[39;49m\u001b[43m.\u001b[49m\u001b[43m_request_kwargs\u001b[49m\u001b[43m)\u001b[49m\n\u001b[32m    486\u001b[39m \u001b[38;5;28;01mreturn\u001b[39;00m results\n",
      "\u001b[36mFile \u001b[39m\u001b[32m~/git/c3s2-eqc-quality-assessment/.venv/lib/python3.12/site-packages/ecmwf/datastores/processing.py:176\u001b[39m, in \u001b[36mApiResponse.from_request\u001b[39m\u001b[34m(cls, method, url, headers, session, retry_options, request_options, download_options, sleep_max, cleanup, log_callback, log_messages, **kwargs)\u001b[39m\n\u001b[32m    171\u001b[39m response = robust_request(\n\u001b[32m    172\u001b[39m     method, url, headers=headers, **request_options, **kwargs\n\u001b[32m    173\u001b[39m )\n\u001b[32m    174\u001b[39m log(logging.DEBUG, \u001b[33mf\u001b[39m\u001b[33m\"\u001b[39m\u001b[33mREPLY \u001b[39m\u001b[38;5;132;01m{\u001b[39;00mresponse.text\u001b[38;5;132;01m}\u001b[39;00m\u001b[33m\"\u001b[39m, callback=log_callback)\n\u001b[32m--> \u001b[39m\u001b[32m176\u001b[39m \u001b[43mcads_raise_for_status\u001b[49m\u001b[43m(\u001b[49m\u001b[43mresponse\u001b[49m\u001b[43m)\u001b[49m\n\u001b[32m    178\u001b[39m \u001b[38;5;28mself\u001b[39m = \u001b[38;5;28mcls\u001b[39m(\n\u001b[32m    179\u001b[39m     response,\n\u001b[32m    180\u001b[39m     headers=headers,\n\u001b[32m   (...)\u001b[39m\u001b[32m    187\u001b[39m     log_callback=log_callback,\n\u001b[32m    188\u001b[39m )\n\u001b[32m    189\u001b[39m \u001b[38;5;28;01mif\u001b[39;00m log_messages:\n",
      "\u001b[36mFile \u001b[39m\u001b[32m~/git/c3s2-eqc-quality-assessment/.venv/lib/python3.12/site-packages/ecmwf/datastores/processing.py:99\u001b[39m, in \u001b[36mcads_raise_for_status\u001b[39m\u001b[34m(response)\u001b[39m\n\u001b[32m     92\u001b[39m     \u001b[38;5;28;01melse\u001b[39;00m:\n\u001b[32m     93\u001b[39m         message = \u001b[33m\"\u001b[39m\u001b[38;5;130;01m\\n\u001b[39;00m\u001b[33m\"\u001b[39m.join(\n\u001b[32m     94\u001b[39m             [\n\u001b[32m     95\u001b[39m                 \u001b[33mf\u001b[39m\u001b[33m\"\u001b[39m\u001b[38;5;132;01m{\u001b[39;00mresponse.status_code\u001b[38;5;132;01m}\u001b[39;00m\u001b[33m Client Error: \u001b[39m\u001b[38;5;132;01m{\u001b[39;00mresponse.reason\u001b[38;5;132;01m}\u001b[39;00m\u001b[33m for url: \u001b[39m\u001b[38;5;132;01m{\u001b[39;00mresponse.url\u001b[38;5;132;01m}\u001b[39;00m\u001b[33m\"\u001b[39m,\n\u001b[32m     96\u001b[39m                 error_json_to_message(error_json),\n\u001b[32m     97\u001b[39m             ]\n\u001b[32m     98\u001b[39m         )\n\u001b[32m---> \u001b[39m\u001b[32m99\u001b[39m         \u001b[38;5;28;01mraise\u001b[39;00m requests.HTTPError(message, response=response)\n\u001b[32m    100\u001b[39m response.raise_for_status()\n",
      "\u001b[31mHTTPError\u001b[39m: 400 Client Error: Bad Request for url: https://cds.climate.copernicus.eu/api/retrieve/v1/jobs/cbb19b97-d172-4d79-bbdd-f92778165451/results\nThe job has failed\nThe job failed with: FileNotFoundError"
     ]
    }
   ],
   "source": [
    "print(requests_era5land_combined[2])\n",
    "ds_era5land = ekd.from_source(\"cds\", era5land_ID, requests_era5land_combined[2])"
   ]
  },
  {
   "cell_type": "code",
   "execution_count": null,
   "id": "28",
   "metadata": {},
   "outputs": [],
   "source": [
    "ds_era5land.to_xarray()"
   ]
  },
  {
   "cell_type": "markdown",
   "id": "29",
   "metadata": {
    "editable": true,
    "papermill": {
     "duration": 0.007051,
     "end_time": "2024-03-08T17:23:56.492658",
     "exception": false,
     "start_time": "2024-03-08T17:23:56.485607",
     "status": "completed"
    },
    "slideshow": {
     "slide_type": ""
    },
    "tags": []
   },
   "source": [
    "(section-4)=\n",
    "### 4. Sel examples\n",
    "\n",
    "For reference"
   ]
  },
  {
   "cell_type": "code",
   "execution_count": null,
   "id": "30",
   "metadata": {},
   "outputs": [],
   "source": [
    "domain = ekp.geo.domains.union([\"United Kingdom\", \"Ireland\"], name=\"UK & Ireland\")"
   ]
  },
  {
   "cell_type": "code",
   "execution_count": null,
   "id": "31",
   "metadata": {},
   "outputs": [],
   "source": [
    "oneday = ds_agera5.sel(date=20240505)"
   ]
  },
  {
   "cell_type": "code",
   "execution_count": null,
   "id": "32",
   "metadata": {},
   "outputs": [],
   "source": [
    "ekp.quickplot(oneday, domain=domain, units=\"celsius\")"
   ]
  },
  {
   "cell_type": "code",
   "execution_count": null,
   "id": "33",
   "metadata": {},
   "outputs": [],
   "source": [
    "temperature = ds_agera5.sel(variable=\"Temperature_Air_2m_Max_24h\")\n",
    "chart = ekp.Map(domain=domain)\n",
    "chart.contourf(temperature.sel(date=20240505), units=\"celsius\", levels={\"step\": 2})\n",
    "chart.land()\n",
    "chart.coastlines()\n",
    "chart.gridlines()\n",
    "chart.legend()\n",
    "chart.title()\n",
    "chart.show()"
   ]
  },
  {
   "cell_type": "code",
   "execution_count": null,
   "id": "34",
   "metadata": {},
   "outputs": [],
   "source": [
    "rad = ds_agera5.sel(variable=\"Solar_Radiation_Flux\")\n",
    "chart = ekp.Map(domain=domain)\n",
    "chart.contourf(rad.sel(date=20240505))\n",
    "chart.land()\n",
    "chart.coastlines()\n",
    "chart.gridlines()\n",
    "chart.legend()\n",
    "chart.title()\n",
    "chart.show()"
   ]
  },
  {
   "cell_type": "markdown",
   "id": "35",
   "metadata": {
    "editable": true,
    "papermill": {
     "duration": 0.245188,
     "end_time": "2024-03-08T17:39:21.277354",
     "exception": false,
     "start_time": "2024-03-08T17:39:21.032166",
     "status": "completed"
    },
    "slideshow": {
     "slide_type": ""
    },
    "tags": []
   },
   "source": [
    "(section-results)=\n",
    "### 5. Results\n",
    "\n",
    "#### Results Subsections\n",
    "Describe what is done in this step/section and what the `code` in the cell does (if code is included). \n",
    "\n",
    "If this is the **results section**, we expect the final plots to be created here with a description of how to interpret them, and what information can be extracted for the specific use case and user question. The information in the 'quality assessment statement' should be derived here. "
   ]
  },
  {
   "cell_type": "markdown",
   "id": "36",
   "metadata": {
    "editable": true,
    "papermill": {
     "duration": 0.271597,
     "end_time": "2024-03-08T17:40:01.664067",
     "exception": false,
     "start_time": "2024-03-08T17:40:01.392470",
     "status": "completed"
    },
    "slideshow": {
     "slide_type": ""
    },
    "tags": []
   },
   "source": [
    "## ℹ️ If you want to know more\n",
    "\n",
    "### Key resources\n",
    "\n",
    "List some key resources related to this assessment. E.g. CDS entries, applications, dataset documentation, external pages.\n",
    "Also list any code libraries used (if applicable).\n",
    "\n",
    "Code libraries used:\n",
    "* Earthkit\n",
    "  * [earthkit-data](https://github.com/ecmwf/earthkit)\n",
    "  * [earthkit-plots](https://github.com/ecmwf/earthkit-plots)\n",
    "\n",
    "### References\n",
    "[[CDS AgERA5]](https://doi.org/10.24381/cds.6c68c9bb) Boogaard, H., Schubert, J., De Wit, A., Lazebnik, J., Hutjes, R., Van der Grijn, G., (2020): Agrometeorological indicators from 1979 to present derived from reanalysis. Copernicus Climate Change Service (C3S) Climate Data Store (CDS). DOI: 10.24381/cds.6c68c9bb (Accessed on DD-MMM-YYYY)"
   ]
  }
 ],
 "metadata": {
  "language_info": {
   "codemirror_mode": {
    "name": "ipython",
    "version": 3
   },
   "file_extension": ".py",
   "mimetype": "text/x-python",
   "name": "python",
   "nbconvert_exporter": "python",
   "pygments_lexer": "ipython3",
   "version": "3.12.3"
  },
  "papermill": {
   "default_parameters": {},
   "duration": 968.520731,
   "end_time": "2024-03-08T17:40:03.783430",
   "environment_variables": {},
   "exception": null,
   "input_path": "D520.3.2.3b.SEASONAL_multimodel-bias_v5.ipynb",
   "output_path": "output.ipynb",
   "parameters": {},
   "start_time": "2024-03-08T17:23:55.262699",
   "version": "2.4.0"
  }
 },
 "nbformat": 4,
 "nbformat_minor": 5
}
