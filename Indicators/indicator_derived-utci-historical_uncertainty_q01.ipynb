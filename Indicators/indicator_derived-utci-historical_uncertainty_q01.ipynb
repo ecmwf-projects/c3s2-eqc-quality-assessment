{
 "cells": [
  {
   "cell_type": "markdown",
   "id": "0",
   "metadata": {},
   "source": [
    "# Uncertainty in thermal comfort indices derived from ERA5"
   ]
  },
  {
   "cell_type": "markdown",
   "id": "1",
   "metadata": {},
   "source": [
    "Production date: 2025-MM-DD.\n",
    "\n",
    "**Please note that this repository is used for development and review, so quality assessments should be considered work in progress until they are merged into the main branch.**\n",
    "\n",
    "Dataset version: 1.1.\n",
    "\n",
    "Produced by: C3S2_521 contract."
   ]
  },
  {
   "cell_type": "markdown",
   "id": "2",
   "metadata": {
    "editable": true,
    "slideshow": {
     "slide_type": ""
    },
    "tags": []
   },
   "source": [
    "## 🌍 Use case: ERA5-HEAT"
   ]
  },
  {
   "cell_type": "markdown",
   "id": "3",
   "metadata": {},
   "source": [
    "## ❓ Quality assessment question\n",
    "* **In most cases there should be one question listed here in bold**"
   ]
  },
  {
   "cell_type": "markdown",
   "id": "4",
   "metadata": {
    "tags": []
   },
   "source": [
    "Introduction:"
   ]
  },
  {
   "attachments": {},
   "cell_type": "markdown",
   "id": "5",
   "metadata": {
    "tags": []
   },
   "source": [
    "## 📢 Quality assessment statement\n",
    "\n",
    "```{admonition} These are the key outcomes of this assessment\n",
    ":class: note\n",
    "* Finding 1\n",
    "* Finding 2\n",
    "* Finding 3\n",
    "* etc\n",
    "```"
   ]
  },
  {
   "cell_type": "markdown",
   "id": "6",
   "metadata": {
    "editable": true,
    "slideshow": {
     "slide_type": ""
    },
    "tags": []
   },
   "source": [
    "## 📋 Methodology\n",
    "\n",
    "**Thermal comfort indices derived from ERA5 reanalysis** (*ERA5-HEAT*; [doi 10.24381/cds.553b7518](https://doi.org/10.24381/cds.553b7518)).\n",
    "\n",
    "The analysis and results are organised in the following steps, which are detailed in the sections below: \n",
    "\n",
    "**[](section-setup)**\n",
    " * Sub-steps or key points listed in bullet below. No strict requirement to match and link to sub-headings.\n",
    "\n",
    "**[](section-consistency)**\n",
    " * Sub-steps or key points listed in bullet below. No strict requirement to match and link to sub-headings.\n",
    "\n",
    "**[](section-uncertainty)**\n",
    " * Sub-steps or key points listed in bullet below. No strict requirement to match and link to sub-headings.\n",
    "\n",
    "Any further notes on the method could go here (explanations, caveats or limitations)."
   ]
  },
  {
   "cell_type": "markdown",
   "id": "7",
   "metadata": {},
   "source": [
    "## 📈 Analysis and results"
   ]
  },
  {
   "cell_type": "markdown",
   "id": "8",
   "metadata": {
    "editable": true,
    "papermill": {
     "duration": 0.007051,
     "end_time": "2024-03-08T17:23:56.492658",
     "exception": false,
     "start_time": "2024-03-08T17:23:56.485607",
     "status": "completed"
    },
    "slideshow": {
     "slide_type": ""
    },
    "tags": []
   },
   "source": [
    "(section-setup)=\n",
    "### 1. Code setup"
   ]
  },
  {
   "cell_type": "markdown",
   "id": "9",
   "metadata": {},
   "source": [
    "#### Imports"
   ]
  },
  {
   "cell_type": "code",
   "execution_count": null,
   "id": "10",
   "metadata": {
    "editable": true,
    "slideshow": {
     "slide_type": ""
    },
    "tags": [
     "hide-input"
    ]
   },
   "outputs": [],
   "source": [
    "# Input / Output\n",
    "from pathlib import Path\n",
    "import earthkit.data as ekd\n",
    "import warnings\n",
    "\n",
    "# General data handling\n",
    "import numpy as np\n",
    "np.seterr(divide=\"ignore\")  # Ignore divide-by-zero warnings\n",
    "import pandas as pd\n",
    "import xarray as xr\n",
    "from functools import partial\n",
    "from dask.array.core import PerformanceWarning\n",
    "warnings.simplefilter(action=\"ignore\", category=PerformanceWarning)\n",
    "\n",
    "# Visualisation\n",
    "import earthkit.plots as ekp\n",
    "from earthkit.plots.styles import Style\n",
    "import matplotlib.pyplot as plt\n",
    "plt.rcParams[\"grid.linestyle\"] = \"--\"\n",
    "from tqdm import tqdm  # Progress bars\n",
    "\n",
    "# Visualisation in Jupyter book -- automatically ignored otherwise\n",
    "try:\n",
    "    from myst_nb import glue\n",
    "except ImportError:\n",
    "    glue = None"
   ]
  },
  {
   "cell_type": "markdown",
   "id": "11",
   "metadata": {},
   "source": [
    "#### Define thermal comfort indices"
   ]
  },
  {
   "cell_type": "code",
   "execution_count": null,
   "id": "12",
   "metadata": {},
   "outputs": [],
   "source": [
    "## Constants\n",
    "# Variable names (to aid with grib/netcdf consistency)\n",
    "Ta = \"t2m\"\n",
    "Td = \"d2m\"\n",
    "va = \"va\"\n",
    "u10, v10 = \"u10\", \"v10\"\n",
    "L, S = \"str\", \"ssr\"\n",
    "\n",
    "# Physical constants\n",
    "σ = 5.67e-8  # W m-2 K-4\n",
    "εp = 0.97\n",
    "air = 0.7"
   ]
  },
  {
   "cell_type": "markdown",
   "id": "13",
   "metadata": {},
   "source": [
    "##### Mean radiant temperature (MRT)\n",
    "[Di Napoli et al. (2020)](https://doi.org/10.1007/s00484-020-01900-5):"
   ]
  },
  {
   "cell_type": "code",
   "execution_count": null,
   "id": "14",
   "metadata": {},
   "outputs": [],
   "source": [
    "## MRT"
   ]
  },
  {
   "cell_type": "markdown",
   "id": "15",
   "metadata": {},
   "source": [
    "##### Universal Thermal Climate Index (UTCI)\n",
    "[Di Napoli et al. (2021)](https://doi.org/10.1002/gdj3.102):"
   ]
  },
  {
   "cell_type": "code",
   "execution_count": null,
   "id": "16",
   "metadata": {},
   "outputs": [],
   "source": [
    "## UTCI"
   ]
  },
  {
   "cell_type": "markdown",
   "id": "17",
   "metadata": {},
   "source": [
    "#### Helper functions"
   ]
  },
  {
   "cell_type": "markdown",
   "id": "18",
   "metadata": {},
   "source": [
    "##### General"
   ]
  },
  {
   "cell_type": "code",
   "execution_count": null,
   "id": "19",
   "metadata": {},
   "outputs": [],
   "source": [
    "# Type hints for helper functions\n",
    "from typing import Callable, Optional, Iterable\n",
    "\n",
    "# For pre-defining functions\n",
    "from functools import partial"
   ]
  },
  {
   "cell_type": "markdown",
   "id": "20",
   "metadata": {},
   "source": [
    "##### Downloading data"
   ]
  },
  {
   "cell_type": "code",
   "execution_count": null,
   "id": "21",
   "metadata": {},
   "outputs": [],
   "source": [
    "## Data downloading\n",
    "def domain_to_request(domain: ekp.geo.domains.Domain) -> dict:\n",
    "    \"\"\" From an earthkit-plots domain, generate a request for earthkit-data / cdsapi. \"\"\"\n",
    "    bbox = domain.bbox.to_latlon_bbox()\n",
    "\n",
    "    # Round\n",
    "    north = int(np.ceil(bbox.north) + 1)\n",
    "    south = int(np.floor(bbox.south) - 1)\n",
    "    west = int(np.floor(bbox.west) - 1)\n",
    "    east = int(np.ceil(bbox.east) + 1)\n",
    "    \n",
    "    area = [north, west, south, east]\n",
    "    return {\"area\": area}"
   ]
  },
  {
   "cell_type": "markdown",
   "id": "22",
   "metadata": {},
   "source": [
    "##### Data (pre-)processing"
   ]
  },
  {
   "cell_type": "code",
   "execution_count": null,
   "id": "23",
   "metadata": {},
   "outputs": [],
   "source": [
    "## Wind\n",
    "def add_10m_wind(data: xr.Dataset) -> xr.Dataset:\n",
    "    \"\"\" Modifies a dataset `data` to add 10m wind speed from its U,V components. \"\"\"\n",
    "    data = data.assign({va: xr.ufuncs.sqrt(data[u10]**2 + data[v10]**2)})\n",
    "    data[va] = data[va].assign_attrs({\"long_name\": \"10 metre wind\", \"units\": data[u10].units})\n",
    "    return data"
   ]
  },
  {
   "cell_type": "code",
   "execution_count": null,
   "id": "24",
   "metadata": {},
   "outputs": [],
   "source": [
    "## Loops for convenience\n",
    "def loop_over_(*args, progress=True, **kwargs) -> tqdm:\n",
    "    \"\"\" Generate a tqdm progressbar; inverts `disable` keyword \"\"\"\n",
    "    return tqdm(*args, disable=not progress, leave=False, **kwargs)\n",
    "\n",
    "def loop_over_ensemble_members(data: xr.Dataset, **tqdm_kwargs) -> tqdm:\n",
    "    \"\"\" Loop over ensemble members in `data`, with a progress bar. \"\"\"\n",
    "    return loop_over_(data.groupby(\"number\"), unit=\"member\", **tqdm_kwargs)\n",
    "\n",
    "def loop_over_data_variables(data: xr.Dataset, **tqdm_kwargs) -> tqdm:\n",
    "    \"\"\" Loop over variable keys in `data`, with a progress bar. \"\"\"\n",
    "    return loop_over_(data.data_vars.keys(), unit=\"variable\", **tqdm_kwargs)"
   ]
  },
  {
   "cell_type": "markdown",
   "id": "25",
   "metadata": {},
   "source": [
    "##### Visualisation"
   ]
  },
  {
   "cell_type": "code",
   "execution_count": null,
   "id": "26",
   "metadata": {},
   "outputs": [],
   "source": [
    "# Styles for variables\n",
    "\n",
    "# Stats\n",
    "_style_std = {\"vmin\": 0, \"extend\": \"max\"}\n",
    "\n",
    "# Temperature\n",
    "# note currently in K\n",
    "_style_t = {\"cmap\": plt.cm.YlOrBr.resampled(10), \"vmin\": 240, \"vmax\": 340, \"extend\": \"both\"}\n",
    "_style_t_std = _style_std | {\"cmap\": plt.cm.YlOrBr.resampled(10), \"vmax\": 10}\n",
    "\n",
    "# Wind\n",
    "_style_wind = {\"cmap\": plt.cm.Purples.resampled(10), \"vmin\": 0, \"vmax\": 25, \"extend\": \"max\"}\n",
    "_style_wind_vector = {\"cmap\": plt.cm.PRGn_r.resampled(15), \"vmin\": -_style_wind[\"vmax\"], \"vmax\": _style_wind[\"vmax\"], \"extend\": \"both\"}\n",
    "_style_wind_std = _style_std | {\"cmap\": plt.cm.Purples.resampled(10), \"vmax\": 5}\n",
    "\n",
    "# Radiation\n",
    "_style_solar   = {\"cmap\": plt.cm.YlOrRd.resampled(10), \"vmin\": 0, \"vmax\": 1e7, \"extend\": \"max\"}\n",
    "_style_thermal = {\"cmap\": plt.cm.YlOrRd.resampled(10), \"vmin\": 0, \"vmax\": 6e5, \"extend\": \"max\"}\n",
    "_style_solar_std   = _style_std | {\"cmap\": plt.cm.YlOrRd.resampled(10), \"vmax\": 2.5e6}\n",
    "_style_thermal_std = _style_std | {\"cmap\": plt.cm.YlOrRd.resampled(10), \"vmax\": 6e5}\n",
    "\n",
    "# Thermal indices\n",
    "_style_utci = {\"cmap\": plt.cm.Spectral_r.resampled(11), \"vmin\": -13, \"vmax\": 46, \"extend\": \"both\"}\n",
    "_style_utci_std = _style_std | {\"cmap\": plt.cm.Spectral_r.resampled(11), \"vmax\": 5}\n",
    "\n",
    "# Individual styles\n",
    "# Set up like this so they can still be edited individually\n",
    "styles = {\n",
    "    Ta: Style(**_style_t),            f\"{Ta}_std\": Style(**_style_t_std),\n",
    "    Td: Style(**_style_t),            f\"{Td}_std\": Style(**_style_t_std),\n",
    "    va: Style(**_style_wind),         f\"{va}_std\": Style(**_style_wind_std),\n",
    "    u10: Style(**_style_wind_vector), f\"{u10}_std\": Style(**_style_wind_std),\n",
    "    v10: Style(**_style_wind_vector), f\"{v10}_std\": Style(**_style_wind_std),\n",
    "    S: Style(**_style_solar),         f\"{S}_std\": Style(**_style_solar_std),\n",
    "    L: Style(**_style_thermal),       f\"{L}_std\": Style(**_style_thermal_std),\n",
    "    \"utci\": Style(**_style_utci),      \"utci_std\": Style(**_style_utci_std),\n",
    "}\n",
    "\n",
    "# Apply general settings\n",
    "for style in styles.values():\n",
    "    style.normalize = False"
   ]
  },
  {
   "cell_type": "code",
   "execution_count": null,
   "id": "27",
   "metadata": {},
   "outputs": [],
   "source": [
    "# Visualisation: Helper functions, general\n",
    "def _glue_or_show(fig: plt.Figure, glue_label: Optional[str]=None) -> None:\n",
    "    \"\"\"\n",
    "    If `glue` is available, glue the figure using the provided label.\n",
    "    If not, display the figure in the notebook.\n",
    "    \"\"\"\n",
    "    try:\n",
    "        glue(glue_label, fig, display=False)\n",
    "    except TypeError:\n",
    "        plt.show()\n",
    "    finally:\n",
    "        plt.close()\n",
    "\n",
    "def _add_textbox_to_subplots(text: str, *axs: Iterable[plt.Axes | ekp.Subplot], right=False) -> None:\n",
    "    \"\"\" Add a text box to each of the specified subplots. \"\"\"\n",
    "    # Get the plt.Axes for each ekp.Subplot\n",
    "    axs = [subplot.ax if isinstance(subplot, ekp.Subplot) else subplot for subplot in axs]\n",
    "\n",
    "    # Set up location\n",
    "    x = 0.95 if right else 0.05\n",
    "    horizontalalignment = \"right\" if right else \"left\"\n",
    "\n",
    "    # Add the text\n",
    "    for ax in axs:\n",
    "        ax.text(x, 0.95, text, transform=ax.transAxes,\n",
    "        horizontalalignment=horizontalalignment, verticalalignment=\"top\",\n",
    "        bbox={\"facecolor\": \"white\", \"edgecolor\": \"black\", \"boxstyle\": \"round\",\n",
    "              \"alpha\": 1})\n",
    "\n",
    "def _sharexy(axs: np.ndarray) -> None:\n",
    "    \"\"\" Force all of the axes in axs to share x and y with the first element. \"\"\"\n",
    "    main_ax = axs.ravel()[0]\n",
    "    for ax in axs.ravel():\n",
    "        ax.sharex(main_ax)\n",
    "        ax.sharey(main_ax)\n",
    "\n",
    "def _symmetric_xlim(ax: plt.Axes) -> None:\n",
    "    \"\"\" Adjust the xlims for one Axes to be symmetric, based on existing values. \"\"\"\n",
    "    current = ax.get_xlim()\n",
    "    current = np.abs(current)\n",
    "    maxlim = np.max(current)\n",
    "    newlim = (-maxlim, maxlim)\n",
    "\n",
    "    ax.set_xlim(newlim)"
   ]
  },
  {
   "cell_type": "code",
   "execution_count": null,
   "id": "28",
   "metadata": {},
   "outputs": [],
   "source": [
    "def decorate_fig(fig: ekp.Figure, *, title: Optional[str]=\"\") -> None:\n",
    "    \"\"\" Decorate an earthkit figure with land, coastlines, etc. \"\"\"\n",
    "    # Add progress bar because individual steps can be very slow for large plots\n",
    "    with tqdm(total=5, desc=\"Decorating\", leave=False) as progressbar:\n",
    "        fig.land()\n",
    "        progressbar.update()\n",
    "        fig.coastlines()\n",
    "        progressbar.update()\n",
    "        fig.borders()\n",
    "        progressbar.update()\n",
    "        fig.gridlines(linestyle=plt.rcParams[\"grid.linestyle\"])\n",
    "        progressbar.update()\n",
    "        fig.title(title)\n",
    "        progressbar.update()"
   ]
  },
  {
   "cell_type": "markdown",
   "id": "29",
   "metadata": {
    "editable": true,
    "papermill": {
     "duration": 0.007051,
     "end_time": "2024-03-08T17:23:56.492658",
     "exception": false,
     "start_time": "2024-03-08T17:23:56.485607",
     "status": "completed"
    },
    "slideshow": {
     "slide_type": ""
    },
    "tags": []
   },
   "source": [
    "(section-consistency)=\n",
    "### 2. Consistency between ERA5 and ERA5-HEAT\n",
    "\n",
    "Note this is meant as a sanity check on the UTCI calculation, not a full consistency analysis (that can be its own notebook if desired).\n",
    "Just download and process ERA5 in its native resolution for some subset of space and time, compare that to ERA5-HEAT, and use that to check that you're calculating the indices correctly."
   ]
  },
  {
   "cell_type": "markdown",
   "id": "30",
   "metadata": {},
   "source": [
    "#### General setup\n",
    "This notebook uses [earthkit-data](https://github.com/ecmwf/earthkit-data) to download files from the CDS.\n",
    "If you intend to run this notebook multiple times, it is highly recommended that you [enable caching](https://earthkit-data.readthedocs.io/en/latest/guide/caching.html) to prevent having to download the same files multiple times.\n",
    "\n",
    "We will be downloading multiple datasets in this notebook.\n",
    "In this section, we define the parameters common to all datasets: time and space.\n",
    "This way, these only need to be changed in one place if you wish to modify the notebook for your own use case.\n",
    "\n",
    "In this example, we will be looking at data for Europe every day in\n",
    "June–August\n",
    "2024.\n",
    "We will also do a time series comparison in one site within this area.\n",
    "These settings can easily be changed by editing the variables in the following cell:"
   ]
  },
  {
   "cell_type": "code",
   "execution_count": null,
   "id": "31",
   "metadata": {},
   "outputs": [],
   "source": [
    "# domain = ekp.geo.domains.Domain.from_string(\"Europe\")\n",
    "domain = ekp.geo.domains.Domain.from_string(\"Italy\")  # Smaller domain for testing\n",
    "year = 2024\n",
    "months = [6, 7, 8]"
   ]
  },
  {
   "cell_type": "code",
   "execution_count": null,
   "id": "32",
   "metadata": {},
   "outputs": [],
   "source": [
    "request_domain = domain_to_request(domain)\n",
    "\n",
    "request_time = {\n",
    "    \"year\": [f\"{year}\"],\n",
    "    \"month\": [f\"{month:02}\" for month in months],\n",
    "    \"day\": [f\"{d:02}\" for d in range(1, 32)],\n",
    "}"
   ]
  },
  {
   "cell_type": "markdown",
   "id": "33",
   "metadata": {},
   "source": [
    "#### ERA5-HEAT"
   ]
  },
  {
   "cell_type": "code",
   "execution_count": null,
   "id": "34",
   "metadata": {
    "editable": true,
    "slideshow": {
     "slide_type": ""
    },
    "tags": [
     "hide-input"
    ]
   },
   "outputs": [],
   "source": [
    "# Download ERA5-HEAT\n",
    "era5heat_ID = \"derived-utci-historical\"\n",
    "\n",
    "request_era5heat = {\n",
    "    \"variable\": [\n",
    "        \"universal_thermal_climate_index\",\n",
    "        \"mean_radiant_temperature\"\n",
    "    ],\n",
    "    \"version\": \"1_1\",\n",
    "    \"product_type\": \"consolidated_dataset\",\n",
    "} | request_domain | request_time\n",
    "\n",
    "ds_era5heat = ekd.from_source(\"cds\", era5heat_ID, request_era5heat)"
   ]
  },
  {
   "cell_type": "code",
   "execution_count": null,
   "id": "35",
   "metadata": {},
   "outputs": [],
   "source": [
    "data_era5heat = ds_era5heat.to_xarray(compat=\"equals\")\n",
    "data_era5heat"
   ]
  },
  {
   "cell_type": "markdown",
   "id": "36",
   "metadata": {},
   "source": [
    "#### ERA5"
   ]
  },
  {
   "cell_type": "markdown",
   "id": "37",
   "metadata": {},
   "source": [
    "[Di Napoli et al. (2021)](https://doi.org/10.1002/gdj3.102):\n",
    "* 2 m air temperature (Ta)\n",
    "* 2 m dew point temperature (Td)\n",
    "* wind speed at 10 m above ground level (va)\n",
    "* solar radiation\n",
    "* thermal radiation\n",
    "\n",
    "at the Earth's surface"
   ]
  },
  {
   "cell_type": "code",
   "execution_count": null,
   "id": "38",
   "metadata": {},
   "outputs": [],
   "source": [
    "# Download ERA5\n",
    "# General setup\n",
    "era5_ID = \"reanalysis-era5-single-levels\"\n",
    "\n",
    "request_era5_files = {\n",
    "    \"data_format\": \"netcdf\",\n",
    "    \"download_format\": \"zip\",\n",
    "}\n",
    "\n",
    "request_era5_all = {\n",
    "    \"variable\": [\n",
    "        \"10m_u_component_of_wind\",\n",
    "        \"10m_v_component_of_wind\",\n",
    "        \"2m_dewpoint_temperature\",\n",
    "        \"2m_temperature\",\n",
    "        \"surface_net_thermal_radiation\",\n",
    "        \"surface_net_solar_radiation\",\n",
    "    ],\n",
    "}"
   ]
  },
  {
   "cell_type": "code",
   "execution_count": null,
   "id": "39",
   "metadata": {},
   "outputs": [],
   "source": [
    "# Download ERA5\n",
    "# Reanalysis\n",
    "request_reanalysis = {\n",
    "    \"product_type\": [\"reanalysis\"],\n",
    "    \"time\": [f\"{h:02}:00\" for h in range(0, 24)],\n",
    "}\n",
    "\n",
    "request_era5_reanalysis_all = request_reanalysis | request_era5_all | request_era5_files | request_time | request_domain\n",
    "\n",
    "ds_era5 = ekd.from_source(\"cds\", era5_ID, request_era5_reanalysis_all)"
   ]
  },
  {
   "cell_type": "code",
   "execution_count": null,
   "id": "40",
   "metadata": {},
   "outputs": [],
   "source": [
    "data_era5 = ds_era5.to_xarray(compat=\"equals\")"
   ]
  },
  {
   "cell_type": "code",
   "execution_count": null,
   "id": "41",
   "metadata": {},
   "outputs": [],
   "source": [
    "data_era5"
   ]
  },
  {
   "cell_type": "code",
   "execution_count": null,
   "id": "42",
   "metadata": {},
   "outputs": [],
   "source": [
    "data_era5 = add_10m_wind(data_era5)"
   ]
  },
  {
   "cell_type": "code",
   "execution_count": null,
   "id": "43",
   "metadata": {},
   "outputs": [],
   "source": [
    "data_era5"
   ]
  },
  {
   "cell_type": "code",
   "execution_count": null,
   "id": "44",
   "metadata": {},
   "outputs": [],
   "source": [
    "# Calculate indices"
   ]
  },
  {
   "cell_type": "markdown",
   "id": "45",
   "metadata": {},
   "source": [
    "#### Comparison"
   ]
  },
  {
   "cell_type": "code",
   "execution_count": null,
   "id": "46",
   "metadata": {},
   "outputs": [],
   "source": [
    "date_time = f\"{year}0831T12\"  # 31 August, noon\n",
    "data_era5heat_singleday = data_era5heat.sel(time=date_time)\n",
    "data_era5_singleday = data_era5.sel(valid_time=date_time)"
   ]
  },
  {
   "cell_type": "code",
   "execution_count": null,
   "id": "47",
   "metadata": {},
   "outputs": [],
   "source": [
    "# Show side-by-side\n",
    "fig = ekp.Figure(rows=1, columns=3, size=(10, 10))\n",
    "\n",
    "# Plot datasets\n",
    "subplot = fig.add_map(domain=domain)\n",
    "subplot.grid_cells(data_era5heat_singleday, z=\"utci\", style=styles[\"utci\"])\n",
    "subplot.legend()\n",
    "subplot.ax.set_title(\"ERA5-HEAT\")\n",
    "\n",
    "subplot = fig.add_map(domain=domain)\n",
    "subplot.grid_cells(data_era5_singleday, z=Ta, style=styles[Ta])\n",
    "subplot.legend()\n",
    "subplot.ax.set_title(\"ERA5\")\n",
    "\n",
    "# Show differences\n",
    "\n",
    "# Decorate figures\n",
    "decorate_fig(fig)\n",
    "\n",
    "# Uncomment if running this notebook yourself:\n",
    "# Show result\n",
    "plt.show()\n",
    "\n",
    "# Uncomment if building the Jupyter-book web version:\n",
    "fig = fig.fig  # Extract matplotlib fig from earthkit fig\n",
    "glue(\"fig_geo\", fig, display=False)\n",
    "plt.close()"
   ]
  },
  {
   "cell_type": "code",
   "execution_count": null,
   "id": "48",
   "metadata": {},
   "outputs": [],
   "source": [
    "# Calculate difference metrics"
   ]
  },
  {
   "cell_type": "markdown",
   "id": "49",
   "metadata": {
    "editable": true,
    "papermill": {
     "duration": 0.007051,
     "end_time": "2024-03-08T17:23:56.492658",
     "exception": false,
     "start_time": "2024-03-08T17:23:56.485607",
     "status": "completed"
    },
    "slideshow": {
     "slide_type": ""
    },
    "tags": []
   },
   "source": [
    "(section-uncertainty)=\n",
    "### 3. Uncertainty\n",
    "\n",
    "Apply the indices to the ERA5-EDA ensemble."
   ]
  },
  {
   "cell_type": "code",
   "execution_count": null,
   "id": "50",
   "metadata": {
    "editable": true,
    "slideshow": {
     "slide_type": ""
    },
    "tags": [
     "hide-input"
    ]
   },
   "outputs": [],
   "source": [
    "# Download ERA5 ensemble\n",
    "request_time_ensemble = {\n",
    "    \"time\": [f\"{h:02}:00\" for h in range(0, 22, 3)],\n",
    "} | request_time\n",
    "\n",
    "request_ensemble_members = {\n",
    "    \"product_type\": [\"ensemble_members\"],  \n",
    "}\n",
    "\n",
    "request_ensemble_stats = {\n",
    "    \"product_type\": [\n",
    "        \"ensemble_mean\",\n",
    "        \"ensemble_spread\"\n",
    "    ],  \n",
    "}\n",
    "\n",
    "request_era5_ensemble_members = request_ensemble_members | request_era5_all | request_era5_files | request_time_ensemble | request_domain\n",
    "# request_era5_ensemble_stats   = request_era5 | request_ensemble_stats   | request_domain | request_time_ensemble\n",
    "\n",
    "ds_era5_members = ekd.from_source(\"cds\", era5_ID, request_era5_ensemble_members)\n",
    "# ds_era5_stats   = ekd.from_source(\"cds\", era5_ID, request_era5_ensemble_stats)"
   ]
  },
  {
   "cell_type": "code",
   "execution_count": null,
   "id": "51",
   "metadata": {},
   "outputs": [],
   "source": [
    "ensemble_members = ds_era5_members.to_xarray()"
   ]
  },
  {
   "cell_type": "code",
   "execution_count": null,
   "id": "52",
   "metadata": {},
   "outputs": [],
   "source": [
    "ensemble_members = add_10m_wind(ensemble_members)"
   ]
  },
  {
   "cell_type": "code",
   "execution_count": null,
   "id": "53",
   "metadata": {},
   "outputs": [],
   "source": [
    "ensemble_members"
   ]
  },
  {
   "cell_type": "code",
   "execution_count": null,
   "id": "54",
   "metadata": {},
   "outputs": [],
   "source": [
    "ensemble_singleday = ensemble_members.sel(valid_time=date_time)"
   ]
  },
  {
   "cell_type": "code",
   "execution_count": null,
   "id": "55",
   "metadata": {},
   "outputs": [],
   "source": [
    "ensemble_singleday[S].max().values"
   ]
  },
  {
   "cell_type": "code",
   "execution_count": null,
   "id": "56",
   "metadata": {},
   "outputs": [],
   "source": [
    "# Show side-by-side\n",
    "n_member, n_var = len(ensemble_members[\"number\"]), len(ensemble_members.data_vars)\n",
    "fig = ekp.Figure(rows=n_member, columns=n_var, size=(2*n_var, 2*n_member))\n",
    "\n",
    "# Loop over ensemble members\n",
    "for n, mem in loop_over_ensemble_members(ensemble_singleday):\n",
    "    for var in loop_over_data_variables(ensemble_singleday, progress=False):\n",
    "        # Plot single variable\n",
    "        subplot = fig.add_map(domain=domain)\n",
    "        subplot.grid_cells(mem, z=var, style=styles[var])\n",
    "\n",
    "# Legend at the bottom\n",
    "for subplot in fig.subplots[-n_var:]:\n",
    "    subplot.legend()\n",
    "\n",
    "# Decorate figures\n",
    "decorate_fig(fig)\n",
    "\n",
    "# Show result\n",
    "plt.show()\n",
    "plt.close()"
   ]
  },
  {
   "cell_type": "code",
   "execution_count": null,
   "id": "57",
   "metadata": {},
   "outputs": [],
   "source": [
    "# ensemble_stats = ds_era5_stats.to_xarray()\n",
    "# ensemble_stats"
   ]
  },
  {
   "cell_type": "code",
   "execution_count": null,
   "id": "58",
   "metadata": {},
   "outputs": [],
   "source": [
    "# Calculate indices"
   ]
  },
  {
   "cell_type": "code",
   "execution_count": null,
   "id": "59",
   "metadata": {},
   "outputs": [],
   "source": [
    "# Show side-by-side"
   ]
  },
  {
   "cell_type": "code",
   "execution_count": null,
   "id": "60",
   "metadata": {},
   "outputs": [],
   "source": [
    "ensemble_mean = ensemble_members.mean(dim=\"number\")\n",
    "ensemble_std  = ensemble_members.std(dim=\"number\")  \\\n",
    "                                .rename_vars({var: var+\"_std\" for var in loop_over_data_variables(ensemble_mean)})\n",
    "\n",
    "ensemble_stats = xr.merge([ensemble_mean, ensemble_std], compat=\"equals\", join=\"outer\")"
   ]
  },
  {
   "cell_type": "code",
   "execution_count": null,
   "id": "61",
   "metadata": {},
   "outputs": [],
   "source": [
    "ensemble_stats_singleday = ensemble_stats.sel(valid_time=date_time)"
   ]
  },
  {
   "cell_type": "code",
   "execution_count": null,
   "id": "62",
   "metadata": {},
   "outputs": [],
   "source": [
    "# Show mean and spread\n",
    "n_stats, n_var = 2, len(ensemble_mean.data_vars)\n",
    "fig = ekp.Figure(rows=n_var, columns=n_stats, size=(3*n_stats, 2*n_var))\n",
    "\n",
    "# Loop over variables\n",
    "for var in loop_over_data_variables(ensemble_singleday):\n",
    "    # Setup\n",
    "    var_std = var+\"_std\"\n",
    "\n",
    "    # Plot single variable\n",
    "    subplot_mean, subplot_std = [fig.add_map(domain=domain) for _ in range(2)]\n",
    "    subplot_mean.grid_cells(ensemble_stats_singleday, z=var, style=styles[var])\n",
    "    subplot_std.grid_cells(ensemble_stats_singleday, z=var_std, style=styles[var_std])\n",
    "\n",
    "    # Legend on either side\n",
    "    subplot_mean.legend(location=\"left\")\n",
    "    subplot_std.legend(location=\"right\")\n",
    "\n",
    "# Decorate figures\n",
    "decorate_fig(fig)\n",
    "\n",
    "# Show result\n",
    "plt.show()\n",
    "plt.close()"
   ]
  },
  {
   "cell_type": "code",
   "execution_count": null,
   "id": "63",
   "metadata": {},
   "outputs": [],
   "source": [
    "# Show comparison to high-resolution ERA5 / ERA5-HEAT"
   ]
  },
  {
   "cell_type": "markdown",
   "id": "64",
   "metadata": {
    "editable": true,
    "papermill": {
     "duration": 0.271597,
     "end_time": "2024-03-08T17:40:01.664067",
     "exception": false,
     "start_time": "2024-03-08T17:40:01.392470",
     "status": "completed"
    },
    "slideshow": {
     "slide_type": ""
    },
    "tags": []
   },
   "source": [
    "## ℹ️ If you want to know more\n",
    "\n",
    "### Key resources\n",
    "The CDS catalogue entries for the data used were:\n",
    "* Thermal comfort indices derived from ERA5 reanalysis (ERA5-HEAT): [derived-utci-historical](https://doi.org/10.24381/cds.553b7518)\n",
    "* ERA5 hourly data on single levels from 1940 to present: [reanalysis-era5-single-levels](https://doi.org/10.24381/cds.adbb2d47)\n",
    "\n",
    "Code libraries used:\n",
    "* [earthkit](https://github.com/ecmwf/earthkit)\n",
    "  * [earthkit-data](https://github.com/ecmwf/earthkit)\n",
    "  * [earthkit-plots](https://github.com/ecmwf/earthkit-plots)\n",
    "\n",
    "More about thermal comfort indices:\n",
    "\n",
    "More about reanalysis data:\n",
    "* [The ERA5 global reanalysis](https://doi.org/10.1002/qj.3803)\n",
    "\n",
    "More about heatwaves:\n",
    "* [](../Applications/application_pulse_extreme-events_q01)\n",
    "\n",
    "### References"
   ]
  }
 ],
 "metadata": {
  "language_info": {
   "codemirror_mode": {
    "name": "ipython",
    "version": 3
   },
   "file_extension": ".py",
   "mimetype": "text/x-python",
   "name": "python",
   "nbconvert_exporter": "python",
   "pygments_lexer": "ipython3",
   "version": "3.12.3"
  },
  "papermill": {
   "default_parameters": {},
   "duration": 968.520731,
   "end_time": "2024-03-08T17:40:03.783430",
   "environment_variables": {},
   "exception": null,
   "input_path": "D520.3.2.3b.SEASONAL_multimodel-bias_v5.ipynb",
   "output_path": "output.ipynb",
   "parameters": {},
   "start_time": "2024-03-08T17:23:55.262699",
   "version": "2.4.0"
  }
 },
 "nbformat": 4,
 "nbformat_minor": 5
}
