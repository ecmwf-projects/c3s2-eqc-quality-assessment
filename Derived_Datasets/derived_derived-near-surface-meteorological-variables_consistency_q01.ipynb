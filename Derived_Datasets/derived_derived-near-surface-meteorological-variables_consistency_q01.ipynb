{
 "cells": [
  {
   "cell_type": "markdown",
   "id": "0",
   "metadata": {},
   "source": [
    "# WFDE5 assessment"
   ]
  },
  {
   "cell_type": "markdown",
   "id": "1",
   "metadata": {},
   "source": [
    "Production date: YYYY-MM-DD\n",
    "\n",
    "**Please note that this repository is used for development and review, so quality assessments should be considered work in progress until they are merged into the main branch.**\n",
    "\n",
    "Produced by: C3S2_521 contract."
   ]
  },
  {
   "cell_type": "markdown",
   "id": "2",
   "metadata": {
    "editable": true,
    "slideshow": {
     "slide_type": ""
    },
    "tags": []
   },
   "source": [
    "## 🌍 Use case: Use case listed here in full "
   ]
  },
  {
   "cell_type": "markdown",
   "id": "3",
   "metadata": {},
   "source": [
    "## ❓ Quality assessment question\n",
    "* **In most cases there should be one question listed here in bold**\n",
    "* **(In some cases a second related/follow-up question may be included)**"
   ]
  },
  {
   "cell_type": "markdown",
   "id": "4",
   "metadata": {
    "tags": []
   },
   "source": [
    "**‘Context paragraph’ (no title/heading)** - a very short introduction before the assessment statement describing approach taken to answer the user question. One or two key references could be useful, if the assessment summarises literature.\n",
    "\n",
    "**Background**\n",
    "\n",
    "This dataset provides bias-corrected reconstruction of near-surface meteorological variables derived from the fifth generation of the European Centre for Medium-Range Weather Forecasts (ECMWF) atmospheric reanalyses (ERA5). It is intended to be used as a meteorological forcing dataset for land surface and hydrological models (WFDE5). [WDFE5 extension](https://climate.copernicus.eu/wfde5-extension)"
   ]
  },
  {
   "attachments": {},
   "cell_type": "markdown",
   "id": "5",
   "metadata": {
    "tags": []
   },
   "source": [
    "## 📢 Quality assessment statement\n",
    "\n",
    "```{admonition} These are the key outcomes of this assessment\n",
    ":class: note\n",
    "* Finding 1\n",
    "* Finding 2\n",
    "* Finding 3\n",
    "* etc\n",
    "```"
   ]
  },
  {
   "cell_type": "markdown",
   "id": "6",
   "metadata": {
    "editable": true,
    "slideshow": {
     "slide_type": ""
    },
    "tags": []
   },
   "source": [
    "## 📋 Methodology\n",
    "\n",
    "A ‘free text’ introduction to the data analysis steps or a description of the literature synthesis, with a justification of the approach taken, and limitations mentioned. **Mention which CDS catalogue entry is used, including a link, and also any other entries used for the assessment**.\n",
    "[Near surface meteorological variables from 1979 to 2019 derived from bias-corrected reanalysis (WFDE5)](https://doi.org/10.24381/cds.20d54e34)\n",
    "\n",
    "**Note:** This notebook is currently just a brain-dump in anticipation of starting the actual quality assessment at a later stage.\n",
    "\n",
    "E.g. 'The analysis and results are organised in the following steps, which are detailed in the sections below:' \n",
    "\n",
    "**[](section-setup)**\n",
    " * Sub-steps or key points listed in bullet below. No strict requirement to match and link to sub-headings.\n",
    "\n",
    "**[](section-analysis)**\n",
    " * Sub-steps or key points listed in bullet below. No strict requirement to match and link to sub-headings.\n",
    "\n",
    "**[](section-results)**\n",
    " * Sub-steps or key points listed in bullet below. No strict requirement to match and link to sub-headings.\n",
    "\n",
    "Any further notes on the method could go here (explanations, caveats or limitations)."
   ]
  },
  {
   "cell_type": "markdown",
   "id": "7",
   "metadata": {},
   "source": [
    "## 📈 Analysis and results"
   ]
  },
  {
   "cell_type": "markdown",
   "id": "8",
   "metadata": {
    "editable": true,
    "papermill": {
     "duration": 0.007051,
     "end_time": "2024-03-08T17:23:56.492658",
     "exception": false,
     "start_time": "2024-03-08T17:23:56.485607",
     "status": "completed"
    },
    "slideshow": {
     "slide_type": ""
    },
    "tags": []
   },
   "source": [
    "(section-setup)=\n",
    "### 1. Code setup"
   ]
  },
  {
   "cell_type": "markdown",
   "id": "9",
   "metadata": {},
   "source": [
    "#### Imports"
   ]
  },
  {
   "cell_type": "code",
   "execution_count": null,
   "id": "10",
   "metadata": {
    "editable": true,
    "slideshow": {
     "slide_type": ""
    },
    "tags": [
     "hide-input"
    ]
   },
   "outputs": [],
   "source": [
    "# Input / Output\n",
    "from pathlib import Path\n",
    "import earthkit.data as ekd\n",
    "import warnings\n",
    "\n",
    "# General data handling\n",
    "import numpy as np\n",
    "np.seterr(divide=\"ignore\")  # Ignore divide-by-zero warnings\n",
    "import pandas as pd\n",
    "import xarray as xr\n",
    "from functools import partial\n",
    "from dask.array.core import PerformanceWarning\n",
    "warnings.simplefilter(action=\"ignore\", category=PerformanceWarning)\n",
    "\n",
    "# Visualisation\n",
    "import earthkit.plots as ekp\n",
    "from earthkit.plots.styles import Style\n",
    "import matplotlib.pyplot as plt\n",
    "plt.rcParams[\"grid.linestyle\"] = \"--\"\n",
    "from tqdm import tqdm  # Progress bars\n",
    "\n",
    "# Visualisation in Jupyter book -- automatically ignored otherwise\n",
    "try:\n",
    "    from myst_nb import glue\n",
    "except ImportError:\n",
    "    glue = None"
   ]
  },
  {
   "cell_type": "markdown",
   "id": "11",
   "metadata": {},
   "source": [
    "#### Helper functions"
   ]
  },
  {
   "cell_type": "markdown",
   "id": "12",
   "metadata": {},
   "source": [
    "##### General"
   ]
  },
  {
   "cell_type": "code",
   "execution_count": null,
   "id": "13",
   "metadata": {},
   "outputs": [],
   "source": [
    "# Type hints for helper functions\n",
    "from typing import Callable, Optional, Iterable\n",
    "\n",
    "# For pre-defining functions\n",
    "from functools import partial"
   ]
  },
  {
   "cell_type": "markdown",
   "id": "14",
   "metadata": {},
   "source": [
    "##### Downloading data"
   ]
  },
  {
   "cell_type": "code",
   "execution_count": null,
   "id": "15",
   "metadata": {},
   "outputs": [],
   "source": [
    "## Data downloading\n",
    "def domain_to_request(domain: ekp.geo.domains.Domain) -> dict:\n",
    "    \"\"\" From an earthkit-plots domain, generate a request for earthkit-data / cdsapi. \"\"\"\n",
    "    bbox = domain.bbox.to_latlon_bbox()\n",
    "\n",
    "    # Round\n",
    "    north = int(np.ceil(bbox.north) + 1)\n",
    "    south = int(np.floor(bbox.south) - 1)\n",
    "    west = int(np.floor(bbox.west) - 1)\n",
    "    east = int(np.ceil(bbox.east) + 1)\n",
    "    \n",
    "    area = [north, west, south, east]\n",
    "    return {\"area\": area}"
   ]
  },
  {
   "cell_type": "markdown",
   "id": "16",
   "metadata": {},
   "source": [
    "##### Data (pre-)processing"
   ]
  },
  {
   "cell_type": "code",
   "execution_count": null,
   "id": "17",
   "metadata": {},
   "outputs": [],
   "source": [
    "## Loops for convenience\n",
    "def loop_over_(*args, progress=True, **kwargs) -> tqdm:\n",
    "    \"\"\" Generate a tqdm progressbar; inverts `disable` keyword \"\"\"\n",
    "    return tqdm(*args, disable=not progress, leave=False, **kwargs)\n",
    "\n",
    "def loop_over_ensemble_members(data: xr.Dataset, **tqdm_kwargs) -> tqdm:\n",
    "    \"\"\" Loop over ensemble members in `data`, with a progress bar. \"\"\"\n",
    "    return loop_over_(data.groupby(\"number\"), unit=\"member\", **tqdm_kwargs)\n",
    "\n",
    "def loop_over_data_variables(data: xr.Dataset, **tqdm_kwargs) -> tqdm:\n",
    "    \"\"\" Loop over variable keys in `data`, with a progress bar. \"\"\"\n",
    "    return loop_over_(data.data_vars.keys(), unit=\"variable\", **tqdm_kwargs)"
   ]
  },
  {
   "cell_type": "markdown",
   "id": "18",
   "metadata": {},
   "source": [
    "##### Visualisation"
   ]
  },
  {
   "cell_type": "code",
   "execution_count": null,
   "id": "19",
   "metadata": {},
   "outputs": [],
   "source": [
    "def _add_textbox_to_subplots(text: str, *axs: Iterable[plt.Axes | ekp.Subplot], right=False) -> None:\n",
    "    \"\"\" Add a text box to each of the specified subplots. \"\"\"\n",
    "    # Get the plt.Axes for each ekp.Subplot\n",
    "    axs = [subplot.ax if isinstance(subplot, ekp.Subplot) else subplot for subplot in axs]\n",
    "\n",
    "    # Set up location\n",
    "    x = 0.95 if right else 0.05\n",
    "    horizontalalignment = \"right\" if right else \"left\"\n",
    "\n",
    "    # Add the text\n",
    "    for ax in axs:\n",
    "        ax.text(x, 0.95, text, transform=ax.transAxes,\n",
    "        horizontalalignment=horizontalalignment, verticalalignment=\"top\",\n",
    "        bbox={\"facecolor\": \"white\", \"edgecolor\": \"black\", \"boxstyle\": \"round\",\n",
    "              \"alpha\": 1})"
   ]
  },
  {
   "cell_type": "code",
   "execution_count": null,
   "id": "20",
   "metadata": {},
   "outputs": [],
   "source": [
    "def decorate_fig(fig: ekp.Figure, *, title: Optional[str]=\"\") -> None:\n",
    "    \"\"\" Decorate an earthkit figure with land, coastlines, etc. \"\"\"\n",
    "    # Add progress bar because individual steps can be very slow for large plots\n",
    "    with tqdm(total=5, desc=\"Decorating\", leave=False) as progressbar:\n",
    "        fig.land()\n",
    "        progressbar.update()\n",
    "        fig.coastlines()\n",
    "        progressbar.update()\n",
    "        fig.borders()\n",
    "        progressbar.update()\n",
    "        fig.gridlines(linestyle=plt.rcParams[\"grid.linestyle\"])\n",
    "        progressbar.update()\n",
    "        fig.title(title)\n",
    "        progressbar.update()"
   ]
  },
  {
   "cell_type": "markdown",
   "id": "21",
   "metadata": {},
   "source": [
    "(section-analysis)=\n",
    "### 2. Analysis"
   ]
  },
  {
   "cell_type": "markdown",
   "id": "22",
   "metadata": {},
   "source": [
    "#### WFDE5"
   ]
  },
  {
   "cell_type": "code",
   "execution_count": null,
   "id": "23",
   "metadata": {},
   "outputs": [],
   "source": [
    "# domain = ekp.geo.domains.Domain.from_string(\"Europe\")\n",
    "domain = ekp.geo.domains.Domain.from_string(\"Italy\")  # Smaller domain for testing\n",
    "year = 2011\n",
    "months = [8, 9]"
   ]
  },
  {
   "cell_type": "code",
   "execution_count": null,
   "id": "24",
   "metadata": {},
   "outputs": [],
   "source": [
    "request_domain = domain_to_request(domain)\n",
    "\n",
    "request_time = {\n",
    "    \"year\": [f\"{year}\"],\n",
    "    \"month\": [f\"{month:02}\" for month in months],\n",
    "}"
   ]
  },
  {
   "cell_type": "code",
   "execution_count": null,
   "id": "25",
   "metadata": {},
   "outputs": [],
   "source": [
    "request_wfde5_base = {\n",
    "    \"variable\": [\n",
    "        \"grid_point_altitude\",\n",
    "        \"near_surface_wind_speed\",\n",
    "        \"near_surface_air_temperature\",\n",
    "        \"surface_air_pressure\",\n",
    "        \"near_surface_specific_humidity\",\n",
    "        \"surface_downwelling_shortwave_radiation\",\n",
    "        \"surface_downwelling_longwave_radiation\",\n",
    "        \"rainfall_flux\",\n",
    "        \"snowfall_flux\"\n",
    "    ],\n",
    "    \"reference_dataset\": \"cru\",\n",
    "    \"version\": [\"2_1\"]\n",
    "}"
   ]
  },
  {
   "cell_type": "code",
   "execution_count": null,
   "id": "26",
   "metadata": {},
   "outputs": [],
   "source": [
    "# Download WFDE5\n",
    "WFDE5_ID = \"derived-near-surface-meteorological-variables\"\n",
    "\n",
    "request_wfde5 = request_wfde5_base | request_domain | request_time\n",
    "# request_wfde5 = {\n",
    "#     \"variable\": [\n",
    "#         \"grid_point_altitude\",\n",
    "#         \"near_surface_wind_speed\",\n",
    "#         \"near_surface_air_temperature\",\n",
    "#         \"surface_air_pressure\",\n",
    "#         \"near_surface_specific_humidity\",\n",
    "#         \"surface_downwelling_shortwave_radiation\",\n",
    "#         \"surface_downwelling_longwave_radiation\",\n",
    "#         \"rainfall_flux\",\n",
    "#         \"snowfall_flux\"\n",
    "#     ],\n",
    "#     \"reference_dataset\": \"cru\",\n",
    "#     \"year\": [\"2010\"],\n",
    "#     \"month\": [\n",
    "#         \"01\", \"02\", \"03\",\n",
    "#         \"04\", \"05\", \"06\",\n",
    "#         \"07\", \"08\", \"09\",\n",
    "#         \"10\", \"11\", \"12\"\n",
    "#     ],\n",
    "#     \"version\": [\"2_1\"]\n",
    "# }\n",
    "\n",
    "data_wfde5 = ekd.from_source(\"cds\", WFDE5_ID, request_wfde5).to_xarray()\n",
    "# data_wfde5 = data_wfde5.chunk({\"time\": "
   ]
  },
  {
   "cell_type": "code",
   "execution_count": null,
   "id": "27",
   "metadata": {},
   "outputs": [],
   "source": [
    "data_wfde5"
   ]
  },
  {
   "cell_type": "code",
   "execution_count": null,
   "id": "28",
   "metadata": {},
   "outputs": [],
   "source": [
    "data_wfde5"
   ]
  },
  {
   "cell_type": "code",
   "execution_count": null,
   "id": "29",
   "metadata": {},
   "outputs": [],
   "source": [
    "# Show variables\n",
    "date = \"2011-08-31T12:00:00\"\n",
    "data = data_wfde5.sel(time=date)\n",
    "n_var = len(data.data_vars)\n",
    "fig = ekp.Figure(rows=n_var, columns=1, size=(4, 4*n_var))\n",
    "\n",
    "# Loop over ensemble members\n",
    "for var in loop_over_data_variables(data_wfde5):\n",
    "    # Plot single variable\n",
    "    subplot = fig.add_map(domain=domain)\n",
    "    subplot.grid_cells(data, z=var)#, style=styles[var])\n",
    "\n",
    "# Legend at the bottom\n",
    "for subplot in fig.subplots:\n",
    "    try:\n",
    "        subplot.legend(location=\"right\")\n",
    "    except ValueError:\n",
    "        continue\n",
    "\n",
    "# Decorate figures\n",
    "decorate_fig(fig)\n",
    "\n",
    "# Show result\n",
    "plt.show()\n",
    "plt.close()"
   ]
  },
  {
   "cell_type": "markdown",
   "id": "30",
   "metadata": {},
   "source": [
    "#### ERA5"
   ]
  },
  {
   "cell_type": "markdown",
   "id": "31",
   "metadata": {
    "editable": true,
    "papermill": {
     "duration": 0.245188,
     "end_time": "2024-03-08T17:39:21.277354",
     "exception": false,
     "start_time": "2024-03-08T17:39:21.032166",
     "status": "completed"
    },
    "slideshow": {
     "slide_type": ""
    },
    "tags": []
   },
   "source": [
    "(section-results)=\n",
    "### 5. Results\n",
    "\n",
    "#### Results Subsections\n",
    "Describe what is done in this step/section and what the `code` in the cell does (if code is included). \n",
    "\n",
    "If this is the **results section**, we expect the final plots to be created here with a description of how to interpret them, and what information can be extracted for the specific use case and user question. The information in the 'quality assessment statement' should be derived here. "
   ]
  },
  {
   "cell_type": "code",
   "execution_count": null,
   "id": "32",
   "metadata": {
    "editable": true,
    "papermill": {
     "duration": 3.749769,
     "end_time": "2024-03-08T17:24:00.248720",
     "exception": false,
     "start_time": "2024-03-08T17:23:56.498951",
     "status": "completed"
    },
    "slideshow": {
     "slide_type": ""
    },
    "tags": [
     "hide-input"
    ]
   },
   "outputs": [],
   "source": [
    "# collapsable code cell\n",
    "\n",
    "# code is included for transparency but also learning purposes and gives users the chance to adapt the code used for the assessment as they wish"
   ]
  },
  {
   "cell_type": "markdown",
   "id": "33",
   "metadata": {
    "editable": true,
    "papermill": {
     "duration": 0.271597,
     "end_time": "2024-03-08T17:40:01.664067",
     "exception": false,
     "start_time": "2024-03-08T17:40:01.392470",
     "status": "completed"
    },
    "slideshow": {
     "slide_type": ""
    },
    "tags": []
   },
   "source": [
    "## ℹ️ If you want to know more\n",
    "\n",
    "### Key resources\n",
    "\n",
    "List some key resources related to this assessment. E.g. CDS entries, applications, dataset documentation, external pages.\n",
    "Also list any code libraries used (if applicable).\n",
    "\n",
    "Code libraries used:\n",
    "* \n",
    "\n",
    "### References\n",
    "\n",
    "List the references used in the Notebook here.\n",
    "\n",
    "E.g.\n",
    "\n",
    "[[1]](https://doi.org/10.1038/s41598-018-20628-2) Rodriguez, D., De Voil, P., Hudson, D., Brown, J. N., Hayman, P., Marrou, H., & Meinke, H. (2018). Predicting optimum crop designs using crop models and seasonal climate forecasts. Scientific reports, 8(1), 2231."
   ]
  }
 ],
 "metadata": {
  "language_info": {
   "codemirror_mode": {
    "name": "ipython",
    "version": 3
   },
   "file_extension": ".py",
   "mimetype": "text/x-python",
   "name": "python",
   "nbconvert_exporter": "python",
   "pygments_lexer": "ipython3",
   "version": "3.12.3"
  },
  "papermill": {
   "default_parameters": {},
   "duration": 968.520731,
   "end_time": "2024-03-08T17:40:03.783430",
   "environment_variables": {},
   "exception": null,
   "input_path": "D520.3.2.3b.SEASONAL_multimodel-bias_v5.ipynb",
   "output_path": "output.ipynb",
   "parameters": {},
   "start_time": "2024-03-08T17:23:55.262699",
   "version": "2.4.0"
  }
 },
 "nbformat": 4,
 "nbformat_minor": 5
}
