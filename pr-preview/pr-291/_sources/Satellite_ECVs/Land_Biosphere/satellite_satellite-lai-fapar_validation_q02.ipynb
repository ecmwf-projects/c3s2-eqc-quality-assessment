{
 "cells": [
  {
   "cell_type": "markdown",
   "id": "7580fda2",
   "metadata": {
    "tags": []
   },
   "source": [
    "![logo](../../../LogoLine_horizon_C3S.png)"
   ]
  },
  {
   "cell_type": "markdown",
   "id": "a12cdd32",
   "metadata": {
    "tags": [
     "disclaimer"
    ]
   },
   "source": [
    "<div class=\"alert alert-block alert-warning\">\n",
    "Please note that this repository is used for development and review, so quality assessments should be considered work in progress until they are merged into the main branch\n",
    "</div>"
   ]
  },
  {
   "cell_type": "markdown",
   "id": "0",
   "metadata": {
    "tags": []
   },
   "source": [
    "# Trend Analysis of Annual LAI in China"
   ]
  },
  {
   "cell_type": "markdown",
   "id": "1",
   "metadata": {
    "tags": []
   },
   "source": [
    "Production date: 09-Jan-2025\n",
    "\n",
    "Produced by: Amaya Camila Trigoso Barrientos (VUB)"
   ]
  },
  {
   "cell_type": "markdown",
   "id": "2",
   "metadata": {
    "tags": []
   },
   "source": [
    "## 🌍 Use case: Utilize satellite effecive LAI data to monitor vegetation dynamics under climate change"
   ]
  },
  {
   "cell_type": "markdown",
   "id": "3",
   "metadata": {
    "tags": []
   },
   "source": [
    "## ❓ Quality assessment question(s)\n",
    "**Are satellite data suitable for detecting changes in the yearly mean of effective LAI observed in China over the past 20 years?**"
   ]
  },
  {
   "cell_type": "markdown",
   "id": "4",
   "metadata": {
    "tags": []
   },
   "source": [
    "The dataset: Leaf Area Index (LAI) and Fraction Absorbed of Photosynthetically Active Radiation 10-daily gridded data from 1981 to present, by the Climate Data Store (CDS), contains LAI (effective) values derived from observations of different satellites and sensors. LAI is defined as half the developed area of photosynthetically active elements of the vegetation per unit horizontal ground area. It relates to effective LAI through a canopy-dependent structure factor. This parameter is a useful tool for assessing vegetation, understanding ecosystem dynamics, and addressing environmental and agricultural challenges.\n",
    "\n",
    "The goal of this quality assessment is to analyze the trend of yearly mean LAI (effective) over the past 20 years in China. An increase in LAI has been observed over China in the past two decades due to factors such as climate change and human activities [[1]](https://www.sciencedirect.com/science/article/pii/S1470160X23012438). Ma et al. (2023) observed a linear trend with a strong positive correlation of true LAI over time. They used data from GLASS LAI, which is based on MODIS [[2]](https://www.sciencedirect.com/science/article/pii/S0034425722000992). Because of the period for analysis, we used version 3 of the dataset, relying on data from SPOT-VGT (Système Probatoire pour l’Observation de la Terre) for the period 2001–2013 and from PROBA-V (Project for On-Board Autonomy) for 2014–2019. Therefore, we analyzed the transition and differences between the data from these two satellites."
   ]
  },
  {
   "cell_type": "markdown",
   "id": "5",
   "metadata": {
    "tags": []
   },
   "source": [
    "## 📢 Quality assessment statement\n",
    "\n",
    "```{admonition} These are the key outcomes of this assessment\n",
    ":class: note\n",
    "* Effective LAI values derived from PROBA-V and its predecessor SPOT-VGT show notable differences, likely due to PROBA-V's superior spatial detail. This enhanced resolution, particularly in fragmented landscapes, makes the data from 2014 onwards more reliable.\n",
    "\n",
    "* Effective LAI values (CDS dataset) are generally lower than true LAI (GLASS dataset) due to differences in canopy structure assumptions. True LAI from GLASS showed a slope of 0.0202 yr⁻¹, closer to PROBA-V's effective LAI than SPOT-VGT's.\n",
    "\n",
    "* The trend of effective LAI over time shows a possitive linear correlation, which reflects the greening of China over the past two decades. Altough, it is worth mentioning the last full year with information was 2019 at the moment the analysis was carried out.\n",
    "```"
   ]
  },
  {
   "cell_type": "markdown",
   "id": "6",
   "metadata": {
    "tags": []
   },
   "source": [
    "## 📋 Methodology\n",
    "\n",
    "The analysis and results are organised in the following steps, which are detailed in the sections below: \n",
    "\n",
    "**[](satellite_satellite-lai-fapar_validation_q02:section-1)**\n",
    " * Download the LAI (effective) variable with dekad frecuency for the period 2001-2019.\n",
    "\n",
    "**[](satellite_satellite-lai-fapar_validation_q02:section-2)**\n",
    " * Plot the effective LAI values over time and calculate linear trends.\n",
    " * Analize the results.\n",
    "   \n",
    "**[](satellite_satellite-lai-fapar_validation_q02:section-3)**\n",
    " * Compare the results obtained in this work and the ones from literature."
   ]
  },
  {
   "cell_type": "markdown",
   "id": "7",
   "metadata": {
    "tags": []
   },
   "source": [
    "## 📈 Analysis and results"
   ]
  },
  {
   "cell_type": "markdown",
   "id": "8",
   "metadata": {
    "tags": []
   },
   "source": [
    "(satellite_satellite-lai-fapar_validation_q02:section-1)=\n",
    "### 1. Request and Download Data\n",
    "\n",
    "#### Import Packages"
   ]
  },
  {
   "cell_type": "code",
   "execution_count": 9,
   "id": "9",
   "metadata": {
    "editable": true,
    "slideshow": {
     "slide_type": ""
    },
    "tags": [
     "hide-input"
    ]
   },
   "outputs": [],
   "source": [
    "from scipy.stats import pearsonr\n",
    "from scipy.stats import linregress\n",
    "import matplotlib.pyplot as plt\n",
    "import pandas as pd\n",
    "import regionmask\n",
    "import xarray as xr\n",
    "from c3s_eqc_automatic_quality_control import diagnostics, download\n",
    "os.environ[\"CDSAPI_RC\"] = os.path.expanduser(\"~/trigoso_camila/.cdsapirc\")\n",
    "plt.style.use(\"seaborn-v0_8-notebook\")"
   ]
  },
  {
   "cell_type": "markdown",
   "id": "10",
   "metadata": {
    "editable": true,
    "slideshow": {
     "slide_type": ""
    },
    "tags": []
   },
   "source": [
    "#### Set Parameters"
   ]
  },
  {
   "cell_type": "markdown",
   "id": "11",
   "metadata": {
    "tags": []
   },
   "source": [
    "Since the year 2020 only has information for the first half of the  year, we only downloaded data from 2001 to 2019."
   ]
  },
  {
   "cell_type": "code",
   "execution_count": 3,
   "id": "12",
   "metadata": {
    "editable": true,
    "slideshow": {
     "slide_type": ""
    },
    "tags": [
     "hide-input",
     "hide-output"
    ]
   },
   "outputs": [],
   "source": [
    "year_start = 2001\n",
    "year_stop = 2019"
   ]
  },
  {
   "cell_type": "markdown",
   "id": "13",
   "metadata": {
    "tags": []
   },
   "source": [
    "#### Define requests"
   ]
  },
  {
   "cell_type": "code",
   "execution_count": 4,
   "id": "14",
   "metadata": {
    "tags": [
     "hide-input"
    ]
   },
   "outputs": [],
   "source": [
    "collection_id = \"satellite-lai-fapar\"\n",
    "base_request = {\n",
    "    \"variable\": \"lai\",\n",
    "    \"sensor\": \"vgt\",\n",
    "    \"horizontal_resolution\": \"1km\",\n",
    "    \"product_version\": \"v3\",\n",
    "    \"area\": [53, 73, 18, 135],\n",
    "}\n",
    "\n",
    "requests = []\n",
    "for time in pd.date_range(str(year_start), str(year_stop + 1), freq=\"ME\"):\n",
    "    requests.append(\n",
    "        base_request\n",
    "        | {\n",
    "            \"satellite\": \"spot\" if time.year <= 2013 else \"proba\",\n",
    "            \"year\": str(time.year),\n",
    "            \"month\": f\"{time.month:02d}\",\n",
    "            \"nominal_day\": [\"10\", \"20\", str(time.day)],\n",
    "        }\n",
    "    )"
   ]
  },
  {
   "cell_type": "markdown",
   "id": "15",
   "metadata": {
    "tags": []
   },
   "source": [
    "#### Define functions to cache"
   ]
  },
  {
   "cell_type": "markdown",
   "id": "16",
   "metadata": {
    "tags": []
   },
   "source": [
    "In this step, we also filtered out data flagged as unreliable, keeping only the \"good\" data. The instructions in the [documentation](http://dast.data.compute.cci2.ecmwf.int/documents/satellite-lai-fapar/D3.3.9-v3.0_PUGS_CDR_LAI_FAPAR_MULTI_SENSOR_v3.0_PRODUCTS_v1.0.1.pdf) related to flags were followed."
   ]
  },
  {
   "cell_type": "code",
   "execution_count": 5,
   "id": "17",
   "metadata": {
    "tags": [
     "hide-input"
    ]
   },
   "outputs": [],
   "source": [
    "def spatial_weighted_mean_over_china(ds):\n",
    "    regions = regionmask.defined_regions.natural_earth_v5_0_0.countries_110\n",
    "\n",
    "    spatial_mask = regions[regions.map_keys([\"China\"])].mask(ds).notnull()\n",
    "    flag_mask = (ds[\"retrieval_flag\"].astype(\"int\") & 0xFC1) == 0\n",
    "    lai_mask = ds[\"LAI\"] < 65_535\n",
    "\n",
    "    ds = ds[[\"LAI\"]].where(spatial_mask & flag_mask & lai_mask)\n",
    "    return diagnostics.spatial_weighted_mean(ds)"
   ]
  },
  {
   "cell_type": "markdown",
   "id": "18",
   "metadata": {
    "tags": []
   },
   "source": [
    "#### Download and transform"
   ]
  },
  {
   "cell_type": "code",
   "execution_count": 6,
   "id": "19",
   "metadata": {
    "tags": [
     "hide-input"
    ]
   },
   "outputs": [
    {
     "name": "stderr",
     "output_type": "stream",
     "text": [
      "100%|██████████| 228/228 [00:07<00:00, 29.10it/s]\n"
     ]
    }
   ],
   "source": [
    "ds = download.download_and_transform(\n",
    "    collection_id,\n",
    "    requests,\n",
    "    transform_func=spatial_weighted_mean_over_china,\n",
    ")\n",
    "da = ds[\"LAI\"].groupby(\"time.year\").mean()"
   ]
  },
  {
   "cell_type": "markdown",
   "id": "20",
   "metadata": {
    "editable": true,
    "slideshow": {
     "slide_type": ""
    },
    "tags": []
   },
   "source": [
    "(satellite_satellite-lai-fapar_validation_q02:section-2)=\n",
    "### 2. Plot time series"
   ]
  },
  {
   "cell_type": "code",
   "execution_count": 19,
   "id": "21",
   "metadata": {
    "tags": [
     "hide-input"
    ]
   },
   "outputs": [
    {
     "data": {
      "text/plain": [
       "array([0.39563351, 0.39747345, 0.40319939, 0.40436953, 0.39948895,\n",
       "       0.40948193, 0.40769001, 0.43228232, 0.42104475, 0.42800853,\n",
       "       0.41800598, 0.43288172, 0.47039173, 0.49593169, 0.51579111,\n",
       "       0.53632915, 0.56801868, 0.57510155, 0.56714279])"
      ]
     },
     "execution_count": 19,
     "metadata": {},
     "output_type": "execute_result"
    }
   ],
   "source": [
    "da.values"
   ]
  },
  {
   "cell_type": "code",
   "execution_count": 17,
   "id": "22",
   "metadata": {
    "editable": true,
    "slideshow": {
     "slide_type": ""
    },
    "tags": [
     "hide-input",
     "hide-output"
    ]
   },
   "outputs": [
    {
     "data": {
      "image/png": "[encoded data removed]",
      "text/plain": [
       "<Figure size 1000x600 with 1 Axes>"
      ]
     },
     "metadata": {},
     "output_type": "display_data"
    }
   ],
   "source": [
    "# Extract LAI values into a Python list\n",
    "lai = da.values.tolist()\n",
    "\n",
    "# Extract years into a Python list\n",
    "years = da.coords['year'].values.tolist()\n",
    "\n",
    "# Splitting data for trendlines\n",
    "years_2001_2013 = years[:13]\n",
    "lai_2001_2013 = lai[:13]\n",
    "\n",
    "years_2014_2019 = years[13:]\n",
    "lai_2014_2019 = lai[13:]\n",
    "\n",
    "# Trendline for 2001-2013\n",
    "slope_2001_2013, intercept_2001_2013, r_value_2001_2013, _, _ = linregress(years_2001_2013, lai_2001_2013)\n",
    "trendline_2001_2013 = [slope_2001_2013 * x + intercept_2001_2013 for x in years_2001_2013]\n",
    "\n",
    "# Trendline for 2014-2019\n",
    "slope_2014_2019, intercept_2014_2019, r_value_2014_2019, _, _ = linregress(years_2014_2019, lai_2014_2019)\n",
    "trendline_2014_2019 = [slope_2014_2019 * x + intercept_2014_2019 for x in years_2014_2019]\n",
    "\n",
    "# Trendline for all data\n",
    "slope_all, intercept_all, r_value_all, _, _ = linregress(years, lai)\n",
    "trendline_all = [slope_all * x + intercept_all for x in years]\n",
    "\n",
    "# Plot\n",
    "plt.figure(figsize=(10, 6))\n",
    "plt.scatter(years, lai, color='blue', zorder=5)\n",
    "plt.plot(years_2001_2013, trendline_2001_2013, color='red', linestyle='--', label=f'Trend 2001-2013 SPOT (R²={r_value_2001_2013**2:.2f})')\n",
    "plt.plot(years_2014_2019, trendline_2014_2019, color='green', linestyle='--', label=f'Trend 2014-2019 PROBA (R²={r_value_2014_2019**2:.2f})')\n",
    "plt.plot(years, trendline_all, color='purple', linestyle='--', label=f'Trend All (R²={r_value_all**2:.2f})')\n",
    "plt.xticks(ticks=years, labels=years, rotation=45)\n",
    "# Labels and legend\n",
    "plt.xlabel('Year', fontsize=12)\n",
    "plt.ylabel('Effective LAI (m²/m²)', fontsize=12)\n",
    "plt.legend()\n",
    "plt.grid(True)\n",
    "plt.tight_layout()\n",
    "\n",
    "# Save the plot as a file\n",
    "plt.savefig(\"/data/wp5/trigoso_camila/LeafIndex/lai_trend_ALL_2001_2019.png\", dpi=200, bbox_inches=\"tight\")  # Save as PNG\n",
    "\n",
    "# Show plot\n",
    "plt.show()"
   ]
  },
  {
   "cell_type": "markdown",
   "id": "23",
   "metadata": {
    "tags": []
   },
   "source": [
    "\n",
    "```{figure} 1ed6b630-351d-48b2-8e53-69514c15ee7a.png\n",
    "---\n",
    "name: fig-annual-lai-ALL-CDS\n",
    "figwidth: 100%\n",
    "---\n",
    "Scattered plot of the spatial and yearly mean of effective LAI in China for all years between 2001-2019 with trendlines. \n",
    "```"
   ]
  },
  {
   "cell_type": "code",
   "execution_count": 12,
   "id": "24",
   "metadata": {
    "tags": [
     "hide-input"
    ]
   },
   "outputs": [
    {
     "name": "stdout",
     "output_type": "stream",
     "text": [
      "2001-2013: y = 0.0045x + -8.6438\n",
      "2014-2019: y = 0.0162x + -32.0480\n",
      "All: y = 0.0106x + -20.7846\n"
     ]
    }
   ],
   "source": [
    "# Display the equations of the trendlines\n",
    "eq_2001_2013 = f\"2001-2013: y = {slope_2001_2013:.4f}x + {intercept_2001_2013:.4f}\"\n",
    "eq_2014_2019 = f\"2014-2019: y = {slope_2014_2019:.4f}x + {intercept_2014_2019:.4f}\"\n",
    "eq_all = f\"All: y = {slope_all:.4f}x + {intercept_all:.4f}\"\n",
    "\n",
    "print(eq_2001_2013)\n",
    "print(eq_2014_2019)\n",
    "print(eq_all)"
   ]
  },
  {
   "cell_type": "markdown",
   "id": "25",
   "metadata": {
    "tags": []
   },
   "source": [
    "The data presented in ({ref}`fig-annual-lai-ALL-CDS`) was sourced from the [CDS](https://cds.climate.copernicus.eu/datasets/satellite-lai-fapar?tab=download). We utilized version 3 of this dataset, which incorporates data from different satellites and sensors over varying time periods. For our analysis, we selected data from SPOT-VGT for the period 2001–2013, and from PROBA-V for 2014–2019. SPOT-VGT provided data for 15 years until May 2014, when it was replaced by PROBA-V. Both satellites offer a horizontal resolution of 1 km. Despite sharing the same nominal spatial resolution, their sensors exhibit differing levels of spatial quality. Notably, PROBA-V delivers higher spatial detail, which is particularly significant in fragmented landscapes [[3]](https://publications.jrc.ec.europa.eu/repository/bitstream/JRC96277/lb-na-27327-en-n%20.pdf).\n",
    "\n",
    "The results of our analysis indicate a positive correlation of effective LAI over time. Notably, the slopes of the linear trends differ significantly depending on the satellite used. For the period 2001–2013, data from SPOT-VGT yielded a slope of 0.0045 yr<sup>-1</sup>. In contrast, for the period 2014–2019, PROBA-V data produced a steeper slope of 0.0162 yr<sup>-1</sup>, which is 3.6 times higher. Given that the analysis encompasses the entire surface of China, PROBA-V likely provides more accurate measurements, particularly in areas with fragmented landscapes. Its ability to capture finer vegetation details and higher LAI values in border regions between agricultural land and other land use types enhances the quality of the measurements."
   ]
  },
  {
   "cell_type": "markdown",
   "id": "26",
   "metadata": {
    "tags": []
   },
   "source": [
    "(satellite_satellite-lai-fapar_validation_q02:section-3)=\n",
    "### 3. Comparison to Literature"
   ]
  },
  {
   "cell_type": "markdown",
   "id": "27",
   "metadata": {
    "tags": []
   },
   "source": [
    "Ma et al. (2023)[[1]](https://www.sciencedirect.com/science/article/pii/S1470160X23012438) studied the trend of Leaf Area Index (LAI) in China from 2001 to 2020 within the context of climate change. They analyzed its relationship with various parameters, including temperature, precipitation, aerosol optical depth, and photosynthetically active radiation. For their study, they utilized the Global Land Surface Satellite (GLASS) LAI dataset, which was found to be more accurate than the CYCLOPES and Moderate Resolution Imaging Spectroradiometer (MODIS) LAI products when compared to ground measurements [[1]](https://www.sciencedirect.com/science/article/pii/S1470160X23012438).\n",
    "\n",
    "The GLASS LAI product is based on MODIS data but addresses several of its limitations, such as frequent temporal fluctuations, large data gaps, high dependence on surface reflectance quality, and low computational efficiency. This was achieved through the application of a deep learning model. Among the four machine learning models tested, the Bidirectional Long Short-Term Memory (Bi-LSTM) model was identified as the most effective solution [[2]](https://www.sciencedirect.com/science/article/pii/S0034425722000992).\n",
    "\n",
    "An important distinction between the CDS data we used and the GLASS data is that CDS provides effective LAI values, while GLASS offers true LAI values.\n",
    "\n",
    "The definition of true LAI is half of the total green leaf area per unit of horizontal land surface, often used in 3D simulations [[2]](https://www.sciencedirect.com/science/article/pii/S0034425722000992). In contrast, effective LAI assumes a homogeneous canopy composed of infinitesimally small Lambertian surfaces, resembling a turbid medium. This assumption aligns with the principles of the Two-stream Model, as described in Pinty et al. (2006) [[4]](https://agupubs.onlinelibrary.wiley.com/doi/10.1029/2005JD005952).\n",
    "\n",
    "According to Pinty et al.:\n",
    "\n",
    "\"The values of effective LAI appropriate for 1-D models should be smaller than the true values by a factor varying from 0.3 for sparse to 0.8 for dense forest canopies\" [[4]](https://agupubs.onlinelibrary.wiley.com/doi/10.1029/2005JD005952).\n",
    "\n",
    "As noted by the [documentation](http://dast.data.compute.cci2.ecmwf.int/documents/satellite-lai-fapar/D3.3.9-v3.0_PUGS_CDR_LAI_FAPAR_MULTI_SENSOR_v3.0_PRODUCTS_v1.0.1.pdf) of the CDS dataset, the effective LAI is related to “true” LAI through a canopy-dependent structure factor. Because the extent of the study is China, one potential approach to approximating the true LAI, without resorting to overly complex methods, could involve referencing bibliographic sources to estimate the canopy-dependent structure factor based on land-use or land cover types. For example, using supplementary data, such as MODIS Land Cover data."
   ]
  },
  {
   "cell_type": "markdown",
   "id": "28",
   "metadata": {
    "editable": true,
    "slideshow": {
     "slide_type": ""
    },
    "tags": []
   },
   "source": [
    "```{figure} b838e0c7-e293-44a0-900f-52d7a6aa432e.png\n",
    "---\n",
    "name: fig-annual-lai-GLASS-LAI\n",
    "height: 400px\n",
    "---\n",
    "Annual mean true LAI in China from 2001 to 2020 and rendline. Source: (Ma et al. 2023) [[1]](https://www.sciencedirect.com/science/article/pii/S1470160X23012438) \n",
    "```"
   ]
  },
  {
   "cell_type": "markdown",
   "id": "29",
   "metadata": {
    "tags": []
   },
   "source": [
    "Therefore, compraring ({ref}`fig-annual-lai-ALL-CDS`) and ({ref}`fig-annual-lai-GLASS-LAI`), it can be observed that, as it would be expected, the values of effective LAI are lower than the ones of the true LAI. The slopes are also lower for the effective LAI. The slope for true LAI was of 0.0202 yr<sup>-1</sup> which is closer to the one obesrved for the effective LAI retrived by PROBA-V than by SPOT-VGT. \n",
    "\n",
    "Although calculating true LAI demands additional steps and supplementary data, the effective LAI dataset remains highly valuable. It aligns with the well-documented greening trend observed in China over the past two decades due to human activities and climate change impacts [[1]](https://www.sciencedirect.com/science/article/pii/S1470160X23012438)."
   ]
  },
  {
   "cell_type": "markdown",
   "id": "30",
   "metadata": {
    "editable": true,
    "slideshow": {
     "slide_type": ""
    },
    "tags": []
   },
   "source": [
    "## ℹ️ If you want to know more\n",
    "\n",
    "### Key resources\n",
    "\n",
    "List some key resources related to this assessment. E.g. CDS entries, applications, dataset documentation, external pages.\n",
    "Also list any code libraries used (if applicable).\n",
    "\n",
    "Code libraries used:\n",
    "* [C3S EQC custom functions](https://github.com/bopen/c3s-eqc-automatic-quality-control/tree/main/c3s_eqc_automatic_quality_control), `c3s_eqc_automatic_quality_control`,  prepared by [BOpen](https://www.bopen.eu/)\n",
    "\n",
    "### References\n",
    "\n",
    "[[1]](https://www.sciencedirect.com/science/article/pii/S1470160X23012438) Ma, Y., Wang, W., Jin, S., Li, H., Liu, B., Gong, W., Fan, R., & Li, H. (2023). Spatiotemporal variation of LAI in different vegetation types and its response to climate change in China from 2001 to 2020. Ecological Indicators.\n",
    "\n",
    "[[2]](https://www.sciencedirect.com/science/article/pii/S0034425722000992) Ma, H. & Liang, S. (2022). Development of the GLASS 250-m leaf area index product (version 6) from MODIS data using the bidirectional LSTM deep learning model. Remote Sensing of Environment.\n",
    "\n",
    "[[3]](https://publications.jrc.ec.europa.eu/repository/bitstream/JRC96277/lb-na-27327-en-n%20.pdf) Meroni, M., Fasbender, D., Balaghi, R., Dali, M., Hafani, M., Haythem, I., Hooker, J., Lahlou, M., Lopez-Lozano, R., Mahyou, H., Moncef, B. M., Sghaier, N., Wafa, T., & Leo, O. (2015). Testing VGT data continuity between SPOT and PROBA-V missions for operational yield forecasting in North African countries. Joint Research Centre (JRC).\n",
    "\n",
    "[[4]](https://agupubs.onlinelibrary.wiley.com/doi/10.1029/2005JD005952) Pinty, B., Lavergne, T., Dickinson, R. E., Widlowski, J.-L., Gobron, N., & Verstraete, M. M. (2006). Simplifying the interaction of land surfaces with radiation for relating remote sensing products to climate models. Journal of Geophysical Research: AtmospheresVolume 111, Issue D2."
   ]
  }
 ],
 "metadata": {
  "language_info": {
   "codemirror_mode": {
    "name": "ipython",
    "version": 3
   },
   "file_extension": ".py",
   "mimetype": "text/x-python",
   "name": "python",
   "nbconvert_exporter": "python",
   "pygments_lexer": "ipython3",
   "version": "3.11.10"
  }
 },
 "nbformat": 4,
 "nbformat_minor": 5
}
