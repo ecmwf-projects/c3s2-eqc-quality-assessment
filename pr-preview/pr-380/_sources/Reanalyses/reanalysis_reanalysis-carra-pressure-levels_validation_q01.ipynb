{
 "cells": [
  {
   "cell_type": "markdown",
   "id": "0bafddcd",
   "metadata": {
    "tags": []
   },
   "source": [
    "![logo](../../LogoLine_horizon_C3S.png)"
   ]
  },
  {
   "cell_type": "markdown",
   "id": "2e87e9a3",
   "metadata": {
    "tags": [
     "disclaimer"
    ]
   },
   "source": [
    "<div class=\"alert alert-block alert-warning\">\n",
    "Please note that this repository is used for development and review, so quality assessments should be considered work in progress until they are merged into the main branch\n",
    "</div>"
   ]
  },
  {
   "cell_type": "markdown",
   "id": "0",
   "metadata": {
    "tags": []
   },
   "source": [
    "# Monitoring and reproducing Arctic weather extremes with a global and a regional reanalysis dataset [Reanalysis]-[Intercomparison]-[Climate monitoring]\n",
    "\n",
    "Production date: DD-MM-YYYY\n",
    "\n",
    "Produced by: Nansen Environmental and Remote Sensing Center"
   ]
  },
  {
   "cell_type": "markdown",
   "id": "1",
   "metadata": {
    "editable": true,
    "slideshow": {
     "slide_type": ""
    },
    "tags": []
   },
   "source": [
    "## 🌍 Use case: Reproducing and monitoring polar lows in the Arctic"
   ]
  },
  {
   "cell_type": "markdown",
   "id": "2",
   "metadata": {
    "tags": []
   },
   "source": [
    "## ❓ Quality assessment question\n",
    "* **What are the benefits of a regional over a global reanalysis product for studying polar lows?**"
   ]
  },
  {
   "cell_type": "markdown",
   "id": "3",
   "metadata": {
    "tags": []
   },
   "source": [
    "Polar lows are intense mesoscale low-pressure systems that form when cold polar air masses move over the ocean (e.g., Stoll et al., 2021). They have attracted and continue to attract considerable attention due to their relevance for the climate system and their impact on society (e.g., Moreno-Ibanez et al., 2021). From a climate perspective, for example, polar lows contribute to the heat exchange between the ocean and the atmosphere by inducing intense sensible and latent heat fluxes. From a societal perspective, they can generate intense winds which, in turn, can severely disrupt human activities and pose a threat to lives at sea and in coastal areas. \n",
    "\n",
    "Atmospheric reanalyses are invaluable tools for studying polar lows. At first, they do not only rely on observations, but also incorporate model-based forecasts (Parker, 2016). Indeed, observations alone are often insufficient due to their limited number in the Arctic (Moreno-Ibáñez, 2024) combined with the small sizes of polar lows, which range between 200 and 1000 km (Moreno-Ibáñez, 2024). Additionally, atmospheric reanalysis offer the advantage of being provided on regular grids, at consistent temporal intervals, and over extended periods. \n",
    "\n",
    "In this respect, ERA5, the fifth generation of the ECMWF global atmospheric reanalysis (Hersbach et al., 2020), has been widely used to study polar lows (Moreno-Ibáñez, 2024). For example, Stoll (2022) used ERA5 to report on the global climatology of polar lows, Meyer et al. (2021) to study their 3-dimensional structures, and Boyd et al. (2022) to determine the large-scale atmospheric conditions where polar lows develop. Furthermore, Stoll et al. (2021) suggested the ability of ERA5 to detect a larger number of polar lows than ERA Interim, the previous generation of the ECMWF global atmospheric reanalysis. \n",
    "\n",
    "Despite its importance, though, ERA5 has its own limitations. Notably, it has a spatial resolution of 0.25°x0.25°, which is insufficient to capture the fine horizontal spatial-scale features of polar lows. Additionally, it has been noted to underestimate near-surface wind speeds associated with polar lows (e.g., Gurvich et al., 2022). \n",
    "\n",
    "A regional reanalysis, such as the Copernicus Arctic Regional Reanalysis (CARRA), can help partly overcome these limitations. Although restricted to the European sector of the Arctic, CARRA has a spatial resolution of approximately 2.5 km, which is finer than that of ERA5 and can therefore potentially better characterize the physical properties of polar lows. Furthermore, it assimilates a larger number of observations.  \n",
    "\n",
    "Despite its potential, though, the ability of CARRA to capture and describe polar lows needs to be assessed. The present review reports on the capabilities of CARRA and ERA5 on pressure levels to detect polar lows over the European Arctic through a literature revision. "
   ]
  },
  {
   "cell_type": "markdown",
   "id": "4",
   "metadata": {
    "tags": []
   },
   "source": [
    "## 📢 Quality assessment statement\n",
    "\n",
    "```{admonition} These are the key outcomes of this assessment\n",
    ":class: note\n",
    "* When compared to radiosonde data, CARRA reproduces temperature and wind speed better than ERA5 in terms of bias and standard deviation, especially for pressure levels higher than approximately 200 hPa. \n",
    "* A case study analysis suggests that both CARRA and ERA5 can potentially detect polar lows and represent their main features. However, CARRA provides a more detailed depiction of its structure. \n",
    "```"
   ]
  },
  {
   "cell_type": "markdown",
   "id": "5",
   "metadata": {
    "editable": true,
    "slideshow": {
     "slide_type": ""
    },
    "tags": []
   },
   "source": [
    "## 📋 Methodology\n",
    "\n",
    "The present assessment explores and compares the properties of polar lows in the European sector of the Arctic based on CARRA, a regional atmospheric reanalysis for the European Arctic, and ERA5, a global atmospheric reanalysis. At first, the assessment presents an evaluation of both CARRA and ERA5 on pressure levels against radiosonde data. This comparison is based on the documentation of CARRA. Then, it summarizes one of the results in Zhaohui Cheng's master thesis by comparing the ability of ERA5 and CARRA to reproduce a polar low that hit the Norwegian coast on April 2007, which is used a case study. \n",
    "\n",
    "The analysis and results of the present work are organised as follows: \n",
    "\n",
    "**[](reanalysis_reanalysis-carra-pressure-levels_validation_q01:arctic_hazards:section-1)**\n",
    " * ERA5 \n",
    " * CARRA \n",
    "   \n",
    "**[](reanalysis_reanalysis-carra-pressure-levels_validation_q01:arctic_hazards:section-2)**\n",
    "\n",
    "**[](reanalysis_reanalysis-carra-pressure-levels_validation_q01:arctic_hazards:section-3)**\n",
    " * Satellite image\n",
    " * Relative vorticity: ERA5 vs CARRA\n",
    "   \n",
    "**[](reanalysis_reanalysis-carra-pressure-levels_validation_q01:arctic_hazards:section-4)**"
   ]
  },
  {
   "cell_type": "markdown",
   "id": "6",
   "metadata": {
    "tags": []
   },
   "source": [
    "## 📈 Analysis and results"
   ]
  },
  {
   "cell_type": "markdown",
   "id": "7",
   "metadata": {
    "tags": []
   },
   "source": [
    "(reanalysis_reanalysis-carra-pressure-levels_validation_q01:arctic_hazards:section-1)=\n",
    "### Description of the datasets"
   ]
  },
  {
   "cell_type": "markdown",
   "id": "8",
   "metadata": {
    "tags": []
   },
   "source": [
    "#### ERA5"
   ]
  },
  {
   "cell_type": "markdown",
   "id": "9",
   "metadata": {
    "tags": []
   },
   "source": [
    "The current assessment is based on the temperature, the zonal and the meridional components of the velocity field from ERA5 on pressure levels (Hersbach et al., 2020). The dataset has a horizontal spatial resolution of 0.25°x0.25°, a temporal resolution of 1 hour, and is available since the first of January 1940. "
   ]
  },
  {
   "cell_type": "markdown",
   "id": "10",
   "metadata": {
    "tags": []
   },
   "source": [
    "#### CARRA"
   ]
  },
  {
   "cell_type": "markdown",
   "id": "11",
   "metadata": {
    "tags": []
   },
   "source": [
    "The current assessment is also based on the temperature, the zonal and the meridional components of the velocity field from CARRA on pressure levels. The dataset has a horizontal spatial resolution of 2.5 km, and a temporal resolution of 3 hours. Data are available since the first of September 1991, and cover two domains over the European sector of the Arctic. The western domain (CARRA-West) includes Greenland, the Labrador Sea, Davis Strait, Baffin Bay, Denmark Strait, Iceland, Jan Mayen, the Greenland Sea and Svalbard; the eastern domain (CARRA-East) includes Svalbard, Jan Mayen, Franz Josef Land, Novaya Zemlya, the Barents Sea, and the northern parts of the Norwegian Sea and Scandinavia.   \n",
    "\n",
    "We should note that the results presented in section 3 are based on Cheng (2023). In his study, Cheng (2023) merges the zonal and meridional components of the velocity over CARRA-East and CARRA-West to work on one single domain. Furthermore, Cheng (2023) interpolates the CARRA dataset on a grid with a 0.1°x0.1° horizontal spatial resolution, which corresponds approximately to 12km x 12km, coarser than the original CARRA domain. This choice was made to reduce the time needed by his polar low detecting algorithm to run, but still allows to detect the mesoscale low-pressure systems in the European Arctic. "
   ]
  },
  {
   "cell_type": "markdown",
   "id": "12",
   "metadata": {
    "tags": []
   },
   "source": [
    "(reanalysis_reanalysis-carra-pressure-levels_validation_q01:arctic_hazards:section-2)=\n",
    "### Evaluation of ERA5 and CARRA on pressure levels"
   ]
  },
  {
   "cell_type": "markdown",
   "id": "13",
   "metadata": {
    "editable": true,
    "papermill": {
     "duration": 0.007051,
     "end_time": "2024-03-08T17:23:56.492658",
     "exception": false,
     "start_time": "2024-03-08T17:23:56.485607",
     "status": "completed"
    },
    "slideshow": {
     "slide_type": ""
    },
    "tags": []
   },
   "source": [
    "This section presents a quality assessment of CARRA and ERA5 on pressure levels through a comparison with radiosonde data. The assessment is based on the [Full System Documentation](https://confluence.ecmwf.int/display/CKB/Copernicus+Arctic+Regional+Reanalysis+%28CARRA%29%3A+Full+system+documentation) of CARRA, and addresses temperature and wind speed between approximately 950 and 50 hPa for September 1997, January 2000, and April 2007. \n",
    "\n",
    "Overall, Figures 1 and 2 indicate that the observed temperature and wind speed agree better with the estimates from CARRA than from ERA5. CARRA outperforms ERA5 in terms of both bias and standard deviation, with improvements of up to 50 percentage points. The improvememt appears to depend on the pressure level, being it less pronounced or absent for pressure levels below approximately 200hPa, while showing little dependence on year and season, although additional analysis is likely needed to confirm this conclusion due the limited number of years considered. \n",
    "\n",
    "The results for the standard deviation differentiate between temperature and wind speed, with CARRA offering a greater improvement over ERA5 in terms of wind speed rather than temperature. For instance, selecting wind speed data from CARRA, as opposed to ERA5, reduces the average standard deviation by up to 50 percentage points circa, compared to around 30 percentage points for temperature. \n",
    "\n",
    "The comparison with the observed temperature and wind speed indicates that both CARRA and ERA5 are negatively biased at most pressure levels. However, unlike the standard deviation, this comparison does not clearly distinguish between temperature and wind speed. The result for the bias is important as it suggests that both reanalysis datasets tend to underestimate the observed temperature and wind speed throughout the troposphere and lower stratosphere."
   ]
  },
  {
   "cell_type": "markdown",
   "id": "14",
   "metadata": {
    "tags": []
   },
   "source": [
    "```{figure} af8f845a-8c98-45bc-894f-c3353f19bd0b.png\n",
    "---\n",
    "height: 500px\n",
    "---\n",
    "``` \n",
    "```{figure} 935a34c9-3483-402f-bf83-114585c36316.png\n",
    "---\n",
    "height: 500px\n",
    "---\n",
    "``` \n",
    "```{figure} dc374276-99de-4a41-9e60-d3f0d22f8a2e.png \n",
    "---\n",
    "height: 500px\n",
    "---\n",
    "Figure 1: Vertical profiles of averaged standard deviation (STD) and bias errors of CARRA reanalysis (green) and ERA5 (red) computed against radiosonde measurements over CARRA's domains for temperature for the months of September 1997 (upper plot), January 2000 (middle plot), and April 2007 (lower plot). Results are shown on key pressure levels. The figure is a readaptation of Figure 3.2 in the [Full System Documentation](https://confluence.ecmwf.int/display/CKB/Copernicus+Arctic+Regional+Reanalysis+%28CARRA%29%3A+Full+system+documentation) of CARRA. \n",
    "```"
   ]
  },
  {
   "cell_type": "markdown",
   "id": "15",
   "metadata": {
    "tags": []
   },
   "source": [
    "```{figure} 08c0ae8d-dc21-4be5-82c9-21e596c27630.png\n",
    "---\n",
    "height: 500px\n",
    "---\n",
    "```\n",
    "```{figure} d01b57ad-aaec-4a83-a23f-76ed0073a990.png\n",
    "---\n",
    "height: 500px\n",
    "---\n",
    "```\n",
    "```{figure} 9d611205-788f-4a90-b875-39a608c8cb53.png\n",
    "---\n",
    "height: 500px\n",
    "---\n",
    "Figure 2: Same as Figure 1, but for wind speed.  \n",
    "```"
   ]
  },
  {
   "cell_type": "markdown",
   "id": "16",
   "metadata": {
    "tags": []
   },
   "source": [
    "(reanalysis_reanalysis-carra-pressure-levels_validation_q01:arctic_hazards:section-3)=\n",
    "### Polar lows properties: ERA5 vs CARRA"
   ]
  },
  {
   "cell_type": "markdown",
   "id": "17",
   "metadata": {
    "tags": []
   },
   "source": [
    "The ability of ERA5 and CARRA to capture polar lows is first assessed through a case study. Following Cheng (2023), we select a polar low that developed over the Nordic Seas on the 6th of April 2007 between 00:00UTC and 18:00UTC. This polar low appears in Noer and Lien (2010), who present a list of subjectively selected polar lows over the Nordic Seas between 2000 and 2010. "
   ]
  },
  {
   "cell_type": "markdown",
   "id": "18",
   "metadata": {
    "tags": []
   },
   "source": [
    "#### Satellite image"
   ]
  },
  {
   "cell_type": "markdown",
   "id": "19",
   "metadata": {
    "tags": []
   },
   "source": [
    "Figure 3 shows an image of the polar low provided by NOAA-15 AVHRR on the 6th of April 2007 at 06:31 - 07:18 UTC. The image depicts a polar low over the Nordic Seas, approximately between Svalbard and mainland Norway. The polar low appears in its mature stage, with its distinctive comma shape and a mostly cloud-free eye, and it is characterized by wave-like ripples at the edge of the cirrus shield, off the western and southern edge of the cloud mass, which indicate a jet over the convective layer. "
   ]
  },
  {
   "cell_type": "markdown",
   "id": "20",
   "metadata": {
    "tags": []
   },
   "source": [
    "```{figure} f61c7745-3670-4fce-87c5-cd7ca570b75b.png \n",
    "---\n",
    "height: 500px\n",
    "---\n",
    "Figure 3: Figure 10 in Cheng (2023), showing a polar low image taken by NOAA-15 AVHRR at 06:31 - 07:18 UTC on the 6th of April 2007. The Norwegian coast is visible on the right side of the image, while the Svalbard in the upper part.  \n",
    "```"
   ]
  },
  {
   "cell_type": "markdown",
   "id": "21",
   "metadata": {
    "tags": []
   },
   "source": [
    "#### Relative vorticity: ERA5 vs CARRA"
   ]
  },
  {
   "cell_type": "markdown",
   "id": "22",
   "metadata": {
    "tags": []
   },
   "source": [
    "Following Cheng (2023), we consider the relative vorticity at 950hPa at 06:00 UTC on the 6th of April 2007, and we compare the ability of ERA5 and CARRA to reproduce the horizontal features of the polar low under study. \n",
    "\n",
    "Figure 4 indicates that ERA5 and CARRA are able to detect and return a comparable picture of the polar low. Both reanalysys datasets place the centre of the polar low, identifiable as a patch of high relative vorticity, at approximately the same location. Furthermore, they also agree on the location of the comma-shaped cloud system, which is also identifiable by a tail of relative vorticity maxima. \n",
    "\n",
    "Despite these similarities, some differences exist between the polar low reproduced by ERA5 and by CARRA. At first, both reanalysis datasets place the centre of the polar low at approximately 72°N, but CARRA has it shifted circa 2° to the east with respect to ERA5. More notably, though, CARRA appears to reproduce the finer structures of the polar low when compared to ERA5. In particular, CARRA indicates that the tail of the polar low is thinner and has a relative vorticity which is higher than that provided by ERA5 and comparable to the polar low's centre. CARRA also reveals stripes of high relative vorticity to the west and south of the eye. A comparison with the satellite image shown in Figure 3 indicates that these features exist and replicate the wave-like elements observed in the satellite data. The differences between CARRA and ERA5 are expected to result from ERA5 having a lower spatial scale than CARRA which, in turn, diffuses the relative vorticity of the polar low. "
   ]
  },
  {
   "cell_type": "markdown",
   "id": "23",
   "metadata": {
    "tags": []
   },
   "source": [
    "```{figure} 65be99c2-c9a2-48f8-b791-ef7c7fa4a490.png \n",
    "---\n",
    "height: 200px\n",
    "---\n",
    "Figure 4: Figure 12 in Cheng (2023) showing the relative vorticity at 950hPa obtained from ERA5 (a) and the merged CARRA dataset (b) at 06:30 UTC on the 6th of April 2007. The relative vorticity over land is set to zero. \n",
    "```"
   ]
  },
  {
   "cell_type": "markdown",
   "id": "24",
   "metadata": {
    "tags": []
   },
   "source": [
    "(reanalysis_reanalysis-carra-pressure-levels_validation_q01:arctic_hazards:section-4)=\n",
    "### Conclusions"
   ]
  },
  {
   "cell_type": "markdown",
   "id": "25",
   "metadata": {
    "tags": []
   },
   "source": [
    "This assessment presented a brief literature review to evaluate the consistency of the ERA5 and CARRA reanalysis datasets on pressure levels with observational data. It also compared the ability of these datasets to replicate the characteristics of polar lows in the European Arctic.\n",
    "\n",
    "The comparison with radiosonde data, based on CARRA's documentation, indicates that CARRA reproduces temperature and wind speed better than ERA5 in terms of bias and standard deviation, particularly for pressure levels higher than approximately 200 hPa. However, further analysis is likely needed, as the results presented in this assessment are based on a limited number of years.\n",
    "\n",
    "A case study of a polar low presented by Cheng (2023) indicates that CARRA is preferable to ERA5 for reproducing the features of polar lows. A satellite image of the polar low was used as a reference for the comparison. The comparison showed that CARRA provided a finer representation of the center and tail of the polar low, less diffused relative vorticity values, and a better representation of the features around the polar low when compared to ERA5. Thus, in line with CARRA's documentation, CARRA is expected to better reproduce high-impact weather events than ERA5 in the European sector of the Arctic. \n",
    "\n",
    "To conclude, we would like to note that the results reported by this assessment agree with the conclusions reached by previous works who assessed the ability of CARRA and ERA5 on single levels to reproduce polar lows. For example, Khachatrian and Asemann (2024) showed that CARRA provides a more detailed representation of the 10m wind field than ERA5 during a polar low event. Køltzow et al. (2022) further highlight CARRA's ability over ERA5 to better reproduce the 2m temperature and the 10m wind field associated with polar lows as they wave over land. "
   ]
  },
  {
   "cell_type": "markdown",
   "id": "26",
   "metadata": {
    "editable": true,
    "papermill": {
     "duration": 0.271597,
     "end_time": "2024-03-08T17:40:01.664067",
     "exception": false,
     "start_time": "2024-03-08T17:40:01.392470",
     "status": "completed"
    },
    "slideshow": {
     "slide_type": ""
    },
    "tags": []
   },
   "source": [
    "## ℹ️ If you want to know more\n",
    "\n",
    "### Key resources\n",
    "\n",
    "The interested reader can check the following resources: \n",
    "\n",
    "* [The Advanced models and weather prediction in the Arctic (Alertness) project](https://www.alertness.no/).\n",
    "\n",
    "* [Presentation on polar lows by Dr. Justyna Wodziczko on EUMeTrain website](https://eumetrain.org/resources/polar-lows). \n",
    "\n",
    "* [\"Polar Lows: the coolest weather on the planet\"](https://polarlows.wordpress.com/), a blog about polar lows.  \n",
    "\n",
    "* [Polar low section](https://rammb.cira.colostate.edu/wmovl/vrl/tutorials/satmanu-eumetsat/satmanu/cms/pl/) of the \"Manual of Synoptic Satellite Meteorology\".  \n",
    "\n",
    "### References\n",
    "\n",
    "* Boyd, K., and Wang, Z. (2024). Revisiting the relationship between polar lows and weather regimes. J. Clim. 37 (5), 1523–1538. doi:10.1175/JCLI-D-23-0309.1\n",
    "\n",
    "* Gurvich, I., Pichugin, M., Baranyuk, A. 2023. Satellite Multi-Sensor Data Analysis of Unusually Strong Polar Lows over the Chukchi and Beaufort Seas in October 2017. Remote Sens. 15 (1), 120. doi:10.3390/rs15010120. \n",
    "\n",
    "* Hersbach, H., et al. 2020. The ERA5 global reanalysis. Q.J.R. Meteorol. Soc. 146, 1990–2049. https://doi.org/10.1002/qj.3803\n",
    "\n",
    "* Khachatrian, E. and Asemann, P. The Value of Sentinel-1 Ocean Wind Fields Component for the Study of Polar Lows. Remote Sens. 2024, 16, 3755. https://doi.org/10.3390/rs16203755\n",
    "\n",
    "* Køltzow, M., Schyberg, H., Støylen, E., and Yang, X. (2022). Value of the Copernicus Arctic Regional Reanalysis (CARRA) in representing near-surface temperature and wind speed in the north-east European Arctic. Polar Res. 41, 8002. doi:10.33265/polar.v41.8002.\n",
    "\n",
    "* Meyer, M., Polkova, I., Modali, K. R., Schaffer, L., Baehr, J., Olbrich, S., et al. (2021). Interactive 3-D visual analysis of ERA5 data: improving diagnostic indices for marine cold air outbreaks and polar lows. Weather Clim. Dyn. 2 (3), 867–891. doi:10.5194/wcd-2-867-2021\n",
    "\n",
    "* Moreno-Ibáñez, M., Laprise, R., Gachon, P. 2021. Recent advances in polar low research: currentknowledge, challenges and future perspectives. Tellus A: 2021, 73, 1890412, https://doi.org/10.1080/16000870.2021.1890412 \n",
    "\n",
    "* Moreno-Ibáñez, M. 2024. Polar low research: recent developments and promising courses of research. Front. Earth Sci. 12:1368179. doi: 10.3389/feart.2024.1368179\n",
    "\n",
    "* Noer, G., Lien T. 2010. Dates and Positions of Polar Lows over the Nordic Seas between 2000 and 2010. Met.no Report no 16/2010. The Norwegian Meteorological Institute: Oslo, Norway. 6 pp.\n",
    "\n",
    "* Parker, W. S. 2016. Reanales and Observations. What's the difference? Bull. Amer. Meteor. Soc., 97, 1565-1572. DOI:10.1175/BAMS-D-14-00226.1. \n",
    "\n",
    "* Stoll, P. J., Spengler, T., Terpstra, A., and Graversen, R. G. (2021). Polar lows – moist-baroclinic cyclones developing in four different vertical wind shear environments. Weather Clim. Dyn. 2 (1), 19–36. doi:10.5194/wcd-2-19-2021\n",
    "\n",
    "* Stoll, P. J. (2022). A global climatology of polar lows investigated for local differences and wind-shear environments. Weather Clim. Dyn. 3 (2), 483–504. doi:10.5194/wcd-3-483-2022"
   ]
  },
  {
   "cell_type": "code",
   "execution_count": 1,
   "id": "27",
   "metadata": {
    "tags": [
     "hide-input"
    ]
   },
   "outputs": [
    {
     "name": "stdout",
     "output_type": "stream",
     "text": [
      "name: wp5\n",
      "channels:\n",
      "  - conda-forge\n",
      "dependencies:\n",
      "  - _libgcc_mutex=0.1=conda_forge\n",
      "  - _openmp_mutex=4.5=2_gnu\n",
      "  - accessible-pygments=0.0.5=pyhd8ed1ab_1\n",
      "  - affine=2.4.0=pyhd8ed1ab_1\n",
      "  - aiohttp=3.9.5=py311h459d7ec_0\n",
      "  - aiosignal=1.3.2=pyhd8ed1ab_0\n",
      "  - alabaster=0.7.16=pyhd8ed1ab_0\n",
      "  - alsa-lib=1.2.14=hb9d3cd8_0\n",
      "  - annotated-types=0.7.0=pyhd8ed1ab_1\n",
      "  - ansicolors=1.1.8=pyhd8ed1ab_0\n",
      "  - anyio=4.9.0=pyh29332c3_0\n",
      "  - argon2-cffi=23.1.0=pyhd8ed1ab_1\n",
      "  - argon2-cffi-bindings=21.2.0=py311h9ecbd09_5\n",
      "  - array-api-compat=1.12.0=pyhe01879c_0\n",
      "  - arrow=1.3.0=pyhd8ed1ab_1\n",
      "  - asttokens=3.0.0=pyhd8ed1ab_1\n",
      "  - async-lru=2.0.5=pyh29332c3_0\n",
      "  - attrs=25.3.0=pyh71513ae_0\n",
      "  - aws-c-auth=0.9.0=h59ae206_7\n",
      "  - aws-c-cal=0.9.0=h5e3027f_1\n",
      "  - aws-c-common=0.12.3=hb9d3cd8_0\n",
      "  - aws-c-compression=0.3.1=hafb2847_5\n",
      "  - aws-c-event-stream=0.5.4=h2dcaabb_9\n",
      "  - aws-c-http=0.10.1=hb50fa74_1\n",
      "  - aws-c-io=0.19.0=h7962f60_2\n",
      "  - aws-c-mqtt=0.13.0=h35de22e_3\n",
      "  - aws-c-s3=0.7.17=h50d7d24_2\n",
      "  - aws-c-sdkutils=0.2.3=hafb2847_5\n",
      "  - aws-checksums=0.2.7=hafb2847_1\n",
      "  - aws-crt-cpp=0.32.5=h2811929_3\n",
      "  - aws-sdk-cpp=1.11.510=hffe9a0f_8\n",
      "  - azure-core-cpp=1.14.0=h5cfcd09_0\n",
      "  - azure-identity-cpp=1.10.0=h113e628_0\n",
      "  - azure-storage-blobs-cpp=12.13.0=h3cf044e_1\n",
      "  - azure-storage-common-cpp=12.8.0=h736e048_1\n",
      "  - azure-storage-files-datalake-cpp=12.12.0=ha633028_1\n",
      "  - babel=2.17.0=pyhd8ed1ab_0\n",
      "  - beautifulsoup4=4.13.4=pyha770c72_0\n",
      "  - bleach=6.2.0=pyh29332c3_4\n",
      "  - bleach-with-css=6.2.0=h82add2a_4\n",
      "  - blosc=1.21.6=he440d0b_1\n",
      "  - bokeh=3.7.3=pyhd8ed1ab_0\n",
      "  - bottleneck=1.5.0=py311h9f3472d_0\n",
      "  - branca=0.8.1=pyhd8ed1ab_0\n",
      "  - brotli=1.1.0=hb9d3cd8_2\n",
      "  - brotli-bin=1.1.0=hb9d3cd8_2\n",
      "  - brotli-python=1.1.0=py311hfdbb021_2\n",
      "  - bzip2=1.0.8=h4bc722e_7\n",
      "  - c-ares=1.34.5=hb9d3cd8_0\n",
      "  - ca-certificates=2025.4.26=hbd8a1cb_0\n",
      "  - cached-property=1.5.2=hd8ed1ab_1\n",
      "  - cached_property=1.5.2=pyha770c72_1\n",
      "  - cairo=1.18.4=h3394656_0\n",
      "  - cartopy=0.24.0=py311h7db5c69_0\n",
      "  - cdsapi=0.7.6=pyhd8ed1ab_0\n",
      "  - certifi=2025.4.26=pyhd8ed1ab_0\n",
      "  - cf-units=3.3.0=py311h9f3472d_0\n",
      "  - cf_xarray=0.10.5=pyhd8ed1ab_0\n",
      "  - cffi=1.17.1=py311hf29c0ef_0\n",
      "  - cfgrib=0.9.15.0=pyhd8ed1ab_0\n",
      "  - cftime=1.6.4=py311h9f3472d_1\n",
      "  - charset-normalizer=3.4.2=pyhd8ed1ab_0\n",
      "  - click=8.1.8=pyh707e725_0\n",
      "  - click-plugins=1.1.1=pyhd8ed1ab_1\n",
      "  - cligj=0.7.2=pyhd8ed1ab_2\n",
      "  - cloudpickle=3.1.1=pyhd8ed1ab_0\n",
      "  - cmocean=4.0.3=pyhd8ed1ab_1\n",
      "  - colorama=0.4.6=pyhd8ed1ab_1\n",
      "  - colorspacious=1.1.2=pyhecae5ae_1\n",
      "  - comm=0.2.2=pyhd8ed1ab_1\n",
      "  - contourpy=1.3.2=py311hd18a35c_0\n",
      "  - crc32c=2.7.1=py311h9ecbd09_1\n",
      "  - cycler=0.12.1=pyhd8ed1ab_1\n",
      "  - cyrus-sasl=2.1.27=h54b06d7_7\n",
      "  - cytoolz=1.0.1=py311h9ecbd09_0\n",
      "  - dask=2025.5.1=pyhd8ed1ab_0\n",
      "  - dask-core=2025.5.1=pyhd8ed1ab_0\n",
      "  - dbus=1.16.2=h3c4dab8_0\n",
      "  - debugpy=1.8.14=py311hfdbb021_0\n",
      "  - decorator=5.2.1=pyhd8ed1ab_0\n",
      "  - defusedxml=0.7.1=pyhd8ed1ab_0\n",
      "  - deprecated=1.2.18=pyhd8ed1ab_0\n",
      "  - deprecation=2.1.0=pyh9f0ad1d_0\n",
      "  - distributed=2025.5.1=pyhd8ed1ab_0\n",
      "  - docutils=0.21.2=pyhd8ed1ab_1\n",
      "  - donfig=0.8.1.post1=pyhd8ed1ab_1\n",
      "  - double-conversion=3.3.1=h5888daf_0\n",
      "  - earthkit-data=0.14.3=pyhd8ed1ab_0\n",
      "  - earthkit-geo=0.3.0=pyhd8ed1ab_1\n",
      "  - earthkit-utils=0.0.1=pyhd8ed1ab_0\n",
      "  - ecmwf-datastores-client=0.1.0=pyhd8ed1ab_0\n",
      "  - entrypoints=0.4=pyhd8ed1ab_1\n",
      "  - esmf=8.8.1=nompi_hc4cf7a7_1\n",
      "  - esmpy=8.8.1=pyhecae5ae_0\n",
      "  - et_xmlfile=2.0.0=pyhd8ed1ab_1\n",
      "  - exceptiongroup=1.3.0=pyhd8ed1ab_0\n",
      "  - executing=2.2.0=pyhd8ed1ab_0\n",
      "  - filelock=3.18.0=pyhd8ed1ab_0\n",
      "  - findlibs=0.0.5=pyhd8ed1ab_0\n",
      "  - flox=0.10.1=pyhd8ed1ab_0\n",
      "  - folium=0.19.6=pyhd8ed1ab_0\n",
      "  - font-ttf-dejavu-sans-mono=2.37=hab24e00_0\n",
      "  - font-ttf-inconsolata=3.000=h77eed37_0\n",
      "  - font-ttf-source-code-pro=2.038=h77eed37_0\n",
      "  - font-ttf-ubuntu=0.83=h77eed37_3\n",
      "  - fontconfig=2.15.0=h7e30c49_1\n",
      "  - fonts-conda-ecosystem=1=0\n",
      "  - fonts-conda-forge=1=0\n",
      "  - fonttools=4.58.0=py311h2dc5d0c_0\n",
      "  - fqdn=1.5.1=pyhd8ed1ab_1\n",
      "  - freeglut=3.2.2=ha6d2627_3\n",
      "  - freetype=2.13.3=ha770c72_1\n",
      "  - freexl=2.0.0=h9dce30a_2\n",
      "  - frozenlist=1.6.0=py311h62d540b_0\n",
      "  - fsspec=2025.5.1=pyhd8ed1ab_0\n",
      "  - geopandas=1.0.1=pyhd8ed1ab_3\n",
      "  - geopandas-base=1.0.1=pyha770c72_3\n",
      "  - geos=3.13.1=h97f6797_0\n",
      "  - geotiff=1.7.4=h239500f_2\n",
      "  - gflags=2.2.2=h5888daf_1005\n",
      "  - giflib=5.2.2=hd590300_0\n",
      "  - glog=0.7.1=hbabe93e_0\n",
      "  - graphite2=1.3.13=h59595ed_1003\n",
      "  - greenlet=3.2.2=py311hfdbb021_0\n",
      "  - h11=0.16.0=pyhd8ed1ab_0\n",
      "  - h2=4.2.0=pyhd8ed1ab_0\n",
      "  - harfbuzz=11.2.1=h3beb420_0\n",
      "  - hdf4=4.2.15=h2a13503_7\n",
      "  - hdf5=1.14.6=nompi_h2d575fe_101\n",
      "  - hpack=4.1.0=pyhd8ed1ab_0\n",
      "  - httpcore=1.0.9=pyh29332c3_0\n",
      "  - httpx=0.28.1=pyhd8ed1ab_0\n",
      "  - hyperframe=6.1.0=pyhd8ed1ab_0\n",
      "  - icu=75.1=he02047a_0\n",
      "  - idna=3.10=pyhd8ed1ab_1\n",
      "  - imagesize=1.4.1=pyhd8ed1ab_0\n",
      "  - importlib-metadata=8.7.0=pyhe01879c_1\n",
      "  - importlib_resources=6.5.2=pyhd8ed1ab_0\n",
      "  - ipykernel=6.29.5=pyh3099207_0\n",
      "  - ipython=9.2.0=pyhfb0248b_0\n",
      "  - ipython_pygments_lexers=1.1.1=pyhd8ed1ab_0\n",
      "  - isoduration=20.11.0=pyhd8ed1ab_1\n",
      "  - jasper=4.2.5=h1920b20_0\n",
      "  - jedi=0.19.2=pyhd8ed1ab_1\n",
      "  - jinja2=3.1.6=pyhd8ed1ab_0\n",
      "  - joblib=1.5.1=pyhd8ed1ab_0\n",
      "  - json-c=0.18=h6688a6e_0\n",
      "  - json5=0.12.0=pyhd8ed1ab_0\n",
      "  - jsonpointer=3.0.0=py311h38be061_1\n",
      "  - jsonschema=4.23.0=pyhd8ed1ab_1\n",
      "  - jsonschema-specifications=2025.4.1=pyh29332c3_0\n",
      "  - jsonschema-with-format-nongpl=4.23.0=hd8ed1ab_1\n",
      "  - jupyter-book=1.0.4.post1=pyh29332c3_0\n",
      "  - jupyter-cache=1.0.1=pyhff2d567_0\n",
      "  - jupyter-lsp=2.2.5=pyhd8ed1ab_1\n",
      "  - jupyter-server-proxy=4.4.0=pyhd8ed1ab_1\n",
      "  - jupyter_client=8.6.3=pyhd8ed1ab_1\n",
      "  - jupyter_core=5.8.0=pyh31011fe_0\n",
      "  - jupyter_events=0.12.0=pyh29332c3_0\n",
      "  - jupyter_server=2.16.0=pyhe01879c_0\n",
      "  - jupyter_server_terminals=0.5.3=pyhd8ed1ab_1\n",
      "  - jupyterlab=4.4.3=pyhd8ed1ab_0\n",
      "  - jupyterlab-myst=2.4.2=pyhd8ed1ab_1\n",
      "  - jupyterlab_pygments=0.3.0=pyhd8ed1ab_2\n",
      "  - jupyterlab_server=2.27.3=pyhd8ed1ab_1\n",
      "  - keyutils=1.6.1=h166bdaf_0\n",
      "  - kiwisolver=1.4.7=py311hd18a35c_0\n",
      "  - krb5=1.21.3=h659f571_0\n",
      "  - latexcodec=2.0.1=pyh9f0ad1d_0\n",
      "  - lcms2=2.17=h717163a_0\n",
      "  - ld_impl_linux-64=2.43=h712a8e2_4\n",
      "  - lerc=4.0.0=h0aef613_1\n",
      "  - libabseil=20250127.1=cxx17_hbbce691_0\n",
      "  - libaec=1.1.3=h59595ed_0\n",
      "  - libarchive=3.7.7=h75ea233_4\n",
      "  - libarrow=20.0.0=hebdba27_3_cpu\n",
      "  - libarrow-acero=20.0.0=hcb10f89_3_cpu\n",
      "  - libarrow-dataset=20.0.0=hcb10f89_3_cpu\n",
      "  - libarrow-substrait=20.0.0=h1bed206_3_cpu\n",
      "  - libblas=3.9.0=31_h59b9bed_openblas\n",
      "  - libbrotlicommon=1.1.0=hb9d3cd8_2\n",
      "  - libbrotlidec=1.1.0=hb9d3cd8_2\n",
      "  - libbrotlienc=1.1.0=hb9d3cd8_2\n",
      "  - libcblas=3.9.0=31_he106b2a_openblas\n",
      "  - libclang-cpp20.1=20.1.5=default_h1df26ce_1\n",
      "  - libclang13=20.1.5=default_he06ed0a_1\n",
      "  - libcrc32c=1.1.2=h9c3ff4c_0\n",
      "  - libcups=2.3.3=h4637d8d_4\n",
      "  - libcurl=8.13.0=h332b0f4_0\n",
      "  - libdeflate=1.24=h86f0d12_0\n",
      "  - libdrm=2.4.124=hb9d3cd8_0\n",
      "  - libedit=3.1.20250104=pl5321h7949ede_0\n",
      "  - libegl=1.7.0=ha4b6fd6_2\n",
      "  - libev=4.33=hd590300_2\n",
      "  - libevent=2.1.12=hf998b51_1\n",
      "  - libexpat=2.7.0=h5888daf_0\n",
      "  - libffi=3.4.6=h2dba641_1\n",
      "  - libfreetype=2.13.3=ha770c72_1\n",
      "  - libfreetype6=2.13.3=h48d6fc4_1\n",
      "  - libgcc=15.1.0=h767d61c_2\n",
      "  - libgcc-ng=15.1.0=h69a702a_2\n",
      "  - libgdal-core=3.10.3=h86883d2_10\n",
      "  - libgfortran=15.1.0=h69a702a_2\n",
      "  - libgfortran5=15.1.0=hcea5267_2\n",
      "  - libgl=1.7.0=ha4b6fd6_2\n",
      "  - libglib=2.84.2=h3618099_0\n",
      "  - libglu=9.0.3=h03adeef_0\n",
      "  - libglvnd=1.7.0=ha4b6fd6_2\n",
      "  - libglx=1.7.0=ha4b6fd6_2\n",
      "  - libgomp=15.1.0=h767d61c_2\n",
      "  - libgoogle-cloud=2.36.0=hc4361e1_1\n",
      "  - libgoogle-cloud-storage=2.36.0=h0121fbd_1\n",
      "  - libgrpc=1.71.0=h8e591d7_1\n",
      "  - libiconv=1.18=h4ce23a2_1\n",
      "  - libjpeg-turbo=3.1.0=hb9d3cd8_0\n",
      "  - libkml=1.3.0=hf539b9f_1021\n",
      "  - liblapack=3.9.0=31_h7ac8fdf_openblas\n",
      "  - libllvm20=20.1.5=he9d0ab4_0\n",
      "  - liblzma=5.8.1=hb9d3cd8_1\n",
      "  - libnetcdf=4.9.2=nompi_h0134ee8_117\n",
      "  - libnghttp2=1.64.0=h161d5f1_0\n",
      "  - libnsl=2.0.1=hd590300_0\n",
      "  - libntlm=1.8=hb9d3cd8_0\n",
      "  - libopenblas=0.3.29=pthreads_h94d23a6_0\n",
      "  - libopengl=1.7.0=ha4b6fd6_2\n",
      "  - libopentelemetry-cpp=1.20.0=hd1b1c89_0\n",
      "  - libopentelemetry-cpp-headers=1.20.0=ha770c72_0\n",
      "  - libparquet=20.0.0=h081d1f1_3_cpu\n",
      "  - libpciaccess=0.18=hd590300_0\n",
      "  - libpng=1.6.47=h943b412_0\n",
      "  - libpq=17.5=h27ae623_0\n",
      "  - libprotobuf=5.29.3=h501fc15_1\n",
      "  - libre2-11=2024.07.02=hba17884_3\n",
      "  - librttopo=1.1.0=hd718a1a_18\n",
      "  - libsodium=1.0.20=h4ab18f5_0\n",
      "  - libspatialite=5.1.0=he17ca71_14\n",
      "  - libsqlite=3.49.2=hee588c1_0\n",
      "  - libssh2=1.11.1=hcf80075_0\n",
      "  - libstdcxx=15.1.0=h8f9b012_2\n",
      "  - libstdcxx-ng=15.1.0=h4852527_2\n",
      "  - libthrift=0.21.0=h0e7cc3e_0\n",
      "  - libtiff=4.7.0=hf01ce69_5\n",
      "  - libudunits2=2.2.28=h40f5838_3\n",
      "  - libutf8proc=2.10.0=h4c51ac1_0\n",
      "  - libuuid=2.38.1=h0b41bf4_0\n",
      "  - libwebp-base=1.5.0=h851e524_0\n",
      "  - libxcb=1.17.0=h8a09558_0\n",
      "  - libxcrypt=4.4.36=hd590300_1\n",
      "  - libxkbcommon=1.10.0=h65c71a3_0\n",
      "  - libxml2=2.13.8=h4bc477f_0\n",
      "  - libxslt=1.1.39=h76b75d6_0\n",
      "  - libzip=1.11.2=h6991a6a_0\n",
      "  - libzlib=1.3.1=hb9d3cd8_2\n",
      "  - linkify-it-py=2.0.3=pyhd8ed1ab_1\n",
      "  - llvmlite=0.44.0=py311h9c9ff8c_1\n",
      "  - locket=1.0.0=pyhd8ed1ab_0\n",
      "  - lru-dict=1.3.0=py311h9ecbd09_1\n",
      "  - lz4=4.4.4=py311h8c6ae76_0\n",
      "  - lz4-c=1.10.0=h5888daf_1\n",
      "  - lzo=2.10=hd590300_1001\n",
      "  - mapclassify=2.8.1=pyhd8ed1ab_1\n",
      "  - markdown=3.8=pyhd8ed1ab_0\n",
      "  - markdown-it-py=3.0.0=pyhd8ed1ab_1\n",
      "  - markupsafe=3.0.2=py311h2dc5d0c_1\n",
      "  - matplotlib=3.10.3=py311h38be061_0\n",
      "  - matplotlib-base=3.10.3=py311h2b939e6_0\n",
      "  - matplotlib-inline=0.1.7=pyhd8ed1ab_1\n",
      "  - mdit-py-plugins=0.4.2=pyhd8ed1ab_1\n",
      "  - mdurl=0.1.2=pyhd8ed1ab_1\n",
      "  - minizip=4.0.10=h05a5f5f_0\n",
      "  - mistune=3.1.3=pyh29332c3_0\n",
      "  - msgpack-python=1.1.0=py311hd18a35c_0\n",
      "  - multidict=6.4.4=py311h2dc5d0c_0\n",
      "  - multiurl=0.3.5=pyhd8ed1ab_0\n",
      "  - munkres=1.1.4=pyh9f0ad1d_0\n",
      "  - myst-nb=1.2.0=pyh29332c3_0\n",
      "  - myst-parser=3.0.1=pyhd8ed1ab_0\n",
      "  - narwhals=1.41.0=pyhe01879c_0\n",
      "  - nbclient=0.10.2=pyhd8ed1ab_0\n",
      "  - nbconvert=7.16.6=hb482800_0\n",
      "  - nbconvert-core=7.16.6=pyh29332c3_0\n",
      "  - nbconvert-pandoc=7.16.6=hed9df3c_0\n",
      "  - nbformat=5.10.4=pyhd8ed1ab_1\n",
      "  - nc-time-axis=1.4.1=pyhd8ed1ab_1\n",
      "  - ncurses=6.5=h2d0b736_3\n",
      "  - nest-asyncio=1.6.0=pyhd8ed1ab_1\n",
      "  - netcdf-fortran=4.6.2=nompi_hee1cade_100\n",
      "  - netcdf4=1.7.2=nompi_py311h8b974bf_102\n",
      "  - networkx=3.4.2=pyh267e887_2\n",
      "  - nlohmann_json=3.12.0=h3f2d84a_0\n",
      "  - notebook-shim=0.2.4=pyhd8ed1ab_1\n",
      "  - numba=0.61.2=py311h4e1c48f_0\n",
      "  - numcodecs=0.16.1=py311h7db5c69_0\n",
      "  - numpy=2.2.6=py311h5d046bc_0\n",
      "  - numpy_groupies=0.11.3=pyhd8ed1ab_0\n",
      "  - openjpeg=2.5.3=h5fbd93e_0\n",
      "  - openldap=2.6.10=he970967_0\n",
      "  - openpyxl=3.1.5=py311h50c5138_1\n",
      "  - openssl=3.5.0=h7b32b05_1\n",
      "  - orc=2.1.2=h17f744e_0\n",
      "  - overrides=7.7.0=pyhd8ed1ab_1\n",
      "  - packaging=25.0=pyh29332c3_1\n",
      "  - pandas=2.2.3=py311h7db5c69_3\n",
      "  - pandoc=3.7.0.1=ha770c72_0\n",
      "  - pandocfilters=1.5.0=pyhd8ed1ab_0\n",
      "  - papermill=2.6.0=pyhd8ed1ab_1\n",
      "  - parso=0.8.4=pyhd8ed1ab_1\n",
      "  - partd=1.4.2=pyhd8ed1ab_0\n",
      "  - patsy=1.0.1=pyhd8ed1ab_1\n",
      "  - pcre2=10.45=hc749103_0\n",
      "  - pexpect=4.9.0=pyhd8ed1ab_1\n",
      "  - pickleshare=0.7.5=pyhd8ed1ab_1004\n",
      "  - pillow=11.2.1=py311h1322bbf_0\n",
      "  - pip=25.1.1=pyh8b19718_0\n",
      "  - pixman=0.46.0=h29eaf8c_0\n",
      "  - pkgutil-resolve-name=1.3.10=pyhd8ed1ab_2\n",
      "  - platformdirs=4.3.8=pyhe01879c_0\n",
      "  - plotly=6.1.1=pyhd8ed1ab_0\n",
      "  - pooch=1.8.2=pyhd8ed1ab_1\n",
      "  - proj=9.6.0=h0054346_1\n",
      "  - prometheus-cpp=1.3.0=ha5d0236_0\n",
      "  - prometheus_client=0.22.0=pyhd8ed1ab_0\n",
      "  - prompt-toolkit=3.0.51=pyha770c72_0\n",
      "  - propcache=0.3.1=py311h2dc5d0c_0\n",
      "  - properscoring=0.1=pyhd8ed1ab_1\n",
      "  - psutil=7.0.0=py311h9ecbd09_0\n",
      "  - pthread-stubs=0.4=hb9d3cd8_1002\n",
      "  - ptyprocess=0.7.0=pyhd8ed1ab_1\n",
      "  - pure_eval=0.2.3=pyhd8ed1ab_1\n",
      "  - pwlf=2.5.1=pyhd8ed1ab_0\n",
      "  - pyarrow=20.0.0=py311h38be061_0\n",
      "  - pyarrow-core=20.0.0=py311h4854187_0_cpu\n",
      "  - pybtex=0.24.0=pyhd8ed1ab_3\n",
      "  - pybtex-docutils=1.0.3=py311h38be061_2\n",
      "  - pycparser=2.22=pyh29332c3_1\n",
      "  - pydantic=2.11.4=pyh3cfb1c2_0\n",
      "  - pydantic-core=2.33.2=py311hdae7d1d_0\n",
      "  - pydantic-settings=2.9.1=pyh3cfb1c2_0\n",
      "  - pydata-sphinx-theme=0.15.4=pyhd8ed1ab_0\n",
      "  - pydoe=0.3.8=py_1\n",
      "  - pygments=2.19.1=pyhd8ed1ab_0\n",
      "  - pyogrio=0.11.0=py311hf6089d3_0\n",
      "  - pyparsing=3.2.3=pyhd8ed1ab_1\n",
      "  - pyproj=3.7.1=py311h0960b38_1\n",
      "  - pyshp=2.3.1=pyhd8ed1ab_1\n",
      "  - pyside6=6.9.0=py311h9053184_0\n",
      "  - pysocks=1.7.1=pyha55dd90_7\n",
      "  - python=3.11.12=h9e4cc4f_0_cpython\n",
      "  - python-dateutil=2.9.0.post0=pyhff2d567_1\n",
      "  - python-dotenv=1.1.0=pyh29332c3_1\n",
      "  - python-fastjsonschema=2.21.1=pyhd8ed1ab_0\n",
      "  - python-json-logger=2.0.7=pyhd8ed1ab_0\n",
      "  - python-tzdata=2025.2=pyhd8ed1ab_0\n",
      "  - python_abi=3.11=7_cp311\n",
      "  - pytz=2025.2=pyhd8ed1ab_0\n",
      "  - pyyaml=6.0.2=py311h2dc5d0c_2\n",
      "  - pyzmq=26.4.0=py311h7deb3e3_0\n",
      "  - qhull=2020.2=h434a139_5\n",
      "  - qt6-main=6.9.0=h0384650_3\n",
      "  - rasterio=1.4.3=py311he01b476_1\n",
      "  - re2=2024.07.02=h9925aae_3\n",
      "  - readline=8.2=h8c095d6_2\n",
      "  - referencing=0.36.2=pyh29332c3_0\n",
      "  - regionmask=0.13.0=pyhd8ed1ab_0\n",
      "  - requests=2.32.3=pyhd8ed1ab_1\n",
      "  - rfc3339-validator=0.1.4=pyhd8ed1ab_1\n",
      "  - rfc3986-validator=0.1.1=pyh9f0ad1d_0\n",
      "  - rich=14.0.0=pyh29332c3_0\n",
      "  - rioxarray=0.19.0=pyhd8ed1ab_0\n",
      "  - rpds-py=0.25.1=py311hdae7d1d_0\n",
      "  - s2n=1.5.18=h763c568_1\n",
      "  - scikit-learn=1.6.1=py311h57cc02b_0\n",
      "  - scipy=1.15.2=py311h8f841c2_0\n",
      "  - seaborn=0.13.2=hd8ed1ab_3\n",
      "  - seaborn-base=0.13.2=pyhd8ed1ab_3\n",
      "  - send2trash=1.8.3=pyh0d859eb_1\n",
      "  - setuptools=80.8.0=pyhff2d567_0\n",
      "  - shapely=2.1.1=py311h3dc67b8_0\n",
      "  - shellingham=1.5.4=pyhd8ed1ab_1\n",
      "  - simpervisor=1.0.0=pyhd8ed1ab_1\n",
      "  - six=1.17.0=pyhd8ed1ab_0\n",
      "  - snappy=1.2.1=h8bd8927_1\n",
      "  - sniffio=1.3.1=pyhd8ed1ab_1\n",
      "  - snowballstemmer=3.0.1=pyhd8ed1ab_0\n",
      "  - snuggs=1.4.7=pyhd8ed1ab_2\n",
      "  - sortedcontainers=2.4.0=pyhd8ed1ab_1\n",
      "  - soupsieve=2.7=pyhd8ed1ab_0\n",
      "  - sparse=0.17.0=pyhcf101f3_0\n",
      "  - sphinx=7.4.7=pyhd8ed1ab_0\n",
      "  - sphinx-book-theme=1.1.4=pyh29332c3_0\n",
      "  - sphinx-comments=0.0.3=pyhd8ed1ab_1\n",
      "  - sphinx-copybutton=0.5.2=pyhd8ed1ab_1\n",
      "  - sphinx-design=0.6.1=pyhd8ed1ab_2\n",
      "  - sphinx-external-toc=1.0.1=pyhd8ed1ab_1\n",
      "  - sphinx-jupyterbook-latex=1.0.0=pyhd8ed1ab_1\n",
      "  - sphinx-multitoc-numbering=0.1.3=pyhd8ed1ab_1\n",
      "  - sphinx-thebe=0.3.1=pyhd8ed1ab_1\n",
      "  - sphinx-togglebutton=0.3.2=pyhd8ed1ab_0\n",
      "  - sphinxcontrib-applehelp=2.0.0=pyhd8ed1ab_1\n",
      "  - sphinxcontrib-bibtex=2.6.3=pyhd8ed1ab_1\n",
      "  - sphinxcontrib-devhelp=2.0.0=pyhd8ed1ab_1\n",
      "  - sphinxcontrib-htmlhelp=2.1.0=pyhd8ed1ab_1\n",
      "  - sphinxcontrib-jsmath=1.0.1=pyhd8ed1ab_1\n",
      "  - sphinxcontrib-qthelp=2.0.0=pyhd8ed1ab_1\n",
      "  - sphinxcontrib-serializinghtml=1.1.10=pyhd8ed1ab_1\n",
      "  - sqlalchemy=2.0.41=py311h9ecbd09_0\n",
      "  - sqlite=3.49.2=h9eae976_0\n",
      "  - stack_data=0.6.3=pyhd8ed1ab_1\n",
      "  - statsmodels=0.14.4=py311h9f3472d_0\n",
      "  - structlog=25.2.0=pyhd8ed1ab_0\n",
      "  - tabulate=0.9.0=pyhd8ed1ab_2\n",
      "  - tblib=3.1.0=pyhd8ed1ab_0\n",
      "  - tenacity=9.1.2=pyhd8ed1ab_0\n",
      "  - terminado=0.18.1=pyh0d859eb_0\n",
      "  - threadpoolctl=3.6.0=pyhecae5ae_0\n",
      "  - tinycss2=1.4.0=pyhd8ed1ab_0\n",
      "  - tk=8.6.13=noxft_h4845f30_101\n",
      "  - toml=0.10.2=pyhd8ed1ab_1\n",
      "  - tomli=2.2.1=pyhd8ed1ab_1\n",
      "  - toolz=1.0.0=pyhd8ed1ab_1\n",
      "  - tornado=6.5.1=py311h9ecbd09_0\n",
      "  - tqdm=4.67.1=pyhd8ed1ab_1\n",
      "  - traitlets=5.14.3=pyhd8ed1ab_1\n",
      "  - typer=0.15.4=pyh9571d03_0\n",
      "  - typer-slim=0.15.4=pyhe01879c_0\n",
      "  - typer-slim-standard=0.15.4=haa4fddc_0\n",
      "  - types-python-dateutil=2.9.0.20250516=pyhd8ed1ab_0\n",
      "  - typing-extensions=4.13.2=h0e9735f_0\n",
      "  - typing-inspection=0.4.1=pyhd8ed1ab_0\n",
      "  - typing_extensions=4.13.2=pyh29332c3_0\n",
      "  - typing_utils=0.1.0=pyhd8ed1ab_1\n",
      "  - tzdata=2025b=h78e105d_0\n",
      "  - uc-micro-py=1.0.3=pyhd8ed1ab_1\n",
      "  - udunits2=2.2.28=h40f5838_3\n",
      "  - unicodedata2=16.0.0=py311h9ecbd09_0\n",
      "  - uri-template=1.3.0=pyhd8ed1ab_1\n",
      "  - uriparser=0.9.8=hac33072_0\n",
      "  - urllib3=2.4.0=pyhd8ed1ab_0\n",
      "  - wayland=1.23.1=h3e06ad9_1\n",
      "  - wcwidth=0.2.13=pyhd8ed1ab_1\n",
      "  - webcolors=24.11.1=pyhd8ed1ab_0\n",
      "  - webencodings=0.5.1=pyhd8ed1ab_3\n",
      "  - websocket-client=1.8.0=pyhd8ed1ab_1\n",
      "  - wheel=0.45.1=pyhd8ed1ab_1\n",
      "  - wrapt=1.17.2=py311h9ecbd09_0\n",
      "  - xarray=2025.4.0=pyhd8ed1ab_0\n",
      "  - xarraymannkendall=1.4.5=pyhd8ed1ab_0\n",
      "  - xcb-util=0.4.1=hb711507_2\n",
      "  - xcb-util-cursor=0.1.5=hb9d3cd8_0\n",
      "  - xcb-util-image=0.4.0=hb711507_2\n",
      "  - xcb-util-keysyms=0.4.1=hb711507_0\n",
      "  - xcb-util-renderutil=0.3.10=hb711507_0\n",
      "  - xcb-util-wm=0.4.2=hb711507_0\n",
      "  - xerces-c=3.2.5=h988505b_2\n",
      "  - xesmf=0.8.10=pyhd8ed1ab_0\n",
      "  - xhistogram=0.3.2=pyhd8ed1ab_0\n",
      "  - xkeyboard-config=2.44=hb9d3cd8_0\n",
      "  - xorg-libice=1.1.2=hb9d3cd8_0\n",
      "  - xorg-libsm=1.2.6=he73a12e_0\n",
      "  - xorg-libx11=1.8.12=h4f16b4b_0\n",
      "  - xorg-libxau=1.0.12=hb9d3cd8_0\n",
      "  - xorg-libxcomposite=0.4.6=hb9d3cd8_2\n",
      "  - xorg-libxcursor=1.2.3=hb9d3cd8_0\n",
      "  - xorg-libxdamage=1.1.6=hb9d3cd8_0\n",
      "  - xorg-libxdmcp=1.1.5=hb9d3cd8_0\n",
      "  - xorg-libxext=1.3.6=hb9d3cd8_0\n",
      "  - xorg-libxfixes=6.0.1=hb9d3cd8_0\n",
      "  - xorg-libxi=1.8.2=hb9d3cd8_0\n",
      "  - xorg-libxrandr=1.5.4=hb9d3cd8_0\n",
      "  - xorg-libxrender=0.9.12=hb9d3cd8_0\n",
      "  - xorg-libxtst=1.2.5=hb9d3cd8_3\n",
      "  - xorg-libxxf86vm=1.1.6=hb9d3cd8_0\n",
      "  - xskillscore=0.0.26=pyhd8ed1ab_1\n",
      "  - xyzservices=2025.4.0=pyhd8ed1ab_0\n",
      "  - yaml=0.2.5=h7f98852_2\n",
      "  - yarl=1.20.0=py311h2dc5d0c_0\n",
      "  - zarr=3.0.8=pyhd8ed1ab_0\n",
      "  - zeromq=4.3.5=h3b0a872_7\n",
      "  - zict=3.0.0=pyhd8ed1ab_1\n",
      "  - zipp=3.22.0=pyhd8ed1ab_0\n",
      "  - zlib=1.3.1=hb9d3cd8_2\n",
      "  - zstandard=0.23.0=py311h9ecbd09_2\n",
      "  - zstd=1.5.7=hb8e6e7a_2\n",
      "  - pip:\n",
      "      - alembic==1.16.1\n",
      "      - c3s-eqc-automatic-quality-control==0.1.2.dev115+g699e0cb\n",
      "      - cacholote==1.7.1\n",
      "      - cgul==0.0.4\n",
      "      - earthkit-meteo==0.3.0\n",
      "      - eccodes==2.41.0\n",
      "      - ecmwflibs==0.6.3\n",
      "      - kaleido==0.2.1\n",
      "      - mako==1.3.10\n",
      "      - owslib==0.12.0\n",
      "      - pdbufr==0.12.2\n",
      "      - pymannkendall==1.4.3\n",
      "      - pywoudc==0.2.0\n",
      "      - sqlalchemy-utils==0.41.2\n",
      "prefix: /data/common/miniforge3/envs/wp5\n"
     ]
    }
   ],
   "source": [
    "!conda env export"
   ]
  }
 ],
 "metadata": {
  "language_info": {
   "codemirror_mode": {
    "name": "ipython",
    "version": 3
   },
   "file_extension": ".py",
   "mimetype": "text/x-python",
   "name": "python",
   "nbconvert_exporter": "python",
   "pygments_lexer": "ipython3",
   "version": "3.11.11"
  },
  "papermill": {
   "default_parameters": {},
   "duration": 968.520731,
   "end_time": "2024-03-08T17:40:03.783430",
   "environment_variables": {},
   "exception": null,
   "input_path": "D520.3.2.3b.SEASONAL_multimodel-bias_v5.ipynb",
   "output_path": "output.ipynb",
   "parameters": {},
   "start_time": "2024-03-08T17:23:55.262699",
   "version": "2.4.0"
  }
 },
 "nbformat": 4,
 "nbformat_minor": 5
}
