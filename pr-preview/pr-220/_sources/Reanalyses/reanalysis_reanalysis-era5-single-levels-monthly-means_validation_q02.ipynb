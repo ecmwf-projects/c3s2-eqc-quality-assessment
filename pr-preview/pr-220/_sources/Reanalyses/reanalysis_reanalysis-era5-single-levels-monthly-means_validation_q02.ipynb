{
 "cells": [
  {
   "cell_type": "markdown",
   "id": "89c57f09",
   "metadata": {
    "tags": []
   },
   "source": [
    "![logo](../../LogoLine_horizon_C3S.png)"
   ]
  },
  {
   "cell_type": "markdown",
   "id": "981a5c20",
   "metadata": {
    "tags": [
     "disclaimer"
    ]
   },
   "source": [
    "<div class=\"alert alert-block alert-warning\">\n",
    "Please note that this repository is used for development and review, so quality assessments should be considered work in progress until they are merged into the main branch\n",
    "</div>"
   ]
  },
  {
   "cell_type": "markdown",
   "id": "0",
   "metadata": {
    "tags": []
   },
   "source": [
    "# Reanalysis comparison with observations for energy sector applications "
   ]
  },
  {
   "cell_type": "markdown",
   "id": "1",
   "metadata": {
    "tags": []
   },
   "source": [
    "Production date: 12-05-2024\n",
    "\n",
    "Produced by: CNR-ISMAR"
   ]
  },
  {
   "cell_type": "markdown",
   "id": "2",
   "metadata": {
    "tags": []
   },
   "source": [
    "## 🌍 Use case: Investigating space-time variability of surface wind speed and its extremes in support of the wind energy sector "
   ]
  },
  {
   "cell_type": "markdown",
   "id": "3",
   "metadata": {
    "tags": []
   },
   "source": [
    "## ❓ Quality assessment question\n",
    "\n",
    "* **Do modern global reanalysis products correctly represent surface and near-surface wind speeds?**"
   ]
  },
  {
   "cell_type": "markdown",
   "id": "4",
   "metadata": {
    "tags": []
   },
   "source": [
    "By comparing model results with independent observations, differences between the model and observations can be identified and quantified. Here we extract results from three recent papers, which concentrate on evaluating the latest reanalysis by the European Centre for Medium-Range Weather Forecasts (ECMWF), ERA5, in its capability to correctly represent the wind speed both at surface and at the wind turbine hub heights, over those regions where the wind speed is significant for the wind energy production. \n",
    "\n",
    "Typical modern turbine hub heights are between 80 and 120 m, which can be preferable to surface level measurements when considering the absence of surrounding obstructions and thus for wind field monitoring and applications in power generation. At the same time, the maintenance of these structures is much more expensive than that of the surface stations, and therefore these data appear scarce, or make up timeseries that are not always long enough to serve the purpose."
   ]
  },
  {
   "cell_type": "markdown",
   "id": "5",
   "metadata": {
    "tags": []
   },
   "source": [
    "## 📢 Quality assessment statements\n",
    "\n",
    "```{admonition} These are the key outcomes of this assessment\n",
    ":class: note\n",
    "* ERA5 is the best-performing global reanalysis for near-surface wind estimates and provides valuable climate information in near-real time, beneficial for various wind energy applications\n",
    "* Accuracy: ERA5 shows good agreement with observational data across Europe. It successfully captures the spatial and temporal variability of wind speeds\n",
    "* Biases: Some regional biases are noted, but overall, ERA5 performs better than previous reanalyses, such as ERA-Interim\n",
    "* Climatological Patterns: ERA5 effectively reproduces climatological patterns and extremes, providing a reliable dataset for wind energy and climate studies\n",
    "* Extremes: Both overestimation of light wind frequency and underestimation of strong wind frequency, and thus extreme events, is inherent in the nature of models\n",
    "* Trends: A combination of several reanalyses is preferable when analysing long-term trends\n",
    "```"
   ]
  },
  {
   "cell_type": "markdown",
   "id": "6",
   "metadata": {
    "tags": []
   },
   "source": [
    "## 📋 Methodology"
   ]
  },
  {
   "cell_type": "markdown",
   "id": "7",
   "metadata": {
    "tags": []
   },
   "source": [
    "The different spatio temporal characteristics of the wind field are of different interest depending on application. Here we finalize this work in support of the wind energy production, extrapolating results from recent scientific literature available [[1]](https://doi.org/10.1002/qj.3616), [[2]](https://doi.org/10.1175/JAMC-D-20-0037.1). A focus over Europe is also reported [[3]](https://doi.org/10.1002/joc.7103). \n",
    "\n",
    "Uncertainties are provided through the comparison with ERA5 predecessor, ERA Interim [[4]](https://doi.org/10.1002/qj.828), and other three contemporary global reanalysis products, that are JRA-55 [[5]](https://doi.org/10.2151/jmsj.2015-001), MERRA-2 [[6]](https://doi.org/10.1175/JCLI-D-16-0758.1), and CFSv2 [[7]](https://doi.org/10.1175/JCLI-D-12-00823.1). \n",
    "\n",
    "Validation is carried out for two different observational datasets ([The Tall Tower Dataset](https://doi.org/10.23728/b2share.0d3a99db75df4238820ee548f35ee36b) and [HadISD](https://www.metoffice.gov.uk/hadobs/hadisd/)), described in the following. Note that none of the reanalyses considered here ingest surface winds from land stations, meaning that the validation is performed against wind speed measurements that have not already been assimilated. This is important to ensure a fair comparison, since a verification with observations employed in the assimilation of a reanalysis could lead to biased scores.\n",
    "\n",
    "The Tall Tower Dataset is a worldwide network composed, at the time of the publication of the paper we are citing, by 222 towers [[8]](https://doi.org/10.5194/essd-12-429-2020). The dataset contains quality-controlled wind observations plus other climate observations such as temperature or relative humidity. Among these, those with the longest wind data series were selected, and compared to the average life of such a mast, the achievable length is around 3 years. So here the validation will be done through the comparison with the resulting 77 towers available.\n",
    "\n",
    "```{figure} 3b96de49-6a75-4ac5-aa9b-b1c04f42079a.png\n",
    "---\n",
    "height: 400px\n",
    "---\n",
    "Global distribution of the 77 tall towers. Colours indicate, for each tall tower, the height of the measuring level employed in this study. Reproduced from [[1]](https://doi.org/10.1002/qj.3616). \n",
    "```\n",
    "The HadISD is also a worldwide web, composed of more than 8000 weather stations, which data are collected from NOAA's NCDC to create a global Integrated Surface Dataset (ISD), and distributed by the UK Met Office Hadley Centre. The validation will be done through the comparison with the Met Office Hadley Centre's ISD, or HadISD, version 3.1.0.2019f, a global subdaily dataset based on the ISD. The 245 stations selected in the paper we are citing are those in Europe that have valid values in at least the 90% hourly of the time steps for the period 1979–2018. This results in 245 hourly averaged wind speed series at 10 m height.   \n",
    "\n",
    "```{figure} d3e18c0c-a911-4ec5-b871-06ab61a35345.png\n",
    "---\n",
    "height: 450px\n",
    "---\n",
    "Situation in the map of each meteorological station. Colour scale represents the score (see [](reanalysis_reanalysis-era5-single-levels-monthly-means_validation_q02:regional-frequency) of each location. The frequency distribution of the stations marked with a red symbol are represented in Figure 5: station 88 (× symbol), station 132 (square), station 240 (triangle) and station 242 (upside-down triangle). Reproduced from [[3]](https://doi.org/10.1002/joc.7103).\n",
    "```\n",
    "\n",
    "The reanalysis wind data used from the ERA5 dataset are both [hourly](https://cds.climate.copernicus.eu/datasets/reanalysis-era5-single-levels?tab=overview) and [monthly](https://cds.climate.copernicus.eu/datasets/reanalysis-era5-single-levels-monthly-means?tab=overview). For consistency with the height at which the measurements are taken, both the variables at 10 m and those at 100 m of ERA5 are taken into account for comparison. When needed, to adjust both surface and near-surface to the closest 100 m tower height, a vertical extrapolation of reanalysis wind speed is performed using a power-law relation:\n",
    "\n",
    "$$\n",
    "\\frac{U_2}{U_1} = (\\frac{z_2}{z_1})^\\alpha\n",
    "$$\n",
    "\n",
    "where U2 and U1 represent wind speeds at heights z2 (e.g. 100 m) and z1 (e.g. 10 m), respectively, and $\\alpha$ is a nondimensional wind\n",
    "shear exponent, which is typically set to 0.143 [[9]](https://doi.org/10.1080/00022470.1977.10470503) [[10]](https://doi.org/10.1016/j.rser.2016.01.057) [[11]](https://doi.org/10.1016/j.energy.2018.11.027).\n",
    "\n",
    "Results are shown for:\n",
    "\n",
    "**[](reanalysis_reanalysis-era5-single-levels-monthly-means_validation_q02:reanalysis-era5-monthly-single-levels_validation+uncertainties_q02:section-1)**\n",
    " * Validation over Europe with monthly average\n",
    " * Regional frequency distribution of hourly data\n",
    "\n",
    "**[](reanalysis_reanalysis-era5-single-levels-monthly-means_validation_q02:reanalysis-era5-monthly-single-levels_validation+uncertainties_q02:section-2)**"
   ]
  },
  {
   "cell_type": "markdown",
   "id": "8",
   "metadata": {
    "tags": []
   },
   "source": [
    "## 📈 Analysis and results"
   ]
  },
  {
   "cell_type": "markdown",
   "id": "9",
   "metadata": {
    "tags": []
   },
   "source": [
    "(reanalysis_reanalysis-era5-single-levels-monthly-means_validation_q02:reanalysis-era5-monthly-single-levels_validation+uncertainties_q02:section-1)=\n",
    "### 1. Uncertainties and validation in the tower regions with seasonal average"
   ]
  },
  {
   "cell_type": "markdown",
   "id": "10",
   "metadata": {
    "tags": []
   },
   "source": [
    "```{figure} 87dcddde-2174-4c75-befe-0d8547ce8af9.png\n",
    "---\n",
    "height: 450px\n",
    "---\n",
    "Distribution plots summarizing the differences between observed and modelled seasonal climatologies for 77 tall towers in (a) December–January–February and (b) June–July–August. Reproduced from [[1]](https://doi.org/10.1002/qj.3616). \n",
    "```"
   ]
  },
  {
   "cell_type": "markdown",
   "id": "11",
   "metadata": {
    "tags": []
   },
   "source": [
    "In this figure, seasonal climatologies have been computed from both tall tower observations and reanalysis datasets and their differences are plotted by means of distributions. The ERA5 and MERRA2 near-surface seasonal mean winds, together with surface winds from the five reanalysis products, are assessed. The multi-reanalysis mean (MR), which has been computed using only surface wind fields, is also included. \n",
    "\n",
    "In general terms, reanalysis datasets tend to show weaker seasonal mean winds than observed in both December–January–February (DJF) and June–July–August (JJA), JRA55 being the dataset that provides the widest range of values, as well as the biggest underestimation, out of the five reanalyses plus the MR. Regarding ERA5, it is observed that the near-surface winds reduce the spread of differences in JJA compared with the ERA5 surface winds."
   ]
  },
  {
   "cell_type": "markdown",
   "id": "12",
   "metadata": {
    "tags": []
   },
   "source": [
    "#### Validation over Europe with monthly average"
   ]
  },
  {
   "cell_type": "markdown",
   "id": "13",
   "metadata": {
    "tags": []
   },
   "source": [
    "```{figure} 05b239b1-1e39-4b0e-a44d-dd985b02ab37.png\n",
    "---\n",
    "height: 400px\n",
    "---\n",
    "Monthly wind speed (1979–2018) of HadISD meteorological stations (green colour) and ERA5 cells (transparent colour) box plots. Limits of the boxes represent the locations in the 25th and 75th percentile, and the black line in the middle represents the 50th percentile. The upper whisker is located at the maximum value, whereas the lower whisker is located at the minimum value. Reproduced from [[3]](https://doi.org/10.1002/joc.7103). \n",
    "```"
   ]
  },
  {
   "cell_type": "markdown",
   "id": "14",
   "metadata": {
    "tags": []
   },
   "source": [
    "Figure above shows the average annual cycle of 245 locations (weather stations and corresponding reanalysis grid cells) across Europe. Each box represents the average monthly distribution of hourly data at the stations over the period 1979-2018, green are the observations, transparent the reanalysis.\n",
    "\n",
    "In substantial agreement with what found in the previous section, it can be noted that ERA5 presents median values that are slightly larger in winter and slightly smaller in summer, and that upper extreme wind values (whisker ends) are generally larger for ERA5 than for observations, which means that the reanalysis gives a wider range of monthly wind values for the analysed period. \n",
    "It can be particularly noted for the autumn-winter months. Cold months also exhibit a clear asymmetry in ERA5 boxes, with lower percentiles width (25–50) larger than higher ones (50–75), which is not seen in observations boxes, although interquartile range (percentile 75 vs. percentile 25) is quite similar for both observations and reanalysis. Summer ERA5 boxes are, on the contrary, symmetric, although lower box values (percentile 25) seem to give smaller values than observational ones. Differences among locations seem to be larger in autumn-winter months, as the interquartile range and whiskers are bigger than spring-summer months in both series. "
   ]
  },
  {
   "cell_type": "markdown",
   "id": "15",
   "metadata": {
    "tags": []
   },
   "source": [
    "(reanalysis_reanalysis-era5-single-levels-monthly-means_validation_q02:regional-frequency)=\n",
    "#### Regional frequency distribution of hourly data"
   ]
  },
  {
   "cell_type": "markdown",
   "id": "16",
   "metadata": {
    "tags": []
   },
   "source": [
    "```{figure} 0f9113d8-a4f5-4e26-8177-f4b58557552b.png\n",
    "---\n",
    "height: 400px\n",
    "---\n",
    "Frequency distribution of the hourly ERA5 reanalysis vs HadISD observations illustrating the total score in (a: station 88) the best score test (0.97) and (b: station 132, c: station 240 and d: station 242) the poorest score (0.45, 0.45 and 0.5, respectively). The location of each station can be seen marked with a red symbol in Figure 2: × symbol for station 88, square for 132, triangle for 240 and upside-down triangle for 242. Reproduced from [[3]](https://doi.org/10.1002/joc.7103). \n",
    "```"
   ]
  },
  {
   "cell_type": "markdown",
   "id": "17",
   "metadata": {
    "tags": []
   },
   "source": [
    "The score is an evaluation method based on the amount of overlap between the frequency distribution of the wind speed for observations:\n",
    "\n",
    "$$\n",
    "score = \\sum_1^n min(Z_m,Z_0)\n",
    "$$\n",
    "\n",
    "where n is the number of bins used to calculate the frequency distribution for a given location (here, 0.5 m/s has been used as bin size), $Z_m$ is the fraction (or frequency) of values in a given bin from the reanalysis and $Z_0$ is the fraction (or frequency) of values in a given bin from the observed data. The sum of all $Z$ m is 1, and the same for $Z_0$ sum.\n",
    "\n",
    "To illustrate specific cases with small and, more interestingly, large differences between wind distributions, the figure above presents hourly frequency distribution performance of the best (a: station 88) and some of the worst (b: station 132, c: station 240 and d: station 242) stations. In the best one, reanalysis and observation distributions perfectly fits. For the poorer scored stations, it is seen that\n",
    "the reanalysis tends to largely overestimate lower wind speed frequencies (0–3 m/s range) and underestimate the higher ones (4–8 m/s range).\n",
    "\n",
    "Both overestimation of light wind frequency and underestimation of strong wind frequency, have been also seen in previous works when models are used and can be related to the fact that solving the dynamics equations is applied to each point continuously, at defined grids. Also, parameterizations in models, which means a limitation in several ways to fully describe atmospheric mechanisms, can lead to an underestimation of the most extreme events (see e.g. [[12]](https://doi.org/10.1002/we.318); [[13]](https://doi.org/10.1016/j.renene.2014.10.024))."
   ]
  },
  {
   "cell_type": "markdown",
   "id": "18",
   "metadata": {
    "tags": []
   },
   "source": [
    "(reanalysis_reanalysis-era5-single-levels-monthly-means_validation_q02:reanalysis-era5-monthly-single-levels_validation+uncertainties_q02:section-2)=\n",
    "### 2. Trends"
   ]
  },
  {
   "cell_type": "markdown",
   "id": "19",
   "metadata": {
    "tags": []
   },
   "source": [
    "```{figure} 5ee722b0-03c4-4a4f-b2e4-ab7b8843e7c4.png\n",
    "---\n",
    "height: 700px\n",
    "---\n",
    "Normalized linear trend (% per decade), calculated as the linear trend of surface wind speeds divided by the seasonal mean surface wind speeds in DJF over the 1980–2017 period for (a) ERA-Interim, (b) ERA5, (c) JRA55, (d) MERRA2, and (e) R1. Hatched regions in (a)–(e) indicate where the trends are significant at the 95% confidence level. In (f) we represent an agreement map between the five reanalyses. Blues (reds) indicate agreement between the five reanalyses about the negative (positive) trends in the surface wind speed in DJF in the 1980–2017 period. An asterisk indicates that the trends are significant at the 95% confidence level: no asterisk indicates that the trends are not significant. One asterisk (∗) means that only one of the reanalyses has significant trends, two asterisks (∗∗) indicate that two reanalyses have significant trends, and so on. Reproduced from [[1]](https://doi.org/10.1002/qj.3616). \n",
    "```"
   ]
  },
  {
   "cell_type": "markdown",
   "id": "20",
   "metadata": {
    "tags": []
   },
   "source": [
    "```{figure} 8c612a1e-8ecb-4ed3-85ae-f1eefdd75ffb.jpg\n",
    "---\n",
    "height: 400px\n",
    "---\n",
    "Comparison on the overall trends during 1989–2018 in the observations against that in the five products. The gray, red, blue, pink, green, and orange bars represent observations, ERA5, ERA-Interim, JRA-55, CFSv2, and MERRA-2, respectively. The error bars show the upper and lower confidence limits of the Sen slope [[14]](https://doi.org/10.1016/j.gloplacha.2012.10.014) values with 95% confidence interval. Significance levels are expressed with stars, triangles, and circles, representing p < 0.01, p < 0.05, and p > 0.05, respectively. Reproduced from [[2]](https://doi.org/10.1175/JAMC-D-20-0037.1). \n",
    "```"
   ]
  },
  {
   "cell_type": "markdown",
   "id": "21",
   "metadata": {
    "tags": []
   },
   "source": [
    "Linear trends are presented in the two figures above as the rate of change of wind speed over the considered period for the five chosen reanalysis products. At a global scale, no products show significant agreement with observations and large uncertainties and disagreements can be found between the reanalysis products. \n",
    "\n",
    "Also, observed land surface wind speeds have varied significantly over the past few decades, the decreasing trends having recently reversed (see e.g. Fig. 4, [[2]](https://doi.org/10.1175/JAMC-D-20-0037.1)). \n",
    "\n",
    "This is clearly connected to the assessment of wind resources. Regionally, recent increasing wind speed trends have led to rapid growth in potential wind energy production after the turning points - see Table 5, [[2]](https://doi.org/10.1175/JAMC-D-20-0037.1) - in Asia, including the increasing by 45% in Southeast Asia, 34% in East Asia, 30% in central Asia, and 23% in South Asia. In addition, potential wind energy production in South and North America, Africa, Australia, and Europe has increased by 20%, 10%, 12%, 23%, and 2%, respectively. Despite relatively slow growth of wind energy in Europe, the trends of potential wind energy production in all regions is positive in recent decades.\n",
    "\n",
    "After the turning point, however, none of the reanalysis products shows the same positive and significant wind speed trend as the observations. The figure below shows that the products are highly uncertain in reproducing the observed decadal variations of wind speed at both the global and regional scale.\n"
   ]
  },
  {
   "cell_type": "markdown",
   "id": "22",
   "metadata": {
    "tags": []
   },
   "source": [
    "```{figure} 47e78df7-b388-4e1f-b5ad-dff3a20ffda0.jpg\n",
    "---\n",
    "height: 1000px\n",
    "---\n",
    "Comparisons of the piecewise trends of the five reanalysis products with the observations in the following regions: (a) global, (b) North America, (c) central Asia, (d) Southeast Asia, (e) Africa, (f) Europe, (g) South America, (h) East Asia, (i) South Asia, and (j) Australia. The gray, red, blue, pink, green, and orange bars represent observations, ERA5, ERA-Interim, JRA-55, CFSv2, and MERRA-2, respectively. The trends and their 95% confidence intervals of Sen slope are calculated in each segment period using an M-K test. Significance levels are expressed with three stars, two stars, and n.s., representing p < 0.01, p < 0.05, and p > 0.05, respectively. Reproduced from [[2]](https://doi.org/10.1175/JAMC-D-20-0037.1). \n",
    "```"
   ]
  },
  {
   "cell_type": "markdown",
   "id": "23",
   "metadata": {
    "tags": []
   },
   "source": [
    "## ℹ️ If you want to know more\t\n",
    "\n",
    "[C3S: data to know which way the wind blows](https://climate.copernicus.eu/c3s-data-know-which-way-wind-blows)\n",
    "\n",
    "[EU wind energy](https://energy.ec.europa.eu/topics/renewable-energy/eu-wind-energy_en)\n",
    "\n",
    "[Renewables - Energy System - IEA](https://www.iea.org/energy-system/renewables) \n",
    "\n",
    "### Key resources\n",
    "\n",
    "Some key resources and further readings were linked throughout this assessment. \n",
    "\n",
    "<a id='The_CDS_catalogue_entries_for_the_data_used_were:'></a>\n",
    "The CDS catalogue entries for the data used were:\n",
    "\n",
    "* ERA5 hourly data on single levels from 1940 to present: https://cds.climate.copernicus.eu/datasets/reanalysis-era5-single-levels?tab=overview\n",
    "  \n",
    "* ERA5 monthly averaged data on single levels from 1940 to present: https://cds.climate.copernicus.eu/datasets/reanalysis-era5-single-levels-monthly-means?tab=overview\n",
    "\n",
    "<a id='Observational_datasets_can_be_publicly_accessed_at:'></a>\n",
    "Observational datasets can be publicly accessed at: \n",
    "\n",
    "* The Tall Tower Dataset: in the data repository EUDAT at https://doi.org/10.23728/b2share.0d3a99db75df4238820ee548f35ee36b\n",
    "\n",
    "* HadISD: https://www.metoffice.gov.uk/hadobs/hadisd/"
   ]
  },
  {
   "cell_type": "markdown",
   "id": "24",
   "metadata": {
    "tags": []
   },
   "source": [
    "### References\n",
    "\n",
    "[[1]](https://doi.org/10.1002/qj.3616) Ramon, J. et al., 2019: What global reanalysis best represents near-surface winds? Quart. J. Roy. Meteor. Soc., 145, 3236–3251\n",
    "\n",
    "[[2]](https://doi.org/10.1175/JAMC-D-20-0037.1) Fan, W., Y. Liu, A. Chappell, L. Dong, R. Xu, M. Ekström, T. Fu, and Z. Zeng, 2021: Evaluation of Global Reanalysis Land Surface Wind Speed Trends to Support Wind Energy Development Using In Situ Observations. J. Appl. Meteor. Climatol., 60, 33–50\n",
    "\n",
    "[[3]](https://doi.org/10.1002/joc.7103) Molina, M., Gutiérrez, C., Sánchez, E. Int J Climatol. 2021;41:4864–4878\n",
    "\n",
    "[[4]](https://doi.org/10.1002/qj.828) Dee, D. P., and Coauthors, 2011: The ERA-Interim reanalysis:\n",
    "Configuration and performance of the data assimilation system. Quart. J. Roy. Meteor. Soc., 137, 553–597\n",
    "\n",
    "[[5]](https://doi.org/10.2151/jmsj.2015-001) Kobayashi, S., and Coauthors, 2015: The JRA-55 reanalysis:\n",
    "General specifications and basic characteristics. J. Meteor. Soc. Japan, 93, 5–48 \n",
    "\n",
    "[[6]](https://doi.org/10.1175/JCLI-D-16-0758.1) Gelaro, R., and Coauthors, 2017: The Modern-Era Retrospective Analysis for Research and Applications, version 2 (MERRA-2). J. Climate, 30, 5419–5454\n",
    "\n",
    "[[7]](https://doi.org/10.1175/JCLI-D-12-00823.1) Saha, S., and Coauthors, 2014: The NCEP Climate Forecast System Version 2. J. Climate, 27, 2185–2208\n",
    "\n",
    "[[8]](https://doi.org/10.5194/essd-12-429-2020) Ramon, J. and Lledó, L. (2019) The Tall Tower Dataset. Technical Note. Barcelona: Barcelona Supercomputing Center–Centro Nacional de Supercomputación.\n",
    "\n",
    "[[9]](https://doi.org/10.1080/00022470.1977.10470503) Touma, J.S. (1977) Dependence of the wind profile power law on stability for various locations. Journal of the Air Pollution Control Association, 27, 863–866. \n",
    "\n",
    "[[10]](https://doi.org/10.1016/j.rser.2016.01.057) Wang, J., J. Hu, and K. Ma, 2016: Wind speed probability distribution estimation and wind energy assessment. Renewable Sustainable Energy Rev., 60, 881–899.\n",
    "\n",
    "[[11]](https://doi.org/10.1016/j.energy.2018.11.027) Tian, Q., G. Huang, K. Hu, and D. Niyogi, 2019: Observed and global climate model based changes in wind power potential over the Northern Hemisphere during 1979–2016. Energy, 167, 1224–1235.\n",
    "\n",
    "[[12]](https://doi.org/10.1002/we.318) Larsén, X. and Mann, J. (2009) Extreme winds from the ncep/ncar reanalysis data. Wind Energy, 12, 556–573.\n",
    "\n",
    "[[13]](https://doi.org/10.1016/j.renene.2014.10.024) Cannon, D., Brayshaw, D., Methven, J., Coker, P. and Lenaghan, D. (2015) Using reanalysis data to quantify extreme wind power generation statistics: a 33 year case study in Great Britain. Renewable Energy, 75, 767–778.\n",
    "\n",
    "[[14]](https://doi.org/10.1016/j.gloplacha.2012.10.014) Gocic, M., and S. Trajkovic, 2013: Analysis of changes in meteorological variables using Mann–Kendall and Sen’s slope estimator statistical tests in Serbia. Global Planet. Change, 100, 172–182."
   ]
  }
 ],
 "metadata": {
  "language_info": {
   "codemirror_mode": {
    "name": "ipython",
    "version": 3
   },
   "file_extension": ".py",
   "mimetype": "text/x-python",
   "name": "python",
   "nbconvert_exporter": "python",
   "pygments_lexer": "ipython3",
   "version": "3.11.11"
  }
 },
 "nbformat": 4,
 "nbformat_minor": 5
}
