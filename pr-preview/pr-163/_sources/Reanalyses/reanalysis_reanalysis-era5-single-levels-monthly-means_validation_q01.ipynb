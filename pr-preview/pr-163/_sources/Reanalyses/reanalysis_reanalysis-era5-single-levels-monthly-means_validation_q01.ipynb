{
 "cells": [
  {
   "cell_type": "markdown",
   "id": "e4dbe9b9",
   "metadata": {
    "tags": []
   },
   "source": [
    "![logo](../../LogoLine_horizon_C3S.png)"
   ]
  },
  {
   "cell_type": "markdown",
   "id": "784ef328",
   "metadata": {
    "tags": [
     "disclaimer"
    ]
   },
   "source": [
    "<div class=\"alert alert-block alert-warning\">\n",
    "Please note that this repository is used for development and review, so quality assessments should be considered work in progress until they are merged into the main branch\n",
    "</div>"
   ]
  },
  {
   "cell_type": "markdown",
   "id": "0",
   "metadata": {
    "tags": []
   },
   "source": [
    "# Reanalysis comparison with observations for validation purposes"
   ]
  },
  {
   "cell_type": "markdown",
   "id": "1",
   "metadata": {
    "tags": []
   },
   "source": [
    "Production date: 03-05-2024\n",
    "\n",
    "Produced by: CNR-ISMAR"
   ]
  },
  {
   "cell_type": "markdown",
   "id": "2",
   "metadata": {
    "tags": []
   },
   "source": [
    "## 🌍 Use case: Investigating large-scale flows in the marine boundary layer over remote regions "
   ]
  },
  {
   "cell_type": "markdown",
   "id": "3",
   "metadata": {
    "tags": []
   },
   "source": [
    "## ❓ Quality assessment question\n",
    "\n",
    "* **Do modern global reanalysis products correctly represent near-surface temperature, wind and humidity conditions over the Pacific Northwest Ocean?**"
   ]
  },
  {
   "cell_type": "markdown",
   "id": "4",
   "metadata": {
    "tags": []
   },
   "source": [
    "By comparing model results with relevant observations, differences between the model and observations can be identified and quantified. However, the validation of reanalysis products over remote areas is difficult due to the scarcity of reliable in situ measurements. In this case, the latest reanalysis by the European Centre for Medium-Range Weather Forecasts (ECMWF), ERA5, was validated with data collected during the 2022 and 2023 campaigns by the Aeroclipper platform [[1]](#paul-poli). The Aeroclipper is a quasi-Lagrangian balloon that provides in situ measurements of atmospheric parameters at heights of 30-40 metres above the ocean [[2]](https://doi.org/10.1175/2008BAMS2500.1), representative of the bottom of the boundary layer that strongly interacts with turbulent flows (momentum, energy, water) at the ocean-atmosphere interface. This balloon is an interesting tool for assessing the representation of the surface layer of the atmosphere by meteorological models and reanalyses, because it can provide high-frequency and high-quality measurements - i.e. not disturbed by the mass of a ship - on quasi-Lagrangian trajectories, which can be compared with gridded data. "
   ]
  },
  {
   "cell_type": "markdown",
   "id": "5",
   "metadata": {
    "tags": []
   },
   "source": [
    "## 📢 Quality assessment statements\n",
    "\n",
    "```{admonition} These are the key outcomes of this assessment\n",
    ":class: note\n",
    "* Differences between model and observations were found to be systematic: moisture and temperature vertical gradients are found to be too large in ERA5 compared with Aeroclipper measurements; a too small wind shear near the surface is also detected in the reanalysis\n",
    "* Biases found here mostly concern tropical oceanic regions and are at least partly due to data assimilation known issues\n",
    "```"
   ]
  },
  {
   "cell_type": "markdown",
   "id": "6",
   "metadata": {
    "tags": []
   },
   "source": [
    "## 📋 Methodology\n",
    "\n",
    "In order to assess the representation of the surface layer in ERA5, a comparison between Aeroclipper measurements - not assimilated in the model - and the reanalysis, is carried out for the six Aeroclipper flights performed over the northwest Pacific in 2022 and 2023. \n",
    "Results are based on a one-hour average for Aeroclipper measurements and for interpolated ERA5 values at the balloon position. For consistency with the height at which the measurements are taken, both the variables at 2 m and those of the first three model levels of ERA5 are taken into account for comparison. Model levels are approximately 10, 31 and 54 m, respectively model level 1, 2 and 3 [[3]](https://confluence.ecmwf.int/display/UDOC/L137+model+level+definitions). Reference must thus be made both to the [single levels dataset](https://cds.climate.copernicus.eu/datasets/reanalysis-era5-single-levels?tab=overview), for the former, and to the [complete dataset](https://cds.climate.copernicus.eu/datasets/reanalysis-era5-complete?tab=overview) for the latter. \n",
    "\n",
    "```{figure} aecfb04c-af13-4e6c-be56-5ab236b55acd.png\n",
    "---\n",
    "height: 220px\n",
    "---\n",
    "Sample of an Aeroclipper and its payload. Reproduced from https://www.lmd.ens.fr/vasco/gal.html.\n",
    "```\n",
    "\n",
    "```{figure} 75603d3e-b662-488b-9d93-4104f94b7ed9.png\n",
    "---\n",
    "align: center\n",
    "height: 370px\n",
    "---\n",
    "Trajectories of the six Aeroclipper flights (labelled as PRL, PCU and BKA) in 2022 and (labelled as YTT, UEW and PYX) in 2023. Reproduced from [[1]](#paul-poli).\n",
    "```\n",
    "\n",
    "Results are shown for:\n",
    "\n",
    "**[](reanalysis_reanalysis-era5-single-levels-monthly-means_validation_q01:reanalysis-era5-monthly-single-levels+reanalysis-era5-complete_validation_q01:section-1)**\n",
    "\n",
    "**[](reanalysis_reanalysis-era5-single-levels-monthly-means_validation_q01:reanalysis-era5-monthly-single-levels+reanalysis-era5-complete_validation_q01:section-2)**\n",
    "\n",
    "**[](reanalysis_reanalysis-era5-single-levels-monthly-means_validation_q01:reanalysis-era5-monthly-single-levels+reanalysis-era5-complete_validation_q01:section-3)**\n",
    "\n",
    "\n",
    "\n",
    "  "
   ]
  },
  {
   "cell_type": "markdown",
   "id": "7",
   "metadata": {
    "tags": []
   },
   "source": [
    "## 📈 Analysis and results"
   ]
  },
  {
   "cell_type": "markdown",
   "id": "8",
   "metadata": {
    "tags": []
   },
   "source": [
    "(reanalysis_reanalysis-era5-single-levels-monthly-means_validation_q01:reanalysis-era5-monthly-single-levels+reanalysis-era5-complete_validation_q01:section-1)=\n",
    "### 1. Specific humidity"
   ]
  },
  {
   "cell_type": "markdown",
   "id": "9",
   "metadata": {
    "tags": []
   },
   "source": [
    "```{figure} c0cf4bf7-fe70-4486-9e0c-3e122e2fde36.png\n",
    "---\n",
    "height: 150px\n",
    "---\n",
    "Timeseries of specific humidity (q), for the YTT Aeroclipper flight (solid black), ERA5 surface parameters (dotted black) and ERA5 for the first three model hybrid levels (solid colors). The timeseries are smoothed with a running mean with ∆t=60 minutes. Reproduced from [[1]](#paul-poli).\n",
    "```"
   ]
  },
  {
   "cell_type": "markdown",
   "id": "10",
   "metadata": {
    "tags": []
   },
   "source": [
    "```{figure} 991f6171-b3a1-4589-82f7-19a89c785400.png\n",
    "---\n",
    "height: 300px\n",
    "---\n",
    "Distribution of the differences between Aeroclipper measurements for the six flights (AER) and corresponding ERA5 values at model level 2 (i.e., ~31 m) (left) and at 2 m (right) for the specific humidity (∆q). Reproduced from [[1]](#paul-poli).\n",
    "```"
   ]
  },
  {
   "cell_type": "markdown",
   "id": "11",
   "metadata": {
    "tags": []
   },
   "source": [
    "The analysis shows that the model levels (i.e. above 10 m) underestimate the specific humidity at the Aeroclipper height. The timeseries of the model levels lay systematically below the Aeroclipper signal, with very few exceptions. Distribution shows specifically the second level at 31 m, which is the one in the middle but still representative of all the three levels which are very close to each other, and it can be noticed that most values are negative and the difference is peaked around -1 and -2 g/kg. The underestimation of specific humidity in the first three model levels appears to be, at least in part, related to the assimilation process, which tends to dry out these model levels at the beginning of each 12-hour assimilation window [[4]](https://doi.org/10.1256/qj.05.137). Dampening then follows, but without reaching an equilibrium or a value close to those observed. At 2 m, the drying due to assimilation is less and the humidity reaches equilibrium a few hours after forecast starts, so the specific humidity at 2 m is in better agreement with the Aeroclipper measurements, but still with a negative bias. This leads to the conclusion that the vertical moisture gradients in the surface layer of the atmosphere are too large in ERA5 compared to the Aeroclipper measurements. Data obtained from field campaigns are a useful complement to global datasets to perform validation, see e.g. Johnston et al., 2021 [[5]](https://doi.org/10.3390/rs13050880)."
   ]
  },
  {
   "cell_type": "markdown",
   "id": "12",
   "metadata": {
    "tags": []
   },
   "source": [
    "(reanalysis_reanalysis-era5-single-levels-monthly-means_validation_q01:reanalysis-era5-monthly-single-levels+reanalysis-era5-complete_validation_q01:section-2)=\n",
    "### 2. Air temperature and radiative temperature at the surface"
   ]
  },
  {
   "cell_type": "markdown",
   "id": "13",
   "metadata": {
    "tags": []
   },
   "source": [
    "```{figure} 7c489d50-8631-40bd-9478-a73eff1601e2.png\n",
    "---\n",
    "height: 150px\n",
    "---\n",
    "Timeseries of air temperature (Tair), for the YTT Aeroclipper flight (solid black, observed air temperature during daylight in grey), ERA5 surface parameters (dotted black) and ERA5 for the first three model hybrid levels (solid colors). The timeseries are smoothed with a running mean with ∆t=60 minutes. Reproduced from [[1]](#paul-poli).\n",
    "```"
   ]
  },
  {
   "cell_type": "markdown",
   "id": "14",
   "metadata": {
    "tags": []
   },
   "source": [
    "```{figure} f62455c8-1ebe-41e4-8989-9c7559d2b4f1.png\n",
    "---\n",
    "height: 300px\n",
    "---\n",
    "Distribution of the differences between Aeroclipper measurements for the three 2023 flights (AER) and corresponding ERA5 values at model level 2 (i.e., ~31 m) for the air temperature (∆T) during daytime only (left) and nighttime only (right). Reproduced from [[1]](#paul-poli).\n",
    "```"
   ]
  },
  {
   "cell_type": "markdown",
   "id": "15",
   "metadata": {
    "tags": []
   },
   "source": [
    "Analysis shows that the air temperature is underestimated by about 1 K in ERA5 compared to Aeroclipper measurements. Looking at the timeseries, underestimation can be noticed for the three model levels and for the 2m level. In most cases, the temperature at 2 m is similar to the temperature at the first three model levels and is sometimes even smaller. As showed in the distributions panel, where can be noticed that most values are negative and the difference is peaked around -1 K, the bias tends to be larger during the night and only marginally impacted by the diurnal cycle. Bias seems to be due to overcooling of the surface layer by the model, which occurs especially at night during the forecasts, and corrected in part by the assimilation process [[4]](https://doi.org/10.1256/qj.05.137)."
   ]
  },
  {
   "cell_type": "markdown",
   "id": "16",
   "metadata": {
    "tags": []
   },
   "source": [
    "```{figure} 0432d30b-20d1-4ee7-820a-21d314d6822f.png\n",
    "---\n",
    "height: 150px\n",
    "---\n",
    "Timeseries of sea surface temperature (SST), for the YTT Aeroclipper measurement (solid black), ERA5 surface parameters (SKT in dotted black and SST in solid red). The timeseries are smoothed with a running mean with ∆t=60 minutes. Reproduced from [[1]](#paul-poli).\n",
    "```"
   ]
  },
  {
   "cell_type": "markdown",
   "id": "17",
   "metadata": {
    "tags": []
   },
   "source": [
    "In the figure above, equivalent brightness temperature values have been compared with the ERA5 skin and sea surface temperature (SKT and SST). During the period of measurements, the ERA5 SKT is generally smaller than the ERA5 SST. At the same time, SKT is slightly larger than the radiative temperature measurement of the Aeroclipper, so that vertical gradients of temperature in the atmospheric surface layer represented in ERA5 result to be too large compared with Aeroclipper measurements. However, it should be noted that the skin temperature measured by Aeroclipper is not corrected for the radiative processes occurring between the surface and the instrument itself (see i.e. [[6]](https://www.mdpi.com/2072-4292/14/6/1451)), partly explaining the ERA5 overestimation. Nevertheless, this result is in agreement with the one in He et al., 2023 [[7]](https://doi.org/10.1109/JSTARS.2023.3312810), in which in-situ and satellite data are used to validate ERA5 near-surface air temperature over global oceans (see e.g. Fig. 11 in the reference). "
   ]
  },
  {
   "cell_type": "markdown",
   "id": "18",
   "metadata": {
    "tags": []
   },
   "source": [
    "(reanalysis_reanalysis-era5-single-levels-monthly-means_validation_q01:reanalysis-era5-monthly-single-levels+reanalysis-era5-complete_validation_q01:section-3)=\n",
    "### 3. Wind speed"
   ]
  },
  {
   "cell_type": "markdown",
   "id": "19",
   "metadata": {
    "tags": []
   },
   "source": [
    "```{figure} 8f62eadd-82ea-472f-b513-c210d31b81c9.png\n",
    "---\n",
    "height: 150px\n",
    "---\n",
    "Timeseries of wind speed (wind) for the YTT Aeroclipper flight (solid black), ERA5 surface parameters (dotted black) and ERA5 for the first three model hybrid levels (solid colors). The timeseries are smoothed with a running mean with ∆t=60 minutes. Reproduced from [[1]](#paul-poli).\n",
    "```"
   ]
  },
  {
   "cell_type": "markdown",
   "id": "20",
   "metadata": {
    "tags": []
   },
   "source": [
    "```{figure} d31f95ed-58c7-4274-bfb5-2437e8ad4e3c.png\n",
    "---\n",
    "height: 300px\n",
    "---\n",
    "Distribution of the differences between Aeroclipper measurements for the six flights (AER) and corresponding ERA5 values at model level 2 (i.e., ~31 m) for the wind speed (∆V). The timeseries are smoothed with a running mean with ∆t=60 minutes. Reproduced from [[1]](#paul-poli).\n",
    "```"
   ]
  },
  {
   "cell_type": "markdown",
   "id": "21",
   "metadata": {
    "tags": []
   },
   "source": [
    "The distribution is skewed towards negative values, peaked between -1.5 and 0 m/s, showing that the wind speed is underestimated in ERA5 compared to Aeroclipper measurements. Looking at the timeseries, general underestimation can be noted as well, and it is greater during convective episodes associated with convective cold pools and large wind gusts (see e.g. around 22 September). This bias in the wind speed therefore seems to be partly related to the lack of cold pools in the model. This result showing too little wind shear near the surface in ERA5 is in agreement with that of Campos et al. [[8]](https://doi.org/10.3390/rs14194918), where in-situ and satellite data are used to validate the wind speed of ERA5 over the Atlantic Ocean (see e.g. Fig. 4 in the reference). "
   ]
  },
  {
   "cell_type": "markdown",
   "id": "22",
   "metadata": {
    "tags": []
   },
   "source": [
    "## ℹ️ If you want to know more\n",
    "\n",
    "To find out the differences with respect to near-surface variables over the tropical Pacific between the state-of-the-art ERA5 and the previous ERA Interim version, see for example F Li et al., 2021 [[8]](https://iopscience.iop.org/article/10.1088/2515-7620/ac1bfe/meta).\n",
    "\n",
    "To know more about aeroclippers: [MICA](https://mica.aeris-data.fr/): Measuring the intensity of cyclones using aeroclippers.\n",
    "\n",
    "### Key resources\n",
    "\n",
    "Some key resources and further readings were linked throughout this assessment.\n",
    "The CDS catalogue entries for the data used were:\n",
    "* ERA5 hourly data on single levels from 1940 to present: https://cds.climate.copernicus.eu/datasets/reanalysis-era5-single-levels?tab=overview\n",
    "  \n",
    "* Complete ERA5 global atmospheric reanalysis: https://cds.climate.copernicus.eu/datasets/reanalysis-era5-complete?tab=overview\n",
    "\n",
    "### References\n",
    "\n",
    "[[1]]{#paul-poli} Paul Poli, personal communication, 2024\n",
    "\n",
    "[[2]](https://doi.org/10.1175/2008BAMS2500.1) Duvel, Jean Philippe & Basdevant, Claude & Bellenger, Hugo & Reverfdin, Gilles & Vialard, Jerome & Vargas, a. (2009). The Aeroclipper: A New Device to Explore Convective Systems and Cyclones. Bulletin of the American Meteorological Society. 90. 63-71. 10.1175/2008BAMS2500.1.\n",
    "\n",
    "[[3]](https://confluence.ecmwf.int/display/UDOC/L137+model+level+definitions) Definition of model levels.\n",
    "\n",
    "[[4]](https://doi.org/10.1256/qj.05.137) Dee, D.P. (2005), Bias and data assimilation. Q.J.R. Meteorol. Soc., 131: 3323-3343.\n",
    "\n",
    "[[5]](https://doi.org/10.3390/rs13050880) Johnston, Benjamin R., William J. Randel, and Jeremiah P. Sjoberg. 2021. \"Evaluation of Tropospheric Moisture Characteristics Among COSMIC-2, ERA5 and MERRA-2 in the Tropics and Subtropics\" Remote Sensing 13, no. 5: 880. \n",
    "\n",
    "[[6]](https://www.mdpi.com/2072-4292/14/6/1451) Zhuomin Li, Mingkun Liu, Sujuan Wang, Liqin Qu and Lei Guan, \"Sea Surface Skin Temperature Retrieval from FY-3C/VIRR\", Remote Sens. 2022, 14(6), 1451; https://doi.org/10.3390/rs14061451\n",
    "\n",
    "[[7]](https://doi.org/10.1109/JSTARS.2023.3312810) M. He, J. Qin, N. Lu and L. Yao, \"Assessment of ERA5 Near-Surface Air Temperatures Over Global Oceans by Combining MODIS Sea Surface Temperature Products and In-Situ Observations,\" in IEEE Journal of Selected Topics in Applied Earth Observations and Remote Sensing, vol. 16, pp. 8442-8455, 2023, doi: 10.1109/JSTARS.2023.3312810.\n",
    "\n",
    "[[8]](https://doi.org/10.3390/rs14194918) Campos RM, Gramcianinov CB, de Camargo R, da Silva Dias PL. Assessment and Calibration of ERA5 Severe Winds in the Atlantic Ocean Using Satellite Data. Remote Sensing. 2022; 14(19):4918. \n",
    "\n",
    "[[9]](https://iopscience.iop.org/article/10.1088/2515-7620/ac1bfe/meta) Jui-Lin F Li et al 2021, Improved ice content, radiation, precipitation and low-level circulation over the tropical pacific from ECMWF ERA-interim to ERA5, Environ. Res. Commun. 3 081006."
   ]
  }
 ],
 "metadata": {
  "language_info": {
   "codemirror_mode": {
    "name": "ipython",
    "version": 3
   },
   "file_extension": ".py",
   "mimetype": "text/x-python",
   "name": "python",
   "nbconvert_exporter": "python",
   "pygments_lexer": "ipython3",
   "version": "3.11.11"
  }
 },
 "nbformat": 4,
 "nbformat_minor": 5
}
