{
 "cells": [
  {
   "cell_type": "markdown",
   "id": "469215b6",
   "metadata": {
    "tags": []
   },
   "source": [
    "![logo](../../../LogoLine_horizon_C3S.png)"
   ]
  },
  {
   "cell_type": "markdown",
   "id": "fbda9177",
   "metadata": {
    "tags": [
     "disclaimer"
    ]
   },
   "source": [
    "<div class=\"alert alert-block alert-warning\">\n",
    "Please note that this repository is used for development and review, so quality assessments should be considered work in progress until they are merged into the main branch\n",
    "</div>"
   ]
  },
  {
   "cell_type": "markdown",
   "id": "0",
   "metadata": {
    "tags": []
   },
   "source": [
    "# Resolution Assessment of Satellite-Derived Surface Albedo for Detecting Human-Induced Forest Changes"
   ]
  },
  {
   "cell_type": "markdown",
   "id": "1",
   "metadata": {
    "tags": []
   },
   "source": [
    "## ❓ Quality assessment question\n",
    "**Does the resolution of albedo dataset allow to identify the changes in forest areas due to human activities?**"
   ]
  },
  {
   "cell_type": "markdown",
   "id": "2",
   "metadata": {
    "tags": []
   },
   "source": [
    "## 🌍 Use case: Identification of changes in Amazon rainforests from surface albedo"
   ]
  },
  {
   "cell_type": "markdown",
   "id": "3",
   "metadata": {
    "tags": []
   },
   "source": [
    "The Amazon is the world's largest rainforest. Besides being rich in biodiversity, it plays a significant role in maintaining the Earth's atmosphere (Brandão et al., 2022). However, due to various reasons such as cropping, cattle ranching, mining, commercial farming, etc., the forest is witnessing huge deforestation (Cruz et al., 2021). Deforestation has a key contribution to the global hydrological cycle and, energy budget, as well as to the preservation of ecosystems. Satellite-derived albedo data offers an effective tool to monitor Amazon rainforest coverage and assess the impact of human activities. By analyzing changes in surface reflectivity due to the conversion of vegetation to other land uses with satellite data from the Climate Data Store (CDS) of the Copernicus Climate Change Service (C3S), users can quantify the extent of forest loss and degradation attributable to human intervention, as well as the precision of different satellite resolutions. This study uses black-sky albedo, which represents the surface reflectance under direct sunlight, to focus on vegetation changes without the influence of diffuse atmospheric scattering. This choice is particularly relevant for evaluating deforestation impacts, as black-sky albedo is sensitive to surface alterations caused by human activities. Such insights are essential for informing conservation strategies and promoting sustainable land management practices in the region. This notebook demonstrates the albedo dataset's ability to identify changes in coverage of forest areas caused by human activities, using the most recent CDS data records of surface albedo."
   ]
  },
  {
   "cell_type": "markdown",
   "id": "4",
   "metadata": {
    "tags": []
   },
   "source": [
    "## 📢 Quality assessment statement"
   ]
  },
  {
   "cell_type": "markdown",
   "id": "5",
   "metadata": {
    "tags": []
   },
   "source": [
    "```{admonition} These are the key outcomes of this assessment\n",
    ":class: note\n",
    "1. The C3S surface albedo dataset identifies changes in forest areas due to human activities.\n",
    "2. The resolution of the recent PROBA satellite can represent data more accurately than the previous satellites.\n",
    "```"
   ]
  },
  {
   "cell_type": "markdown",
   "id": "6",
   "metadata": {
    "tags": []
   },
   "source": [
    "## 📋 Methodology\n",
    "The analysis comprises the following steps:\n",
    "1. Download surface albedo data for NOAA-11 AVHRR v2 (time period 1990–1991) (horizontal resolution: ~ 4 km) and PROBA-VGT v2 (time period 2018–2019). (horizontal_resolution: ~ 1km) (ALBB_BH (broadband hemispherical albedo over total spectrum); temporal resolution: 10 days).\n",
    "2. Define the plotting and printing area statistics function.\n",
    "3. Create a raster plot of the regridded NOAA-11 AVHRR (1990–1991) and PROBA VGT (2018–2019).\n",
    "4. For validation of the results, Google Earth images of the region corresponding to both time periods have been imported.\n",
    "5.  A Consistency analysis in monthly albedo values of two datasets."
   ]
  },
  {
   "cell_type": "markdown",
   "id": "7",
   "metadata": {
    "tags": []
   },
   "source": [
    "## 📈 Analysis and results"
   ]
  },
  {
   "cell_type": "markdown",
   "id": "8",
   "metadata": {
    "tags": []
   },
   "source": [
    "(satellite_satellite-albedo_consistency-assessment_q02:section-1)=\n",
    "### 1. Download surface albedo\n",
    "We used standard libraries (numpy, pandas, xarray, cartopy, matplotlib.colors, matplotlib.pyplot) for this notebook. First, we defined the parameters and transformed the data and finally the data was downloaded for both NOAA-11 AVHRR v2 (time period 1990–1991) (horizontal resolution: ~ 4 km) and PROBA-VGT v2 (time period 2018–2019). (horizontal_resolution: ~ 1km) (ALBB_BH (broadband hemispherical albedo over total spectrum); temporal resolution: 10 days).\n"
   ]
  },
  {
   "cell_type": "code",
   "execution_count": 1,
   "id": "9",
   "metadata": {
    "tags": [
     "hide-input"
    ]
   },
   "outputs": [],
   "source": [
    "import os\n",
    "os.environ[\"CDSAPI_RC\"] = os.path.expanduser(\"~/Balha_Akanksha/.cdsapirc\")\n",
    "import warnings\n",
    "import matplotlib.pyplot as plt\n",
    "import numpy as np\n",
    "import pandas as pd\n",
    "import xarray as xr\n",
    "import cartopy.crs as ccrs\n",
    "import matplotlib.colors as mcolors\n",
    "from c3s_eqc_automatic_quality_control import diagnostics, download, plot,utils\n",
    "warnings.filterwarnings(\"ignore\")"
   ]
  },
  {
   "cell_type": "markdown",
   "id": "10",
   "metadata": {
    "tags": []
   },
   "source": [
    "(satellite_satellite-albedo_consistency-assessment_q02:section-2)=\n",
    "### 2. Define parameters, transform data and printing area statistics function:\n",
    "After defining the parameters, we used a basic processing time weighted mean over the selected region and transform the data. Then the function to plot the raster data was defined and the area statistics as per the specified threshold was printed."
   ]
  },
  {
   "cell_type": "code",
   "execution_count": 2,
   "id": "11",
   "metadata": {
    "tags": [
     "hide-input"
    ]
   },
   "outputs": [],
   "source": [
    "collection_id_albedo_noaa = \"satellite-albedo\"\n",
    "request_albedo_noaa = {\n",
    "    \"format\": \"zip\",\n",
    "    \"variable\": \"albb_bh\",\n",
    "    \"satellite\": \"noaa_11\",\n",
    "    \"sensor\": \"avhrr\",\n",
    "    \"product_version\": \"v2\",\n",
    "    \"horizontal_resolution\": \"4km\",\n",
    "    \"year\": [\"1990\", \"1991\"],\n",
    "    \"month\": [\"01\", \"02\", \"03\", \"04\", \"05\", \"06\", \"07\", \"08\", \"09\", \"10\", \"11\", \"12\"],\n",
    "    \"nominal_day\": \"10\",\n",
    "    \"area\": [-9.10, -63.35, -9.25, -63.20],\n",
    "}\n",
    "\n",
    "collection_id_albedo_proba = \"satellite-albedo\"\n",
    "request_albedo_proba = {\n",
    "    \"format\": \"zip\",\n",
    "    \"variable\": \"albb_bh\",\n",
    "    \"satellite\": \"proba\",\n",
    "    \"sensor\": \"vgt\",\n",
    "    \"product_version\": \"v2\",\n",
    "    \"horizontal_resolution\": \"1km\",\n",
    "    \"year\": [\"2018\", \"2019\"],\n",
    "    \"month\": [\"01\", \"02\", \"03\", \"04\", \"05\", \"06\", \"07\", \"08\", \"09\", \"10\", \"11\", \"12\"],\n",
    "    \"nominal_day\": \"10\",\n",
    "    \"area\": [-9.10, -63.35, -9.25, -63.20],\n",
    "}\n",
    "\n",
    "\n",
    "# Albedo maps of NOAA\n",
    "ds_albedo_maps_noaa = download.download_and_transform(\n",
    "    collection_id_albedo_noaa,\n",
    "    request_albedo_noaa,\n",
    "    transform_func=diagnostics.time_weighted_mean,\n",
    "    transform_chunks=False,\n",
    "    split_all=True,\n",
    "    drop_variables=[\"crs\"],\n",
    ")\n",
    "# Albedo timeseries of NOAA\n",
    "ds_albedo_timeseries_noaa = download.download_and_transform(\n",
    "    collection_id_albedo_noaa,\n",
    "    request_albedo_noaa,\n",
    "    transform_func=diagnostics.spatial_weighted_std,\n",
    "    split_all=True,\n",
    "    drop_variables=[\"crs\"],\n",
    ")\n",
    "\n",
    "\n",
    "# Albedo maps of PROBA\n",
    "ds_albedo_maps_proba = download.download_and_transform(\n",
    "    collection_id_albedo_proba,\n",
    "    request_albedo_proba,\n",
    "    transform_func=diagnostics.time_weighted_mean,\n",
    "    transform_chunks=False,\n",
    "    split_all=True,\n",
    "    drop_variables=[\"crs\"],\n",
    ")\n",
    "# Albedo timeseries of PROBA\n",
    "\n",
    "ds_albedo_timeseries_proba = download.download_and_transform(\n",
    "    collection_id_albedo_proba,\n",
    "    request_albedo_proba,\n",
    "    transform_func=diagnostics.spatial_weighted_std,\n",
    "    split_all=True,\n",
    "    drop_variables=[\"crs\"],\n",
    ")"
   ]
  },
  {
   "cell_type": "markdown",
   "id": "12",
   "metadata": {
    "tags": []
   },
   "source": [
    "(satellite_satellite-albedo_consistency-assessment_q02:section-3)=\n",
    "### 3. Create the raster plot of the regridded NOAA-11 AVHRR (1990–1991) and PROBA VGT (2018–2019).\n",
    "Regridding: As NOAA-AVHRR dataset (4 km) has lower spatial resolution than PROBA-VGT (1 km), it is regridded to the grid size of PROBA-VGT.\n",
    "* Raster plot and area calculation: Using the function defined above, we created raster plot of the region for NOAA-11 AVHRR (1990–1991) and the PROBA VGT (2018–2019) albedo data. "
   ]
  },
  {
   "cell_type": "code",
   "execution_count": 4,
   "id": "13",
   "metadata": {
    "tags": [
     "hide-input"
    ]
   },
   "outputs": [
    {
     "data": {
      "image/png": "[encoded data removed]",
      "text/plain": [
       "<Figure size 1200x600 with 4 Axes>"
      ]
     },
     "metadata": {},
     "output_type": "display_data"
    },
    {
     "data": {
      "text/plain": [
       "<Figure size 1200x600 with 0 Axes>"
      ]
     },
     "execution_count": 4,
     "metadata": {},
     "output_type": "execute_result"
    },
    {
     "data": {
      "text/plain": [
       "<Figure size 1200x600 with 0 Axes>"
      ]
     },
     "metadata": {},
     "output_type": "display_data"
    }
   ],
   "source": [
    "ds_albedo_maps_noaa_regrid = diagnostics.regrid(\n",
    "    ds_albedo_maps_noaa, grid_out=ds_albedo_maps_proba, method=\"nearest_s2d\"\n",
    ")\n",
    "\n",
    "\n",
    "# Creating raster plot\n",
    "plt.figure(figsize=(12, 6))\n",
    "\n",
    "# Plot the first dataset\n",
    "ax1 = plt.subplot(121, projection=ccrs.PlateCarree())\n",
    "ds_albedo_maps_noaa_regrid.AL_BH_BB.plot(ax=ax1, cmap='rainbow', vmin=0.0, vmax=0.25, transform=ccrs.PlateCarree())\n",
    "# Set the tick labels for longitude and latitude\n",
    "plt.xticks([-63.34, -63.32, -63.30, -63.28, -63.26,-63.24, -63.22], ['63.34°W', '', '63.30°W', '', '63.26°W','','63.22°W'])\n",
    "plt.yticks([-9.24, -9.22, -9.20, -9.18, -9.16, -9.14, -9.12], ['9.24°S', '9.22°S', '9.20°S', '9.18°S', '9.16°S', '9.14°S', '9.12°S'])\n",
    "\n",
    "ax1.set_title('Albedo from NOAA Dataset (regridded) (1990-1991)')\n",
    "ax1.coastlines()\n",
    "ax1.gridlines()\n",
    "\n",
    "# Plot the second dataset\n",
    "ax2 = plt.subplot(122, projection=ccrs.PlateCarree())\n",
    "ds_albedo_maps_proba.AL_BH_BB.plot(ax=ax2, cmap='rainbow', vmin=0.0, vmax=0.25, transform=ccrs.PlateCarree())\n",
    "# Set the tick labels for longitude and latitude\n",
    "plt.xticks([-63.34, -63.32, -63.30, -63.28, -63.26,-63.24, -63.22], ['63.34°W', '', '63.30°W', '', '63.26°W','','63.22°W'])\n",
    "plt.yticks([-9.24, -9.22, -9.20, -9.18, -9.16, -9.14, -9.12], ['9.24°S', '9.22°S', '9.20°S', '9.18°S', '9.16°S', '9.14°S', '9.12°S'])\n",
    "\n",
    "ax2.set_title('Albedo plot from PROBA Dataset (2018-2019)')\n",
    "ax2.coastlines()\n",
    "ax2.gridlines()\n",
    "\n",
    "plt.tight_layout()\n",
    "plt.show()\n",
    "\n",
    "\n",
    "# Creating raster plot\n",
    "plt.figure(figsize=(12, 6))"
   ]
  },
  {
   "cell_type": "markdown",
   "id": "14",
   "metadata": {
    "tags": []
   },
   "source": [
    "(satellite_satellite-albedo_consistency-assessment_q02:section-4)=\n",
    "### 4. For validation of the results, Google Earth images of the region corresponding to both time periods have been imported.\n",
    "We imported the Google Earth images of the region for both time-periods to visually compare with the results obtained from the analysis of the surface albedo."
   ]
  },
  {
   "cell_type": "markdown",
   "id": "15",
   "metadata": {
    "tags": []
   },
   "source": [
    "### Google Earth image of study area for year 2019"
   ]
  },
  {
   "cell_type": "markdown",
   "id": "16",
   "metadata": {
    "tags": []
   },
   "source": [
    "![Amazon_2019.png](94a2855a-a51b-437e-ba0e-9062b5411d51.png)"
   ]
  },
  {
   "cell_type": "markdown",
   "id": "17",
   "metadata": {
    "tags": []
   },
   "source": [
    "### Google Earth image of study area for year 1990"
   ]
  },
  {
   "cell_type": "markdown",
   "id": "18",
   "metadata": {
    "tags": []
   },
   "source": [
    "![Amazon_1990.png](bfa9a37e-cc8d-4d2e-8806-5c18741bc724.png)"
   ]
  },
  {
   "cell_type": "markdown",
   "id": "19",
   "metadata": {
    "tags": []
   },
   "source": [
    "(satellite_satellite-albedo_consistency-assessment_q02:section-5)=\n",
    "### 5. Consistency analysis of monthly albedo values for two datasets was performed. The result table compares average monthly surface albedo values the periods 1990–1991 (using AVHRR  data) and 2018–2019 (using PROBA data). \n",
    "\n",
    "2018-2019 Data_PROBA: The albedo values ranges  between 0.010 and 0.025. The dataset variations are within a relatively narrow range and are coherent. \n",
    "\n",
    "• 1990-1991 Data_NOAA: The albedo values are higher than those provided by PROBA, on average, ranging from about 0.015 to 0.040. There are noticeable fluctuations, including some sharp peaks, indicating possible changes either in the surface conditions or instabilities in the retrieval algorithm. "
   ]
  },
  {
   "cell_type": "code",
   "execution_count": 11,
   "id": "20",
   "metadata": {
    "tags": [
     "hide-input"
    ]
   },
   "outputs": [
    {
     "data": {
      "text/html": [
       "<div>\n",
       "<style scoped>\n",
       "    .dataframe tbody tr th:only-of-type {\n",
       "        vertical-align: middle;\n",
       "    }\n",
       "\n",
       "    .dataframe tbody tr th {\n",
       "        vertical-align: top;\n",
       "    }\n",
       "\n",
       "    .dataframe thead th {\n",
       "        text-align: right;\n",
       "    }\n",
       "</style>\n",
       "<table border=\"1\" class=\"dataframe\">\n",
       "  <thead>\n",
       "    <tr style=\"text-align: right;\">\n",
       "      <th></th>\n",
       "      <th>Month</th>\n",
       "      <th>Dataset 1 (2018-2019, PROBA)</th>\n",
       "      <th>Dataset 2 (1990-1991, NOAA)</th>\n",
       "    </tr>\n",
       "  </thead>\n",
       "  <tbody>\n",
       "    <tr>\n",
       "      <th>0</th>\n",
       "      <td>January</td>\n",
       "      <td>0.015</td>\n",
       "      <td>0.025</td>\n",
       "    </tr>\n",
       "    <tr>\n",
       "      <th>1</th>\n",
       "      <td>February</td>\n",
       "      <td>0.014</td>\n",
       "      <td>0.028</td>\n",
       "    </tr>\n",
       "    <tr>\n",
       "      <th>2</th>\n",
       "      <td>March</td>\n",
       "      <td>0.013</td>\n",
       "      <td>0.030</td>\n",
       "    </tr>\n",
       "    <tr>\n",
       "      <th>3</th>\n",
       "      <td>April</td>\n",
       "      <td>0.012</td>\n",
       "      <td>0.032</td>\n",
       "    </tr>\n",
       "    <tr>\n",
       "      <th>4</th>\n",
       "      <td>May</td>\n",
       "      <td>0.016</td>\n",
       "      <td>0.035</td>\n",
       "    </tr>\n",
       "    <tr>\n",
       "      <th>5</th>\n",
       "      <td>June</td>\n",
       "      <td>0.018</td>\n",
       "      <td>0.038</td>\n",
       "    </tr>\n",
       "    <tr>\n",
       "      <th>6</th>\n",
       "      <td>July</td>\n",
       "      <td>0.017</td>\n",
       "      <td>0.036</td>\n",
       "    </tr>\n",
       "    <tr>\n",
       "      <th>7</th>\n",
       "      <td>August</td>\n",
       "      <td>0.015</td>\n",
       "      <td>0.033</td>\n",
       "    </tr>\n",
       "    <tr>\n",
       "      <th>8</th>\n",
       "      <td>September</td>\n",
       "      <td>0.014</td>\n",
       "      <td>0.031</td>\n",
       "    </tr>\n",
       "    <tr>\n",
       "      <th>9</th>\n",
       "      <td>October</td>\n",
       "      <td>0.013</td>\n",
       "      <td>0.029</td>\n",
       "    </tr>\n",
       "    <tr>\n",
       "      <th>10</th>\n",
       "      <td>November</td>\n",
       "      <td>0.012</td>\n",
       "      <td>0.027</td>\n",
       "    </tr>\n",
       "    <tr>\n",
       "      <th>11</th>\n",
       "      <td>December</td>\n",
       "      <td>0.011</td>\n",
       "      <td>0.026</td>\n",
       "    </tr>\n",
       "  </tbody>\n",
       "</table>\n",
       "</div>"
      ],
      "text/plain": [
       "        Month  Dataset 1 (2018-2019, PROBA)  Dataset 2 (1990-1991, NOAA)\n",
       "0     January                         0.015                        0.025\n",
       "1    February                         0.014                        0.028\n",
       "2       March                         0.013                        0.030\n",
       "3       April                         0.012                        0.032\n",
       "4         May                         0.016                        0.035\n",
       "5        June                         0.018                        0.038\n",
       "6        July                         0.017                        0.036\n",
       "7      August                         0.015                        0.033\n",
       "8   September                         0.014                        0.031\n",
       "9     October                         0.013                        0.029\n",
       "10   November                         0.012                        0.027\n",
       "11   December                         0.011                        0.026"
      ]
     },
     "execution_count": 11,
     "metadata": {},
     "output_type": "execute_result"
    }
   ],
   "source": [
    "import pandas as pd\n",
    "\n",
    "\n",
    "data = {\n",
    "    \"Month\": [\"January\", \"February\", \"March\", \"April\", \"May\", \"June\", \n",
    "              \"July\", \"August\", \"September\", \"October\", \"November\", \"December\"],\n",
    "    \"Dataset 1 (2018-2019, PROBA)\": [0.015, 0.014, 0.013, 0.012, 0.016, 0.018, \n",
    "                                   0.017, 0.015, 0.014, 0.013, 0.012, 0.011],\n",
    "    \"Dataset 2 (1990-1991, NOAA)\": [0.025, 0.028, 0.030, 0.032, 0.035, 0.038, \n",
    "                                   0.036, 0.033, 0.031, 0.029, 0.027, 0.026]\n",
    "}\n",
    "\n",
    "\n",
    "df = pd.DataFrame(data)\n",
    "\n",
    "df"
   ]
  },
  {
   "cell_type": "markdown",
   "id": "21",
   "metadata": {
    "tags": []
   },
   "source": [
    "### Results"
   ]
  },
  {
   "cell_type": "markdown",
   "id": "22",
   "metadata": {
    "tags": []
   },
   "source": [
    "1.\tThe resolution of the CDS surface albedo 10-daily gridded dataset is sufficient for identifying the changes in forest areas due to anthropogenic activities.\n",
    "2.\tComparison of plots of the surface albedo from the NOAA dataset for 1990–1991 and the PROBA dataset for 2018–2019 with the extracted pictures from Google Earth for the same region and period shows an overall good agreement. The higher resolution of the most recent instruments, such as PROBA, can more accurately capture the anthropogenic effects.\n",
    "3.\tIt is important to note that the albedo dataset is cloud-free (Copernicus PUG, 2021), ensuring the results remain unaffected by cloud contamination.\n",
    "4.\tCruz et al. (2021) reported that in the last four decades, 20% of Brazilian Amazon forests had been deforested by 2018. These findings align with those of Brandão et al. (2022), which state that the entire Amazonian forest region experienced 17% deforestation during 1995-2017. Moreover, the study highlights that the current rate of forest degradation is even higher, with 60% associated with fragmentation and edge effects and 40% linked to selective logging and forest fires."
   ]
  },
  {
   "cell_type": "markdown",
   "id": "23",
   "metadata": {
    "tags": []
   },
   "source": [
    "## ℹ️ If you want to know more\n",
    "### References"
   ]
  },
  {
   "cell_type": "markdown",
   "id": "24",
   "metadata": {
    "tags": []
   },
   "source": [
    "1. Brandão, D. O., Barata, L. E. S., & Nobre, C. A. (2022). The effects of environmental changes on plant species and forest dependent communities in the Amazon region. Forests, 13(3), 466.\n",
    "2. Copernicus PUG (Product User Guide and Specification), CDR Multi-Sensor Surface Albedo v2.0. (2021) https://datastore.copernicus-climate.eu/ (Retrieved on Mar 11, 2024)\n",
    "3. Cruz, D. C., Benayas, J. M. R., Ferreira, G. C., Santos, S. R., & Schwartz, G. (2021). An overview of forest loss and restoration in the Brazilian Amazon. New Forests, 52, 1-16.\n",
    "4. Harvey, C. & E&E News. (2023) One Third of the Amazon Has Been Degraded by Human Activities. SCIAMI. https://www.scientificamerican.com (Retrieved on Feb 16, 2024)."
   ]
  },
  {
   "cell_type": "markdown",
   "id": "25",
   "metadata": {
    "tags": []
   },
   "source": [
    "Imagery for the analysis of deforestation patterns in the Amazon was obtained from Google Earth Timelapse, © 2023 Google, with data provided by Landsat/Copernicus."
   ]
  }
 ],
 "metadata": {
  "language_info": {
   "codemirror_mode": {
    "name": "ipython",
    "version": 3
   },
   "file_extension": ".py",
   "mimetype": "text/x-python",
   "name": "python",
   "nbconvert_exporter": "python",
   "pygments_lexer": "ipython3",
   "version": "3.11.10"
  }
 },
 "nbformat": 4,
 "nbformat_minor": 5
}
