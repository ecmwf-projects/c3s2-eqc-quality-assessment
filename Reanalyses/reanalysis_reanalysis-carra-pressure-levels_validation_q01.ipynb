{
 "cells": [
  {
   "cell_type": "markdown",
   "id": "0",
   "metadata": {
    "tags": []
   },
   "source": [
    "# Monitoring and reproducing Arctic weather extremes with a global and a regional reanalysis dataset [Reanalysis]-[Intercomparison]-[Climate monitoring]\n",
    "\n",
    "Production date: DD-MM-YYYY\n",
    "\n",
    "Produced by: Nansen Environmental and Remote Sensing Center"
   ]
  },
  {
   "cell_type": "markdown",
   "id": "1",
   "metadata": {
    "editable": true,
    "slideshow": {
     "slide_type": ""
    },
    "tags": []
   },
   "source": [
    "## 🌍 Use case: Reproducing and monitoring polar lows in the Arctic"
   ]
  },
  {
   "cell_type": "markdown",
   "id": "2",
   "metadata": {
    "tags": []
   },
   "source": [
    "## ❓ Quality assessment question\n",
    "* **What are the benefits of a regional over a global reanalysis product for studying polar lows?**"
   ]
  },
  {
   "cell_type": "markdown",
   "id": "3",
   "metadata": {},
   "source": [
    "Polar lows are intense mesoscale low-pressure systems that form when cold polar air masses move over the ocean (e.g., Stoll et al., 2021). They have attracted and continue to attract considerable attention due to their relevance for the climate system and their impact on society (e.g., Moreno-Ibanez et al., 2021). From a climate perspective, for example, polar lows contribute to the heat exchange between the ocean and the atmosphere by inducing intense sensible and latent heat fluxes. From a societal perspective, they can generate intense winds which, in turn, can severely disrupt human activities and pose a threat to lives at sea and in coastal areas. \n",
    "\n",
    "Atmospheric reanalyses are invaluable tools for studying polar lows. At first, they do not only rely on observations, but also incorporate model-based forecasts (Parker, 2016). Indeed, observations alone are often insufficient due to their limited number in the Arctic (Moreno-Ibáñez, 2024) combined with the small sizes of polar lows, which range between 200 and 1000 km (Moreno-Ibáñez, 2024). Additionally, atmospheric reanalysis offer the advantage of being provided on regular grids, at consistent temporal intervals, and over extended periods. \n",
    "\n",
    "In this respect, ERA5, the fifth generation of the ECMWF global atmospheric reanalysis (Hersbach et al., 2020), has been widely used to study polar lows (Moreno-Ibáñez, 2024). For example, Stoll (2022) used ERA5 to report on the global climatology of polar lows, Meyer et al. (2021) to study their 3-dimensional structures, and Boyd et al. (2022) to determine the large-scale atmospheric conditions where polar lows develop. Furthermore, Stoll et al. (2021) suggested the ability of ERA5 to detect a larger number of polar lows than ERA Interim, the previous generation of the ECMWF global atmospheric reanalysis. \n",
    "\n",
    "Despite its importance, though, ERA5 has its own limitations. Notably, it has a spatial resolution of 0.25°x0.25°, which is insufficient to capture the fine horizontal spatial-scale features of polar lows. Additionally, it has been noted to underestimate near-surface wind speeds associated with polar lows (e.g., Gurvich et al., 2022). \n",
    "\n",
    "A regional reanalysis, such as the Copernicus Arctic Regional Reanalysis (CARRA), can help partly overcome these limitations. Although restricted to the European sector of the Arctic, CARRA has a spatial resolution of approximately 2.5 km, which is finer than that of ERA5 and can therefore potentially better characterize the physical properties of polar lows. Furthermore, it assimilates a larger number of observations.  \n",
    "\n",
    "Despite its potential, though, the ability of CARRA to capture and describe polar lows needs to be assessed. The present review reports on the capabilities of CARRA and ERA5 on pressure levels to detect polar lows over the European Arctic through a literature revision. \n"
   ]
  },
  {
   "cell_type": "markdown",
   "id": "4",
   "metadata": {
    "tags": []
   },
   "source": [
    "## 📢 Quality assessment statement\n",
    "\n",
    "```{admonition} These are the key outcomes of this assessment\n",
    ":class: note\n",
    "* When compared to radiosonde data, CARRA reproduces temperature and wind speed better than ERA5 in terms of bias and standard deviation, especially for pressure levels higher than approximately 200 hPa. \n",
    "* A case study analysis suggests that both CARRA and ERA5 can potentially detect polar lows and represent their main features. However, CARRA provides a more detailed depiction of its structure. \n",
    "```"
   ]
  },
  {
   "cell_type": "markdown",
   "id": "5",
   "metadata": {
    "editable": true,
    "slideshow": {
     "slide_type": ""
    },
    "tags": []
   },
   "source": [
    "## 📋 Methodology\n",
    "\n",
    "The present assessment explores and compares the properties of polar lows in the European sector of the Arctic based on CARRA, a regional atmospheric reanalysis for the European Arctic, and ERA5, a global atmospheric reanalysis. At first, the assessment presents an evaluation of both CARRA and ERA5 on pressure levels against radiosonde data. This comparison is based on the documentation of CARRA. Then, it summarizes one of the results in Zhaohui Cheng's master thesis by comparing the ability of ERA5 and CARRA to reproduce a polar low that hit the Norwegian coast on April 2007, which is used a case study. \n",
    "\n",
    "The analysis and results of the present work are organised as follows: \n",
    "\n",
    "**[](arctic_hazards:section-1)**\n",
    " * ERA5 \n",
    " * CARRA \n",
    "   \n",
    "**[](arctic_hazards:section-2)**\n",
    "\n",
    "**[](arctic_hazards:section-3)**\n",
    " * Satellite image\n",
    " * Relative vorticity: ERA5 vs CARRA\n",
    "   \n",
    "**[](arctic_hazards:section-4)**\n"
   ]
  },
  {
   "cell_type": "markdown",
   "id": "6",
   "metadata": {
    "tags": []
   },
   "source": [
    "## 📈 Analysis and results"
   ]
  },
  {
   "cell_type": "markdown",
   "id": "7",
   "metadata": {},
   "source": [
    "(arctic_hazards:section-1)=\n",
    "### Description of the datasets"
   ]
  },
  {
   "cell_type": "markdown",
   "id": "8",
   "metadata": {},
   "source": [
    "#### ERA5"
   ]
  },
  {
   "cell_type": "markdown",
   "id": "9",
   "metadata": {},
   "source": [
    "The current assessment is based on the temperature, the zonal and the meridional components of the velocity field from ERA5 on pressure levels (Hersbach et al., 2020). The dataset has a horizontal spatial resolution of 0.25°x0.25°, a temporal resolution of 1 hour, and is available since the first of January 1940. \n"
   ]
  },
  {
   "cell_type": "markdown",
   "id": "10",
   "metadata": {},
   "source": [
    "#### CARRA"
   ]
  },
  {
   "cell_type": "markdown",
   "id": "11",
   "metadata": {},
   "source": [
    "The current assessment is also based on the temperature, the zonal and the meridional components of the velocity field from CARRA on pressure levels. The dataset has a horizontal spatial resolution of 2.5 km, and a temporal resolution of 3 hours. Data are available since the first of September 1991, and cover two domains over the European sector of the Arctic. The western domain (CARRA-West) includes Greenland, the Labrador Sea, Davis Strait, Baffin Bay, Denmark Strait, Iceland, Jan Mayen, the Greenland Sea and Svalbard; the eastern domain (CARRA-East) includes Svalbard, Jan Mayen, Franz Josef Land, Novaya Zemlya, the Barents Sea, and the northern parts of the Norwegian Sea and Scandinavia.   \n",
    "\n",
    "We should note that the results presented in section 3 are based on Cheng (2023). In his study, Cheng (2023) merges the zonal and meridional components of the velocity over CARRA-East and CARRA-West to work on one single domain. Furthermore, Cheng (2023) interpolates the CARRA dataset on a grid with a 0.1°x0.1° horizontal spatial resolution, which corresponds approximately to 12km x 12km, coarser than the original CARRA domain. This choice was made to reduce the time needed by his polar low detecting algorithm to run, but still allows to detect the mesoscale low-pressure systems in the European Arctic. \n"
   ]
  },
  {
   "cell_type": "markdown",
   "id": "12",
   "metadata": {},
   "source": [
    "(arctic_hazards:section-2)=\n",
    "### Evaluation of ERA5 and CARRA on pressure levels"
   ]
  },
  {
   "cell_type": "markdown",
   "id": "13",
   "metadata": {
    "editable": true,
    "papermill": {
     "duration": 0.007051,
     "end_time": "2024-03-08T17:23:56.492658",
     "exception": false,
     "start_time": "2024-03-08T17:23:56.485607",
     "status": "completed"
    },
    "slideshow": {
     "slide_type": ""
    },
    "tags": []
   },
   "source": [
    "This section presents a quality assessment of CARRA and ERA5 on pressure levels through a comparison with radiosonde data. The assessment is based on the [Full System Documentation](https://confluence.ecmwf.int/display/CKB/Copernicus+Arctic+Regional+Reanalysis+%28CARRA%29%3A+Full+system+documentation) of CARRA, and addresses temperature and wind speed between approximately 950 and 50 hPa for September 1997, January 2000, and April 2007. \n",
    "\n",
    "Overall, Figures 1 and 2 indicate that the observed temperature and wind speed agree better with the estimates from CARRA than from ERA5. CARRA outperforms ERA5 in terms of both bias and standard deviation, with improvements of up to 50 percentage points. The improvememt appears to depend on the pressure level, being it less pronounced or absent for pressure levels below approximately 200hPa, while showing little dependence on year and season, although additional analysis is likely needed to confirm this conclusion due the limited number of years considered. \n",
    "\n",
    "The results for the standard deviation differentiate between temperature and wind speed, with CARRA offering a greater improvement over ERA5 in terms of wind speed rather than temperature. For instance, selecting wind speed data from CARRA, as opposed to ERA5, reduces the average standard deviation by up to 50 percentage points circa, compared to around 30 percentage points for temperature. \n",
    "\n",
    "The comparison with the observed temperature and wind speed indicates that both CARRA and ERA5 are negatively biased at most pressure levels. However, unlike the standard deviation, this comparison does not clearly distinguish between temperature and wind speed. The result for the bias is important as it suggests that both reanalysis datasets tend to underestimate the observed temperature and wind speed throughout the troposphere and lower stratosphere."
   ]
  },
  {
   "cell_type": "markdown",
   "id": "14",
   "metadata": {},
   "source": [
    "```{figure} T_ws_radiosondes_comparison/T_sep_1997.png\n",
    "```\n",
    "```{figure} T_ws_radiosondes_comparison/T_jan_2000.png\n",
    "```\n",
    "```{figure} T_ws_radiosondes_comparison/T_apr_2007.png\n",
    "---\n",
    "height: 500px\n",
    "---\n",
    "Figure 1: Vertical profiles of averaged standard deviation (STD) and bias errors of CARRA reanalysis (green) and ERA5 (red) computed against radiosonde measurements over CARRA's domains for temperature for the months of September 1997 (upper plot), January 2000 (middle plot), and April 2007 (lower plot). Results are shown on key pressure levels. The figure is a readaptation of Figure 3.2 in the [Full System Documentation](https://confluence.ecmwf.int/display/CKB/Copernicus+Arctic+Regional+Reanalysis+%28CARRA%29%3A+Full+system+documentation) of CARRA. \n",
    "```"
   ]
  },
  {
   "cell_type": "markdown",
   "id": "15",
   "metadata": {},
   "source": [
    "```{figure} T_ws_radiosondes_comparison/ws_sep_1997.png\n",
    "```\n",
    "```{figure} T_ws_radiosondes_comparison/ws_jan_2000.png\n",
    "```\n",
    "```{figure} T_ws_radiosondes_comparison/ws_apr_2007.png\n",
    "---\n",
    "height: 500px\n",
    "---\n",
    "Figure 2: Same as Figure 1, but for wind stress. \n",
    "```"
   ]
  },
  {
   "cell_type": "markdown",
   "id": "16",
   "metadata": {},
   "source": [
    "(arctic_hazards:section-3)=\n",
    "### Polar lows properties: ERA5 vs CARRA"
   ]
  },
  {
   "cell_type": "markdown",
   "id": "17",
   "metadata": {},
   "source": [
    "The ability of ERA5 and CARRA to capture polar lows is first assessed through a case study. Following Cheng (2023), we select a polar low that developed over the Nordic Seas on the 6th of April 2007 between 00:00UTC and 18:00UTC. This polar low appears in Noer and Lien (2010), who present a list of subjectively selected polar lows over the Nordic Seas between 2000 and 2010. "
   ]
  },
  {
   "cell_type": "markdown",
   "id": "18",
   "metadata": {},
   "source": [
    "#### Satellite image"
   ]
  },
  {
   "cell_type": "markdown",
   "id": "19",
   "metadata": {},
   "source": [
    "Figure 3 shows an image of the polar low provided by NOAA-15 AVHRR on the 6th of April 2007 at 06:31 - 07:18 UTC. The image depicts a polar low over the Nordic Seas, approximately between Svalbard and mainland Norway. The polar low appears in its mature stage, with its distinctive comma shape and a mostly cloud-free eye, and it is characterized by wave-like ripples at the edge of the cirrus shield, off the western and southern edge of the cloud mass, which indicate a jet over the convective layer. \n"
   ]
  },
  {
   "cell_type": "markdown",
   "id": "20",
   "metadata": {},
   "source": [
    "```{figure} polar_low_06042007/avhrr_visible_polar_low_06042007.png\n",
    "---\n",
    "height: 500px\n",
    "---\n",
    "Figure 3: Figure 10 in Cheng (2023), showing a polar low image taken by NOAA-15 AVHRR at 06:31 - 07:18 UTC on the 6th of April 2007. The Norwegian coast is visible on the right side of the image, while the Svalbard in the upper part.  \n",
    "```"
   ]
  },
  {
   "cell_type": "markdown",
   "id": "21",
   "metadata": {},
   "source": [
    "#### Relative vorticity: ERA5 vs CARRA"
   ]
  },
  {
   "cell_type": "markdown",
   "id": "22",
   "metadata": {},
   "source": [
    "Following Cheng (2023), we consider the relative vorticity at 950hPa at 06:00 UTC on the 6th of April 2007, and we compare the ability of ERA5 and CARRA to reproduce the horizontal features of the polar low under study. \n",
    "\n",
    "Figure 4 indicates that ERA5 and CARRA are able to detect and return a comparable picture of the polar low. Both reanalysys datasets place the centre of the polar low, identifiable as a patch of high relative vorticity, at approximately the same location. Furthermore, they also agree on the location of the comma-shaped cloud system, which is also identifiable by a tail of relative vorticity maxima. \n",
    "\n",
    "Despite these similarities, some differences exist between the polar low reproduced by ERA5 and by CARRA. At first, both reanalysis datasets place the centre of the polar low at approximately 72°N, but CARRA has it shifted circa 2° to the east with respect to ERA5. More notably, though, CARRA appears to reproduce the finer structures of the polar low when compared to ERA5. In particular, CARRA indicates that the tail of the polar low is thinner and has a relative vorticity which is higher than that provided by ERA5 and comparable to the polar low's centre. CARRA also reveals stripes of high relative vorticity to the west and south of the eye. A comparison with the satellite image shown in Figure 3 indicates that these features exist and replicate the wave-like elements observed in the satellite data. The differences between CARRA and ERA5 are expected to result from ERA5 having a lower spatial scale than CARRA which, in turn, diffuses the relative vorticity of the polar low. \n"
   ]
  },
  {
   "cell_type": "markdown",
   "id": "23",
   "metadata": {},
   "source": [
    "```{figure} polar_low_06042007/950hPa_relative_vorticity_ERA5_CARRA_06042007.png\n",
    "---\n",
    "height: 200px\n",
    "---\n",
    "Figure 4: Figure 12 in Cheng (2023) showing the relative vorticity at 950hPa obtained from ERA5 (a) and the merged CARRA dataset (b) at 06:30 UTC on the 6th of April 2007. The relative vorticity over land is set to zero. \n",
    "```"
   ]
  },
  {
   "cell_type": "markdown",
   "id": "24",
   "metadata": {},
   "source": [
    "(arctic_hazards:section-4)=\n",
    "### Conclusions"
   ]
  },
  {
   "cell_type": "markdown",
   "id": "25",
   "metadata": {},
   "source": [
    "This assessment presented a brief literature review to evaluate the consistency of the ERA5 and CARRA reanalysis datasets on pressure levels with observational data. It also compared the ability of these datasets to replicate the characteristics of polar lows in the European Arctic.\n",
    "\n",
    "The comparison with radiosonde data, based on CARRA's documentation, indicates that CARRA reproduces temperature and wind speed better than ERA5 in terms of bias and standard deviation, particularly for pressure levels higher than approximately 200 hPa. However, further analysis is likely needed, as the results presented in this assessment are based on a limited number of years.\n",
    "\n",
    "A case study of a polar low presented by Cheng (2023) indicates that CARRA is preferable to ERA5 for reproducing the features of polar lows. A satellite image of the polar low was used as a reference for the comparison. The comparison showed that CARRA provided a finer representation of the center and tail of the polar low, less diffused relative vorticity values, and a better representation of the features around the polar low when compared to ERA5. Thus, in line with CARRA's documentation, CARRA is expected to better reproduce high-impact weather events than ERA5 in the European sector of the Arctic. \n",
    "\n",
    "To conclude, we would like to note that the results reported by this assessment agree with the conclusions reached by previous works who assessed the ability of CARRA and ERA5 on single levels to reproduce polar lows. For example, Khachatrian and Asemann (2024) showed that CARRA provides a more detailed representation of the 10m wind field than ERA5 during a polar low event. Køltzow et al. (2022) further highlight CARRA's ability over ERA5 to better reproduce the 2m temperature and the 10m wind field associated with polar lows as they wave over land. "
   ]
  },
  {
   "cell_type": "markdown",
   "id": "26",
   "metadata": {
    "editable": true,
    "papermill": {
     "duration": 0.271597,
     "end_time": "2024-03-08T17:40:01.664067",
     "exception": false,
     "start_time": "2024-03-08T17:40:01.392470",
     "status": "completed"
    },
    "slideshow": {
     "slide_type": ""
    },
    "tags": []
   },
   "source": [
    "## ℹ️ If you want to know more\n",
    "\n",
    "### Key resources\n",
    "\n",
    "The interested reader can check the following resources: \n",
    "\n",
    "* [The Advanced models and weather prediction in the Arctic (Alertness) project](www.alertness.no).\n",
    "\n",
    "* [Presentation on polar lows by Dr. Justyna Wodziczko on EUMeTrain website](https://eumetrain.org/resources/polar-lows). \n",
    "\n",
    "* [\"Polar Lows: the coolest weather on the planet\"](https://polarlows.wordpress.com/), a blog about polar lows.  \n",
    "\n",
    "* [Polar low section](https://rammb.cira.colostate.edu/wmovl/vrl/tutorials/satmanu-eumetsat/satmanu/cms/pl/) of the \"Manual of Synoptic Satellite Meteorology\".  \n",
    "\n",
    "### References\n",
    "\n",
    "* Boyd, K., and Wang, Z. (2024). Revisiting the relationship between polar lows and weather regimes. J. Clim. 37 (5), 1523–1538. doi:10.1175/JCLI-D-23-0309.1\n",
    "\n",
    "* Gurvich, I., Pichugin, M., Baranyuk, A. 2023. Satellite Multi-Sensor Data Analysis of Unusually Strong Polar Lows over the Chukchi and Beaufort Seas in October 2017. Remote Sens. 15 (1), 120. doi:10.3390/rs15010120. \n",
    "\n",
    "* Hersbach, H., et al. 2020. The ERA5 global reanalysis. Q.J.R. Meteorol. Soc. 146, 1990–2049. https://doi.org/10.1002/qj.3803\n",
    "\n",
    "* Khachatrian, E. and Asemann, P. The Value of Sentinel-1 Ocean Wind Fields Component for the Study of Polar Lows. Remote Sens. 2024, 16, 3755. https://doi.org/10.3390/rs16203755\n",
    "\n",
    "* Køltzow, M., Schyberg, H., Støylen, E., and Yang, X. (2022). Value of the Copernicus Arctic Regional Reanalysis (CARRA) in representing near-surface temperature and wind speed in the north-east European Arctic. Polar Res. 41, 8002. doi:10.33265/polar.v41.8002.\n",
    "\n",
    "* Meyer, M., Polkova, I., Modali, K. R., Schaffer, L., Baehr, J., Olbrich, S., et al. (2021). Interactive 3-D visual analysis of ERA5 data: improving diagnostic indices for marine cold air outbreaks and polar lows. Weather Clim. Dyn. 2 (3), 867–891. doi:10.5194/wcd-2-867-2021\n",
    "\n",
    "* Moreno-Ibáñez, M., Laprise, R., Gachon, P. 2021. Recent advances in polar low research: currentknowledge, challenges and future perspectives. Tellus A: 2021, 73, 1890412, https://doi.org/10.1080/16000870.2021.1890412 \n",
    "\n",
    "* Moreno-Ibáñez, M. 2024. Polar low research: recent developments and promising courses of research. Front. Earth Sci. 12:1368179. doi: 10.3389/feart.2024.1368179\n",
    "\n",
    "* Noer, G., Lien T. 2010. Dates and Positions of Polar Lows over the Nordic Seas between 2000 and 2010. Met.no Report no 16/2010. The Norwegian Meteorological Institute: Oslo, Norway. 6 pp.\n",
    "\n",
    "* Parker, W. S. 2016. Reanales and Observations. What's the difference? Bull. Amer. Meteor. Soc., 97, 1565-1572. DOI:10.1175/BAMS-D-14-00226.1. \n",
    "\n",
    "* Stoll, P. J., Spengler, T., Terpstra, A., and Graversen, R. G. (2021). Polar lows – moist-baroclinic cyclones developing in four different vertical wind shear environments. Weather Clim. Dyn. 2 (1), 19–36. doi:10.5194/wcd-2-19-2021\n",
    "\n",
    "* Stoll, P. J. (2022). A global climatology of polar lows investigated for local differences and wind-shear environments. Weather Clim. Dyn. 3 (2), 483–504. doi:10.5194/wcd-3-483-2022\n"
   ]
  }
 ],
 "metadata": {
  "language_info": {
   "codemirror_mode": {
    "name": "ipython",
    "version": 3
   },
   "file_extension": ".py",
   "mimetype": "text/x-python",
   "name": "python",
   "nbconvert_exporter": "python",
   "pygments_lexer": "ipython3",
   "version": "3.11.11"
  },
  "papermill": {
   "default_parameters": {},
   "duration": 968.520731,
   "end_time": "2024-03-08T17:40:03.783430",
   "environment_variables": {},
   "exception": null,
   "input_path": "D520.3.2.3b.SEASONAL_multimodel-bias_v5.ipynb",
   "output_path": "output.ipynb",
   "parameters": {},
   "start_time": "2024-03-08T17:23:55.262699",
   "version": "2.4.0"
  }
 },
 "nbformat": 4,
 "nbformat_minor": 5
}
